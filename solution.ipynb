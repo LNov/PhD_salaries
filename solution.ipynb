{
 "metadata": {
  "language_info": {
   "codemirror_mode": {
    "name": "ipython",
    "version": 3
   },
   "file_extension": ".py",
   "mimetype": "text/x-python",
   "name": "python",
   "nbconvert_exporter": "python",
   "pygments_lexer": "ipython3",
   "version": 3
  },
  "orig_nbformat": 2,
  "kernelspec": {
   "name": "python_defaultSpec_1595205285573",
   "display_name": "Python 3.7.0 64-bit"
  }
 },
 "nbformat": 4,
 "nbformat_minor": 2,
 "cells": [
  {
   "cell_type": "code",
   "execution_count": 126,
   "metadata": {},
   "outputs": [],
   "source": [
    "import pandas as pd\n",
    "import numpy as np\n",
    "import matplotlib.pyplot as plt"
   ]
  },
  {
   "cell_type": "code",
   "execution_count": 127,
   "metadata": {
    "tags": []
   },
   "outputs": [],
   "source": [
    "data = pd.read_csv('data_raw.csv')\n",
    "data_original = data.copy()"
   ]
  },
  {
   "cell_type": "code",
   "execution_count": 128,
   "metadata": {
    "tags": []
   },
   "outputs": [
    {
     "output_type": "execute_result",
     "data": {
      "text/plain": "(8707, 11)"
     },
     "metadata": {},
     "execution_count": 128
    }
   ],
   "source": [
    "# Print number of rows and columns\n",
    "data_original.shape"
   ]
  },
  {
   "cell_type": "code",
   "execution_count": 129,
   "metadata": {},
   "outputs": [
    {
     "output_type": "execute_result",
     "data": {
      "text/plain": "(8526, 11)"
     },
     "metadata": {},
     "execution_count": 129
    }
   ],
   "source": [
    "# first of all, let's remove duplicates (people with the same pay from the same department)\n",
    "data = data.drop_duplicates()\n",
    "# we are then left with 8526 rows\n",
    "data.shape"
   ]
  },
  {
   "cell_type": "code",
   "execution_count": 130,
   "metadata": {},
   "outputs": [
    {
     "output_type": "execute_result",
     "data": {
      "text/plain": "                                           University  \\\n0                 University of Tennessee - Knoxville   \n1                      University of Arizona (U of A)   \n2                      University of Arizona (U of A)   \n3                               University of Florida   \n4                        University of Virginia (UVA)   \n5              University of Wisconsin - Madison (UW)   \n6         Washington University in St. Louis (Wash U)   \n7                 University of Tennessee - Knoxville   \n8                           New York University (NYU)   \n9                           New York University (NYU)   \n10                               Duke University (DU)   \n11                      Wright State University (WSU)   \n12           Middle Tennessee State University (MTSU)   \n13        Washington University in St. Louis (Wash U)   \n14                            University of Liverpool   \n15                        University of Delaware (UD)   \n16                      Stony Brook University - SUNY   \n17                               Yale University (YU)   \n18                              Tufts University (TU)   \n19                Albert Einstein College of Medicine   \n20                            Cornell University (CU)   \n21                               Dalhousie University   \n22        Massachusetts Institute of Technology (MIT)   \n23                University of California - Berkeley   \n24  Rutgers the State University of New Jersey - N...   \n25   University of North Carolina - Greensboro (UNCG)   \n26   University of North Carolina - Greensboro (UNCG)   \n27                               Duke University (DU)   \n28             University of Wisconsin - Madison (UW)   \n29                 University of Texas - Dallas (UTD)   \n\n                              Department Overall Pay  LW Ratio Academic Year  \\\n0                             Economics       $1,850      0.09     2020-2021   \n1                              Economics     $21,000      1.01     2020-2021   \n2                              Economics     $19,800      0.96     2020-2021   \n3                                    ECE     $22,600       NaN     2020-2021   \n4                                    ECE     $26,000      1.14     2020-2021   \n5                                    NaN     $27,333      1.20     2020-2021   \n6                                   olin     $35,000      1.69     2020-2021   \n7                              Economics     $18,500      0.87     2020-2021   \n8                      Computer Science      $32,851      1.10     2020-2021   \n9                              Sociology     $33,500      1.13     2020-2021   \n10                           environment     $87,467      3.94     2020-2021   \n11                                   BMS     $21,157      1.07     2020-2021   \n12                                   LTS      $7,000      0.30     2020-2021   \n13        Imaging Science in Engineering     $31,000      1.50     2020-2021   \n14                               Physics     $18,929       NaN     2019-2020   \n15          Geography & Spatial Sciences     $27,000      1.06     2020-2021   \n16               biomedical engineering      $27,000      0.97     2020-2021   \n17                              Classics     $32,700      1.32     2020-2021   \n18                Molecular Microbiology     $35,250      1.26     2020-2021   \n19                    Biomedical Science     $38,000       NaN     2020-2021   \n20                          Neuroscience     $42,230      1.74     2020-2021   \n21           Psychology and Neuroscience     $10,000       NaN     2019-2020   \n22                  Chemical Engineering     $43,380      1.55     2020-2021   \n23                            Psychology     $29,000      1.04     2020-2021   \n24                           Linguistics     $26,800      1.04     2019-2020   \n25  Communication Sciences and Disorders     $10,000      0.47     2020-2021   \n26  Communication Sciences and Disorders     $10,000      0.47     2020-2021   \n27               Biomedical Engineering      $27,700      1.25     2019-2020   \n28                      Computer Science     $27,000      1.18     2020-2021   \n29                Psychological Sciences     $18,600      0.86     2017-2018   \n\n   Program Year 12 M Gross Pay 9 M Gross Pay 3 M Gross Pay    Fees  \\\n0           1st            NaN        $1,850           NaN     NaN   \n1           1st            NaN       $21,000           NaN     NaN   \n2           1st            NaN       $21,000           NaN  $1,200   \n3           1st        $24,000           NaN           NaN  $1,400   \n4           1st        $26,000           NaN           NaN     NaN   \n5           NaN        $27,333           NaN           NaN     NaN   \n6           1st        $35,000           NaN           NaN     NaN   \n7           1st            NaN       $18,500           NaN     NaN   \n8           1st            NaN       $32,851           NaN     NaN   \n9           1st            NaN       $30,000        $3,500     NaN   \n10          1st            NaN       $87,467           NaN     NaN   \n11          1st        $23,157           NaN           NaN  $2,000   \n12          1st         $7,000           NaN           NaN     NaN   \n13          1st        $31,000           NaN           NaN     NaN   \n14          1st        $18,929           NaN           NaN     NaN   \n15          2nd            NaN       $22,000        $5,000     NaN   \n16          NaN            NaN       $29,000           NaN  $2,000   \n17          1st        $32,700           NaN           NaN     NaN   \n18          2nd        $35,500           NaN           NaN    $250   \n19          1st        $38,000           NaN           NaN     NaN   \n20          2nd        $42,230           NaN           NaN     NaN   \n21          1st        $19,000           NaN           NaN  $9,000   \n22          3rd        $43,380           NaN           NaN     NaN   \n23          1st        $29,000           NaN           NaN     NaN   \n24          1st            NaN       $25,000        $2,000    $200   \n25          4th            NaN       $10,000           NaN     NaN   \n26          4th            NaN       $10,000           NaN     NaN   \n27          4th        $28,500           NaN           NaN    $800   \n28          2nd        $27,000           NaN           NaN     NaN   \n29          5th        $18,600           NaN           NaN     NaN   \n\n                                             Comments  \n0                                                 NaN  \n1   $10500 per semester. RA/TA required. Need to p...  \n2                                                 NaN  \n3                                                 NaN  \n4                                                 NaN  \n5                                                 NaN  \n6                                                 NaN  \n7                                                 NaN  \n8                                                 NaN  \n9                                                 NaN  \n10                                                NaN  \n11                                                NaN  \n12                                                NaN  \n13  Also received an enhancement to monthly base s...  \n14                                                NaN  \n15                                                NaN  \n16                                                NaN  \n17  Health insurance included. I also receive an a...  \n18                                                NaN  \n19                                                NaN  \n20                                                NaN  \n21  Our funding is also capped. This means that ev...  \n22                                                NaN  \n23                                                NaN  \n24                                                NaN  \n25                                                NaN  \n26                                   I have a master#  \n27                                                NaN  \n28                                                NaN  \n29                                                NaN  ",
      "text/html": "<div>\n<style scoped>\n    .dataframe tbody tr th:only-of-type {\n        vertical-align: middle;\n    }\n\n    .dataframe tbody tr th {\n        vertical-align: top;\n    }\n\n    .dataframe thead th {\n        text-align: right;\n    }\n</style>\n<table border=\"1\" class=\"dataframe\">\n  <thead>\n    <tr style=\"text-align: right;\">\n      <th></th>\n      <th>University</th>\n      <th>Department</th>\n      <th>Overall Pay</th>\n      <th>LW Ratio</th>\n      <th>Academic Year</th>\n      <th>Program Year</th>\n      <th>12 M Gross Pay</th>\n      <th>9 M Gross Pay</th>\n      <th>3 M Gross Pay</th>\n      <th>Fees</th>\n      <th>Comments</th>\n    </tr>\n  </thead>\n  <tbody>\n    <tr>\n      <th>0</th>\n      <td>University of Tennessee - Knoxville</td>\n      <td>Economics</td>\n      <td>$1,850</td>\n      <td>0.09</td>\n      <td>2020-2021</td>\n      <td>1st</td>\n      <td>NaN</td>\n      <td>$1,850</td>\n      <td>NaN</td>\n      <td>NaN</td>\n      <td>NaN</td>\n    </tr>\n    <tr>\n      <th>1</th>\n      <td>University of Arizona (U of A)</td>\n      <td>Economics</td>\n      <td>$21,000</td>\n      <td>1.01</td>\n      <td>2020-2021</td>\n      <td>1st</td>\n      <td>NaN</td>\n      <td>$21,000</td>\n      <td>NaN</td>\n      <td>NaN</td>\n      <td>$10500 per semester. RA/TA required. Need to p...</td>\n    </tr>\n    <tr>\n      <th>2</th>\n      <td>University of Arizona (U of A)</td>\n      <td>Economics</td>\n      <td>$19,800</td>\n      <td>0.96</td>\n      <td>2020-2021</td>\n      <td>1st</td>\n      <td>NaN</td>\n      <td>$21,000</td>\n      <td>NaN</td>\n      <td>$1,200</td>\n      <td>NaN</td>\n    </tr>\n    <tr>\n      <th>3</th>\n      <td>University of Florida</td>\n      <td>ECE</td>\n      <td>$22,600</td>\n      <td>NaN</td>\n      <td>2020-2021</td>\n      <td>1st</td>\n      <td>$24,000</td>\n      <td>NaN</td>\n      <td>NaN</td>\n      <td>$1,400</td>\n      <td>NaN</td>\n    </tr>\n    <tr>\n      <th>4</th>\n      <td>University of Virginia (UVA)</td>\n      <td>ECE</td>\n      <td>$26,000</td>\n      <td>1.14</td>\n      <td>2020-2021</td>\n      <td>1st</td>\n      <td>$26,000</td>\n      <td>NaN</td>\n      <td>NaN</td>\n      <td>NaN</td>\n      <td>NaN</td>\n    </tr>\n    <tr>\n      <th>5</th>\n      <td>University of Wisconsin - Madison (UW)</td>\n      <td>NaN</td>\n      <td>$27,333</td>\n      <td>1.20</td>\n      <td>2020-2021</td>\n      <td>NaN</td>\n      <td>$27,333</td>\n      <td>NaN</td>\n      <td>NaN</td>\n      <td>NaN</td>\n      <td>NaN</td>\n    </tr>\n    <tr>\n      <th>6</th>\n      <td>Washington University in St. Louis (Wash U)</td>\n      <td>olin</td>\n      <td>$35,000</td>\n      <td>1.69</td>\n      <td>2020-2021</td>\n      <td>1st</td>\n      <td>$35,000</td>\n      <td>NaN</td>\n      <td>NaN</td>\n      <td>NaN</td>\n      <td>NaN</td>\n    </tr>\n    <tr>\n      <th>7</th>\n      <td>University of Tennessee - Knoxville</td>\n      <td>Economics</td>\n      <td>$18,500</td>\n      <td>0.87</td>\n      <td>2020-2021</td>\n      <td>1st</td>\n      <td>NaN</td>\n      <td>$18,500</td>\n      <td>NaN</td>\n      <td>NaN</td>\n      <td>NaN</td>\n    </tr>\n    <tr>\n      <th>8</th>\n      <td>New York University (NYU)</td>\n      <td>Computer Science</td>\n      <td>$32,851</td>\n      <td>1.10</td>\n      <td>2020-2021</td>\n      <td>1st</td>\n      <td>NaN</td>\n      <td>$32,851</td>\n      <td>NaN</td>\n      <td>NaN</td>\n      <td>NaN</td>\n    </tr>\n    <tr>\n      <th>9</th>\n      <td>New York University (NYU)</td>\n      <td>Sociology</td>\n      <td>$33,500</td>\n      <td>1.13</td>\n      <td>2020-2021</td>\n      <td>1st</td>\n      <td>NaN</td>\n      <td>$30,000</td>\n      <td>$3,500</td>\n      <td>NaN</td>\n      <td>NaN</td>\n    </tr>\n    <tr>\n      <th>10</th>\n      <td>Duke University (DU)</td>\n      <td>environment</td>\n      <td>$87,467</td>\n      <td>3.94</td>\n      <td>2020-2021</td>\n      <td>1st</td>\n      <td>NaN</td>\n      <td>$87,467</td>\n      <td>NaN</td>\n      <td>NaN</td>\n      <td>NaN</td>\n    </tr>\n    <tr>\n      <th>11</th>\n      <td>Wright State University (WSU)</td>\n      <td>BMS</td>\n      <td>$21,157</td>\n      <td>1.07</td>\n      <td>2020-2021</td>\n      <td>1st</td>\n      <td>$23,157</td>\n      <td>NaN</td>\n      <td>NaN</td>\n      <td>$2,000</td>\n      <td>NaN</td>\n    </tr>\n    <tr>\n      <th>12</th>\n      <td>Middle Tennessee State University (MTSU)</td>\n      <td>LTS</td>\n      <td>$7,000</td>\n      <td>0.30</td>\n      <td>2020-2021</td>\n      <td>1st</td>\n      <td>$7,000</td>\n      <td>NaN</td>\n      <td>NaN</td>\n      <td>NaN</td>\n      <td>NaN</td>\n    </tr>\n    <tr>\n      <th>13</th>\n      <td>Washington University in St. Louis (Wash U)</td>\n      <td>Imaging Science in Engineering</td>\n      <td>$31,000</td>\n      <td>1.50</td>\n      <td>2020-2021</td>\n      <td>1st</td>\n      <td>$31,000</td>\n      <td>NaN</td>\n      <td>NaN</td>\n      <td>NaN</td>\n      <td>Also received an enhancement to monthly base s...</td>\n    </tr>\n    <tr>\n      <th>14</th>\n      <td>University of Liverpool</td>\n      <td>Physics</td>\n      <td>$18,929</td>\n      <td>NaN</td>\n      <td>2019-2020</td>\n      <td>1st</td>\n      <td>$18,929</td>\n      <td>NaN</td>\n      <td>NaN</td>\n      <td>NaN</td>\n      <td>NaN</td>\n    </tr>\n    <tr>\n      <th>15</th>\n      <td>University of Delaware (UD)</td>\n      <td>Geography &amp; Spatial Sciences</td>\n      <td>$27,000</td>\n      <td>1.06</td>\n      <td>2020-2021</td>\n      <td>2nd</td>\n      <td>NaN</td>\n      <td>$22,000</td>\n      <td>$5,000</td>\n      <td>NaN</td>\n      <td>NaN</td>\n    </tr>\n    <tr>\n      <th>16</th>\n      <td>Stony Brook University - SUNY</td>\n      <td>biomedical engineering</td>\n      <td>$27,000</td>\n      <td>0.97</td>\n      <td>2020-2021</td>\n      <td>NaN</td>\n      <td>NaN</td>\n      <td>$29,000</td>\n      <td>NaN</td>\n      <td>$2,000</td>\n      <td>NaN</td>\n    </tr>\n    <tr>\n      <th>17</th>\n      <td>Yale University (YU)</td>\n      <td>Classics</td>\n      <td>$32,700</td>\n      <td>1.32</td>\n      <td>2020-2021</td>\n      <td>1st</td>\n      <td>$32,700</td>\n      <td>NaN</td>\n      <td>NaN</td>\n      <td>NaN</td>\n      <td>Health insurance included. I also receive an a...</td>\n    </tr>\n    <tr>\n      <th>18</th>\n      <td>Tufts University (TU)</td>\n      <td>Molecular Microbiology</td>\n      <td>$35,250</td>\n      <td>1.26</td>\n      <td>2020-2021</td>\n      <td>2nd</td>\n      <td>$35,500</td>\n      <td>NaN</td>\n      <td>NaN</td>\n      <td>$250</td>\n      <td>NaN</td>\n    </tr>\n    <tr>\n      <th>19</th>\n      <td>Albert Einstein College of Medicine</td>\n      <td>Biomedical Science</td>\n      <td>$38,000</td>\n      <td>NaN</td>\n      <td>2020-2021</td>\n      <td>1st</td>\n      <td>$38,000</td>\n      <td>NaN</td>\n      <td>NaN</td>\n      <td>NaN</td>\n      <td>NaN</td>\n    </tr>\n    <tr>\n      <th>20</th>\n      <td>Cornell University (CU)</td>\n      <td>Neuroscience</td>\n      <td>$42,230</td>\n      <td>1.74</td>\n      <td>2020-2021</td>\n      <td>2nd</td>\n      <td>$42,230</td>\n      <td>NaN</td>\n      <td>NaN</td>\n      <td>NaN</td>\n      <td>NaN</td>\n    </tr>\n    <tr>\n      <th>21</th>\n      <td>Dalhousie University</td>\n      <td>Psychology and Neuroscience</td>\n      <td>$10,000</td>\n      <td>NaN</td>\n      <td>2019-2020</td>\n      <td>1st</td>\n      <td>$19,000</td>\n      <td>NaN</td>\n      <td>NaN</td>\n      <td>$9,000</td>\n      <td>Our funding is also capped. This means that ev...</td>\n    </tr>\n    <tr>\n      <th>22</th>\n      <td>Massachusetts Institute of Technology (MIT)</td>\n      <td>Chemical Engineering</td>\n      <td>$43,380</td>\n      <td>1.55</td>\n      <td>2020-2021</td>\n      <td>3rd</td>\n      <td>$43,380</td>\n      <td>NaN</td>\n      <td>NaN</td>\n      <td>NaN</td>\n      <td>NaN</td>\n    </tr>\n    <tr>\n      <th>23</th>\n      <td>University of California - Berkeley</td>\n      <td>Psychology</td>\n      <td>$29,000</td>\n      <td>1.04</td>\n      <td>2020-2021</td>\n      <td>1st</td>\n      <td>$29,000</td>\n      <td>NaN</td>\n      <td>NaN</td>\n      <td>NaN</td>\n      <td>NaN</td>\n    </tr>\n    <tr>\n      <th>24</th>\n      <td>Rutgers the State University of New Jersey - N...</td>\n      <td>Linguistics</td>\n      <td>$26,800</td>\n      <td>1.04</td>\n      <td>2019-2020</td>\n      <td>1st</td>\n      <td>NaN</td>\n      <td>$25,000</td>\n      <td>$2,000</td>\n      <td>$200</td>\n      <td>NaN</td>\n    </tr>\n    <tr>\n      <th>25</th>\n      <td>University of North Carolina - Greensboro (UNCG)</td>\n      <td>Communication Sciences and Disorders</td>\n      <td>$10,000</td>\n      <td>0.47</td>\n      <td>2020-2021</td>\n      <td>4th</td>\n      <td>NaN</td>\n      <td>$10,000</td>\n      <td>NaN</td>\n      <td>NaN</td>\n      <td>NaN</td>\n    </tr>\n    <tr>\n      <th>26</th>\n      <td>University of North Carolina - Greensboro (UNCG)</td>\n      <td>Communication Sciences and Disorders</td>\n      <td>$10,000</td>\n      <td>0.47</td>\n      <td>2020-2021</td>\n      <td>4th</td>\n      <td>NaN</td>\n      <td>$10,000</td>\n      <td>NaN</td>\n      <td>NaN</td>\n      <td>I have a master#</td>\n    </tr>\n    <tr>\n      <th>27</th>\n      <td>Duke University (DU)</td>\n      <td>Biomedical Engineering</td>\n      <td>$27,700</td>\n      <td>1.25</td>\n      <td>2019-2020</td>\n      <td>4th</td>\n      <td>$28,500</td>\n      <td>NaN</td>\n      <td>NaN</td>\n      <td>$800</td>\n      <td>NaN</td>\n    </tr>\n    <tr>\n      <th>28</th>\n      <td>University of Wisconsin - Madison (UW)</td>\n      <td>Computer Science</td>\n      <td>$27,000</td>\n      <td>1.18</td>\n      <td>2020-2021</td>\n      <td>2nd</td>\n      <td>$27,000</td>\n      <td>NaN</td>\n      <td>NaN</td>\n      <td>NaN</td>\n      <td>NaN</td>\n    </tr>\n    <tr>\n      <th>29</th>\n      <td>University of Texas - Dallas (UTD)</td>\n      <td>Psychological Sciences</td>\n      <td>$18,600</td>\n      <td>0.86</td>\n      <td>2017-2018</td>\n      <td>5th</td>\n      <td>$18,600</td>\n      <td>NaN</td>\n      <td>NaN</td>\n      <td>NaN</td>\n      <td>NaN</td>\n    </tr>\n  </tbody>\n</table>\n</div>"
     },
     "metadata": {},
     "execution_count": 130
    }
   ],
   "source": [
    "# let's have a look at the first 30 entries\n",
    "data.head(30)"
   ]
  },
  {
   "cell_type": "code",
   "execution_count": 131,
   "metadata": {},
   "outputs": [
    {
     "output_type": "execute_result",
     "data": {
      "text/plain": "Series([], dtype: float64)"
     },
     "metadata": {},
     "execution_count": 131
    }
   ],
   "source": [
    "# it looks like the 'Overall Pay' already takes into account the sum of the 12M, 9M, 3M values minus the fees. Let's check the sum:\n",
    "data[['12 M Gross Pay',\t'9 M Gross Pay', '3 M Gross Pay']].sum()"
   ]
  },
  {
   "cell_type": "code",
   "execution_count": 132,
   "metadata": {},
   "outputs": [
    {
     "output_type": "execute_result",
     "data": {
      "text/plain": "University         object\nDepartment         object\nOverall Pay        object\nLW Ratio          float64\nAcademic Year      object\nProgram Year       object\n12 M Gross Pay     object\n9 M Gross Pay      object\n3 M Gross Pay      object\nFees               object\nComments           object\ndtype: object"
     },
     "metadata": {},
     "execution_count": 132
    }
   ],
   "source": [
    "# That didn't work because the Gross Pay columns are not formatted as floats\n",
    "data.dtypes"
   ]
  },
  {
   "cell_type": "code",
   "execution_count": 133,
   "metadata": {},
   "outputs": [
    {
     "output_type": "execute_result",
     "data": {
      "text/plain": "                            University  Department Overall Pay  LW Ratio  \\\n0  University of Tennessee , Knoxville  Economics         1850      0.09   \n1       University of Arizona (U of A)   Economics       21000      1.01   \n2       University of Arizona (U of A)   Economics       19800      0.96   \n3                University of Florida         ECE       22600       NaN   \n4         University of Virginia (UVA)         ECE       26000      1.14   \n\n  Academic Year Program Year 12 M Gross Pay 9 M Gross Pay 3 M Gross Pay  Fees  \\\n0     2020-2021          1st            NaN          1850           NaN   NaN   \n1     2020-2021          1st            NaN         21000           NaN   NaN   \n2     2020-2021          1st            NaN         21000           NaN  1200   \n3     2020-2021          1st          24000           NaN           NaN  1400   \n4     2020-2021          1st          26000           NaN           NaN   NaN   \n\n                                            Comments  \n0                                                NaN  \n1  $10500 per semester. RA/TA required. Need to p...  \n2                                                NaN  \n3                                                NaN  \n4                                                NaN  ",
      "text/html": "<div>\n<style scoped>\n    .dataframe tbody tr th:only-of-type {\n        vertical-align: middle;\n    }\n\n    .dataframe tbody tr th {\n        vertical-align: top;\n    }\n\n    .dataframe thead th {\n        text-align: right;\n    }\n</style>\n<table border=\"1\" class=\"dataframe\">\n  <thead>\n    <tr style=\"text-align: right;\">\n      <th></th>\n      <th>University</th>\n      <th>Department</th>\n      <th>Overall Pay</th>\n      <th>LW Ratio</th>\n      <th>Academic Year</th>\n      <th>Program Year</th>\n      <th>12 M Gross Pay</th>\n      <th>9 M Gross Pay</th>\n      <th>3 M Gross Pay</th>\n      <th>Fees</th>\n      <th>Comments</th>\n    </tr>\n  </thead>\n  <tbody>\n    <tr>\n      <th>0</th>\n      <td>University of Tennessee , Knoxville</td>\n      <td>Economics</td>\n      <td>1850</td>\n      <td>0.09</td>\n      <td>2020-2021</td>\n      <td>1st</td>\n      <td>NaN</td>\n      <td>1850</td>\n      <td>NaN</td>\n      <td>NaN</td>\n      <td>NaN</td>\n    </tr>\n    <tr>\n      <th>1</th>\n      <td>University of Arizona (U of A)</td>\n      <td>Economics</td>\n      <td>21000</td>\n      <td>1.01</td>\n      <td>2020-2021</td>\n      <td>1st</td>\n      <td>NaN</td>\n      <td>21000</td>\n      <td>NaN</td>\n      <td>NaN</td>\n      <td>$10500 per semester. RA/TA required. Need to p...</td>\n    </tr>\n    <tr>\n      <th>2</th>\n      <td>University of Arizona (U of A)</td>\n      <td>Economics</td>\n      <td>19800</td>\n      <td>0.96</td>\n      <td>2020-2021</td>\n      <td>1st</td>\n      <td>NaN</td>\n      <td>21000</td>\n      <td>NaN</td>\n      <td>1200</td>\n      <td>NaN</td>\n    </tr>\n    <tr>\n      <th>3</th>\n      <td>University of Florida</td>\n      <td>ECE</td>\n      <td>22600</td>\n      <td>NaN</td>\n      <td>2020-2021</td>\n      <td>1st</td>\n      <td>24000</td>\n      <td>NaN</td>\n      <td>NaN</td>\n      <td>1400</td>\n      <td>NaN</td>\n    </tr>\n    <tr>\n      <th>4</th>\n      <td>University of Virginia (UVA)</td>\n      <td>ECE</td>\n      <td>26000</td>\n      <td>1.14</td>\n      <td>2020-2021</td>\n      <td>1st</td>\n      <td>26000</td>\n      <td>NaN</td>\n      <td>NaN</td>\n      <td>NaN</td>\n      <td>NaN</td>\n    </tr>\n  </tbody>\n</table>\n</div>"
     },
     "metadata": {},
     "execution_count": 133
    }
   ],
   "source": [
    "# In order to format them as floats, let's first remove the dollar sign\n",
    "data['Overall Pay'] = data['Overall Pay'].str.replace('$', '')\n",
    "data['12 M Gross Pay'] = data['12 M Gross Pay'].str.replace('$', '')\n",
    "data['9 M Gross Pay'] = data['9 M Gross Pay'].str.replace('$', '')\n",
    "data['3 M Gross Pay'] = data['3 M Gross Pay'].str.replace('$', '')\n",
    "data['Fees'] = data['Fees'].str.replace('$', '')\n",
    "\n",
    "# and also remove the commas\n",
    "data['Overall Pay'] = data['Overall Pay'].str.replace(',', '')\n",
    "data['12 M Gross Pay'] = data['12 M Gross Pay'].str.replace(',', '')\n",
    "data['9 M Gross Pay'] = data['9 M Gross Pay'].str.replace(',', '')\n",
    "data['3 M Gross Pay'] = data['3 M Gross Pay'].str.replace(',', '')\n",
    "data['Fees'] = data['Fees'].str.replace(',', '')\n",
    "\n",
    "# while we are doing these string replacements, let's also clean up the university names\n",
    "data['University'] = data['University'].str.replace('-',',').str.replace(';','').str.replace('&amp','&').str.replace('&#39','\\'')\n",
    "\n",
    "data.head()"
   ]
  },
  {
   "cell_type": "code",
   "execution_count": 134,
   "metadata": {},
   "outputs": [
    {
     "output_type": "execute_result",
     "data": {
      "text/plain": "University         object\nDepartment         object\nOverall Pay       float64\nLW Ratio          float64\nAcademic Year      object\nProgram Year       object\n12 M Gross Pay    float64\n9 M Gross Pay     float64\n3 M Gross Pay     float64\nFees              float64\nComments           object\ndtype: object"
     },
     "metadata": {},
     "execution_count": 134
    }
   ],
   "source": [
    "# And finally convert the relevant columns to float\n",
    "data[['Overall Pay', '12 M Gross Pay',\t'9 M Gross Pay', '3 M Gross Pay', 'Fees']] = data[['Overall Pay', '12 M Gross Pay', '9 M Gross Pay', '3 M Gross Pay', 'Fees']].astype(float)\n",
    "data.dtypes"
   ]
  },
  {
   "cell_type": "code",
   "execution_count": 135,
   "metadata": {},
   "outputs": [
    {
     "output_type": "execute_result",
     "data": {
      "text/plain": "True"
     },
     "metadata": {},
     "execution_count": 135
    }
   ],
   "source": [
    "# Now we can confirm that the 'Overall Pay' is equal to the sum of the 12M, 9M, 3M values minus the fees\n",
    "data['Overall Pay'].sum() == data[['12 M Gross Pay', '9 M Gross Pay', '3 M Gross Pay']].sum().sum() - data['Fees'].sum()"
   ]
  },
  {
   "cell_type": "code",
   "execution_count": 136,
   "metadata": {},
   "outputs": [
    {
     "output_type": "execute_result",
     "data": {
      "text/plain": "                            University  Department  Overall Pay  LW Ratio  \\\n0  University of Tennessee , Knoxville  Economics        1850.0      0.09   \n1       University of Arizona (U of A)   Economics      21000.0      1.01   \n2       University of Arizona (U of A)   Economics      19800.0      0.96   \n3                University of Florida         ECE      22600.0       NaN   \n4         University of Virginia (UVA)         ECE      26000.0      1.14   \n\n  Academic Year Program Year  \\\n0     2020-2021          1st   \n1     2020-2021          1st   \n2     2020-2021          1st   \n3     2020-2021          1st   \n4     2020-2021          1st   \n\n                                            Comments  \n0                                                NaN  \n1  $10500 per semester. RA/TA required. Need to p...  \n2                                                NaN  \n3                                                NaN  \n4                                                NaN  ",
      "text/html": "<div>\n<style scoped>\n    .dataframe tbody tr th:only-of-type {\n        vertical-align: middle;\n    }\n\n    .dataframe tbody tr th {\n        vertical-align: top;\n    }\n\n    .dataframe thead th {\n        text-align: right;\n    }\n</style>\n<table border=\"1\" class=\"dataframe\">\n  <thead>\n    <tr style=\"text-align: right;\">\n      <th></th>\n      <th>University</th>\n      <th>Department</th>\n      <th>Overall Pay</th>\n      <th>LW Ratio</th>\n      <th>Academic Year</th>\n      <th>Program Year</th>\n      <th>Comments</th>\n    </tr>\n  </thead>\n  <tbody>\n    <tr>\n      <th>0</th>\n      <td>University of Tennessee , Knoxville</td>\n      <td>Economics</td>\n      <td>1850.0</td>\n      <td>0.09</td>\n      <td>2020-2021</td>\n      <td>1st</td>\n      <td>NaN</td>\n    </tr>\n    <tr>\n      <th>1</th>\n      <td>University of Arizona (U of A)</td>\n      <td>Economics</td>\n      <td>21000.0</td>\n      <td>1.01</td>\n      <td>2020-2021</td>\n      <td>1st</td>\n      <td>$10500 per semester. RA/TA required. Need to p...</td>\n    </tr>\n    <tr>\n      <th>2</th>\n      <td>University of Arizona (U of A)</td>\n      <td>Economics</td>\n      <td>19800.0</td>\n      <td>0.96</td>\n      <td>2020-2021</td>\n      <td>1st</td>\n      <td>NaN</td>\n    </tr>\n    <tr>\n      <th>3</th>\n      <td>University of Florida</td>\n      <td>ECE</td>\n      <td>22600.0</td>\n      <td>NaN</td>\n      <td>2020-2021</td>\n      <td>1st</td>\n      <td>NaN</td>\n    </tr>\n    <tr>\n      <th>4</th>\n      <td>University of Virginia (UVA)</td>\n      <td>ECE</td>\n      <td>26000.0</td>\n      <td>1.14</td>\n      <td>2020-2021</td>\n      <td>1st</td>\n      <td>NaN</td>\n    </tr>\n  </tbody>\n</table>\n</div>"
     },
     "metadata": {},
     "execution_count": 136
    }
   ],
   "source": [
    "# so we can remove the 12M, 9M, 3M and fees columns and simplify the DataFrame\n",
    "data = data.drop(['12 M Gross Pay', '9 M Gross Pay', '3 M Gross Pay', 'Fees'], axis=1)\n",
    "data.head()"
   ]
  },
  {
   "cell_type": "code",
   "execution_count": 137,
   "metadata": {},
   "outputs": [
    {
     "output_type": "execute_result",
     "data": {
      "text/plain": "         Overall Pay     LW Ratio\ncount    8505.000000  7651.000000\nmean    25153.337331     1.075993\nstd     21805.844892     0.834647\nmin   -900000.000000   -34.010000\n25%     19007.000000     0.850000\n50%     25000.000000     1.100000\n75%     30445.000000     1.300000\nmax    994000.000000    40.970000",
      "text/html": "<div>\n<style scoped>\n    .dataframe tbody tr th:only-of-type {\n        vertical-align: middle;\n    }\n\n    .dataframe tbody tr th {\n        vertical-align: top;\n    }\n\n    .dataframe thead th {\n        text-align: right;\n    }\n</style>\n<table border=\"1\" class=\"dataframe\">\n  <thead>\n    <tr style=\"text-align: right;\">\n      <th></th>\n      <th>Overall Pay</th>\n      <th>LW Ratio</th>\n    </tr>\n  </thead>\n  <tbody>\n    <tr>\n      <th>count</th>\n      <td>8505.000000</td>\n      <td>7651.000000</td>\n    </tr>\n    <tr>\n      <th>mean</th>\n      <td>25153.337331</td>\n      <td>1.075993</td>\n    </tr>\n    <tr>\n      <th>std</th>\n      <td>21805.844892</td>\n      <td>0.834647</td>\n    </tr>\n    <tr>\n      <th>min</th>\n      <td>-900000.000000</td>\n      <td>-34.010000</td>\n    </tr>\n    <tr>\n      <th>25%</th>\n      <td>19007.000000</td>\n      <td>0.850000</td>\n    </tr>\n    <tr>\n      <th>50%</th>\n      <td>25000.000000</td>\n      <td>1.100000</td>\n    </tr>\n    <tr>\n      <th>75%</th>\n      <td>30445.000000</td>\n      <td>1.300000</td>\n    </tr>\n    <tr>\n      <th>max</th>\n      <td>994000.000000</td>\n      <td>40.970000</td>\n    </tr>\n  </tbody>\n</table>\n</div>"
     },
     "metadata": {},
     "execution_count": 137
    }
   ],
   "source": [
    "# use pandas 'describe' function to get basic statistics of the numerical columns\n",
    "data.describe()"
   ]
  },
  {
   "cell_type": "code",
   "execution_count": 138,
   "metadata": {
    "tags": []
   },
   "outputs": [
    {
     "output_type": "stream",
     "name": "stdout",
     "text": "0 percentile: -900000.00\n100 percentile: 994000.00\n"
    },
    {
     "output_type": "display_data",
     "data": {
      "text/plain": "<Figure size 432x288 with 1 Axes>",
      "image/svg+xml": "<?xml version=\"1.0\" encoding=\"utf-8\" standalone=\"no\"?>\r\n<!DOCTYPE svg PUBLIC \"-//W3C//DTD SVG 1.1//EN\"\r\n  \"http://www.w3.org/Graphics/SVG/1.1/DTD/svg11.dtd\">\r\n<!-- Created with matplotlib (http://matplotlib.org/) -->\r\n<svg height=\"252.018125pt\" version=\"1.1\" viewBox=\"0 0 406.254687 252.018125\" width=\"406.254687pt\" xmlns=\"http://www.w3.org/2000/svg\" xmlns:xlink=\"http://www.w3.org/1999/xlink\">\r\n <defs>\r\n  <style type=\"text/css\">\r\n*{stroke-linecap:butt;stroke-linejoin:round;}\r\n  </style>\r\n </defs>\r\n <g id=\"figure_1\">\r\n  <g id=\"patch_1\">\r\n   <path d=\"M 0 252.018125 \r\nL 406.254687 252.018125 \r\nL 406.254687 0 \r\nL 0 0 \r\nz\r\n\" style=\"fill:none;\"/>\r\n  </g>\r\n  <g id=\"axes_1\">\r\n   <g id=\"patch_2\">\r\n    <path d=\"M 60.754688 228.14 \r\nL 395.554688 228.14 \r\nL 395.554688 10.7 \r\nL 60.754688 10.7 \r\nz\r\n\" style=\"fill:#ffffff;\"/>\r\n   </g>\r\n   <g id=\"matplotlib.axis_1\">\r\n    <g id=\"xtick_1\">\r\n     <g id=\"line2d_1\">\r\n      <defs>\r\n       <path d=\"M 0 0 \r\nL 0 3.5 \r\n\" id=\"m57c144f4a7\" style=\"stroke:#000000;stroke-width:0.8;\"/>\r\n      </defs>\r\n      <g>\r\n       <use style=\"stroke:#000000;stroke-width:0.8;\" x=\"75.972869\" xlink:href=\"#m57c144f4a7\" y=\"228.14\"/>\r\n      </g>\r\n     </g>\r\n     <g id=\"text_1\">\r\n      <!-- 0 -->\r\n      <defs>\r\n       <path d=\"M 31.78125 66.40625 \r\nQ 24.171875 66.40625 20.328125 58.90625 \r\nQ 16.5 51.421875 16.5 36.375 \r\nQ 16.5 21.390625 20.328125 13.890625 \r\nQ 24.171875 6.390625 31.78125 6.390625 \r\nQ 39.453125 6.390625 43.28125 13.890625 \r\nQ 47.125 21.390625 47.125 36.375 \r\nQ 47.125 51.421875 43.28125 58.90625 \r\nQ 39.453125 66.40625 31.78125 66.40625 \r\nz\r\nM 31.78125 74.21875 \r\nQ 44.046875 74.21875 50.515625 64.515625 \r\nQ 56.984375 54.828125 56.984375 36.375 \r\nQ 56.984375 17.96875 50.515625 8.265625 \r\nQ 44.046875 -1.421875 31.78125 -1.421875 \r\nQ 19.53125 -1.421875 13.0625 8.265625 \r\nQ 6.59375 17.96875 6.59375 36.375 \r\nQ 6.59375 54.828125 13.0625 64.515625 \r\nQ 19.53125 74.21875 31.78125 74.21875 \r\nz\r\n\" id=\"DejaVuSans-30\"/>\r\n      </defs>\r\n      <g transform=\"translate(72.791619 242.738437)scale(0.1 -0.1)\">\r\n       <use xlink:href=\"#DejaVuSans-30\"/>\r\n      </g>\r\n     </g>\r\n    </g>\r\n    <g id=\"xtick_2\">\r\n     <g id=\"line2d_2\">\r\n      <g>\r\n       <use style=\"stroke:#000000;stroke-width:0.8;\" x=\"136.845597\" xlink:href=\"#m57c144f4a7\" y=\"228.14\"/>\r\n      </g>\r\n     </g>\r\n     <g id=\"text_2\">\r\n      <!-- 20 -->\r\n      <defs>\r\n       <path d=\"M 19.1875 8.296875 \r\nL 53.609375 8.296875 \r\nL 53.609375 0 \r\nL 7.328125 0 \r\nL 7.328125 8.296875 \r\nQ 12.9375 14.109375 22.625 23.890625 \r\nQ 32.328125 33.6875 34.8125 36.53125 \r\nQ 39.546875 41.84375 41.421875 45.53125 \r\nQ 43.3125 49.21875 43.3125 52.78125 \r\nQ 43.3125 58.59375 39.234375 62.25 \r\nQ 35.15625 65.921875 28.609375 65.921875 \r\nQ 23.96875 65.921875 18.8125 64.3125 \r\nQ 13.671875 62.703125 7.8125 59.421875 \r\nL 7.8125 69.390625 \r\nQ 13.765625 71.78125 18.9375 73 \r\nQ 24.125 74.21875 28.421875 74.21875 \r\nQ 39.75 74.21875 46.484375 68.546875 \r\nQ 53.21875 62.890625 53.21875 53.421875 \r\nQ 53.21875 48.921875 51.53125 44.890625 \r\nQ 49.859375 40.875 45.40625 35.40625 \r\nQ 44.1875 33.984375 37.640625 27.21875 \r\nQ 31.109375 20.453125 19.1875 8.296875 \r\nz\r\n\" id=\"DejaVuSans-32\"/>\r\n      </defs>\r\n      <g transform=\"translate(130.483097 242.738437)scale(0.1 -0.1)\">\r\n       <use xlink:href=\"#DejaVuSans-32\"/>\r\n       <use x=\"63.623047\" xlink:href=\"#DejaVuSans-30\"/>\r\n      </g>\r\n     </g>\r\n    </g>\r\n    <g id=\"xtick_3\">\r\n     <g id=\"line2d_3\">\r\n      <g>\r\n       <use style=\"stroke:#000000;stroke-width:0.8;\" x=\"197.718324\" xlink:href=\"#m57c144f4a7\" y=\"228.14\"/>\r\n      </g>\r\n     </g>\r\n     <g id=\"text_3\">\r\n      <!-- 40 -->\r\n      <defs>\r\n       <path d=\"M 37.796875 64.3125 \r\nL 12.890625 25.390625 \r\nL 37.796875 25.390625 \r\nz\r\nM 35.203125 72.90625 \r\nL 47.609375 72.90625 \r\nL 47.609375 25.390625 \r\nL 58.015625 25.390625 \r\nL 58.015625 17.1875 \r\nL 47.609375 17.1875 \r\nL 47.609375 0 \r\nL 37.796875 0 \r\nL 37.796875 17.1875 \r\nL 4.890625 17.1875 \r\nL 4.890625 26.703125 \r\nz\r\n\" id=\"DejaVuSans-34\"/>\r\n      </defs>\r\n      <g transform=\"translate(191.355824 242.738437)scale(0.1 -0.1)\">\r\n       <use xlink:href=\"#DejaVuSans-34\"/>\r\n       <use x=\"63.623047\" xlink:href=\"#DejaVuSans-30\"/>\r\n      </g>\r\n     </g>\r\n    </g>\r\n    <g id=\"xtick_4\">\r\n     <g id=\"line2d_4\">\r\n      <g>\r\n       <use style=\"stroke:#000000;stroke-width:0.8;\" x=\"258.591051\" xlink:href=\"#m57c144f4a7\" y=\"228.14\"/>\r\n      </g>\r\n     </g>\r\n     <g id=\"text_4\">\r\n      <!-- 60 -->\r\n      <defs>\r\n       <path d=\"M 33.015625 40.375 \r\nQ 26.375 40.375 22.484375 35.828125 \r\nQ 18.609375 31.296875 18.609375 23.390625 \r\nQ 18.609375 15.53125 22.484375 10.953125 \r\nQ 26.375 6.390625 33.015625 6.390625 \r\nQ 39.65625 6.390625 43.53125 10.953125 \r\nQ 47.40625 15.53125 47.40625 23.390625 \r\nQ 47.40625 31.296875 43.53125 35.828125 \r\nQ 39.65625 40.375 33.015625 40.375 \r\nz\r\nM 52.59375 71.296875 \r\nL 52.59375 62.3125 \r\nQ 48.875 64.0625 45.09375 64.984375 \r\nQ 41.3125 65.921875 37.59375 65.921875 \r\nQ 27.828125 65.921875 22.671875 59.328125 \r\nQ 17.53125 52.734375 16.796875 39.40625 \r\nQ 19.671875 43.65625 24.015625 45.921875 \r\nQ 28.375 48.1875 33.59375 48.1875 \r\nQ 44.578125 48.1875 50.953125 41.515625 \r\nQ 57.328125 34.859375 57.328125 23.390625 \r\nQ 57.328125 12.15625 50.6875 5.359375 \r\nQ 44.046875 -1.421875 33.015625 -1.421875 \r\nQ 20.359375 -1.421875 13.671875 8.265625 \r\nQ 6.984375 17.96875 6.984375 36.375 \r\nQ 6.984375 53.65625 15.1875 63.9375 \r\nQ 23.390625 74.21875 37.203125 74.21875 \r\nQ 40.921875 74.21875 44.703125 73.484375 \r\nQ 48.484375 72.75 52.59375 71.296875 \r\nz\r\n\" id=\"DejaVuSans-36\"/>\r\n      </defs>\r\n      <g transform=\"translate(252.228551 242.738437)scale(0.1 -0.1)\">\r\n       <use xlink:href=\"#DejaVuSans-36\"/>\r\n       <use x=\"63.623047\" xlink:href=\"#DejaVuSans-30\"/>\r\n      </g>\r\n     </g>\r\n    </g>\r\n    <g id=\"xtick_5\">\r\n     <g id=\"line2d_5\">\r\n      <g>\r\n       <use style=\"stroke:#000000;stroke-width:0.8;\" x=\"319.463778\" xlink:href=\"#m57c144f4a7\" y=\"228.14\"/>\r\n      </g>\r\n     </g>\r\n     <g id=\"text_5\">\r\n      <!-- 80 -->\r\n      <defs>\r\n       <path d=\"M 31.78125 34.625 \r\nQ 24.75 34.625 20.71875 30.859375 \r\nQ 16.703125 27.09375 16.703125 20.515625 \r\nQ 16.703125 13.921875 20.71875 10.15625 \r\nQ 24.75 6.390625 31.78125 6.390625 \r\nQ 38.8125 6.390625 42.859375 10.171875 \r\nQ 46.921875 13.96875 46.921875 20.515625 \r\nQ 46.921875 27.09375 42.890625 30.859375 \r\nQ 38.875 34.625 31.78125 34.625 \r\nz\r\nM 21.921875 38.8125 \r\nQ 15.578125 40.375 12.03125 44.71875 \r\nQ 8.5 49.078125 8.5 55.328125 \r\nQ 8.5 64.0625 14.71875 69.140625 \r\nQ 20.953125 74.21875 31.78125 74.21875 \r\nQ 42.671875 74.21875 48.875 69.140625 \r\nQ 55.078125 64.0625 55.078125 55.328125 \r\nQ 55.078125 49.078125 51.53125 44.71875 \r\nQ 48 40.375 41.703125 38.8125 \r\nQ 48.828125 37.15625 52.796875 32.3125 \r\nQ 56.78125 27.484375 56.78125 20.515625 \r\nQ 56.78125 9.90625 50.3125 4.234375 \r\nQ 43.84375 -1.421875 31.78125 -1.421875 \r\nQ 19.734375 -1.421875 13.25 4.234375 \r\nQ 6.78125 9.90625 6.78125 20.515625 \r\nQ 6.78125 27.484375 10.78125 32.3125 \r\nQ 14.796875 37.15625 21.921875 38.8125 \r\nz\r\nM 18.3125 54.390625 \r\nQ 18.3125 48.734375 21.84375 45.5625 \r\nQ 25.390625 42.390625 31.78125 42.390625 \r\nQ 38.140625 42.390625 41.71875 45.5625 \r\nQ 45.3125 48.734375 45.3125 54.390625 \r\nQ 45.3125 60.0625 41.71875 63.234375 \r\nQ 38.140625 66.40625 31.78125 66.40625 \r\nQ 25.390625 66.40625 21.84375 63.234375 \r\nQ 18.3125 60.0625 18.3125 54.390625 \r\nz\r\n\" id=\"DejaVuSans-38\"/>\r\n      </defs>\r\n      <g transform=\"translate(313.101278 242.738437)scale(0.1 -0.1)\">\r\n       <use xlink:href=\"#DejaVuSans-38\"/>\r\n       <use x=\"63.623047\" xlink:href=\"#DejaVuSans-30\"/>\r\n      </g>\r\n     </g>\r\n    </g>\r\n    <g id=\"xtick_6\">\r\n     <g id=\"line2d_6\">\r\n      <g>\r\n       <use style=\"stroke:#000000;stroke-width:0.8;\" x=\"380.336506\" xlink:href=\"#m57c144f4a7\" y=\"228.14\"/>\r\n      </g>\r\n     </g>\r\n     <g id=\"text_6\">\r\n      <!-- 100 -->\r\n      <defs>\r\n       <path d=\"M 12.40625 8.296875 \r\nL 28.515625 8.296875 \r\nL 28.515625 63.921875 \r\nL 10.984375 60.40625 \r\nL 10.984375 69.390625 \r\nL 28.421875 72.90625 \r\nL 38.28125 72.90625 \r\nL 38.28125 8.296875 \r\nL 54.390625 8.296875 \r\nL 54.390625 0 \r\nL 12.40625 0 \r\nz\r\n\" id=\"DejaVuSans-31\"/>\r\n      </defs>\r\n      <g transform=\"translate(370.792756 242.738437)scale(0.1 -0.1)\">\r\n       <use xlink:href=\"#DejaVuSans-31\"/>\r\n       <use x=\"63.623047\" xlink:href=\"#DejaVuSans-30\"/>\r\n       <use x=\"127.246094\" xlink:href=\"#DejaVuSans-30\"/>\r\n      </g>\r\n     </g>\r\n    </g>\r\n   </g>\r\n   <g id=\"matplotlib.axis_2\">\r\n    <g id=\"ytick_1\">\r\n     <g id=\"line2d_7\">\r\n      <defs>\r\n       <path d=\"M 0 0 \r\nL -3.5 0 \r\n\" id=\"m5dc2584fcb\" style=\"stroke:#000000;stroke-width:0.8;\"/>\r\n      </defs>\r\n      <g>\r\n       <use style=\"stroke:#000000;stroke-width:0.8;\" x=\"60.754688\" xlink:href=\"#m5dc2584fcb\" y=\"202.601185\"/>\r\n      </g>\r\n     </g>\r\n     <g id=\"text_7\">\r\n      <!-- −750000 -->\r\n      <defs>\r\n       <path d=\"M 10.59375 35.5 \r\nL 73.1875 35.5 \r\nL 73.1875 27.203125 \r\nL 10.59375 27.203125 \r\nz\r\n\" id=\"DejaVuSans-2212\"/>\r\n       <path d=\"M 8.203125 72.90625 \r\nL 55.078125 72.90625 \r\nL 55.078125 68.703125 \r\nL 28.609375 0 \r\nL 18.3125 0 \r\nL 43.21875 64.59375 \r\nL 8.203125 64.59375 \r\nz\r\n\" id=\"DejaVuSans-37\"/>\r\n       <path d=\"M 10.796875 72.90625 \r\nL 49.515625 72.90625 \r\nL 49.515625 64.59375 \r\nL 19.828125 64.59375 \r\nL 19.828125 46.734375 \r\nQ 21.96875 47.46875 24.109375 47.828125 \r\nQ 26.265625 48.1875 28.421875 48.1875 \r\nQ 40.625 48.1875 47.75 41.5 \r\nQ 54.890625 34.8125 54.890625 23.390625 \r\nQ 54.890625 11.625 47.5625 5.09375 \r\nQ 40.234375 -1.421875 26.90625 -1.421875 \r\nQ 22.3125 -1.421875 17.546875 -0.640625 \r\nQ 12.796875 0.140625 7.71875 1.703125 \r\nL 7.71875 11.625 \r\nQ 12.109375 9.234375 16.796875 8.0625 \r\nQ 21.484375 6.890625 26.703125 6.890625 \r\nQ 35.15625 6.890625 40.078125 11.328125 \r\nQ 45.015625 15.765625 45.015625 23.390625 \r\nQ 45.015625 31 40.078125 35.4375 \r\nQ 35.15625 39.890625 26.703125 39.890625 \r\nQ 22.75 39.890625 18.8125 39.015625 \r\nQ 14.890625 38.140625 10.796875 36.28125 \r\nz\r\n\" id=\"DejaVuSans-35\"/>\r\n      </defs>\r\n      <g transform=\"translate(7.2 206.400403)scale(0.1 -0.1)\">\r\n       <use xlink:href=\"#DejaVuSans-2212\"/>\r\n       <use x=\"83.789062\" xlink:href=\"#DejaVuSans-37\"/>\r\n       <use x=\"147.412109\" xlink:href=\"#DejaVuSans-35\"/>\r\n       <use x=\"211.035156\" xlink:href=\"#DejaVuSans-30\"/>\r\n       <use x=\"274.658203\" xlink:href=\"#DejaVuSans-30\"/>\r\n       <use x=\"338.28125\" xlink:href=\"#DejaVuSans-30\"/>\r\n       <use x=\"401.904297\" xlink:href=\"#DejaVuSans-30\"/>\r\n      </g>\r\n     </g>\r\n    </g>\r\n    <g id=\"ytick_2\">\r\n     <g id=\"line2d_8\">\r\n      <g>\r\n       <use style=\"stroke:#000000;stroke-width:0.8;\" x=\"60.754688\" xlink:href=\"#m5dc2584fcb\" y=\"176.50922\"/>\r\n      </g>\r\n     </g>\r\n     <g id=\"text_8\">\r\n      <!-- −500000 -->\r\n      <g transform=\"translate(7.2 180.308438)scale(0.1 -0.1)\">\r\n       <use xlink:href=\"#DejaVuSans-2212\"/>\r\n       <use x=\"83.789062\" xlink:href=\"#DejaVuSans-35\"/>\r\n       <use x=\"147.412109\" xlink:href=\"#DejaVuSans-30\"/>\r\n       <use x=\"211.035156\" xlink:href=\"#DejaVuSans-30\"/>\r\n       <use x=\"274.658203\" xlink:href=\"#DejaVuSans-30\"/>\r\n       <use x=\"338.28125\" xlink:href=\"#DejaVuSans-30\"/>\r\n       <use x=\"401.904297\" xlink:href=\"#DejaVuSans-30\"/>\r\n      </g>\r\n     </g>\r\n    </g>\r\n    <g id=\"ytick_3\">\r\n     <g id=\"line2d_9\">\r\n      <g>\r\n       <use style=\"stroke:#000000;stroke-width:0.8;\" x=\"60.754688\" xlink:href=\"#m5dc2584fcb\" y=\"150.417254\"/>\r\n      </g>\r\n     </g>\r\n     <g id=\"text_9\">\r\n      <!-- −250000 -->\r\n      <g transform=\"translate(7.2 154.216473)scale(0.1 -0.1)\">\r\n       <use xlink:href=\"#DejaVuSans-2212\"/>\r\n       <use x=\"83.789062\" xlink:href=\"#DejaVuSans-32\"/>\r\n       <use x=\"147.412109\" xlink:href=\"#DejaVuSans-35\"/>\r\n       <use x=\"211.035156\" xlink:href=\"#DejaVuSans-30\"/>\r\n       <use x=\"274.658203\" xlink:href=\"#DejaVuSans-30\"/>\r\n       <use x=\"338.28125\" xlink:href=\"#DejaVuSans-30\"/>\r\n       <use x=\"401.904297\" xlink:href=\"#DejaVuSans-30\"/>\r\n      </g>\r\n     </g>\r\n    </g>\r\n    <g id=\"ytick_4\">\r\n     <g id=\"line2d_10\">\r\n      <g>\r\n       <use style=\"stroke:#000000;stroke-width:0.8;\" x=\"60.754688\" xlink:href=\"#m5dc2584fcb\" y=\"124.325289\"/>\r\n      </g>\r\n     </g>\r\n     <g id=\"text_10\">\r\n      <!-- 0 -->\r\n      <g transform=\"translate(47.392188 128.124508)scale(0.1 -0.1)\">\r\n       <use xlink:href=\"#DejaVuSans-30\"/>\r\n      </g>\r\n     </g>\r\n    </g>\r\n    <g id=\"ytick_5\">\r\n     <g id=\"line2d_11\">\r\n      <g>\r\n       <use style=\"stroke:#000000;stroke-width:0.8;\" x=\"60.754688\" xlink:href=\"#m5dc2584fcb\" y=\"98.233324\"/>\r\n      </g>\r\n     </g>\r\n     <g id=\"text_11\">\r\n      <!-- 250000 -->\r\n      <g transform=\"translate(15.579687 102.032543)scale(0.1 -0.1)\">\r\n       <use xlink:href=\"#DejaVuSans-32\"/>\r\n       <use x=\"63.623047\" xlink:href=\"#DejaVuSans-35\"/>\r\n       <use x=\"127.246094\" xlink:href=\"#DejaVuSans-30\"/>\r\n       <use x=\"190.869141\" xlink:href=\"#DejaVuSans-30\"/>\r\n       <use x=\"254.492188\" xlink:href=\"#DejaVuSans-30\"/>\r\n       <use x=\"318.115234\" xlink:href=\"#DejaVuSans-30\"/>\r\n      </g>\r\n     </g>\r\n    </g>\r\n    <g id=\"ytick_6\">\r\n     <g id=\"line2d_12\">\r\n      <g>\r\n       <use style=\"stroke:#000000;stroke-width:0.8;\" x=\"60.754688\" xlink:href=\"#m5dc2584fcb\" y=\"72.141359\"/>\r\n      </g>\r\n     </g>\r\n     <g id=\"text_12\">\r\n      <!-- 500000 -->\r\n      <g transform=\"translate(15.579687 75.940578)scale(0.1 -0.1)\">\r\n       <use xlink:href=\"#DejaVuSans-35\"/>\r\n       <use x=\"63.623047\" xlink:href=\"#DejaVuSans-30\"/>\r\n       <use x=\"127.246094\" xlink:href=\"#DejaVuSans-30\"/>\r\n       <use x=\"190.869141\" xlink:href=\"#DejaVuSans-30\"/>\r\n       <use x=\"254.492188\" xlink:href=\"#DejaVuSans-30\"/>\r\n       <use x=\"318.115234\" xlink:href=\"#DejaVuSans-30\"/>\r\n      </g>\r\n     </g>\r\n    </g>\r\n    <g id=\"ytick_7\">\r\n     <g id=\"line2d_13\">\r\n      <g>\r\n       <use style=\"stroke:#000000;stroke-width:0.8;\" x=\"60.754688\" xlink:href=\"#m5dc2584fcb\" y=\"46.049394\"/>\r\n      </g>\r\n     </g>\r\n     <g id=\"text_13\">\r\n      <!-- 750000 -->\r\n      <g transform=\"translate(15.579687 49.848613)scale(0.1 -0.1)\">\r\n       <use xlink:href=\"#DejaVuSans-37\"/>\r\n       <use x=\"63.623047\" xlink:href=\"#DejaVuSans-35\"/>\r\n       <use x=\"127.246094\" xlink:href=\"#DejaVuSans-30\"/>\r\n       <use x=\"190.869141\" xlink:href=\"#DejaVuSans-30\"/>\r\n       <use x=\"254.492188\" xlink:href=\"#DejaVuSans-30\"/>\r\n       <use x=\"318.115234\" xlink:href=\"#DejaVuSans-30\"/>\r\n      </g>\r\n     </g>\r\n    </g>\r\n    <g id=\"ytick_8\">\r\n     <g id=\"line2d_14\">\r\n      <g>\r\n       <use style=\"stroke:#000000;stroke-width:0.8;\" x=\"60.754688\" xlink:href=\"#m5dc2584fcb\" y=\"19.957429\"/>\r\n      </g>\r\n     </g>\r\n     <g id=\"text_14\">\r\n      <!-- 1000000 -->\r\n      <g transform=\"translate(9.217188 23.756648)scale(0.1 -0.1)\">\r\n       <use xlink:href=\"#DejaVuSans-31\"/>\r\n       <use x=\"63.623047\" xlink:href=\"#DejaVuSans-30\"/>\r\n       <use x=\"127.246094\" xlink:href=\"#DejaVuSans-30\"/>\r\n       <use x=\"190.869141\" xlink:href=\"#DejaVuSans-30\"/>\r\n       <use x=\"254.492188\" xlink:href=\"#DejaVuSans-30\"/>\r\n       <use x=\"318.115234\" xlink:href=\"#DejaVuSans-30\"/>\r\n       <use x=\"381.738281\" xlink:href=\"#DejaVuSans-30\"/>\r\n      </g>\r\n     </g>\r\n    </g>\r\n   </g>\r\n   <g id=\"line2d_15\">\r\n    <path clip-path=\"url(#p04dc26ba09)\" d=\"M 75.972869 218.256364 \r\nL 76.094615 130.168157 \r\nL 76.277233 127.664782 \r\nL 76.429415 127.036349 \r\nL 76.642469 126.219107 \r\nL 76.946833 125.573262 \r\nL 77.342506 125.211064 \r\nL 77.525124 124.865528 \r\nL 78.620833 124.32321 \r\nL 80.386142 124.212651 \r\nL 83.003669 124.137427 \r\nL 87.173451 124.033059 \r\nL 87.782178 124.001749 \r\nL 88.93876 123.892722 \r\nL 89.182251 123.813119 \r\nL 90.125778 123.646898 \r\nL 91.221487 123.542004 \r\nL 91.95196 123.438163 \r\nL 92.986797 123.33048 \r\nL 93.808578 123.281611 \r\nL 96.060869 123.17559 \r\nL 97.034833 123.105054 \r\nL 114.413997 122.759772 \r\nL 123.362288 122.650472 \r\nL 124.975415 122.615518 \r\nL 128.840833 122.557655 \r\nL 174.708433 122.133564 \r\nL 187.796069 122.02256 \r\nL 199.483633 121.921079 \r\nL 216.710615 121.805693 \r\nL 228.641669 121.716093 \r\nL 243.494615 121.605917 \r\nL 245.899088 121.569978 \r\nL 258.712797 121.458927 \r\nL 260.082433 121.455173 \r\nL 273.109197 121.344471 \r\nL 276.274578 121.298621 \r\nL 302.297669 121.187572 \r\nL 304.976069 121.14207 \r\nL 318.672433 121.031178 \r\nL 320.315997 121.006391 \r\nL 332.368797 120.896725 \r\nL 334.803706 120.88115 \r\nL 346.126033 120.772512 \r\nL 347.313051 120.724598 \r\nL 353.704687 120.613561 \r\nL 355.713487 120.568046 \r\nL 360.735488 120.457388 \r\nL 363.80956 120.359311 \r\nL 366.48796 120.248999 \r\nL 374.918833 119.796237 \r\nL 376.836324 119.328592 \r\nL 377.262433 119.265864 \r\nL 377.414615 119.175034 \r\nL 377.566797 119.106896 \r\nL 377.810288 118.996351 \r\nL 378.114651 118.793793 \r\nL 378.327706 118.280199 \r\nL 378.479888 118.063218 \r\nL 378.54076 117.976968 \r\nL 378.814687 117.046675 \r\nL 378.87556 116.839693 \r\nL 379.088615 115.544446 \r\nL 379.362542 114.52139 \r\nL 379.575597 109.808689 \r\nL 380.21476 88.21568 \r\nL 380.306069 64.428324 \r\nL 380.336506 20.583636 \r\nL 380.336506 20.583636 \r\n\" style=\"fill:none;stroke:#1f77b4;stroke-linecap:square;stroke-width:1.5;\"/>\r\n   </g>\r\n   <g id=\"patch_3\">\r\n    <path d=\"M 60.754688 228.14 \r\nL 60.754688 10.7 \r\n\" style=\"fill:none;stroke:#000000;stroke-linecap:square;stroke-linejoin:miter;stroke-width:0.8;\"/>\r\n   </g>\r\n   <g id=\"patch_4\">\r\n    <path d=\"M 395.554688 228.14 \r\nL 395.554688 10.7 \r\n\" style=\"fill:none;stroke:#000000;stroke-linecap:square;stroke-linejoin:miter;stroke-width:0.8;\"/>\r\n   </g>\r\n   <g id=\"patch_5\">\r\n    <path d=\"M 60.754688 228.14 \r\nL 395.554688 228.14 \r\n\" style=\"fill:none;stroke:#000000;stroke-linecap:square;stroke-linejoin:miter;stroke-width:0.8;\"/>\r\n   </g>\r\n   <g id=\"patch_6\">\r\n    <path d=\"M 60.754688 10.7 \r\nL 395.554688 10.7 \r\n\" style=\"fill:none;stroke:#000000;stroke-linecap:square;stroke-linejoin:miter;stroke-width:0.8;\"/>\r\n   </g>\r\n  </g>\r\n </g>\r\n <defs>\r\n  <clipPath id=\"p04dc26ba09\">\r\n   <rect height=\"217.44\" width=\"334.8\" x=\"60.754688\" y=\"10.7\"/>\r\n  </clipPath>\r\n </defs>\r\n</svg>\r\n",
      "image/png": "[encoded data removed]"
     },
     "metadata": {
      "needs_background": "light"
     }
    }
   ],
   "source": [
    "# the max and min values are very far from the median (50% percentile) and from the 25-75% percentiles, which suggests there are ouliers. To confirm that, the plot of the inverse CDF (cumulative distribution) has very sharp jumps at the start and end:\n",
    "def plot_inverse_CDF(data, min_perc=0, max_perc=100, step=0.01, vlines=[]):\n",
    "    percentiles = np.arange(min_perc, max_perc+step, step)\n",
    "    inv_CDF = [np.nanpercentile(data, p) for p in percentiles]\n",
    "    print('{0} percentile: {1:.2f}'.format(min_perc, inv_CDF[0]))\n",
    "    print('{0} percentile: {1:.2f}'.format(max_perc, inv_CDF[-1]))\n",
    "    plt.plot(percentiles, inv_CDF)\n",
    "    for x in vlines:\n",
    "        plt.axvline(x=x, linestyle='--', color='r')\n",
    "    plt.show()\n",
    "plot_inverse_CDF(data=data['Overall Pay'].values)"
   ]
  },
  {
   "cell_type": "code",
   "execution_count": 139,
   "metadata": {
    "tags": []
   },
   "outputs": [
    {
     "output_type": "stream",
     "name": "stdout",
     "text": "0 percentile: -900000.00\n100 percentile: 994000.00\n"
    },
    {
     "output_type": "display_data",
     "data": {
      "text/plain": "<Figure size 432x288 with 1 Axes>",
      "image/svg+xml": "<?xml version=\"1.0\" encoding=\"utf-8\" standalone=\"no\"?>\r\n<!DOCTYPE svg PUBLIC \"-//W3C//DTD SVG 1.1//EN\"\r\n  \"http://www.w3.org/Graphics/SVG/1.1/DTD/svg11.dtd\">\r\n<!-- Created with matplotlib (http://matplotlib.org/) -->\r\n<svg height=\"252.018125pt\" version=\"1.1\" viewBox=\"0 0 406.254687 252.018125\" width=\"406.254687pt\" xmlns=\"http://www.w3.org/2000/svg\" xmlns:xlink=\"http://www.w3.org/1999/xlink\">\r\n <defs>\r\n  <style type=\"text/css\">\r\n*{stroke-linecap:butt;stroke-linejoin:round;}\r\n  </style>\r\n </defs>\r\n <g id=\"figure_1\">\r\n  <g id=\"patch_1\">\r\n   <path d=\"M 0 252.018125 \r\nL 406.254687 252.018125 \r\nL 406.254687 0 \r\nL 0 0 \r\nz\r\n\" style=\"fill:none;\"/>\r\n  </g>\r\n  <g id=\"axes_1\">\r\n   <g id=\"patch_2\">\r\n    <path d=\"M 60.754688 228.14 \r\nL 395.554688 228.14 \r\nL 395.554688 10.7 \r\nL 60.754688 10.7 \r\nz\r\n\" style=\"fill:#ffffff;\"/>\r\n   </g>\r\n   <g id=\"matplotlib.axis_1\">\r\n    <g id=\"xtick_1\">\r\n     <g id=\"line2d_1\">\r\n      <defs>\r\n       <path d=\"M 0 0 \r\nL 0 3.5 \r\n\" id=\"m5034e928c3\" style=\"stroke:#000000;stroke-width:0.8;\"/>\r\n      </defs>\r\n      <g>\r\n       <use style=\"stroke:#000000;stroke-width:0.8;\" x=\"75.972869\" xlink:href=\"#m5034e928c3\" y=\"228.14\"/>\r\n      </g>\r\n     </g>\r\n     <g id=\"text_1\">\r\n      <!-- 0 -->\r\n      <defs>\r\n       <path d=\"M 31.78125 66.40625 \r\nQ 24.171875 66.40625 20.328125 58.90625 \r\nQ 16.5 51.421875 16.5 36.375 \r\nQ 16.5 21.390625 20.328125 13.890625 \r\nQ 24.171875 6.390625 31.78125 6.390625 \r\nQ 39.453125 6.390625 43.28125 13.890625 \r\nQ 47.125 21.390625 47.125 36.375 \r\nQ 47.125 51.421875 43.28125 58.90625 \r\nQ 39.453125 66.40625 31.78125 66.40625 \r\nz\r\nM 31.78125 74.21875 \r\nQ 44.046875 74.21875 50.515625 64.515625 \r\nQ 56.984375 54.828125 56.984375 36.375 \r\nQ 56.984375 17.96875 50.515625 8.265625 \r\nQ 44.046875 -1.421875 31.78125 -1.421875 \r\nQ 19.53125 -1.421875 13.0625 8.265625 \r\nQ 6.59375 17.96875 6.59375 36.375 \r\nQ 6.59375 54.828125 13.0625 64.515625 \r\nQ 19.53125 74.21875 31.78125 74.21875 \r\nz\r\n\" id=\"DejaVuSans-30\"/>\r\n      </defs>\r\n      <g transform=\"translate(72.791619 242.738437)scale(0.1 -0.1)\">\r\n       <use xlink:href=\"#DejaVuSans-30\"/>\r\n      </g>\r\n     </g>\r\n    </g>\r\n    <g id=\"xtick_2\">\r\n     <g id=\"line2d_2\">\r\n      <g>\r\n       <use style=\"stroke:#000000;stroke-width:0.8;\" x=\"136.845597\" xlink:href=\"#m5034e928c3\" y=\"228.14\"/>\r\n      </g>\r\n     </g>\r\n     <g id=\"text_2\">\r\n      <!-- 20 -->\r\n      <defs>\r\n       <path d=\"M 19.1875 8.296875 \r\nL 53.609375 8.296875 \r\nL 53.609375 0 \r\nL 7.328125 0 \r\nL 7.328125 8.296875 \r\nQ 12.9375 14.109375 22.625 23.890625 \r\nQ 32.328125 33.6875 34.8125 36.53125 \r\nQ 39.546875 41.84375 41.421875 45.53125 \r\nQ 43.3125 49.21875 43.3125 52.78125 \r\nQ 43.3125 58.59375 39.234375 62.25 \r\nQ 35.15625 65.921875 28.609375 65.921875 \r\nQ 23.96875 65.921875 18.8125 64.3125 \r\nQ 13.671875 62.703125 7.8125 59.421875 \r\nL 7.8125 69.390625 \r\nQ 13.765625 71.78125 18.9375 73 \r\nQ 24.125 74.21875 28.421875 74.21875 \r\nQ 39.75 74.21875 46.484375 68.546875 \r\nQ 53.21875 62.890625 53.21875 53.421875 \r\nQ 53.21875 48.921875 51.53125 44.890625 \r\nQ 49.859375 40.875 45.40625 35.40625 \r\nQ 44.1875 33.984375 37.640625 27.21875 \r\nQ 31.109375 20.453125 19.1875 8.296875 \r\nz\r\n\" id=\"DejaVuSans-32\"/>\r\n      </defs>\r\n      <g transform=\"translate(130.483097 242.738437)scale(0.1 -0.1)\">\r\n       <use xlink:href=\"#DejaVuSans-32\"/>\r\n       <use x=\"63.623047\" xlink:href=\"#DejaVuSans-30\"/>\r\n      </g>\r\n     </g>\r\n    </g>\r\n    <g id=\"xtick_3\">\r\n     <g id=\"line2d_3\">\r\n      <g>\r\n       <use style=\"stroke:#000000;stroke-width:0.8;\" x=\"197.718324\" xlink:href=\"#m5034e928c3\" y=\"228.14\"/>\r\n      </g>\r\n     </g>\r\n     <g id=\"text_3\">\r\n      <!-- 40 -->\r\n      <defs>\r\n       <path d=\"M 37.796875 64.3125 \r\nL 12.890625 25.390625 \r\nL 37.796875 25.390625 \r\nz\r\nM 35.203125 72.90625 \r\nL 47.609375 72.90625 \r\nL 47.609375 25.390625 \r\nL 58.015625 25.390625 \r\nL 58.015625 17.1875 \r\nL 47.609375 17.1875 \r\nL 47.609375 0 \r\nL 37.796875 0 \r\nL 37.796875 17.1875 \r\nL 4.890625 17.1875 \r\nL 4.890625 26.703125 \r\nz\r\n\" id=\"DejaVuSans-34\"/>\r\n      </defs>\r\n      <g transform=\"translate(191.355824 242.738437)scale(0.1 -0.1)\">\r\n       <use xlink:href=\"#DejaVuSans-34\"/>\r\n       <use x=\"63.623047\" xlink:href=\"#DejaVuSans-30\"/>\r\n      </g>\r\n     </g>\r\n    </g>\r\n    <g id=\"xtick_4\">\r\n     <g id=\"line2d_4\">\r\n      <g>\r\n       <use style=\"stroke:#000000;stroke-width:0.8;\" x=\"258.591051\" xlink:href=\"#m5034e928c3\" y=\"228.14\"/>\r\n      </g>\r\n     </g>\r\n     <g id=\"text_4\">\r\n      <!-- 60 -->\r\n      <defs>\r\n       <path d=\"M 33.015625 40.375 \r\nQ 26.375 40.375 22.484375 35.828125 \r\nQ 18.609375 31.296875 18.609375 23.390625 \r\nQ 18.609375 15.53125 22.484375 10.953125 \r\nQ 26.375 6.390625 33.015625 6.390625 \r\nQ 39.65625 6.390625 43.53125 10.953125 \r\nQ 47.40625 15.53125 47.40625 23.390625 \r\nQ 47.40625 31.296875 43.53125 35.828125 \r\nQ 39.65625 40.375 33.015625 40.375 \r\nz\r\nM 52.59375 71.296875 \r\nL 52.59375 62.3125 \r\nQ 48.875 64.0625 45.09375 64.984375 \r\nQ 41.3125 65.921875 37.59375 65.921875 \r\nQ 27.828125 65.921875 22.671875 59.328125 \r\nQ 17.53125 52.734375 16.796875 39.40625 \r\nQ 19.671875 43.65625 24.015625 45.921875 \r\nQ 28.375 48.1875 33.59375 48.1875 \r\nQ 44.578125 48.1875 50.953125 41.515625 \r\nQ 57.328125 34.859375 57.328125 23.390625 \r\nQ 57.328125 12.15625 50.6875 5.359375 \r\nQ 44.046875 -1.421875 33.015625 -1.421875 \r\nQ 20.359375 -1.421875 13.671875 8.265625 \r\nQ 6.984375 17.96875 6.984375 36.375 \r\nQ 6.984375 53.65625 15.1875 63.9375 \r\nQ 23.390625 74.21875 37.203125 74.21875 \r\nQ 40.921875 74.21875 44.703125 73.484375 \r\nQ 48.484375 72.75 52.59375 71.296875 \r\nz\r\n\" id=\"DejaVuSans-36\"/>\r\n      </defs>\r\n      <g transform=\"translate(252.228551 242.738437)scale(0.1 -0.1)\">\r\n       <use xlink:href=\"#DejaVuSans-36\"/>\r\n       <use x=\"63.623047\" xlink:href=\"#DejaVuSans-30\"/>\r\n      </g>\r\n     </g>\r\n    </g>\r\n    <g id=\"xtick_5\">\r\n     <g id=\"line2d_5\">\r\n      <g>\r\n       <use style=\"stroke:#000000;stroke-width:0.8;\" x=\"319.463778\" xlink:href=\"#m5034e928c3\" y=\"228.14\"/>\r\n      </g>\r\n     </g>\r\n     <g id=\"text_5\">\r\n      <!-- 80 -->\r\n      <defs>\r\n       <path d=\"M 31.78125 34.625 \r\nQ 24.75 34.625 20.71875 30.859375 \r\nQ 16.703125 27.09375 16.703125 20.515625 \r\nQ 16.703125 13.921875 20.71875 10.15625 \r\nQ 24.75 6.390625 31.78125 6.390625 \r\nQ 38.8125 6.390625 42.859375 10.171875 \r\nQ 46.921875 13.96875 46.921875 20.515625 \r\nQ 46.921875 27.09375 42.890625 30.859375 \r\nQ 38.875 34.625 31.78125 34.625 \r\nz\r\nM 21.921875 38.8125 \r\nQ 15.578125 40.375 12.03125 44.71875 \r\nQ 8.5 49.078125 8.5 55.328125 \r\nQ 8.5 64.0625 14.71875 69.140625 \r\nQ 20.953125 74.21875 31.78125 74.21875 \r\nQ 42.671875 74.21875 48.875 69.140625 \r\nQ 55.078125 64.0625 55.078125 55.328125 \r\nQ 55.078125 49.078125 51.53125 44.71875 \r\nQ 48 40.375 41.703125 38.8125 \r\nQ 48.828125 37.15625 52.796875 32.3125 \r\nQ 56.78125 27.484375 56.78125 20.515625 \r\nQ 56.78125 9.90625 50.3125 4.234375 \r\nQ 43.84375 -1.421875 31.78125 -1.421875 \r\nQ 19.734375 -1.421875 13.25 4.234375 \r\nQ 6.78125 9.90625 6.78125 20.515625 \r\nQ 6.78125 27.484375 10.78125 32.3125 \r\nQ 14.796875 37.15625 21.921875 38.8125 \r\nz\r\nM 18.3125 54.390625 \r\nQ 18.3125 48.734375 21.84375 45.5625 \r\nQ 25.390625 42.390625 31.78125 42.390625 \r\nQ 38.140625 42.390625 41.71875 45.5625 \r\nQ 45.3125 48.734375 45.3125 54.390625 \r\nQ 45.3125 60.0625 41.71875 63.234375 \r\nQ 38.140625 66.40625 31.78125 66.40625 \r\nQ 25.390625 66.40625 21.84375 63.234375 \r\nQ 18.3125 60.0625 18.3125 54.390625 \r\nz\r\n\" id=\"DejaVuSans-38\"/>\r\n      </defs>\r\n      <g transform=\"translate(313.101278 242.738437)scale(0.1 -0.1)\">\r\n       <use xlink:href=\"#DejaVuSans-38\"/>\r\n       <use x=\"63.623047\" xlink:href=\"#DejaVuSans-30\"/>\r\n      </g>\r\n     </g>\r\n    </g>\r\n    <g id=\"xtick_6\">\r\n     <g id=\"line2d_6\">\r\n      <g>\r\n       <use style=\"stroke:#000000;stroke-width:0.8;\" x=\"380.336506\" xlink:href=\"#m5034e928c3\" y=\"228.14\"/>\r\n      </g>\r\n     </g>\r\n     <g id=\"text_6\">\r\n      <!-- 100 -->\r\n      <defs>\r\n       <path d=\"M 12.40625 8.296875 \r\nL 28.515625 8.296875 \r\nL 28.515625 63.921875 \r\nL 10.984375 60.40625 \r\nL 10.984375 69.390625 \r\nL 28.421875 72.90625 \r\nL 38.28125 72.90625 \r\nL 38.28125 8.296875 \r\nL 54.390625 8.296875 \r\nL 54.390625 0 \r\nL 12.40625 0 \r\nz\r\n\" id=\"DejaVuSans-31\"/>\r\n      </defs>\r\n      <g transform=\"translate(370.792756 242.738437)scale(0.1 -0.1)\">\r\n       <use xlink:href=\"#DejaVuSans-31\"/>\r\n       <use x=\"63.623047\" xlink:href=\"#DejaVuSans-30\"/>\r\n       <use x=\"127.246094\" xlink:href=\"#DejaVuSans-30\"/>\r\n      </g>\r\n     </g>\r\n    </g>\r\n   </g>\r\n   <g id=\"matplotlib.axis_2\">\r\n    <g id=\"ytick_1\">\r\n     <g id=\"line2d_7\">\r\n      <defs>\r\n       <path d=\"M 0 0 \r\nL -3.5 0 \r\n\" id=\"mb2b81cbd24\" style=\"stroke:#000000;stroke-width:0.8;\"/>\r\n      </defs>\r\n      <g>\r\n       <use style=\"stroke:#000000;stroke-width:0.8;\" x=\"60.754688\" xlink:href=\"#mb2b81cbd24\" y=\"202.601185\"/>\r\n      </g>\r\n     </g>\r\n     <g id=\"text_7\">\r\n      <!-- −750000 -->\r\n      <defs>\r\n       <path d=\"M 10.59375 35.5 \r\nL 73.1875 35.5 \r\nL 73.1875 27.203125 \r\nL 10.59375 27.203125 \r\nz\r\n\" id=\"DejaVuSans-2212\"/>\r\n       <path d=\"M 8.203125 72.90625 \r\nL 55.078125 72.90625 \r\nL 55.078125 68.703125 \r\nL 28.609375 0 \r\nL 18.3125 0 \r\nL 43.21875 64.59375 \r\nL 8.203125 64.59375 \r\nz\r\n\" id=\"DejaVuSans-37\"/>\r\n       <path d=\"M 10.796875 72.90625 \r\nL 49.515625 72.90625 \r\nL 49.515625 64.59375 \r\nL 19.828125 64.59375 \r\nL 19.828125 46.734375 \r\nQ 21.96875 47.46875 24.109375 47.828125 \r\nQ 26.265625 48.1875 28.421875 48.1875 \r\nQ 40.625 48.1875 47.75 41.5 \r\nQ 54.890625 34.8125 54.890625 23.390625 \r\nQ 54.890625 11.625 47.5625 5.09375 \r\nQ 40.234375 -1.421875 26.90625 -1.421875 \r\nQ 22.3125 -1.421875 17.546875 -0.640625 \r\nQ 12.796875 0.140625 7.71875 1.703125 \r\nL 7.71875 11.625 \r\nQ 12.109375 9.234375 16.796875 8.0625 \r\nQ 21.484375 6.890625 26.703125 6.890625 \r\nQ 35.15625 6.890625 40.078125 11.328125 \r\nQ 45.015625 15.765625 45.015625 23.390625 \r\nQ 45.015625 31 40.078125 35.4375 \r\nQ 35.15625 39.890625 26.703125 39.890625 \r\nQ 22.75 39.890625 18.8125 39.015625 \r\nQ 14.890625 38.140625 10.796875 36.28125 \r\nz\r\n\" id=\"DejaVuSans-35\"/>\r\n      </defs>\r\n      <g transform=\"translate(7.2 206.400403)scale(0.1 -0.1)\">\r\n       <use xlink:href=\"#DejaVuSans-2212\"/>\r\n       <use x=\"83.789062\" xlink:href=\"#DejaVuSans-37\"/>\r\n       <use x=\"147.412109\" xlink:href=\"#DejaVuSans-35\"/>\r\n       <use x=\"211.035156\" xlink:href=\"#DejaVuSans-30\"/>\r\n       <use x=\"274.658203\" xlink:href=\"#DejaVuSans-30\"/>\r\n       <use x=\"338.28125\" xlink:href=\"#DejaVuSans-30\"/>\r\n       <use x=\"401.904297\" xlink:href=\"#DejaVuSans-30\"/>\r\n      </g>\r\n     </g>\r\n    </g>\r\n    <g id=\"ytick_2\">\r\n     <g id=\"line2d_8\">\r\n      <g>\r\n       <use style=\"stroke:#000000;stroke-width:0.8;\" x=\"60.754688\" xlink:href=\"#mb2b81cbd24\" y=\"176.50922\"/>\r\n      </g>\r\n     </g>\r\n     <g id=\"text_8\">\r\n      <!-- −500000 -->\r\n      <g transform=\"translate(7.2 180.308438)scale(0.1 -0.1)\">\r\n       <use xlink:href=\"#DejaVuSans-2212\"/>\r\n       <use x=\"83.789062\" xlink:href=\"#DejaVuSans-35\"/>\r\n       <use x=\"147.412109\" xlink:href=\"#DejaVuSans-30\"/>\r\n       <use x=\"211.035156\" xlink:href=\"#DejaVuSans-30\"/>\r\n       <use x=\"274.658203\" xlink:href=\"#DejaVuSans-30\"/>\r\n       <use x=\"338.28125\" xlink:href=\"#DejaVuSans-30\"/>\r\n       <use x=\"401.904297\" xlink:href=\"#DejaVuSans-30\"/>\r\n      </g>\r\n     </g>\r\n    </g>\r\n    <g id=\"ytick_3\">\r\n     <g id=\"line2d_9\">\r\n      <g>\r\n       <use style=\"stroke:#000000;stroke-width:0.8;\" x=\"60.754688\" xlink:href=\"#mb2b81cbd24\" y=\"150.417254\"/>\r\n      </g>\r\n     </g>\r\n     <g id=\"text_9\">\r\n      <!-- −250000 -->\r\n      <g transform=\"translate(7.2 154.216473)scale(0.1 -0.1)\">\r\n       <use xlink:href=\"#DejaVuSans-2212\"/>\r\n       <use x=\"83.789062\" xlink:href=\"#DejaVuSans-32\"/>\r\n       <use x=\"147.412109\" xlink:href=\"#DejaVuSans-35\"/>\r\n       <use x=\"211.035156\" xlink:href=\"#DejaVuSans-30\"/>\r\n       <use x=\"274.658203\" xlink:href=\"#DejaVuSans-30\"/>\r\n       <use x=\"338.28125\" xlink:href=\"#DejaVuSans-30\"/>\r\n       <use x=\"401.904297\" xlink:href=\"#DejaVuSans-30\"/>\r\n      </g>\r\n     </g>\r\n    </g>\r\n    <g id=\"ytick_4\">\r\n     <g id=\"line2d_10\">\r\n      <g>\r\n       <use style=\"stroke:#000000;stroke-width:0.8;\" x=\"60.754688\" xlink:href=\"#mb2b81cbd24\" y=\"124.325289\"/>\r\n      </g>\r\n     </g>\r\n     <g id=\"text_10\">\r\n      <!-- 0 -->\r\n      <g transform=\"translate(47.392188 128.124508)scale(0.1 -0.1)\">\r\n       <use xlink:href=\"#DejaVuSans-30\"/>\r\n      </g>\r\n     </g>\r\n    </g>\r\n    <g id=\"ytick_5\">\r\n     <g id=\"line2d_11\">\r\n      <g>\r\n       <use style=\"stroke:#000000;stroke-width:0.8;\" x=\"60.754688\" xlink:href=\"#mb2b81cbd24\" y=\"98.233324\"/>\r\n      </g>\r\n     </g>\r\n     <g id=\"text_11\">\r\n      <!-- 250000 -->\r\n      <g transform=\"translate(15.579687 102.032543)scale(0.1 -0.1)\">\r\n       <use xlink:href=\"#DejaVuSans-32\"/>\r\n       <use x=\"63.623047\" xlink:href=\"#DejaVuSans-35\"/>\r\n       <use x=\"127.246094\" xlink:href=\"#DejaVuSans-30\"/>\r\n       <use x=\"190.869141\" xlink:href=\"#DejaVuSans-30\"/>\r\n       <use x=\"254.492188\" xlink:href=\"#DejaVuSans-30\"/>\r\n       <use x=\"318.115234\" xlink:href=\"#DejaVuSans-30\"/>\r\n      </g>\r\n     </g>\r\n    </g>\r\n    <g id=\"ytick_6\">\r\n     <g id=\"line2d_12\">\r\n      <g>\r\n       <use style=\"stroke:#000000;stroke-width:0.8;\" x=\"60.754688\" xlink:href=\"#mb2b81cbd24\" y=\"72.141359\"/>\r\n      </g>\r\n     </g>\r\n     <g id=\"text_12\">\r\n      <!-- 500000 -->\r\n      <g transform=\"translate(15.579687 75.940578)scale(0.1 -0.1)\">\r\n       <use xlink:href=\"#DejaVuSans-35\"/>\r\n       <use x=\"63.623047\" xlink:href=\"#DejaVuSans-30\"/>\r\n       <use x=\"127.246094\" xlink:href=\"#DejaVuSans-30\"/>\r\n       <use x=\"190.869141\" xlink:href=\"#DejaVuSans-30\"/>\r\n       <use x=\"254.492188\" xlink:href=\"#DejaVuSans-30\"/>\r\n       <use x=\"318.115234\" xlink:href=\"#DejaVuSans-30\"/>\r\n      </g>\r\n     </g>\r\n    </g>\r\n    <g id=\"ytick_7\">\r\n     <g id=\"line2d_13\">\r\n      <g>\r\n       <use style=\"stroke:#000000;stroke-width:0.8;\" x=\"60.754688\" xlink:href=\"#mb2b81cbd24\" y=\"46.049394\"/>\r\n      </g>\r\n     </g>\r\n     <g id=\"text_13\">\r\n      <!-- 750000 -->\r\n      <g transform=\"translate(15.579687 49.848613)scale(0.1 -0.1)\">\r\n       <use xlink:href=\"#DejaVuSans-37\"/>\r\n       <use x=\"63.623047\" xlink:href=\"#DejaVuSans-35\"/>\r\n       <use x=\"127.246094\" xlink:href=\"#DejaVuSans-30\"/>\r\n       <use x=\"190.869141\" xlink:href=\"#DejaVuSans-30\"/>\r\n       <use x=\"254.492188\" xlink:href=\"#DejaVuSans-30\"/>\r\n       <use x=\"318.115234\" xlink:href=\"#DejaVuSans-30\"/>\r\n      </g>\r\n     </g>\r\n    </g>\r\n    <g id=\"ytick_8\">\r\n     <g id=\"line2d_14\">\r\n      <g>\r\n       <use style=\"stroke:#000000;stroke-width:0.8;\" x=\"60.754688\" xlink:href=\"#mb2b81cbd24\" y=\"19.957429\"/>\r\n      </g>\r\n     </g>\r\n     <g id=\"text_14\">\r\n      <!-- 1000000 -->\r\n      <g transform=\"translate(9.217188 23.756648)scale(0.1 -0.1)\">\r\n       <use xlink:href=\"#DejaVuSans-31\"/>\r\n       <use x=\"63.623047\" xlink:href=\"#DejaVuSans-30\"/>\r\n       <use x=\"127.246094\" xlink:href=\"#DejaVuSans-30\"/>\r\n       <use x=\"190.869141\" xlink:href=\"#DejaVuSans-30\"/>\r\n       <use x=\"254.492188\" xlink:href=\"#DejaVuSans-30\"/>\r\n       <use x=\"318.115234\" xlink:href=\"#DejaVuSans-30\"/>\r\n       <use x=\"381.738281\" xlink:href=\"#DejaVuSans-30\"/>\r\n      </g>\r\n     </g>\r\n    </g>\r\n   </g>\r\n   <g id=\"line2d_15\">\r\n    <path clip-path=\"url(#p58de590dcc)\" d=\"M 75.972869 218.256364 \r\nL 76.094615 130.168157 \r\nL 76.277233 127.664782 \r\nL 76.429415 127.036349 \r\nL 76.642469 126.219107 \r\nL 76.946833 125.573262 \r\nL 77.342506 125.211064 \r\nL 77.525124 124.865528 \r\nL 78.620833 124.32321 \r\nL 80.386142 124.212651 \r\nL 83.003669 124.137427 \r\nL 87.173451 124.033059 \r\nL 87.782178 124.001749 \r\nL 88.93876 123.892722 \r\nL 89.182251 123.813119 \r\nL 90.125778 123.646898 \r\nL 91.221487 123.542004 \r\nL 91.95196 123.438163 \r\nL 92.986797 123.33048 \r\nL 93.808578 123.281611 \r\nL 96.060869 123.17559 \r\nL 97.034833 123.105054 \r\nL 114.413997 122.759772 \r\nL 123.362288 122.650472 \r\nL 124.975415 122.615518 \r\nL 128.840833 122.557655 \r\nL 174.708433 122.133564 \r\nL 187.796069 122.02256 \r\nL 199.483633 121.921079 \r\nL 216.710615 121.805693 \r\nL 228.641669 121.716093 \r\nL 243.494615 121.605917 \r\nL 245.899088 121.569978 \r\nL 258.712797 121.458927 \r\nL 260.082433 121.455173 \r\nL 273.109197 121.344471 \r\nL 276.274578 121.298621 \r\nL 302.297669 121.187572 \r\nL 304.976069 121.14207 \r\nL 318.672433 121.031178 \r\nL 320.315997 121.006391 \r\nL 332.368797 120.896725 \r\nL 334.803706 120.88115 \r\nL 346.126033 120.772512 \r\nL 347.313051 120.724598 \r\nL 353.704687 120.613561 \r\nL 355.713487 120.568046 \r\nL 360.735488 120.457388 \r\nL 363.80956 120.359311 \r\nL 366.48796 120.248999 \r\nL 374.918833 119.796237 \r\nL 376.836324 119.328592 \r\nL 377.262433 119.265864 \r\nL 377.414615 119.175034 \r\nL 377.566797 119.106896 \r\nL 377.810288 118.996351 \r\nL 378.114651 118.793793 \r\nL 378.327706 118.280199 \r\nL 378.479888 118.063218 \r\nL 378.54076 117.976968 \r\nL 378.814687 117.046675 \r\nL 378.87556 116.839693 \r\nL 379.088615 115.544446 \r\nL 379.362542 114.52139 \r\nL 379.575597 109.808689 \r\nL 380.21476 88.21568 \r\nL 380.306069 64.428324 \r\nL 380.336506 20.583636 \r\nL 380.336506 20.583636 \r\n\" style=\"fill:none;stroke:#1f77b4;stroke-linecap:square;stroke-width:1.5;\"/>\r\n   </g>\r\n   <g id=\"line2d_16\">\r\n    <path clip-path=\"url(#p58de590dcc)\" d=\"M 91.191051 228.14 \r\nL 91.191051 10.7 \r\n\" style=\"fill:none;stroke:#ff0000;stroke-dasharray:5.55,2.4;stroke-dashoffset:0;stroke-width:1.5;\"/>\r\n   </g>\r\n   <g id=\"line2d_17\">\r\n    <path clip-path=\"url(#p58de590dcc)\" d=\"M 377.292869 228.14 \r\nL 377.292869 10.7 \r\n\" style=\"fill:none;stroke:#ff0000;stroke-dasharray:5.55,2.4;stroke-dashoffset:0;stroke-width:1.5;\"/>\r\n   </g>\r\n   <g id=\"patch_3\">\r\n    <path d=\"M 60.754688 228.14 \r\nL 60.754688 10.7 \r\n\" style=\"fill:none;stroke:#000000;stroke-linecap:square;stroke-linejoin:miter;stroke-width:0.8;\"/>\r\n   </g>\r\n   <g id=\"patch_4\">\r\n    <path d=\"M 395.554688 228.14 \r\nL 395.554688 10.7 \r\n\" style=\"fill:none;stroke:#000000;stroke-linecap:square;stroke-linejoin:miter;stroke-width:0.8;\"/>\r\n   </g>\r\n   <g id=\"patch_5\">\r\n    <path d=\"M 60.754688 228.14 \r\nL 395.554688 228.14 \r\n\" style=\"fill:none;stroke:#000000;stroke-linecap:square;stroke-linejoin:miter;stroke-width:0.8;\"/>\r\n   </g>\r\n   <g id=\"patch_6\">\r\n    <path d=\"M 60.754688 10.7 \r\nL 395.554688 10.7 \r\n\" style=\"fill:none;stroke:#000000;stroke-linecap:square;stroke-linejoin:miter;stroke-width:0.8;\"/>\r\n   </g>\r\n  </g>\r\n </g>\r\n <defs>\r\n  <clipPath id=\"p58de590dcc\">\r\n   <rect height=\"217.44\" width=\"334.8\" x=\"60.754688\" y=\"10.7\"/>\r\n  </clipPath>\r\n </defs>\r\n</svg>\r\n",
      "image/png": "[encoded data removed]"
     },
     "metadata": {
      "needs_background": "light"
     }
    },
    {
     "output_type": "stream",
     "name": "stdout",
     "text": "5 percentile: 7500.00\n99 percentile: 48498.96\n"
    },
    {
     "output_type": "display_data",
     "data": {
      "text/plain": "<Figure size 432x288 with 1 Axes>",
      "image/svg+xml": "<?xml version=\"1.0\" encoding=\"utf-8\" standalone=\"no\"?>\r\n<!DOCTYPE svg PUBLIC \"-//W3C//DTD SVG 1.1//EN\"\r\n  \"http://www.w3.org/Graphics/SVG/1.1/DTD/svg11.dtd\">\r\n<!-- Created with matplotlib (http://matplotlib.org/) -->\r\n<svg height=\"252.018125pt\" version=\"1.1\" viewBox=\"0 0 391.5125 252.018125\" width=\"391.5125pt\" xmlns=\"http://www.w3.org/2000/svg\" xmlns:xlink=\"http://www.w3.org/1999/xlink\">\r\n <defs>\r\n  <style type=\"text/css\">\r\n*{stroke-linecap:butt;stroke-linejoin:round;}\r\n  </style>\r\n </defs>\r\n <g id=\"figure_1\">\r\n  <g id=\"patch_1\">\r\n   <path d=\"M 0 252.018125 \r\nL 391.5125 252.018125 \r\nL 391.5125 0 \r\nL 0 0 \r\nz\r\n\" style=\"fill:none;\"/>\r\n  </g>\r\n  <g id=\"axes_1\">\r\n   <g id=\"patch_2\">\r\n    <path d=\"M 46.0125 228.14 \r\nL 380.8125 228.14 \r\nL 380.8125 10.7 \r\nL 46.0125 10.7 \r\nz\r\n\" style=\"fill:#ffffff;\"/>\r\n   </g>\r\n   <g id=\"matplotlib.axis_1\">\r\n    <g id=\"xtick_1\">\r\n     <g id=\"line2d_1\">\r\n      <defs>\r\n       <path d=\"M 0 0 \r\nL 0 3.5 \r\n\" id=\"me652baadf2\" style=\"stroke:#000000;stroke-width:0.8;\"/>\r\n      </defs>\r\n      <g>\r\n       <use style=\"stroke:#000000;stroke-width:0.8;\" x=\"109.799347\" xlink:href=\"#me652baadf2\" y=\"228.14\"/>\r\n      </g>\r\n     </g>\r\n     <g id=\"text_1\">\r\n      <!-- 20 -->\r\n      <defs>\r\n       <path d=\"M 19.1875 8.296875 \r\nL 53.609375 8.296875 \r\nL 53.609375 0 \r\nL 7.328125 0 \r\nL 7.328125 8.296875 \r\nQ 12.9375 14.109375 22.625 23.890625 \r\nQ 32.328125 33.6875 34.8125 36.53125 \r\nQ 39.546875 41.84375 41.421875 45.53125 \r\nQ 43.3125 49.21875 43.3125 52.78125 \r\nQ 43.3125 58.59375 39.234375 62.25 \r\nQ 35.15625 65.921875 28.609375 65.921875 \r\nQ 23.96875 65.921875 18.8125 64.3125 \r\nQ 13.671875 62.703125 7.8125 59.421875 \r\nL 7.8125 69.390625 \r\nQ 13.765625 71.78125 18.9375 73 \r\nQ 24.125 74.21875 28.421875 74.21875 \r\nQ 39.75 74.21875 46.484375 68.546875 \r\nQ 53.21875 62.890625 53.21875 53.421875 \r\nQ 53.21875 48.921875 51.53125 44.890625 \r\nQ 49.859375 40.875 45.40625 35.40625 \r\nQ 44.1875 33.984375 37.640625 27.21875 \r\nQ 31.109375 20.453125 19.1875 8.296875 \r\nz\r\n\" id=\"DejaVuSans-32\"/>\r\n       <path d=\"M 31.78125 66.40625 \r\nQ 24.171875 66.40625 20.328125 58.90625 \r\nQ 16.5 51.421875 16.5 36.375 \r\nQ 16.5 21.390625 20.328125 13.890625 \r\nQ 24.171875 6.390625 31.78125 6.390625 \r\nQ 39.453125 6.390625 43.28125 13.890625 \r\nQ 47.125 21.390625 47.125 36.375 \r\nQ 47.125 51.421875 43.28125 58.90625 \r\nQ 39.453125 66.40625 31.78125 66.40625 \r\nz\r\nM 31.78125 74.21875 \r\nQ 44.046875 74.21875 50.515625 64.515625 \r\nQ 56.984375 54.828125 56.984375 36.375 \r\nQ 56.984375 17.96875 50.515625 8.265625 \r\nQ 44.046875 -1.421875 31.78125 -1.421875 \r\nQ 19.53125 -1.421875 13.0625 8.265625 \r\nQ 6.59375 17.96875 6.59375 36.375 \r\nQ 6.59375 54.828125 13.0625 64.515625 \r\nQ 19.53125 74.21875 31.78125 74.21875 \r\nz\r\n\" id=\"DejaVuSans-30\"/>\r\n      </defs>\r\n      <g transform=\"translate(103.436847 242.738437)scale(0.1 -0.1)\">\r\n       <use xlink:href=\"#DejaVuSans-32\"/>\r\n       <use x=\"63.623047\" xlink:href=\"#DejaVuSans-30\"/>\r\n      </g>\r\n     </g>\r\n    </g>\r\n    <g id=\"xtick_2\">\r\n     <g id=\"line2d_2\">\r\n      <g>\r\n       <use style=\"stroke:#000000;stroke-width:0.8;\" x=\"174.557568\" xlink:href=\"#me652baadf2\" y=\"228.14\"/>\r\n      </g>\r\n     </g>\r\n     <g id=\"text_2\">\r\n      <!-- 40 -->\r\n      <defs>\r\n       <path d=\"M 37.796875 64.3125 \r\nL 12.890625 25.390625 \r\nL 37.796875 25.390625 \r\nz\r\nM 35.203125 72.90625 \r\nL 47.609375 72.90625 \r\nL 47.609375 25.390625 \r\nL 58.015625 25.390625 \r\nL 58.015625 17.1875 \r\nL 47.609375 17.1875 \r\nL 47.609375 0 \r\nL 37.796875 0 \r\nL 37.796875 17.1875 \r\nL 4.890625 17.1875 \r\nL 4.890625 26.703125 \r\nz\r\n\" id=\"DejaVuSans-34\"/>\r\n      </defs>\r\n      <g transform=\"translate(168.195068 242.738437)scale(0.1 -0.1)\">\r\n       <use xlink:href=\"#DejaVuSans-34\"/>\r\n       <use x=\"63.623047\" xlink:href=\"#DejaVuSans-30\"/>\r\n      </g>\r\n     </g>\r\n    </g>\r\n    <g id=\"xtick_3\">\r\n     <g id=\"line2d_3\">\r\n      <g>\r\n       <use style=\"stroke:#000000;stroke-width:0.8;\" x=\"239.315788\" xlink:href=\"#me652baadf2\" y=\"228.14\"/>\r\n      </g>\r\n     </g>\r\n     <g id=\"text_3\">\r\n      <!-- 60 -->\r\n      <defs>\r\n       <path d=\"M 33.015625 40.375 \r\nQ 26.375 40.375 22.484375 35.828125 \r\nQ 18.609375 31.296875 18.609375 23.390625 \r\nQ 18.609375 15.53125 22.484375 10.953125 \r\nQ 26.375 6.390625 33.015625 6.390625 \r\nQ 39.65625 6.390625 43.53125 10.953125 \r\nQ 47.40625 15.53125 47.40625 23.390625 \r\nQ 47.40625 31.296875 43.53125 35.828125 \r\nQ 39.65625 40.375 33.015625 40.375 \r\nz\r\nM 52.59375 71.296875 \r\nL 52.59375 62.3125 \r\nQ 48.875 64.0625 45.09375 64.984375 \r\nQ 41.3125 65.921875 37.59375 65.921875 \r\nQ 27.828125 65.921875 22.671875 59.328125 \r\nQ 17.53125 52.734375 16.796875 39.40625 \r\nQ 19.671875 43.65625 24.015625 45.921875 \r\nQ 28.375 48.1875 33.59375 48.1875 \r\nQ 44.578125 48.1875 50.953125 41.515625 \r\nQ 57.328125 34.859375 57.328125 23.390625 \r\nQ 57.328125 12.15625 50.6875 5.359375 \r\nQ 44.046875 -1.421875 33.015625 -1.421875 \r\nQ 20.359375 -1.421875 13.671875 8.265625 \r\nQ 6.984375 17.96875 6.984375 36.375 \r\nQ 6.984375 53.65625 15.1875 63.9375 \r\nQ 23.390625 74.21875 37.203125 74.21875 \r\nQ 40.921875 74.21875 44.703125 73.484375 \r\nQ 48.484375 72.75 52.59375 71.296875 \r\nz\r\n\" id=\"DejaVuSans-36\"/>\r\n      </defs>\r\n      <g transform=\"translate(232.953288 242.738437)scale(0.1 -0.1)\">\r\n       <use xlink:href=\"#DejaVuSans-36\"/>\r\n       <use x=\"63.623047\" xlink:href=\"#DejaVuSans-30\"/>\r\n      </g>\r\n     </g>\r\n    </g>\r\n    <g id=\"xtick_4\">\r\n     <g id=\"line2d_4\">\r\n      <g>\r\n       <use style=\"stroke:#000000;stroke-width:0.8;\" x=\"304.074009\" xlink:href=\"#me652baadf2\" y=\"228.14\"/>\r\n      </g>\r\n     </g>\r\n     <g id=\"text_4\">\r\n      <!-- 80 -->\r\n      <defs>\r\n       <path d=\"M 31.78125 34.625 \r\nQ 24.75 34.625 20.71875 30.859375 \r\nQ 16.703125 27.09375 16.703125 20.515625 \r\nQ 16.703125 13.921875 20.71875 10.15625 \r\nQ 24.75 6.390625 31.78125 6.390625 \r\nQ 38.8125 6.390625 42.859375 10.171875 \r\nQ 46.921875 13.96875 46.921875 20.515625 \r\nQ 46.921875 27.09375 42.890625 30.859375 \r\nQ 38.875 34.625 31.78125 34.625 \r\nz\r\nM 21.921875 38.8125 \r\nQ 15.578125 40.375 12.03125 44.71875 \r\nQ 8.5 49.078125 8.5 55.328125 \r\nQ 8.5 64.0625 14.71875 69.140625 \r\nQ 20.953125 74.21875 31.78125 74.21875 \r\nQ 42.671875 74.21875 48.875 69.140625 \r\nQ 55.078125 64.0625 55.078125 55.328125 \r\nQ 55.078125 49.078125 51.53125 44.71875 \r\nQ 48 40.375 41.703125 38.8125 \r\nQ 48.828125 37.15625 52.796875 32.3125 \r\nQ 56.78125 27.484375 56.78125 20.515625 \r\nQ 56.78125 9.90625 50.3125 4.234375 \r\nQ 43.84375 -1.421875 31.78125 -1.421875 \r\nQ 19.734375 -1.421875 13.25 4.234375 \r\nQ 6.78125 9.90625 6.78125 20.515625 \r\nQ 6.78125 27.484375 10.78125 32.3125 \r\nQ 14.796875 37.15625 21.921875 38.8125 \r\nz\r\nM 18.3125 54.390625 \r\nQ 18.3125 48.734375 21.84375 45.5625 \r\nQ 25.390625 42.390625 31.78125 42.390625 \r\nQ 38.140625 42.390625 41.71875 45.5625 \r\nQ 45.3125 48.734375 45.3125 54.390625 \r\nQ 45.3125 60.0625 41.71875 63.234375 \r\nQ 38.140625 66.40625 31.78125 66.40625 \r\nQ 25.390625 66.40625 21.84375 63.234375 \r\nQ 18.3125 60.0625 18.3125 54.390625 \r\nz\r\n\" id=\"DejaVuSans-38\"/>\r\n      </defs>\r\n      <g transform=\"translate(297.711509 242.738437)scale(0.1 -0.1)\">\r\n       <use xlink:href=\"#DejaVuSans-38\"/>\r\n       <use x=\"63.623047\" xlink:href=\"#DejaVuSans-30\"/>\r\n      </g>\r\n     </g>\r\n    </g>\r\n    <g id=\"xtick_5\">\r\n     <g id=\"line2d_5\">\r\n      <g>\r\n       <use style=\"stroke:#000000;stroke-width:0.8;\" x=\"368.832229\" xlink:href=\"#me652baadf2\" y=\"228.14\"/>\r\n      </g>\r\n     </g>\r\n     <g id=\"text_5\">\r\n      <!-- 100 -->\r\n      <defs>\r\n       <path d=\"M 12.40625 8.296875 \r\nL 28.515625 8.296875 \r\nL 28.515625 63.921875 \r\nL 10.984375 60.40625 \r\nL 10.984375 69.390625 \r\nL 28.421875 72.90625 \r\nL 38.28125 72.90625 \r\nL 38.28125 8.296875 \r\nL 54.390625 8.296875 \r\nL 54.390625 0 \r\nL 12.40625 0 \r\nz\r\n\" id=\"DejaVuSans-31\"/>\r\n      </defs>\r\n      <g transform=\"translate(359.288479 242.738437)scale(0.1 -0.1)\">\r\n       <use xlink:href=\"#DejaVuSans-31\"/>\r\n       <use x=\"63.623047\" xlink:href=\"#DejaVuSans-30\"/>\r\n       <use x=\"127.246094\" xlink:href=\"#DejaVuSans-30\"/>\r\n      </g>\r\n     </g>\r\n    </g>\r\n   </g>\r\n   <g id=\"matplotlib.axis_2\">\r\n    <g id=\"ytick_1\">\r\n     <g id=\"line2d_6\">\r\n      <defs>\r\n       <path d=\"M 0 0 \r\nL -3.5 0 \r\n\" id=\"md384f2e340\" style=\"stroke:#000000;stroke-width:0.8;\"/>\r\n      </defs>\r\n      <g>\r\n       <use style=\"stroke:#000000;stroke-width:0.8;\" x=\"46.0125\" xlink:href=\"#md384f2e340\" y=\"206.202843\"/>\r\n      </g>\r\n     </g>\r\n     <g id=\"text_6\">\r\n      <!-- 10000 -->\r\n      <g transform=\"translate(7.2 210.002062)scale(0.1 -0.1)\">\r\n       <use xlink:href=\"#DejaVuSans-31\"/>\r\n       <use x=\"63.623047\" xlink:href=\"#DejaVuSans-30\"/>\r\n       <use x=\"127.246094\" xlink:href=\"#DejaVuSans-30\"/>\r\n       <use x=\"190.869141\" xlink:href=\"#DejaVuSans-30\"/>\r\n       <use x=\"254.492188\" xlink:href=\"#DejaVuSans-30\"/>\r\n      </g>\r\n     </g>\r\n    </g>\r\n    <g id=\"ytick_2\">\r\n     <g id=\"line2d_7\">\r\n      <g>\r\n       <use style=\"stroke:#000000;stroke-width:0.8;\" x=\"46.0125\" xlink:href=\"#md384f2e340\" y=\"157.98876\"/>\r\n      </g>\r\n     </g>\r\n     <g id=\"text_7\">\r\n      <!-- 20000 -->\r\n      <g transform=\"translate(7.2 161.787978)scale(0.1 -0.1)\">\r\n       <use xlink:href=\"#DejaVuSans-32\"/>\r\n       <use x=\"63.623047\" xlink:href=\"#DejaVuSans-30\"/>\r\n       <use x=\"127.246094\" xlink:href=\"#DejaVuSans-30\"/>\r\n       <use x=\"190.869141\" xlink:href=\"#DejaVuSans-30\"/>\r\n       <use x=\"254.492188\" xlink:href=\"#DejaVuSans-30\"/>\r\n      </g>\r\n     </g>\r\n    </g>\r\n    <g id=\"ytick_3\">\r\n     <g id=\"line2d_8\">\r\n      <g>\r\n       <use style=\"stroke:#000000;stroke-width:0.8;\" x=\"46.0125\" xlink:href=\"#md384f2e340\" y=\"109.774676\"/>\r\n      </g>\r\n     </g>\r\n     <g id=\"text_8\">\r\n      <!-- 30000 -->\r\n      <defs>\r\n       <path d=\"M 40.578125 39.3125 \r\nQ 47.65625 37.796875 51.625 33 \r\nQ 55.609375 28.21875 55.609375 21.1875 \r\nQ 55.609375 10.40625 48.1875 4.484375 \r\nQ 40.765625 -1.421875 27.09375 -1.421875 \r\nQ 22.515625 -1.421875 17.65625 -0.515625 \r\nQ 12.796875 0.390625 7.625 2.203125 \r\nL 7.625 11.71875 \r\nQ 11.71875 9.328125 16.59375 8.109375 \r\nQ 21.484375 6.890625 26.8125 6.890625 \r\nQ 36.078125 6.890625 40.9375 10.546875 \r\nQ 45.796875 14.203125 45.796875 21.1875 \r\nQ 45.796875 27.640625 41.28125 31.265625 \r\nQ 36.765625 34.90625 28.71875 34.90625 \r\nL 20.21875 34.90625 \r\nL 20.21875 43.015625 \r\nL 29.109375 43.015625 \r\nQ 36.375 43.015625 40.234375 45.921875 \r\nQ 44.09375 48.828125 44.09375 54.296875 \r\nQ 44.09375 59.90625 40.109375 62.90625 \r\nQ 36.140625 65.921875 28.71875 65.921875 \r\nQ 24.65625 65.921875 20.015625 65.03125 \r\nQ 15.375 64.15625 9.8125 62.3125 \r\nL 9.8125 71.09375 \r\nQ 15.4375 72.65625 20.34375 73.4375 \r\nQ 25.25 74.21875 29.59375 74.21875 \r\nQ 40.828125 74.21875 47.359375 69.109375 \r\nQ 53.90625 64.015625 53.90625 55.328125 \r\nQ 53.90625 49.265625 50.4375 45.09375 \r\nQ 46.96875 40.921875 40.578125 39.3125 \r\nz\r\n\" id=\"DejaVuSans-33\"/>\r\n      </defs>\r\n      <g transform=\"translate(7.2 113.573895)scale(0.1 -0.1)\">\r\n       <use xlink:href=\"#DejaVuSans-33\"/>\r\n       <use x=\"63.623047\" xlink:href=\"#DejaVuSans-30\"/>\r\n       <use x=\"127.246094\" xlink:href=\"#DejaVuSans-30\"/>\r\n       <use x=\"190.869141\" xlink:href=\"#DejaVuSans-30\"/>\r\n       <use x=\"254.492188\" xlink:href=\"#DejaVuSans-30\"/>\r\n      </g>\r\n     </g>\r\n    </g>\r\n    <g id=\"ytick_4\">\r\n     <g id=\"line2d_9\">\r\n      <g>\r\n       <use style=\"stroke:#000000;stroke-width:0.8;\" x=\"46.0125\" xlink:href=\"#md384f2e340\" y=\"61.560593\"/>\r\n      </g>\r\n     </g>\r\n     <g id=\"text_9\">\r\n      <!-- 40000 -->\r\n      <g transform=\"translate(7.2 65.359812)scale(0.1 -0.1)\">\r\n       <use xlink:href=\"#DejaVuSans-34\"/>\r\n       <use x=\"63.623047\" xlink:href=\"#DejaVuSans-30\"/>\r\n       <use x=\"127.246094\" xlink:href=\"#DejaVuSans-30\"/>\r\n       <use x=\"190.869141\" xlink:href=\"#DejaVuSans-30\"/>\r\n       <use x=\"254.492188\" xlink:href=\"#DejaVuSans-30\"/>\r\n      </g>\r\n     </g>\r\n    </g>\r\n    <g id=\"ytick_5\">\r\n     <g id=\"line2d_10\">\r\n      <g>\r\n       <use style=\"stroke:#000000;stroke-width:0.8;\" x=\"46.0125\" xlink:href=\"#md384f2e340\" y=\"13.34651\"/>\r\n      </g>\r\n     </g>\r\n     <g id=\"text_10\">\r\n      <!-- 50000 -->\r\n      <defs>\r\n       <path d=\"M 10.796875 72.90625 \r\nL 49.515625 72.90625 \r\nL 49.515625 64.59375 \r\nL 19.828125 64.59375 \r\nL 19.828125 46.734375 \r\nQ 21.96875 47.46875 24.109375 47.828125 \r\nQ 26.265625 48.1875 28.421875 48.1875 \r\nQ 40.625 48.1875 47.75 41.5 \r\nQ 54.890625 34.8125 54.890625 23.390625 \r\nQ 54.890625 11.625 47.5625 5.09375 \r\nQ 40.234375 -1.421875 26.90625 -1.421875 \r\nQ 22.3125 -1.421875 17.546875 -0.640625 \r\nQ 12.796875 0.140625 7.71875 1.703125 \r\nL 7.71875 11.625 \r\nQ 12.109375 9.234375 16.796875 8.0625 \r\nQ 21.484375 6.890625 26.703125 6.890625 \r\nQ 35.15625 6.890625 40.078125 11.328125 \r\nQ 45.015625 15.765625 45.015625 23.390625 \r\nQ 45.015625 31 40.078125 35.4375 \r\nQ 35.15625 39.890625 26.703125 39.890625 \r\nQ 22.75 39.890625 18.8125 39.015625 \r\nQ 14.890625 38.140625 10.796875 36.28125 \r\nz\r\n\" id=\"DejaVuSans-35\"/>\r\n      </defs>\r\n      <g transform=\"translate(7.2 17.145728)scale(0.1 -0.1)\">\r\n       <use xlink:href=\"#DejaVuSans-35\"/>\r\n       <use x=\"63.623047\" xlink:href=\"#DejaVuSans-30\"/>\r\n       <use x=\"127.246094\" xlink:href=\"#DejaVuSans-30\"/>\r\n       <use x=\"190.869141\" xlink:href=\"#DejaVuSans-30\"/>\r\n       <use x=\"254.492188\" xlink:href=\"#DejaVuSans-30\"/>\r\n      </g>\r\n     </g>\r\n    </g>\r\n   </g>\r\n   <g id=\"line2d_11\">\r\n    <path clip-path=\"url(#p8681d2589d)\" d=\"M 61.230682 218.256364 \r\nL 61.263061 218.232064 \r\nL 61.424956 217.436709 \r\nL 61.522094 216.873468 \r\nL 61.65161 215.845659 \r\nL 61.683989 215.825294 \r\nL 61.943022 213.961067 \r\nL 62.169676 212.470674 \r\nL 62.234434 212.470674 \r\nL 62.331572 211.605474 \r\nL 62.461088 211.024251 \r\nL 62.7525 210.98531 \r\nL 63.043912 209.103132 \r\nL 63.238187 208.042229 \r\nL 63.594357 207.167124 \r\nL 63.626736 207.104639 \r\nL 63.788632 206.351921 \r\nL 63.918148 206.202843 \r\nL 64.500972 206.159558 \r\nL 65.019038 203.792139 \r\nL 65.245691 203.713839 \r\nL 65.504724 203.309998 \r\nL 65.569483 203.154324 \r\nL 65.828515 201.384767 \r\nL 66.411339 201.305063 \r\nL 66.76751 199.22284 \r\nL 66.864647 199.185634 \r\nL 67.026543 198.97073 \r\nL 67.188438 198.935006 \r\nL 67.674125 197.524308 \r\nL 67.771262 197.524308 \r\nL 67.965537 197.042167 \r\nL 68.062674 196.932208 \r\nL 68.321707 196.560026 \r\nL 69.487355 196.453569 \r\nL 69.875904 195.057174 \r\nL 70.102558 194.631463 \r\nL 70.296833 194.523078 \r\nL 70.491107 194.149322 \r\nL 70.944415 194.098408 \r\nL 71.171069 193.660605 \r\nL 71.268206 193.5279 \r\nL 71.559618 192.702899 \r\nL 71.721514 192.643099 \r\nL 72.239579 191.738618 \r\nL 73.405227 191.628643 \r\nL 73.599502 190.806304 \r\nL 73.826156 190.532537 \r\nL 73.988051 190.292195 \r\nL 74.085189 190.206405 \r\nL 74.311842 189.810054 \r\nL 74.538496 189.758396 \r\nL 74.700392 189.327914 \r\nL 75.347974 189.327914 \r\nL 75.704144 188.363632 \r\nL 76.027935 188.283327 \r\nL 76.254589 187.881491 \r\nL 76.448864 187.825833 \r\nL 77.064067 186.917209 \r\nL 78.683022 186.843581 \r\nL 78.942055 186.435069 \r\nL 79.168709 186.324832 \r\nL 79.362984 185.952928 \r\nL 79.622016 185.898157 \r\nL 79.783912 185.470787 \r\nL 79.881049 185.396545 \r\nL 80.042945 185.012865 \r\nL 80.23722 184.988646 \r\nL 80.399115 184.9211 \r\nL 80.787664 184.506505 \r\nL 81.564763 184.472593 \r\nL 81.791417 184.069628 \r\nL 82.277103 183.775194 \r\nL 82.665653 183.301153 \r\nL 82.795169 183.198322 \r\nL 83.021823 183.060083 \r\nL 83.216098 182.970173 \r\nL 83.410372 182.759671 \r\nL 83.701784 182.384885 \r\nL 83.896059 182.095801 \r\nL 87.684415 182.028525 \r\nL 87.911069 181.879177 \r\nL 87.943448 181.860034 \r\nL 88.105343 181.608723 \r\nL 88.331997 181.132912 \r\nL 88.461514 181.03837 \r\nL 88.655788 180.649379 \r\nL 88.720546 180.610985 \r\nL 88.882442 180.290589 \r\nL 88.979579 180.129604 \r\nL 89.141475 179.685097 \r\nL 89.983332 179.61462 \r\nL 90.274744 179.366842 \r\nL 90.339502 179.290216 \r\nL 90.501397 179.202956 \r\nL 90.695672 179.092758 \r\nL 90.857568 178.862661 \r\nL 91.343254 178.720815 \r\nL 91.472771 178.645463 \r\nL 91.634666 178.479745 \r\nL 91.764183 178.415057 \r\nL 91.926078 178.238674 \r\nL 92.023216 178.238674 \r\nL 92.152732 177.997604 \r\nL 92.249869 177.938305 \r\nL 92.379386 177.756534 \r\nL 92.508902 177.670489 \r\nL 92.832693 177.274393 \r\nL 95.390643 177.190539 \r\nL 95.617297 176.792252 \r\nL 95.714434 176.68244 \r\nL 96.135363 176.310111 \r\nL 96.2325 176.22684 \r\nL 96.750566 175.82797 \r\nL 96.97722 175.724121 \r\nL 97.139115 175.442258 \r\nL 97.560044 175.290333 \r\nL 97.786697 174.863689 \r\nL 98.79045 174.774049 \r\nL 99.14662 174.28512 \r\nL 99.373274 174.174366 \r\nL 99.85896 173.899407 \r\nL 99.956098 173.859139 \r\nL 100.150372 173.485915 \r\nL 100.441784 173.417266 \r\nL 100.571301 173.362611 \r\nL 100.765575 173.145046 \r\nL 101.70457 172.452984 \r\nL 104.003486 172.358874 \r\nL 104.392036 171.970844 \r\nL 104.651069 171.867423 \r\nL 105.298651 171.006562 \r\nL 105.428167 170.924694 \r\nL 105.557684 170.765492 \r\nL 105.622442 170.74177 \r\nL 105.751958 170.524421 \r\nL 106.237645 170.428649 \r\nL 106.464299 170.167637 \r\nL 106.593815 170.049794 \r\nL 107.111881 170.04228 \r\nL 107.856601 169.950326 \r\nL 108.277529 169.56014 \r\nL 108.568941 169.470145 \r\nL 108.730837 169.319069 \r\nL 108.827974 169.267191 \r\nL 109.022249 169.077999 \r\nL 109.184144 169.062512 \r\nL 109.410798 168.601713 \r\nL 109.928864 168.427926 \r\nL 110.155517 168.113717 \r\nL 110.446929 168.026546 \r\nL 110.673583 167.631576 \r\nL 116.631339 167.603323 \r\nL 116.825614 167.377515 \r\nL 117.117026 167.202702 \r\nL 117.635092 166.822042 \r\nL 117.796987 166.667295 \r\nL 118.217916 166.558331 \r\nL 118.44457 166.265081 \r\nL 118.768361 165.89065 \r\nL 119.739734 165.220872 \r\nL 120.873003 165.137975 \r\nL 121.261552 164.738731 \r\nL 121.617722 164.668223 \r\nL 121.779618 164.25659 \r\nL 122.168167 164.162438 \r\nL 122.394821 163.891047 \r\nL 123.010024 163.697307 \r\nL 123.17192 163.292309 \r\nL 123.398574 163.244095 \r\nL 123.657606 162.906596 \r\nL 123.916639 162.810168 \r\nL 126.021281 162.706716 \r\nL 126.539347 162.097433 \r\nL 126.668864 161.966421 \r\nL 126.830759 161.845886 \r\nL 127.122171 161.735379 \r\nL 127.284067 161.604816 \r\nL 127.348825 161.511504 \r\nL 127.575479 161.363745 \r\nL 127.89927 161.301973 \r\nL 128.028786 161.110259 \r\nL 128.125924 160.961632 \r\nL 128.25544 160.881605 \r\nL 128.643989 160.81348 \r\nL 128.96778 160.399464 \r\nL 129.906775 160.33449 \r\nL 130.101049 159.917323 \r\nL 130.295324 159.859157 \r\nL 130.521978 159.558649 \r\nL 130.81339 159.435182 \r\nL 131.040044 159.35021 \r\nL 131.234318 159.194112 \r\nL 131.396214 159.111095 \r\nL 131.590488 158.953041 \r\nL 132.399966 158.860948 \r\nL 132.62662 158.586691 \r\nL 132.820895 158.4709 \r\nL 132.885653 158.444826 \r\nL 133.047548 158.142265 \r\nL 133.824647 157.98876 \r\nL 140.041436 157.971017 \r\nL 140.170953 157.747689 \r\nL 140.397606 157.659554 \r\nL 140.721397 157.506619 \r\nL 140.786156 157.470007 \r\nL 141.012809 157.04094 \r\nL 141.530875 156.822364 \r\nL 142.307974 156.060196 \r\nL 142.43749 156.059579 \r\nL 142.599386 155.781484 \r\nL 142.858419 155.578055 \r\nL 144.218341 155.483795 \r\nL 144.671649 155.095915 \r\nL 144.898303 154.985022 \r\nL 145.319231 154.613774 \r\nL 145.610643 154.524288 \r\nL 145.804918 154.266632 \r\nL 146.484879 154.065441 \r\nL 146.873428 153.83745 \r\nL 147.132461 153.626986 \r\nL 147.521011 153.167351 \r\nL 151.665537 153.126631 \r\nL 151.859811 152.83241 \r\nL 152.151223 152.545598 \r\nL 152.313119 152.404963 \r\nL 152.734047 152.20307 \r\nL 152.928322 152.075815 \r\nL 153.34925 151.720929 \r\nL 153.511146 151.611193 \r\nL 153.575904 151.535208 \r\nL 153.932074 150.966452 \r\nL 153.996833 150.846981 \r\nL 154.126349 150.756647 \r\nL 155.486272 150.660219 \r\nL 155.810063 150.349874 \r\nL 155.939579 150.274506 \r\nL 156.425266 150.215955 \r\nL 156.619541 149.999894 \r\nL 156.975711 149.84061 \r\nL 157.623293 149.418598 \r\nL 157.785189 149.310225 \r\nL 157.979463 149.216026 \r\nL 158.335633 148.828084 \r\nL 158.627045 148.721858 \r\nL 159.047974 148.345943 \r\nL 163.742945 148.262868 \r\nL 164.099115 147.963285 \r\nL 164.617181 147.829265 \r\nL 164.940972 147.381661 \r\nL 165.426659 147.272412 \r\nL 165.588554 147.069122 \r\nL 165.75045 146.89952 \r\nL 165.944724 146.801194 \r\nL 166.236136 146.490881 \r\nL 166.365653 146.41738 \r\nL 166.624686 146.310923 \r\nL 166.786581 146.077412 \r\nL 167.110372 145.935239 \r\nL 168.955982 145.888876 \r\nL 169.279773 145.453098 \r\nL 169.441668 145.425697 \r\nL 169.603564 145.212027 \r\nL 169.73308 145.163813 \r\nL 169.862597 144.970957 \r\nL 170.08925 144.862525 \r\nL 170.283525 144.713147 \r\nL 170.574937 144.488816 \r\nL 171.060624 144.416495 \r\nL 171.416794 144.125066 \r\nL 171.870102 144.006675 \r\nL 172.355788 143.922297 \r\nL 172.776717 143.524535 \r\nL 176.273661 143.443631 \r\nL 176.435556 143.351334 \r\nL 176.565073 143.255276 \r\nL 176.726968 143.17035 \r\nL 177.083138 143.005813 \r\nL 177.212655 142.801323 \r\nL 177.309792 142.689177 \r\nL 177.471688 142.560253 \r\nL 177.7631 142.499341 \r\nL 177.957374 142.173884 \r\nL 178.184028 142.078112 \r\nL 178.248786 141.991304 \r\nL 178.378303 141.919006 \r\nL 178.604956 141.797024 \r\nL 178.799231 141.711685 \r\nL 178.896368 141.647626 \r\nL 179.058264 141.595971 \r\nL 179.446813 141.513556 \r\nL 179.9325 141.11383 \r\nL 181.875247 141.00597 \r\nL 182.49045 140.390619 \r\nL 182.911378 140.221638 \r\nL 183.073274 140.149549 \r\nL 183.170411 140.110669 \r\nL 183.429444 139.678702 \r\nL 183.785614 139.667408 \r\nL 184.141784 139.563304 \r\nL 184.918883 139.185267 \r\nL 185.113158 139.111395 \r\nL 185.372191 138.832016 \r\nL 185.825498 138.703126 \r\nL 193.75838 138.623338 \r\nL 194.276446 138.220985 \r\nL 194.600237 138.124557 \r\nL 194.891649 137.979915 \r\nL 195.021165 137.966693 \r\nL 195.183061 137.745548 \r\nL 195.57161 137.568707 \r\nL 195.733506 137.256704 \r\nL 195.992539 137.180857 \r\nL 196.186813 137.031687 \r\nL 196.445846 136.812864 \r\nL 196.607742 136.774563 \r\nL 196.866775 136.696745 \r\nL 197.061049 136.514766 \r\nL 197.320082 136.38885 \r\nL 198.323835 136.292422 \r\nL 198.582868 135.864559 \r\nL 198.744763 135.810281 \r\nL 199.198071 135.713853 \r\nL 199.392345 135.549925 \r\nL 199.618999 135.515026 \r\nL 199.780895 135.32814 \r\nL 199.910411 135.257594 \r\nL 200.201823 135.02696 \r\nL 201.205575 134.414078 \r\nL 201.367471 134.363859 \r\nL 201.561746 134.274651 \r\nL 201.853158 134.101647 \r\nL 202.306465 133.881718 \r\nL 210.368864 133.863867 \r\nL 210.530759 133.640647 \r\nL 210.660276 133.515677 \r\nL 210.919309 133.399577 \r\nL 210.984067 133.305077 \r\nL 211.145962 132.917436 \r\nL 211.437374 132.839032 \r\nL 211.858303 132.435295 \r\nL 212.149715 132.338867 \r\nL 212.343989 132.101727 \r\nL 212.570643 131.953155 \r\nL 212.732539 131.876066 \r\nL 212.991572 131.538274 \r\nL 213.703912 131.471014 \r\nL 214.060082 131.434024 \r\nL 214.254357 131.233847 \r\nL 214.319115 131.161194 \r\nL 214.448632 130.988873 \r\nL 214.966697 130.926233 \r\nL 215.128593 130.627715 \r\nL 216.099966 130.024591 \r\nL 216.32662 129.930014 \r\nL 216.877065 129.54245 \r\nL 216.974202 129.502722 \r\nL 217.168477 129.221645 \r\nL 217.913196 129.06031 \r\nL 223.126233 128.997631 \r\nL 223.450024 128.611726 \r\nL 223.838574 128.443169 \r\nL 223.96809 128.337098 \r\nL 224.065227 128.228574 \r\nL 224.291881 128.096028 \r\nL 224.68043 128.093251 \r\nL 224.907084 127.614697 \r\nL 225.295633 127.507762 \r\nL 225.489908 127.162804 \r\nL 225.943216 127.131746 \r\nL 226.040353 127.039484 \r\nL 226.267007 126.773041 \r\nL 226.558419 126.649605 \r\nL 227.918341 126.552035 \r\nL 228.144995 126.397272 \r\nL 228.306891 126.167465 \r\nL 228.598303 126.109608 \r\nL 228.727819 125.849252 \r\nL 228.954473 125.801153 \r\nL 229.083989 125.685324 \r\nL 229.634434 125.270266 \r\nL 229.763951 125.203183 \r\nL 229.990604 125.156434 \r\nL 230.282016 124.72935 \r\nL 230.411533 124.618539 \r\nL 230.735324 124.238901 \r\nL 237.04925 124.130593 \r\nL 237.211146 123.795968 \r\nL 237.470179 123.703725 \r\nL 237.632074 123.619308 \r\nL 237.955866 123.27462 \r\nL 238.247278 123.176467 \r\nL 239.769096 121.828197 \r\nL 241.226156 121.74616 \r\nL 241.744221 121.346056 \r\nL 242.068013 121.306482 \r\nL 242.262287 121.074653 \r\nL 242.747974 120.4259 \r\nL 242.909869 120.381775 \r\nL 243.136523 120.291441 \r\nL 244.269792 119.417493 \r\nL 249.482829 119.328139 \r\nL 249.903757 118.935352 \r\nL 250.130411 118.828471 \r\nL 250.421823 118.546696 \r\nL 250.680856 118.453211 \r\nL 250.939889 118.353439 \r\nL 251.166543 118.15146 \r\nL 251.781746 117.73378 \r\nL 251.97602 117.48893 \r\nL 252.170295 117.396941 \r\nL 252.655982 117.006789 \r\nL 254.501591 116.949221 \r\nL 254.663486 116.724887 \r\nL 254.825382 116.578331 \r\nL 254.987278 116.524648 \r\nL 255.084415 116.461607 \r\nL 255.27869 116.123333 \r\nL 256.120546 115.759213 \r\nL 256.3472 115.560366 \r\nL 256.768129 115.523454 \r\nL 256.962403 115.142987 \r\nL 257.124299 115.078225 \r\nL 257.286194 115.033386 \r\nL 257.480469 114.844757 \r\nL 259.002287 114.596085 \r\nL 263.98867 114.501377 \r\nL 264.182945 114.219876 \r\nL 264.37722 114.113944 \r\nL 264.506736 114.06465 \r\nL 264.862906 113.390732 \r\nL 265.057181 113.303947 \r\nL 265.478109 112.913189 \r\nL 265.575247 112.819253 \r\nL 265.704763 112.667521 \r\nL 266.54662 112.571093 \r\nL 266.740895 112.343426 \r\nL 266.999927 112.18538 \r\nL 268.780779 112.082588 \r\nL 269.201707 111.862346 \r\nL 269.331223 111.782415 \r\nL 269.493119 111.70324 \r\nL 269.881668 111.653444 \r\nL 270.043564 111.462169 \r\nL 270.205459 111.345159 \r\nL 270.367355 111.221099 \r\nL 270.658767 111.154525 \r\nL 270.820662 110.980028 \r\nL 270.982558 110.879203 \r\nL 271.209212 110.738958 \r\nL 271.533003 110.651112 \r\nL 271.792036 110.497887 \r\nL 272.083448 110.39177 \r\nL 273.184338 110.002463 \r\nL 273.346233 109.871104 \r\nL 280.048709 109.774676 \r\nL 285.585537 109.696492 \r\nL 285.779811 109.486722 \r\nL 285.84457 109.384053 \r\nL 286.103603 108.940997 \r\nL 287.172113 108.28004 \r\nL 287.431146 108.204347 \r\nL 287.690179 107.846113 \r\nL 287.819695 107.72854 \r\nL 288.01397 107.571254 \r\nL 288.111107 107.418558 \r\nL 288.273003 107.363972 \r\nL 290.798574 107.312287 \r\nL 290.992848 107.122902 \r\nL 291.28426 107.013803 \r\nL 291.834705 106.455171 \r\nL 292.223254 106.15862 \r\nL 292.482287 106.051245 \r\nL 292.838457 105.91755 \r\nL 292.935595 105.815228 \r\nL 293.129869 105.553668 \r\nL 293.324144 105.435409 \r\nL 293.453661 105.392641 \r\nL 293.615556 105.146124 \r\nL 294.133622 104.953268 \r\nL 298.958109 104.858213 \r\nL 299.120005 104.471127 \r\nL 299.540933 104.3671 \r\nL 299.929483 104.098876 \r\nL 300.058999 103.988986 \r\nL 300.415169 103.907801 \r\nL 300.609444 103.694144 \r\nL 300.73896 103.506845 \r\nL 301.418922 103.024705 \r\nL 301.516059 103.01743 \r\nL 301.645575 102.542564 \r\nL 303.167394 102.446136 \r\nL 303.588322 102.035795 \r\nL 303.847355 101.917026 \r\nL 304.106388 101.743105 \r\nL 304.235904 101.578282 \r\nL 304.592074 101.240012 \r\nL 304.75397 101.096141 \r\nL 305.336794 101.059124 \r\nL 305.563448 100.614 \r\nL 305.85486 100.519732 \r\nL 306.599579 100.13186 \r\nL 312.654473 100.076664 \r\nL 312.881127 99.617828 \r\nL 313.431572 98.926507 \r\nL 313.528709 98.821856 \r\nL 313.755363 98.411496 \r\nL 313.949637 98.203296 \r\nL 314.111533 98.103975 \r\nL 314.791494 97.721155 \r\nL 315.762868 97.696786 \r\nL 315.957142 97.378461 \r\nL 316.216175 97.239015 \r\nL 316.280933 97.21971 \r\nL 316.442829 96.901516 \r\nL 316.572345 96.809485 \r\nL 316.734241 96.756874 \r\nL 316.863757 96.736566 \r\nL 316.993274 96.568839 \r\nL 317.12279 96.515803 \r\nL 317.349444 96.274733 \r\nL 317.414202 96.22027 \r\nL 317.608477 96.062591 \r\nL 317.835131 95.957099 \r\nL 318.029405 95.82152 \r\nL 318.158922 95.71624 \r\nL 318.288438 95.541879 \r\nL 318.482713 95.436367 \r\nL 318.644608 95.310451 \r\nL 321.623486 95.263186 \r\nL 321.914898 94.731882 \r\nL 322.335827 94.445961 \r\nL 322.95103 93.381888 \r\nL 323.112926 93.325188 \r\nL 323.274821 92.899747 \r\nL 324.213815 92.793992 \r\nL 324.375711 92.726176 \r\nL 324.634744 92.455985 \r\nL 324.893777 92.301892 \r\nL 325.12043 92.215493 \r\nL 325.86515 91.453325 \r\nL 325.962287 91.441445 \r\nL 326.124183 91.212254 \r\nL 326.253699 91.156403 \r\nL 326.739386 90.489043 \r\nL 332.40573 90.439865 \r\nL 332.697142 89.605036 \r\nL 333.085691 89.038038 \r\nL 333.247587 88.781763 \r\nL 333.636136 88.171103 \r\nL 333.765653 88.078339 \r\nL 334.575131 88.040971 \r\nL 334.737026 87.837268 \r\nL 335.190334 87.532494 \r\nL 335.514125 86.848741 \r\nL 335.67602 86.631916 \r\nL 335.740779 86.631916 \r\nL 335.999811 85.729518 \r\nL 336.129328 85.667635 \r\nL 338.687278 85.587298 \r\nL 338.94631 85.185494 \r\nL 339.011069 85.185494 \r\nL 339.172964 84.944423 \r\nL 339.270102 84.873934 \r\nL 339.496755 84.462282 \r\nL 339.593893 84.449438 \r\nL 340.014821 83.25693 \r\nL 340.43575 83.196424 \r\nL 340.597645 82.755504 \r\nL 341.14809 82.14818 \r\nL 341.342365 81.810508 \r\nL 341.407123 81.789934 \r\nL 341.569018 81.569437 \r\nL 341.601397 81.569437 \r\nL 341.86043 80.846226 \r\nL 344.547897 80.797048 \r\nL 344.839309 79.640874 \r\nL 344.936446 79.543636 \r\nL 345.357374 78.435522 \r\nL 345.51927 78.435522 \r\nL 345.745924 77.953381 \r\nL 345.778303 77.950897 \r\nL 346.393506 76.024818 \r\nL 347.915324 75.96295 \r\nL 348.368632 74.841297 \r\nL 348.530527 74.617121 \r\nL 348.854318 73.614114 \r\nL 349.178109 73.516818 \r\nL 349.307626 73.318893 \r\nL 349.437142 73.131973 \r\nL 349.987587 71.803818 \r\nL 350.149483 71.531265 \r\nL 350.440895 71.20341 \r\nL 351.541784 71.117936 \r\nL 351.736059 70.241828 \r\nL 351.833196 70.200074 \r\nL 352.480779 68.792705 \r\nL 352.577916 68.744877 \r\nL 352.739811 67.947293 \r\nL 353.031223 66.815789 \r\nL 353.095982 66.637312 \r\nL 353.290256 66.382001 \r\nL 354.067355 66.323249 \r\nL 354.26163 65.706811 \r\nL 354.423525 65.050926 \r\nL 354.585421 64.453438 \r\nL 354.682558 64.417258 \r\nL 354.909212 63.894617 \r\nL 355.038728 63.836298 \r\nL 355.168245 63.790753 \r\nL 355.33014 63.115339 \r\nL 355.427278 62.858346 \r\nL 355.783448 62.309844 \r\nL 355.848206 62.274211 \r\nL 356.010102 61.560593 \r\nL 358.017606 61.560593 \r\nL 358.373777 60.033475 \r\nL 358.827084 59.149889 \r\nL 358.891842 59.149889 \r\nL 359.183254 57.800481 \r\nL 359.636562 56.739185 \r\nL 360.219386 56.723879 \r\nL 360.381281 55.774903 \r\nL 360.44604 55.774903 \r\nL 360.543177 55.256613 \r\nL 360.769831 53.364199 \r\nL 360.834589 53.364199 \r\nL 360.964105 52.882058 \r\nL 361.093622 52.809313 \r\nL 361.287897 51.969558 \r\nL 361.449792 51.917776 \r\nL 362.000237 51.917776 \r\nL 362.518303 47.096368 \r\nL 362.809715 47.096368 \r\nL 363.036368 45.285601 \r\nL 363.165885 44.637064 \r\nL 363.813467 39.422325 \r\nL 363.975363 37.453551 \r\nL 364.331533 37.453551 \r\nL 364.687703 32.632143 \r\nL 364.720082 32.632143 \r\nL 364.914357 27.712764 \r\nL 365.205769 22.989326 \r\nL 365.367664 22.986445 \r\nL 365.594318 20.583636 \r\nL 365.594318 20.583636 \r\n\" style=\"fill:none;stroke:#1f77b4;stroke-linecap:square;stroke-width:1.5;\"/>\r\n   </g>\r\n   <g id=\"line2d_12\">\r\n    <path clip-path=\"url(#p8681d2589d)\" d=\"M 61.230682 228.14 \r\nL 61.230682 10.7 \r\n\" style=\"fill:none;stroke:#ff0000;stroke-dasharray:5.55,2.4;stroke-dashoffset:0;stroke-width:1.5;\"/>\r\n   </g>\r\n   <g id=\"line2d_13\">\r\n    <path clip-path=\"url(#p8681d2589d)\" d=\"M 365.594318 228.14 \r\nL 365.594318 10.7 \r\n\" style=\"fill:none;stroke:#ff0000;stroke-dasharray:5.55,2.4;stroke-dashoffset:0;stroke-width:1.5;\"/>\r\n   </g>\r\n   <g id=\"patch_3\">\r\n    <path d=\"M 46.0125 228.14 \r\nL 46.0125 10.7 \r\n\" style=\"fill:none;stroke:#000000;stroke-linecap:square;stroke-linejoin:miter;stroke-width:0.8;\"/>\r\n   </g>\r\n   <g id=\"patch_4\">\r\n    <path d=\"M 380.8125 228.14 \r\nL 380.8125 10.7 \r\n\" style=\"fill:none;stroke:#000000;stroke-linecap:square;stroke-linejoin:miter;stroke-width:0.8;\"/>\r\n   </g>\r\n   <g id=\"patch_5\">\r\n    <path d=\"M 46.0125 228.14 \r\nL 380.8125 228.14 \r\n\" style=\"fill:none;stroke:#000000;stroke-linecap:square;stroke-linejoin:miter;stroke-width:0.8;\"/>\r\n   </g>\r\n   <g id=\"patch_6\">\r\n    <path d=\"M 46.0125 10.7 \r\nL 380.8125 10.7 \r\n\" style=\"fill:none;stroke:#000000;stroke-linecap:square;stroke-linejoin:miter;stroke-width:0.8;\"/>\r\n   </g>\r\n  </g>\r\n </g>\r\n <defs>\r\n  <clipPath id=\"p8681d2589d\">\r\n   <rect height=\"217.44\" width=\"334.8\" x=\"46.0125\" y=\"10.7\"/>\r\n  </clipPath>\r\n </defs>\r\n</svg>\r\n",
      "image/png": "[encoded data removed]"
     },
     "metadata": {
      "needs_background": "light"
     }
    },
    {
     "output_type": "stream",
     "name": "stdout",
     "text": "min_pay_threshold = 7500.0\nmax_pay_threshold = 48498.95999999998\n"
    }
   ],
   "source": [
    "# Let's then excude the bottom 5% and top 1% of the values, in order to ignore the extreme cases (in particular the negative values, where the fees are higher than the pay). The remaining pay values are between $7500.00 and $48498.96\n",
    "min_perc_threshold = 5\n",
    "max_perc_threshold = 99\n",
    "plot_inverse_CDF(data=data['Overall Pay'].values, vlines=[min_perc_threshold, max_perc_threshold])\n",
    "plot_inverse_CDF(data=data['Overall Pay'].values, min_perc=min_perc_threshold, max_perc=max_perc_threshold, vlines=[min_perc_threshold, max_perc_threshold])\n",
    "min_pay_threshold, max_pay_threshold = np.nanpercentile(data['Overall Pay'].values, [min_perc_threshold, max_perc_threshold])\n",
    "print('min_pay_threshold = {0}'.format(min_pay_threshold))\n",
    "print('max_pay_threshold = {0}'.format(max_pay_threshold))\n",
    "data = data[(data['Overall Pay']>=min_pay_threshold) & (data['Overall Pay']<=max_pay_threshold)]"
   ]
  },
  {
   "cell_type": "code",
   "execution_count": 140,
   "metadata": {},
   "outputs": [
    {
     "output_type": "execute_result",
     "data": {
      "text/plain": "(7996, 7)"
     },
     "metadata": {},
     "execution_count": 140
    }
   ],
   "source": [
    "# after cleaning, we are left with 7996 rows\n",
    "data.shape"
   ]
  },
  {
   "cell_type": "code",
   "execution_count": 141,
   "metadata": {},
   "outputs": [
    {
     "output_type": "execute_result",
     "data": {
      "text/plain": "        Overall Pay     LW Ratio\ncount   7996.000000  7262.000000\nmean   25523.989370     1.097447\nstd     7355.036001     0.285997\nmin     7500.000000     0.250000\n25%    20000.000000     0.880000\n50%    25500.000000     1.115000\n75%    30500.000000     1.300000\nmax    48474.000000     2.510000",
      "text/html": "<div>\n<style scoped>\n    .dataframe tbody tr th:only-of-type {\n        vertical-align: middle;\n    }\n\n    .dataframe tbody tr th {\n        vertical-align: top;\n    }\n\n    .dataframe thead th {\n        text-align: right;\n    }\n</style>\n<table border=\"1\" class=\"dataframe\">\n  <thead>\n    <tr style=\"text-align: right;\">\n      <th></th>\n      <th>Overall Pay</th>\n      <th>LW Ratio</th>\n    </tr>\n  </thead>\n  <tbody>\n    <tr>\n      <th>count</th>\n      <td>7996.000000</td>\n      <td>7262.000000</td>\n    </tr>\n    <tr>\n      <th>mean</th>\n      <td>25523.989370</td>\n      <td>1.097447</td>\n    </tr>\n    <tr>\n      <th>std</th>\n      <td>7355.036001</td>\n      <td>0.285997</td>\n    </tr>\n    <tr>\n      <th>min</th>\n      <td>7500.000000</td>\n      <td>0.250000</td>\n    </tr>\n    <tr>\n      <th>25%</th>\n      <td>20000.000000</td>\n      <td>0.880000</td>\n    </tr>\n    <tr>\n      <th>50%</th>\n      <td>25500.000000</td>\n      <td>1.115000</td>\n    </tr>\n    <tr>\n      <th>75%</th>\n      <td>30500.000000</td>\n      <td>1.300000</td>\n    </tr>\n    <tr>\n      <th>max</th>\n      <td>48474.000000</td>\n      <td>2.510000</td>\n    </tr>\n  </tbody>\n</table>\n</div>"
     },
     "metadata": {},
     "execution_count": 141
    }
   ],
   "source": [
    "# the median didn't change (still $25500), but now the STD is more reasonable ($7355 instead of $21805)\n",
    "data.describe()"
   ]
  },
  {
   "cell_type": "code",
   "execution_count": 142,
   "metadata": {},
   "outputs": [
    {
     "output_type": "execute_result",
     "data": {
      "text/plain": "array([[<matplotlib.axes._subplots.AxesSubplot object at 0x000001FD21FF4048>,\n        <matplotlib.axes._subplots.AxesSubplot object at 0x000001FD21FE1438>]],\n      dtype=object)"
     },
     "metadata": {},
     "execution_count": 142
    },
    {
     "output_type": "display_data",
     "data": {
      "text/plain": "<Figure size 432x288 with 2 Axes>",
      "image/svg+xml": "<?xml version=\"1.0\" encoding=\"utf-8\" standalone=\"no\"?>\r\n<!DOCTYPE svg PUBLIC \"-//W3C//DTD SVG 1.1//EN\"\r\n  \"http://www.w3.org/Graphics/SVG/1.1/DTD/svg11.dtd\">\r\n<!-- Created with matplotlib (http://matplotlib.org/) -->\r\n<svg height=\"263.63625pt\" version=\"1.1\" viewBox=\"0 0 385.15 263.63625\" width=\"385.15pt\" xmlns=\"http://www.w3.org/2000/svg\" xmlns:xlink=\"http://www.w3.org/1999/xlink\">\r\n <defs>\r\n  <style type=\"text/css\">\r\n*{stroke-linecap:butt;stroke-linejoin:round;}\r\n  </style>\r\n </defs>\r\n <g id=\"figure_1\">\r\n  <g id=\"patch_1\">\r\n   <path d=\"M -0 263.63625 \r\nL 385.15 263.63625 \r\nL 385.15 0 \r\nL -0 0 \r\nz\r\n\" style=\"fill:none;\"/>\r\n  </g>\r\n  <g id=\"axes_1\">\r\n   <g id=\"patch_2\">\r\n    <path d=\"M 39.65 239.758125 \r\nL 185.215217 239.758125 \r\nL 185.215217 22.318125 \r\nL 39.65 22.318125 \r\nz\r\n\" style=\"fill:#ffffff;\"/>\r\n   </g>\r\n   <g id=\"patch_3\">\r\n    <path clip-path=\"url(#p7a5c47c326)\" d=\"M 46.266601 239.758125 \r\nL 59.499802 239.758125 \r\nL 59.499802 231.586219 \r\nL 46.266601 231.586219 \r\nz\r\n\" style=\"fill:#1f77b4;\"/>\r\n   </g>\r\n   <g id=\"patch_4\">\r\n    <path clip-path=\"url(#p7a5c47c326)\" d=\"M 59.499802 239.758125 \r\nL 72.733004 239.758125 \r\nL 72.733004 181.689522 \r\nL 59.499802 181.689522 \r\nz\r\n\" style=\"fill:#1f77b4;\"/>\r\n   </g>\r\n   <g id=\"patch_5\">\r\n    <path clip-path=\"url(#p7a5c47c326)\" d=\"M 72.733004 239.758125 \r\nL 85.966206 239.758125 \r\nL 85.966206 106.892546 \r\nL 72.733004 106.892546 \r\nz\r\n\" style=\"fill:#1f77b4;\"/>\r\n   </g>\r\n   <g id=\"patch_6\">\r\n    <path clip-path=\"url(#p7a5c47c326)\" d=\"M 85.966206 239.758125 \r\nL 99.199407 239.758125 \r\nL 99.199407 55.457608 \r\nL 85.966206 55.457608 \r\nz\r\n\" style=\"fill:#1f77b4;\"/>\r\n   </g>\r\n   <g id=\"patch_7\">\r\n    <path clip-path=\"url(#p7a5c47c326)\" d=\"M 99.199407 239.758125 \r\nL 112.432609 239.758125 \r\nL 112.432609 32.672411 \r\nL 99.199407 32.672411 \r\nz\r\n\" style=\"fill:#1f77b4;\"/>\r\n   </g>\r\n   <g id=\"patch_8\">\r\n    <path clip-path=\"url(#p7a5c47c326)\" d=\"M 112.432609 239.758125 \r\nL 125.66581 239.758125 \r\nL 125.66581 152.07838 \r\nL 112.432609 152.07838 \r\nz\r\n\" style=\"fill:#1f77b4;\"/>\r\n   </g>\r\n   <g id=\"patch_9\">\r\n    <path clip-path=\"url(#p7a5c47c326)\" d=\"M 125.66581 239.758125 \r\nL 138.899012 239.758125 \r\nL 138.899012 224.279573 \r\nL 125.66581 224.279573 \r\nz\r\n\" style=\"fill:#1f77b4;\"/>\r\n   </g>\r\n   <g id=\"patch_10\">\r\n    <path clip-path=\"url(#p7a5c47c326)\" d=\"M 138.899012 239.758125 \r\nL 152.132213 239.758125 \r\nL 152.132213 236.585503 \r\nL 138.899012 236.585503 \r\nz\r\n\" style=\"fill:#1f77b4;\"/>\r\n   </g>\r\n   <g id=\"patch_11\">\r\n    <path clip-path=\"url(#p7a5c47c326)\" d=\"M 152.132213 239.758125 \r\nL 165.365415 239.758125 \r\nL 165.365415 238.700584 \r\nL 152.132213 238.700584 \r\nz\r\n\" style=\"fill:#1f77b4;\"/>\r\n   </g>\r\n   <g id=\"patch_12\">\r\n    <path clip-path=\"url(#p7a5c47c326)\" d=\"M 165.365415 239.758125 \r\nL 178.598617 239.758125 \r\nL 178.598617 239.469705 \r\nL 165.365415 239.469705 \r\nz\r\n\" style=\"fill:#1f77b4;\"/>\r\n   </g>\r\n   <g id=\"matplotlib.axis_1\">\r\n    <g id=\"xtick_1\">\r\n     <g id=\"line2d_1\">\r\n      <path clip-path=\"url(#p7a5c47c326)\" d=\"M 90.182093 239.758125 \r\nL 90.182093 22.318125 \r\n\" style=\"fill:none;stroke:#b0b0b0;stroke-linecap:square;stroke-width:0.8;\"/>\r\n     </g>\r\n     <g id=\"line2d_2\">\r\n      <defs>\r\n       <path d=\"M 0 0 \r\nL 0 3.5 \r\n\" id=\"m42369c1936\" style=\"stroke:#000000;stroke-width:0.8;\"/>\r\n      </defs>\r\n      <g>\r\n       <use style=\"stroke:#000000;stroke-width:0.8;\" x=\"90.182093\" xlink:href=\"#m42369c1936\" y=\"239.758125\"/>\r\n      </g>\r\n     </g>\r\n     <g id=\"text_1\">\r\n      <!-- 1 -->\r\n      <defs>\r\n       <path d=\"M 12.40625 8.296875 \r\nL 28.515625 8.296875 \r\nL 28.515625 63.921875 \r\nL 10.984375 60.40625 \r\nL 10.984375 69.390625 \r\nL 28.421875 72.90625 \r\nL 38.28125 72.90625 \r\nL 38.28125 8.296875 \r\nL 54.390625 8.296875 \r\nL 54.390625 0 \r\nL 12.40625 0 \r\nz\r\n\" id=\"DejaVuSans-31\"/>\r\n      </defs>\r\n      <g transform=\"translate(87.000843 254.356563)scale(0.1 -0.1)\">\r\n       <use xlink:href=\"#DejaVuSans-31\"/>\r\n      </g>\r\n     </g>\r\n    </g>\r\n    <g id=\"xtick_2\">\r\n     <g id=\"line2d_3\">\r\n      <path clip-path=\"url(#p7a5c47c326)\" d=\"M 148.736082 239.758125 \r\nL 148.736082 22.318125 \r\n\" style=\"fill:none;stroke:#b0b0b0;stroke-linecap:square;stroke-width:0.8;\"/>\r\n     </g>\r\n     <g id=\"line2d_4\">\r\n      <g>\r\n       <use style=\"stroke:#000000;stroke-width:0.8;\" x=\"148.736082\" xlink:href=\"#m42369c1936\" y=\"239.758125\"/>\r\n      </g>\r\n     </g>\r\n     <g id=\"text_2\">\r\n      <!-- 2 -->\r\n      <defs>\r\n       <path d=\"M 19.1875 8.296875 \r\nL 53.609375 8.296875 \r\nL 53.609375 0 \r\nL 7.328125 0 \r\nL 7.328125 8.296875 \r\nQ 12.9375 14.109375 22.625 23.890625 \r\nQ 32.328125 33.6875 34.8125 36.53125 \r\nQ 39.546875 41.84375 41.421875 45.53125 \r\nQ 43.3125 49.21875 43.3125 52.78125 \r\nQ 43.3125 58.59375 39.234375 62.25 \r\nQ 35.15625 65.921875 28.609375 65.921875 \r\nQ 23.96875 65.921875 18.8125 64.3125 \r\nQ 13.671875 62.703125 7.8125 59.421875 \r\nL 7.8125 69.390625 \r\nQ 13.765625 71.78125 18.9375 73 \r\nQ 24.125 74.21875 28.421875 74.21875 \r\nQ 39.75 74.21875 46.484375 68.546875 \r\nQ 53.21875 62.890625 53.21875 53.421875 \r\nQ 53.21875 48.921875 51.53125 44.890625 \r\nQ 49.859375 40.875 45.40625 35.40625 \r\nQ 44.1875 33.984375 37.640625 27.21875 \r\nQ 31.109375 20.453125 19.1875 8.296875 \r\nz\r\n\" id=\"DejaVuSans-32\"/>\r\n      </defs>\r\n      <g transform=\"translate(145.554832 254.356563)scale(0.1 -0.1)\">\r\n       <use xlink:href=\"#DejaVuSans-32\"/>\r\n      </g>\r\n     </g>\r\n    </g>\r\n   </g>\r\n   <g id=\"matplotlib.axis_2\">\r\n    <g id=\"ytick_1\">\r\n     <g id=\"line2d_5\">\r\n      <path clip-path=\"url(#p7a5c47c326)\" d=\"M 39.65 239.758125 \r\nL 185.215217 239.758125 \r\n\" style=\"fill:none;stroke:#b0b0b0;stroke-linecap:square;stroke-width:0.8;\"/>\r\n     </g>\r\n     <g id=\"line2d_6\">\r\n      <defs>\r\n       <path d=\"M 0 0 \r\nL -3.5 0 \r\n\" id=\"m38cec74bd1\" style=\"stroke:#000000;stroke-width:0.8;\"/>\r\n      </defs>\r\n      <g>\r\n       <use style=\"stroke:#000000;stroke-width:0.8;\" x=\"39.65\" xlink:href=\"#m38cec74bd1\" y=\"239.758125\"/>\r\n      </g>\r\n     </g>\r\n     <g id=\"text_3\">\r\n      <!-- 0 -->\r\n      <defs>\r\n       <path d=\"M 31.78125 66.40625 \r\nQ 24.171875 66.40625 20.328125 58.90625 \r\nQ 16.5 51.421875 16.5 36.375 \r\nQ 16.5 21.390625 20.328125 13.890625 \r\nQ 24.171875 6.390625 31.78125 6.390625 \r\nQ 39.453125 6.390625 43.28125 13.890625 \r\nQ 47.125 21.390625 47.125 36.375 \r\nQ 47.125 51.421875 43.28125 58.90625 \r\nQ 39.453125 66.40625 31.78125 66.40625 \r\nz\r\nM 31.78125 74.21875 \r\nQ 44.046875 74.21875 50.515625 64.515625 \r\nQ 56.984375 54.828125 56.984375 36.375 \r\nQ 56.984375 17.96875 50.515625 8.265625 \r\nQ 44.046875 -1.421875 31.78125 -1.421875 \r\nQ 19.53125 -1.421875 13.0625 8.265625 \r\nQ 6.59375 17.96875 6.59375 36.375 \r\nQ 6.59375 54.828125 13.0625 64.515625 \r\nQ 19.53125 74.21875 31.78125 74.21875 \r\nz\r\n\" id=\"DejaVuSans-30\"/>\r\n      </defs>\r\n      <g transform=\"translate(26.2875 243.557344)scale(0.1 -0.1)\">\r\n       <use xlink:href=\"#DejaVuSans-30\"/>\r\n      </g>\r\n     </g>\r\n    </g>\r\n    <g id=\"ytick_2\">\r\n     <g id=\"line2d_7\">\r\n      <path clip-path=\"url(#p7a5c47c326)\" d=\"M 39.65 191.688089 \r\nL 185.215217 191.688089 \r\n\" style=\"fill:none;stroke:#b0b0b0;stroke-linecap:square;stroke-width:0.8;\"/>\r\n     </g>\r\n     <g id=\"line2d_8\">\r\n      <g>\r\n       <use style=\"stroke:#000000;stroke-width:0.8;\" x=\"39.65\" xlink:href=\"#m38cec74bd1\" y=\"191.688089\"/>\r\n      </g>\r\n     </g>\r\n     <g id=\"text_4\">\r\n      <!-- 500 -->\r\n      <defs>\r\n       <path d=\"M 10.796875 72.90625 \r\nL 49.515625 72.90625 \r\nL 49.515625 64.59375 \r\nL 19.828125 64.59375 \r\nL 19.828125 46.734375 \r\nQ 21.96875 47.46875 24.109375 47.828125 \r\nQ 26.265625 48.1875 28.421875 48.1875 \r\nQ 40.625 48.1875 47.75 41.5 \r\nQ 54.890625 34.8125 54.890625 23.390625 \r\nQ 54.890625 11.625 47.5625 5.09375 \r\nQ 40.234375 -1.421875 26.90625 -1.421875 \r\nQ 22.3125 -1.421875 17.546875 -0.640625 \r\nQ 12.796875 0.140625 7.71875 1.703125 \r\nL 7.71875 11.625 \r\nQ 12.109375 9.234375 16.796875 8.0625 \r\nQ 21.484375 6.890625 26.703125 6.890625 \r\nQ 35.15625 6.890625 40.078125 11.328125 \r\nQ 45.015625 15.765625 45.015625 23.390625 \r\nQ 45.015625 31 40.078125 35.4375 \r\nQ 35.15625 39.890625 26.703125 39.890625 \r\nQ 22.75 39.890625 18.8125 39.015625 \r\nQ 14.890625 38.140625 10.796875 36.28125 \r\nz\r\n\" id=\"DejaVuSans-35\"/>\r\n      </defs>\r\n      <g transform=\"translate(13.5625 195.487308)scale(0.1 -0.1)\">\r\n       <use xlink:href=\"#DejaVuSans-35\"/>\r\n       <use x=\"63.623047\" xlink:href=\"#DejaVuSans-30\"/>\r\n       <use x=\"127.246094\" xlink:href=\"#DejaVuSans-30\"/>\r\n      </g>\r\n     </g>\r\n    </g>\r\n    <g id=\"ytick_3\">\r\n     <g id=\"line2d_9\">\r\n      <path clip-path=\"url(#p7a5c47c326)\" d=\"M 39.65 143.618053 \r\nL 185.215217 143.618053 \r\n\" style=\"fill:none;stroke:#b0b0b0;stroke-linecap:square;stroke-width:0.8;\"/>\r\n     </g>\r\n     <g id=\"line2d_10\">\r\n      <g>\r\n       <use style=\"stroke:#000000;stroke-width:0.8;\" x=\"39.65\" xlink:href=\"#m38cec74bd1\" y=\"143.618053\"/>\r\n      </g>\r\n     </g>\r\n     <g id=\"text_5\">\r\n      <!-- 1000 -->\r\n      <g transform=\"translate(7.2 147.417272)scale(0.1 -0.1)\">\r\n       <use xlink:href=\"#DejaVuSans-31\"/>\r\n       <use x=\"63.623047\" xlink:href=\"#DejaVuSans-30\"/>\r\n       <use x=\"127.246094\" xlink:href=\"#DejaVuSans-30\"/>\r\n       <use x=\"190.869141\" xlink:href=\"#DejaVuSans-30\"/>\r\n      </g>\r\n     </g>\r\n    </g>\r\n    <g id=\"ytick_4\">\r\n     <g id=\"line2d_11\">\r\n      <path clip-path=\"url(#p7a5c47c326)\" d=\"M 39.65 95.548018 \r\nL 185.215217 95.548018 \r\n\" style=\"fill:none;stroke:#b0b0b0;stroke-linecap:square;stroke-width:0.8;\"/>\r\n     </g>\r\n     <g id=\"line2d_12\">\r\n      <g>\r\n       <use style=\"stroke:#000000;stroke-width:0.8;\" x=\"39.65\" xlink:href=\"#m38cec74bd1\" y=\"95.548018\"/>\r\n      </g>\r\n     </g>\r\n     <g id=\"text_6\">\r\n      <!-- 1500 -->\r\n      <g transform=\"translate(7.2 99.347236)scale(0.1 -0.1)\">\r\n       <use xlink:href=\"#DejaVuSans-31\"/>\r\n       <use x=\"63.623047\" xlink:href=\"#DejaVuSans-35\"/>\r\n       <use x=\"127.246094\" xlink:href=\"#DejaVuSans-30\"/>\r\n       <use x=\"190.869141\" xlink:href=\"#DejaVuSans-30\"/>\r\n      </g>\r\n     </g>\r\n    </g>\r\n    <g id=\"ytick_5\">\r\n     <g id=\"line2d_13\">\r\n      <path clip-path=\"url(#p7a5c47c326)\" d=\"M 39.65 47.477982 \r\nL 185.215217 47.477982 \r\n\" style=\"fill:none;stroke:#b0b0b0;stroke-linecap:square;stroke-width:0.8;\"/>\r\n     </g>\r\n     <g id=\"line2d_14\">\r\n      <g>\r\n       <use style=\"stroke:#000000;stroke-width:0.8;\" x=\"39.65\" xlink:href=\"#m38cec74bd1\" y=\"47.477982\"/>\r\n      </g>\r\n     </g>\r\n     <g id=\"text_7\">\r\n      <!-- 2000 -->\r\n      <g transform=\"translate(7.2 51.2772)scale(0.1 -0.1)\">\r\n       <use xlink:href=\"#DejaVuSans-32\"/>\r\n       <use x=\"63.623047\" xlink:href=\"#DejaVuSans-30\"/>\r\n       <use x=\"127.246094\" xlink:href=\"#DejaVuSans-30\"/>\r\n       <use x=\"190.869141\" xlink:href=\"#DejaVuSans-30\"/>\r\n      </g>\r\n     </g>\r\n    </g>\r\n   </g>\r\n   <g id=\"patch_13\">\r\n    <path d=\"M 39.65 239.758125 \r\nL 39.65 22.318125 \r\n\" style=\"fill:none;stroke:#000000;stroke-linecap:square;stroke-linejoin:miter;stroke-width:0.8;\"/>\r\n   </g>\r\n   <g id=\"patch_14\">\r\n    <path d=\"M 185.215217 239.758125 \r\nL 185.215217 22.318125 \r\n\" style=\"fill:none;stroke:#000000;stroke-linecap:square;stroke-linejoin:miter;stroke-width:0.8;\"/>\r\n   </g>\r\n   <g id=\"patch_15\">\r\n    <path d=\"M 39.65 239.758125 \r\nL 185.215217 239.758125 \r\n\" style=\"fill:none;stroke:#000000;stroke-linecap:square;stroke-linejoin:miter;stroke-width:0.8;\"/>\r\n   </g>\r\n   <g id=\"patch_16\">\r\n    <path d=\"M 39.65 22.318125 \r\nL 185.215217 22.318125 \r\n\" style=\"fill:none;stroke:#000000;stroke-linecap:square;stroke-linejoin:miter;stroke-width:0.8;\"/>\r\n   </g>\r\n   <g id=\"text_8\">\r\n    <!-- LW Ratio -->\r\n    <defs>\r\n     <path d=\"M 9.8125 72.90625 \r\nL 19.671875 72.90625 \r\nL 19.671875 8.296875 \r\nL 55.171875 8.296875 \r\nL 55.171875 0 \r\nL 9.8125 0 \r\nz\r\n\" id=\"DejaVuSans-4c\"/>\r\n     <path d=\"M 3.328125 72.90625 \r\nL 13.28125 72.90625 \r\nL 28.609375 11.28125 \r\nL 43.890625 72.90625 \r\nL 54.984375 72.90625 \r\nL 70.3125 11.28125 \r\nL 85.59375 72.90625 \r\nL 95.609375 72.90625 \r\nL 77.296875 0 \r\nL 64.890625 0 \r\nL 49.515625 63.28125 \r\nL 33.984375 0 \r\nL 21.578125 0 \r\nz\r\n\" id=\"DejaVuSans-57\"/>\r\n     <path id=\"DejaVuSans-20\"/>\r\n     <path d=\"M 44.390625 34.1875 \r\nQ 47.5625 33.109375 50.5625 29.59375 \r\nQ 53.5625 26.078125 56.59375 19.921875 \r\nL 66.609375 0 \r\nL 56 0 \r\nL 46.6875 18.703125 \r\nQ 43.0625 26.03125 39.671875 28.421875 \r\nQ 36.28125 30.8125 30.421875 30.8125 \r\nL 19.671875 30.8125 \r\nL 19.671875 0 \r\nL 9.8125 0 \r\nL 9.8125 72.90625 \r\nL 32.078125 72.90625 \r\nQ 44.578125 72.90625 50.734375 67.671875 \r\nQ 56.890625 62.453125 56.890625 51.90625 \r\nQ 56.890625 45.015625 53.6875 40.46875 \r\nQ 50.484375 35.9375 44.390625 34.1875 \r\nz\r\nM 19.671875 64.796875 \r\nL 19.671875 38.921875 \r\nL 32.078125 38.921875 \r\nQ 39.203125 38.921875 42.84375 42.21875 \r\nQ 46.484375 45.515625 46.484375 51.90625 \r\nQ 46.484375 58.296875 42.84375 61.546875 \r\nQ 39.203125 64.796875 32.078125 64.796875 \r\nz\r\n\" id=\"DejaVuSans-52\"/>\r\n     <path d=\"M 34.28125 27.484375 \r\nQ 23.390625 27.484375 19.1875 25 \r\nQ 14.984375 22.515625 14.984375 16.5 \r\nQ 14.984375 11.71875 18.140625 8.90625 \r\nQ 21.296875 6.109375 26.703125 6.109375 \r\nQ 34.1875 6.109375 38.703125 11.40625 \r\nQ 43.21875 16.703125 43.21875 25.484375 \r\nL 43.21875 27.484375 \r\nz\r\nM 52.203125 31.203125 \r\nL 52.203125 0 \r\nL 43.21875 0 \r\nL 43.21875 8.296875 \r\nQ 40.140625 3.328125 35.546875 0.953125 \r\nQ 30.953125 -1.421875 24.3125 -1.421875 \r\nQ 15.921875 -1.421875 10.953125 3.296875 \r\nQ 6 8.015625 6 15.921875 \r\nQ 6 25.140625 12.171875 29.828125 \r\nQ 18.359375 34.515625 30.609375 34.515625 \r\nL 43.21875 34.515625 \r\nL 43.21875 35.40625 \r\nQ 43.21875 41.609375 39.140625 45 \r\nQ 35.0625 48.390625 27.6875 48.390625 \r\nQ 23 48.390625 18.546875 47.265625 \r\nQ 14.109375 46.140625 10.015625 43.890625 \r\nL 10.015625 52.203125 \r\nQ 14.9375 54.109375 19.578125 55.046875 \r\nQ 24.21875 56 28.609375 56 \r\nQ 40.484375 56 46.34375 49.84375 \r\nQ 52.203125 43.703125 52.203125 31.203125 \r\nz\r\n\" id=\"DejaVuSans-61\"/>\r\n     <path d=\"M 18.3125 70.21875 \r\nL 18.3125 54.6875 \r\nL 36.8125 54.6875 \r\nL 36.8125 47.703125 \r\nL 18.3125 47.703125 \r\nL 18.3125 18.015625 \r\nQ 18.3125 11.328125 20.140625 9.421875 \r\nQ 21.96875 7.515625 27.59375 7.515625 \r\nL 36.8125 7.515625 \r\nL 36.8125 0 \r\nL 27.59375 0 \r\nQ 17.1875 0 13.234375 3.875 \r\nQ 9.28125 7.765625 9.28125 18.015625 \r\nL 9.28125 47.703125 \r\nL 2.6875 47.703125 \r\nL 2.6875 54.6875 \r\nL 9.28125 54.6875 \r\nL 9.28125 70.21875 \r\nz\r\n\" id=\"DejaVuSans-74\"/>\r\n     <path d=\"M 9.421875 54.6875 \r\nL 18.40625 54.6875 \r\nL 18.40625 0 \r\nL 9.421875 0 \r\nz\r\nM 9.421875 75.984375 \r\nL 18.40625 75.984375 \r\nL 18.40625 64.59375 \r\nL 9.421875 64.59375 \r\nz\r\n\" id=\"DejaVuSans-69\"/>\r\n     <path d=\"M 30.609375 48.390625 \r\nQ 23.390625 48.390625 19.1875 42.75 \r\nQ 14.984375 37.109375 14.984375 27.296875 \r\nQ 14.984375 17.484375 19.15625 11.84375 \r\nQ 23.34375 6.203125 30.609375 6.203125 \r\nQ 37.796875 6.203125 41.984375 11.859375 \r\nQ 46.1875 17.53125 46.1875 27.296875 \r\nQ 46.1875 37.015625 41.984375 42.703125 \r\nQ 37.796875 48.390625 30.609375 48.390625 \r\nz\r\nM 30.609375 56 \r\nQ 42.328125 56 49.015625 48.375 \r\nQ 55.71875 40.765625 55.71875 27.296875 \r\nQ 55.71875 13.875 49.015625 6.21875 \r\nQ 42.328125 -1.421875 30.609375 -1.421875 \r\nQ 18.84375 -1.421875 12.171875 6.21875 \r\nQ 5.515625 13.875 5.515625 27.296875 \r\nQ 5.515625 40.765625 12.171875 48.375 \r\nQ 18.84375 56 30.609375 56 \r\nz\r\n\" id=\"DejaVuSans-6f\"/>\r\n    </defs>\r\n    <g transform=\"translate(85.724171 16.318125)scale(0.12 -0.12)\">\r\n     <use xlink:href=\"#DejaVuSans-4c\"/>\r\n     <use x=\"55.572266\" xlink:href=\"#DejaVuSans-57\"/>\r\n     <use x=\"154.449219\" xlink:href=\"#DejaVuSans-20\"/>\r\n     <use x=\"186.236328\" xlink:href=\"#DejaVuSans-52\"/>\r\n     <use x=\"255.6875\" xlink:href=\"#DejaVuSans-61\"/>\r\n     <use x=\"316.966797\" xlink:href=\"#DejaVuSans-74\"/>\r\n     <use x=\"356.175781\" xlink:href=\"#DejaVuSans-69\"/>\r\n     <use x=\"383.958984\" xlink:href=\"#DejaVuSans-6f\"/>\r\n    </g>\r\n   </g>\r\n  </g>\r\n  <g id=\"axes_2\">\r\n   <g id=\"patch_17\">\r\n    <path d=\"M 228.884783 239.758125 \r\nL 374.45 239.758125 \r\nL 374.45 22.318125 \r\nL 228.884783 22.318125 \r\nz\r\n\" style=\"fill:#ffffff;\"/>\r\n   </g>\r\n   <g id=\"patch_18\">\r\n    <path clip-path=\"url(#p63b3f33049)\" d=\"M 235.501383 239.758125 \r\nL 248.734585 239.758125 \r\nL 248.734585 221.19261 \r\nL 235.501383 221.19261 \r\nz\r\n\" style=\"fill:#1f77b4;\"/>\r\n   </g>\r\n   <g id=\"patch_19\">\r\n    <path clip-path=\"url(#p63b3f33049)\" d=\"M 248.734585 239.758125 \r\nL 261.967787 239.758125 \r\nL 261.967787 168.361113 \r\nL 248.734585 168.361113 \r\nz\r\n\" style=\"fill:#1f77b4;\"/>\r\n   </g>\r\n   <g id=\"patch_20\">\r\n    <path clip-path=\"url(#p63b3f33049)\" d=\"M 261.967787 239.758125 \r\nL 275.200988 239.758125 \r\nL 275.200988 117.936258 \r\nL 261.967787 117.936258 \r\nz\r\n\" style=\"fill:#1f77b4;\"/>\r\n   </g>\r\n   <g id=\"patch_21\">\r\n    <path clip-path=\"url(#p63b3f33049)\" d=\"M 275.200988 239.758125 \r\nL 288.43419 239.758125 \r\nL 288.43419 79.544606 \r\nL 275.200988 79.544606 \r\nz\r\n\" style=\"fill:#1f77b4;\"/>\r\n   </g>\r\n   <g id=\"patch_22\">\r\n    <path clip-path=\"url(#p63b3f33049)\" d=\"M 288.43419 239.758125 \r\nL 301.667391 239.758125 \r\nL 301.667391 61.552101 \r\nL 288.43419 61.552101 \r\nz\r\n\" style=\"fill:#1f77b4;\"/>\r\n   </g>\r\n   <g id=\"patch_23\">\r\n    <path clip-path=\"url(#p63b3f33049)\" d=\"M 301.667391 239.758125 \r\nL 314.900593 239.758125 \r\nL 314.900593 32.672411 \r\nL 301.667391 32.672411 \r\nz\r\n\" style=\"fill:#1f77b4;\"/>\r\n   </g>\r\n   <g id=\"patch_24\">\r\n    <path clip-path=\"url(#p63b3f33049)\" d=\"M 314.900593 239.758125 \r\nL 328.133794 239.758125 \r\nL 328.133794 143.377889 \r\nL 314.900593 143.377889 \r\nz\r\n\" style=\"fill:#1f77b4;\"/>\r\n   </g>\r\n   <g id=\"patch_25\">\r\n    <path clip-path=\"url(#p63b3f33049)\" d=\"M 328.133794 239.758125 \r\nL 341.366996 239.758125 \r\nL 341.366996 199.074435 \r\nL 328.133794 199.074435 \r\nz\r\n\" style=\"fill:#1f77b4;\"/>\r\n   </g>\r\n   <g id=\"patch_26\">\r\n    <path clip-path=\"url(#p63b3f33049)\" d=\"M 341.366996 239.758125 \r\nL 354.600198 239.758125 \r\nL 354.600198 223.370047 \r\nL 341.366996 223.370047 \r\nz\r\n\" style=\"fill:#1f77b4;\"/>\r\n   </g>\r\n   <g id=\"patch_27\">\r\n    <path clip-path=\"url(#p63b3f33049)\" d=\"M 354.600198 239.758125 \r\nL 367.833399 239.758125 \r\nL 367.833399 234.14263 \r\nL 354.600198 234.14263 \r\nz\r\n\" style=\"fill:#1f77b4;\"/>\r\n   </g>\r\n   <g id=\"matplotlib.axis_3\">\r\n    <g id=\"xtick_3\">\r\n     <g id=\"line2d_15\">\r\n      <path clip-path=\"url(#p63b3f33049)\" d=\"M 275.872111 239.758125 \r\nL 275.872111 22.318125 \r\n\" style=\"fill:none;stroke:#b0b0b0;stroke-linecap:square;stroke-width:0.8;\"/>\r\n     </g>\r\n     <g id=\"line2d_16\">\r\n      <g>\r\n       <use style=\"stroke:#000000;stroke-width:0.8;\" x=\"275.872111\" xlink:href=\"#m42369c1936\" y=\"239.758125\"/>\r\n      </g>\r\n     </g>\r\n     <g id=\"text_9\">\r\n      <!-- 20000 -->\r\n      <g transform=\"translate(259.965861 254.356563)scale(0.1 -0.1)\">\r\n       <use xlink:href=\"#DejaVuSans-32\"/>\r\n       <use x=\"63.623047\" xlink:href=\"#DejaVuSans-30\"/>\r\n       <use x=\"127.246094\" xlink:href=\"#DejaVuSans-30\"/>\r\n       <use x=\"190.869141\" xlink:href=\"#DejaVuSans-30\"/>\r\n       <use x=\"254.492188\" xlink:href=\"#DejaVuSans-30\"/>\r\n      </g>\r\n     </g>\r\n    </g>\r\n    <g id=\"xtick_4\">\r\n     <g id=\"line2d_17\">\r\n      <path clip-path=\"url(#p63b3f33049)\" d=\"M 340.465275 239.758125 \r\nL 340.465275 22.318125 \r\n\" style=\"fill:none;stroke:#b0b0b0;stroke-linecap:square;stroke-width:0.8;\"/>\r\n     </g>\r\n     <g id=\"line2d_18\">\r\n      <g>\r\n       <use style=\"stroke:#000000;stroke-width:0.8;\" x=\"340.465275\" xlink:href=\"#m42369c1936\" y=\"239.758125\"/>\r\n      </g>\r\n     </g>\r\n     <g id=\"text_10\">\r\n      <!-- 40000 -->\r\n      <defs>\r\n       <path d=\"M 37.796875 64.3125 \r\nL 12.890625 25.390625 \r\nL 37.796875 25.390625 \r\nz\r\nM 35.203125 72.90625 \r\nL 47.609375 72.90625 \r\nL 47.609375 25.390625 \r\nL 58.015625 25.390625 \r\nL 58.015625 17.1875 \r\nL 47.609375 17.1875 \r\nL 47.609375 0 \r\nL 37.796875 0 \r\nL 37.796875 17.1875 \r\nL 4.890625 17.1875 \r\nL 4.890625 26.703125 \r\nz\r\n\" id=\"DejaVuSans-34\"/>\r\n      </defs>\r\n      <g transform=\"translate(324.559025 254.356563)scale(0.1 -0.1)\">\r\n       <use xlink:href=\"#DejaVuSans-34\"/>\r\n       <use x=\"63.623047\" xlink:href=\"#DejaVuSans-30\"/>\r\n       <use x=\"127.246094\" xlink:href=\"#DejaVuSans-30\"/>\r\n       <use x=\"190.869141\" xlink:href=\"#DejaVuSans-30\"/>\r\n       <use x=\"254.492188\" xlink:href=\"#DejaVuSans-30\"/>\r\n      </g>\r\n     </g>\r\n    </g>\r\n   </g>\r\n   <g id=\"matplotlib.axis_4\">\r\n    <g id=\"ytick_6\">\r\n     <g id=\"line2d_19\">\r\n      <path clip-path=\"url(#p63b3f33049)\" d=\"M 228.884783 239.758125 \r\nL 374.45 239.758125 \r\n\" style=\"fill:none;stroke:#b0b0b0;stroke-linecap:square;stroke-width:0.8;\"/>\r\n     </g>\r\n     <g id=\"line2d_20\">\r\n      <g>\r\n       <use style=\"stroke:#000000;stroke-width:0.8;\" x=\"228.884783\" xlink:href=\"#m38cec74bd1\" y=\"239.758125\"/>\r\n      </g>\r\n     </g>\r\n     <g id=\"text_11\">\r\n      <!-- 0 -->\r\n      <g transform=\"translate(215.522283 243.557344)scale(0.1 -0.1)\">\r\n       <use xlink:href=\"#DejaVuSans-30\"/>\r\n      </g>\r\n     </g>\r\n    </g>\r\n    <g id=\"ytick_7\">\r\n     <g id=\"line2d_21\">\r\n      <path clip-path=\"url(#p63b3f33049)\" d=\"M 228.884783 211.107639 \r\nL 374.45 211.107639 \r\n\" style=\"fill:none;stroke:#b0b0b0;stroke-linecap:square;stroke-width:0.8;\"/>\r\n     </g>\r\n     <g id=\"line2d_22\">\r\n      <g>\r\n       <use style=\"stroke:#000000;stroke-width:0.8;\" x=\"228.884783\" xlink:href=\"#m38cec74bd1\" y=\"211.107639\"/>\r\n      </g>\r\n     </g>\r\n     <g id=\"text_12\">\r\n      <!-- 250 -->\r\n      <g transform=\"translate(202.797283 214.906858)scale(0.1 -0.1)\">\r\n       <use xlink:href=\"#DejaVuSans-32\"/>\r\n       <use x=\"63.623047\" xlink:href=\"#DejaVuSans-35\"/>\r\n       <use x=\"127.246094\" xlink:href=\"#DejaVuSans-30\"/>\r\n      </g>\r\n     </g>\r\n    </g>\r\n    <g id=\"ytick_8\">\r\n     <g id=\"line2d_23\">\r\n      <path clip-path=\"url(#p63b3f33049)\" d=\"M 228.884783 182.457153 \r\nL 374.45 182.457153 \r\n\" style=\"fill:none;stroke:#b0b0b0;stroke-linecap:square;stroke-width:0.8;\"/>\r\n     </g>\r\n     <g id=\"line2d_24\">\r\n      <g>\r\n       <use style=\"stroke:#000000;stroke-width:0.8;\" x=\"228.884783\" xlink:href=\"#m38cec74bd1\" y=\"182.457153\"/>\r\n      </g>\r\n     </g>\r\n     <g id=\"text_13\">\r\n      <!-- 500 -->\r\n      <g transform=\"translate(202.797283 186.256371)scale(0.1 -0.1)\">\r\n       <use xlink:href=\"#DejaVuSans-35\"/>\r\n       <use x=\"63.623047\" xlink:href=\"#DejaVuSans-30\"/>\r\n       <use x=\"127.246094\" xlink:href=\"#DejaVuSans-30\"/>\r\n      </g>\r\n     </g>\r\n    </g>\r\n    <g id=\"ytick_9\">\r\n     <g id=\"line2d_25\">\r\n      <path clip-path=\"url(#p63b3f33049)\" d=\"M 228.884783 153.806666 \r\nL 374.45 153.806666 \r\n\" style=\"fill:none;stroke:#b0b0b0;stroke-linecap:square;stroke-width:0.8;\"/>\r\n     </g>\r\n     <g id=\"line2d_26\">\r\n      <g>\r\n       <use style=\"stroke:#000000;stroke-width:0.8;\" x=\"228.884783\" xlink:href=\"#m38cec74bd1\" y=\"153.806666\"/>\r\n      </g>\r\n     </g>\r\n     <g id=\"text_14\">\r\n      <!-- 750 -->\r\n      <defs>\r\n       <path d=\"M 8.203125 72.90625 \r\nL 55.078125 72.90625 \r\nL 55.078125 68.703125 \r\nL 28.609375 0 \r\nL 18.3125 0 \r\nL 43.21875 64.59375 \r\nL 8.203125 64.59375 \r\nz\r\n\" id=\"DejaVuSans-37\"/>\r\n      </defs>\r\n      <g transform=\"translate(202.797283 157.605885)scale(0.1 -0.1)\">\r\n       <use xlink:href=\"#DejaVuSans-37\"/>\r\n       <use x=\"63.623047\" xlink:href=\"#DejaVuSans-35\"/>\r\n       <use x=\"127.246094\" xlink:href=\"#DejaVuSans-30\"/>\r\n      </g>\r\n     </g>\r\n    </g>\r\n    <g id=\"ytick_10\">\r\n     <g id=\"line2d_27\">\r\n      <path clip-path=\"url(#p63b3f33049)\" d=\"M 228.884783 125.15618 \r\nL 374.45 125.15618 \r\n\" style=\"fill:none;stroke:#b0b0b0;stroke-linecap:square;stroke-width:0.8;\"/>\r\n     </g>\r\n     <g id=\"line2d_28\">\r\n      <g>\r\n       <use style=\"stroke:#000000;stroke-width:0.8;\" x=\"228.884783\" xlink:href=\"#m38cec74bd1\" y=\"125.15618\"/>\r\n      </g>\r\n     </g>\r\n     <g id=\"text_15\">\r\n      <!-- 1000 -->\r\n      <g transform=\"translate(196.434783 128.955399)scale(0.1 -0.1)\">\r\n       <use xlink:href=\"#DejaVuSans-31\"/>\r\n       <use x=\"63.623047\" xlink:href=\"#DejaVuSans-30\"/>\r\n       <use x=\"127.246094\" xlink:href=\"#DejaVuSans-30\"/>\r\n       <use x=\"190.869141\" xlink:href=\"#DejaVuSans-30\"/>\r\n      </g>\r\n     </g>\r\n    </g>\r\n    <g id=\"ytick_11\">\r\n     <g id=\"line2d_29\">\r\n      <path clip-path=\"url(#p63b3f33049)\" d=\"M 228.884783 96.505694 \r\nL 374.45 96.505694 \r\n\" style=\"fill:none;stroke:#b0b0b0;stroke-linecap:square;stroke-width:0.8;\"/>\r\n     </g>\r\n     <g id=\"line2d_30\">\r\n      <g>\r\n       <use style=\"stroke:#000000;stroke-width:0.8;\" x=\"228.884783\" xlink:href=\"#m38cec74bd1\" y=\"96.505694\"/>\r\n      </g>\r\n     </g>\r\n     <g id=\"text_16\">\r\n      <!-- 1250 -->\r\n      <g transform=\"translate(196.434783 100.304913)scale(0.1 -0.1)\">\r\n       <use xlink:href=\"#DejaVuSans-31\"/>\r\n       <use x=\"63.623047\" xlink:href=\"#DejaVuSans-32\"/>\r\n       <use x=\"127.246094\" xlink:href=\"#DejaVuSans-35\"/>\r\n       <use x=\"190.869141\" xlink:href=\"#DejaVuSans-30\"/>\r\n      </g>\r\n     </g>\r\n    </g>\r\n    <g id=\"ytick_12\">\r\n     <g id=\"line2d_31\">\r\n      <path clip-path=\"url(#p63b3f33049)\" d=\"M 228.884783 67.855208 \r\nL 374.45 67.855208 \r\n\" style=\"fill:none;stroke:#b0b0b0;stroke-linecap:square;stroke-width:0.8;\"/>\r\n     </g>\r\n     <g id=\"line2d_32\">\r\n      <g>\r\n       <use style=\"stroke:#000000;stroke-width:0.8;\" x=\"228.884783\" xlink:href=\"#m38cec74bd1\" y=\"67.855208\"/>\r\n      </g>\r\n     </g>\r\n     <g id=\"text_17\">\r\n      <!-- 1500 -->\r\n      <g transform=\"translate(196.434783 71.654427)scale(0.1 -0.1)\">\r\n       <use xlink:href=\"#DejaVuSans-31\"/>\r\n       <use x=\"63.623047\" xlink:href=\"#DejaVuSans-35\"/>\r\n       <use x=\"127.246094\" xlink:href=\"#DejaVuSans-30\"/>\r\n       <use x=\"190.869141\" xlink:href=\"#DejaVuSans-30\"/>\r\n      </g>\r\n     </g>\r\n    </g>\r\n    <g id=\"ytick_13\">\r\n     <g id=\"line2d_33\">\r\n      <path clip-path=\"url(#p63b3f33049)\" d=\"M 228.884783 39.204722 \r\nL 374.45 39.204722 \r\n\" style=\"fill:none;stroke:#b0b0b0;stroke-linecap:square;stroke-width:0.8;\"/>\r\n     </g>\r\n     <g id=\"line2d_34\">\r\n      <g>\r\n       <use style=\"stroke:#000000;stroke-width:0.8;\" x=\"228.884783\" xlink:href=\"#m38cec74bd1\" y=\"39.204722\"/>\r\n      </g>\r\n     </g>\r\n     <g id=\"text_18\">\r\n      <!-- 1750 -->\r\n      <g transform=\"translate(196.434783 43.00394)scale(0.1 -0.1)\">\r\n       <use xlink:href=\"#DejaVuSans-31\"/>\r\n       <use x=\"63.623047\" xlink:href=\"#DejaVuSans-37\"/>\r\n       <use x=\"127.246094\" xlink:href=\"#DejaVuSans-35\"/>\r\n       <use x=\"190.869141\" xlink:href=\"#DejaVuSans-30\"/>\r\n      </g>\r\n     </g>\r\n    </g>\r\n   </g>\r\n   <g id=\"patch_28\">\r\n    <path d=\"M 228.884783 239.758125 \r\nL 228.884783 22.318125 \r\n\" style=\"fill:none;stroke:#000000;stroke-linecap:square;stroke-linejoin:miter;stroke-width:0.8;\"/>\r\n   </g>\r\n   <g id=\"patch_29\">\r\n    <path d=\"M 374.45 239.758125 \r\nL 374.45 22.318125 \r\n\" style=\"fill:none;stroke:#000000;stroke-linecap:square;stroke-linejoin:miter;stroke-width:0.8;\"/>\r\n   </g>\r\n   <g id=\"patch_30\">\r\n    <path d=\"M 228.884783 239.758125 \r\nL 374.45 239.758125 \r\n\" style=\"fill:none;stroke:#000000;stroke-linecap:square;stroke-linejoin:miter;stroke-width:0.8;\"/>\r\n   </g>\r\n   <g id=\"patch_31\">\r\n    <path d=\"M 228.884783 22.318125 \r\nL 374.45 22.318125 \r\n\" style=\"fill:none;stroke:#000000;stroke-linecap:square;stroke-linejoin:miter;stroke-width:0.8;\"/>\r\n   </g>\r\n   <g id=\"text_19\">\r\n    <!-- Overall Pay -->\r\n    <defs>\r\n     <path d=\"M 39.40625 66.21875 \r\nQ 28.65625 66.21875 22.328125 58.203125 \r\nQ 16.015625 50.203125 16.015625 36.375 \r\nQ 16.015625 22.609375 22.328125 14.59375 \r\nQ 28.65625 6.59375 39.40625 6.59375 \r\nQ 50.140625 6.59375 56.421875 14.59375 \r\nQ 62.703125 22.609375 62.703125 36.375 \r\nQ 62.703125 50.203125 56.421875 58.203125 \r\nQ 50.140625 66.21875 39.40625 66.21875 \r\nz\r\nM 39.40625 74.21875 \r\nQ 54.734375 74.21875 63.90625 63.9375 \r\nQ 73.09375 53.65625 73.09375 36.375 \r\nQ 73.09375 19.140625 63.90625 8.859375 \r\nQ 54.734375 -1.421875 39.40625 -1.421875 \r\nQ 24.03125 -1.421875 14.8125 8.828125 \r\nQ 5.609375 19.09375 5.609375 36.375 \r\nQ 5.609375 53.65625 14.8125 63.9375 \r\nQ 24.03125 74.21875 39.40625 74.21875 \r\nz\r\n\" id=\"DejaVuSans-4f\"/>\r\n     <path d=\"M 2.984375 54.6875 \r\nL 12.5 54.6875 \r\nL 29.59375 8.796875 \r\nL 46.6875 54.6875 \r\nL 56.203125 54.6875 \r\nL 35.6875 0 \r\nL 23.484375 0 \r\nz\r\n\" id=\"DejaVuSans-76\"/>\r\n     <path d=\"M 56.203125 29.59375 \r\nL 56.203125 25.203125 \r\nL 14.890625 25.203125 \r\nQ 15.484375 15.921875 20.484375 11.0625 \r\nQ 25.484375 6.203125 34.421875 6.203125 \r\nQ 39.59375 6.203125 44.453125 7.46875 \r\nQ 49.3125 8.734375 54.109375 11.28125 \r\nL 54.109375 2.78125 \r\nQ 49.265625 0.734375 44.1875 -0.34375 \r\nQ 39.109375 -1.421875 33.890625 -1.421875 \r\nQ 20.796875 -1.421875 13.15625 6.1875 \r\nQ 5.515625 13.8125 5.515625 26.8125 \r\nQ 5.515625 40.234375 12.765625 48.109375 \r\nQ 20.015625 56 32.328125 56 \r\nQ 43.359375 56 49.78125 48.890625 \r\nQ 56.203125 41.796875 56.203125 29.59375 \r\nz\r\nM 47.21875 32.234375 \r\nQ 47.125 39.59375 43.09375 43.984375 \r\nQ 39.0625 48.390625 32.421875 48.390625 \r\nQ 24.90625 48.390625 20.390625 44.140625 \r\nQ 15.875 39.890625 15.1875 32.171875 \r\nz\r\n\" id=\"DejaVuSans-65\"/>\r\n     <path d=\"M 41.109375 46.296875 \r\nQ 39.59375 47.171875 37.8125 47.578125 \r\nQ 36.03125 48 33.890625 48 \r\nQ 26.265625 48 22.1875 43.046875 \r\nQ 18.109375 38.09375 18.109375 28.8125 \r\nL 18.109375 0 \r\nL 9.078125 0 \r\nL 9.078125 54.6875 \r\nL 18.109375 54.6875 \r\nL 18.109375 46.1875 \r\nQ 20.953125 51.171875 25.484375 53.578125 \r\nQ 30.03125 56 36.53125 56 \r\nQ 37.453125 56 38.578125 55.875 \r\nQ 39.703125 55.765625 41.0625 55.515625 \r\nz\r\n\" id=\"DejaVuSans-72\"/>\r\n     <path d=\"M 9.421875 75.984375 \r\nL 18.40625 75.984375 \r\nL 18.40625 0 \r\nL 9.421875 0 \r\nz\r\n\" id=\"DejaVuSans-6c\"/>\r\n     <path d=\"M 19.671875 64.796875 \r\nL 19.671875 37.40625 \r\nL 32.078125 37.40625 \r\nQ 38.96875 37.40625 42.71875 40.96875 \r\nQ 46.484375 44.53125 46.484375 51.125 \r\nQ 46.484375 57.671875 42.71875 61.234375 \r\nQ 38.96875 64.796875 32.078125 64.796875 \r\nz\r\nM 9.8125 72.90625 \r\nL 32.078125 72.90625 \r\nQ 44.34375 72.90625 50.609375 67.359375 \r\nQ 56.890625 61.8125 56.890625 51.125 \r\nQ 56.890625 40.328125 50.609375 34.8125 \r\nQ 44.34375 29.296875 32.078125 29.296875 \r\nL 19.671875 29.296875 \r\nL 19.671875 0 \r\nL 9.8125 0 \r\nz\r\n\" id=\"DejaVuSans-50\"/>\r\n     <path d=\"M 32.171875 -5.078125 \r\nQ 28.375 -14.84375 24.75 -17.8125 \r\nQ 21.140625 -20.796875 15.09375 -20.796875 \r\nL 7.90625 -20.796875 \r\nL 7.90625 -13.28125 \r\nL 13.1875 -13.28125 \r\nQ 16.890625 -13.28125 18.9375 -11.515625 \r\nQ 21 -9.765625 23.484375 -3.21875 \r\nL 25.09375 0.875 \r\nL 2.984375 54.6875 \r\nL 12.5 54.6875 \r\nL 29.59375 11.921875 \r\nL 46.6875 54.6875 \r\nL 56.203125 54.6875 \r\nz\r\n\" id=\"DejaVuSans-79\"/>\r\n    </defs>\r\n    <g transform=\"translate(267.474891 16.318125)scale(0.12 -0.12)\">\r\n     <use xlink:href=\"#DejaVuSans-4f\"/>\r\n     <use x=\"78.710938\" xlink:href=\"#DejaVuSans-76\"/>\r\n     <use x=\"137.890625\" xlink:href=\"#DejaVuSans-65\"/>\r\n     <use x=\"199.414062\" xlink:href=\"#DejaVuSans-72\"/>\r\n     <use x=\"240.527344\" xlink:href=\"#DejaVuSans-61\"/>\r\n     <use x=\"301.806641\" xlink:href=\"#DejaVuSans-6c\"/>\r\n     <use x=\"329.589844\" xlink:href=\"#DejaVuSans-6c\"/>\r\n     <use x=\"357.373047\" xlink:href=\"#DejaVuSans-20\"/>\r\n     <use x=\"389.160156\" xlink:href=\"#DejaVuSans-50\"/>\r\n     <use x=\"449.400391\" xlink:href=\"#DejaVuSans-61\"/>\r\n     <use x=\"510.679688\" xlink:href=\"#DejaVuSans-79\"/>\r\n    </g>\r\n   </g>\r\n  </g>\r\n </g>\r\n <defs>\r\n  <clipPath id=\"p7a5c47c326\">\r\n   <rect height=\"217.44\" width=\"145.565217\" x=\"39.65\" y=\"22.318125\"/>\r\n  </clipPath>\r\n  <clipPath id=\"p63b3f33049\">\r\n   <rect height=\"217.44\" width=\"145.565217\" x=\"228.884783\" y=\"22.318125\"/>\r\n  </clipPath>\r\n </defs>\r\n</svg>\r\n",
      "image/png": "[encoded data removed]"
     },
     "metadata": {
      "needs_background": "light"
     }
    }
   ],
   "source": [
    "# The histograms of the LW Ratio and Overall Pay\n",
    "data.hist()"
   ]
  },
  {
   "cell_type": "code",
   "execution_count": 143,
   "metadata": {},
   "outputs": [
    {
     "output_type": "execute_result",
     "data": {
      "text/plain": "0.3646378408152024"
     },
     "metadata": {},
     "execution_count": 143
    }
   ],
   "source": [
    "# 36% of the remaining PhD salaries after cleaning are still below the living wage\n",
    "(data['LW Ratio']<=1).sum() / len(data['LW Ratio'].dropna())"
   ]
  },
  {
   "cell_type": "code",
   "execution_count": 144,
   "metadata": {},
   "outputs": [
    {
     "output_type": "execute_result",
     "data": {
      "text/plain": "University        204\nDepartment        388\nOverall Pay         0\nLW Ratio          734\nAcademic Year       2\nProgram Year      899\nComments         5975\ndtype: int64"
     },
     "metadata": {},
     "execution_count": 144
    }
   ],
   "source": [
    "# there are clearly several NaN values -- let's check more thoroughly\n",
    "data.isnull().sum()"
   ]
  },
  {
   "cell_type": "code",
   "execution_count": 145,
   "metadata": {
    "tags": []
   },
   "outputs": [
    {
     "output_type": "execute_result",
     "data": {
      "text/plain": "<matplotlib.axes._subplots.AxesSubplot at 0x1fd21f6a5f8>"
     },
     "metadata": {},
     "execution_count": 145
    },
    {
     "output_type": "display_data",
     "data": {
      "text/plain": "<Figure size 432x288 with 1 Axes>",
      "image/svg+xml": "<?xml version=\"1.0\" encoding=\"utf-8\" standalone=\"no\"?>\r\n<!DOCTYPE svg PUBLIC \"-//W3C//DTD SVG 1.1//EN\"\r\n  \"http://www.w3.org/Graphics/SVG/1.1/DTD/svg11.dtd\">\r\n<!-- Created with matplotlib (http://matplotlib.org/) -->\r\n<svg height=\"265.69625pt\" version=\"1.1\" viewBox=\"0 0 391.5125 265.69625\" width=\"391.5125pt\" xmlns=\"http://www.w3.org/2000/svg\" xmlns:xlink=\"http://www.w3.org/1999/xlink\">\r\n <defs>\r\n  <style type=\"text/css\">\r\n*{stroke-linecap:butt;stroke-linejoin:round;}\r\n  </style>\r\n </defs>\r\n <g id=\"figure_1\">\r\n  <g id=\"patch_1\">\r\n   <path d=\"M 0 265.69625 \r\nL 391.5125 265.69625 \r\nL 391.5125 0 \r\nL 0 0 \r\nz\r\n\" style=\"fill:none;\"/>\r\n  </g>\r\n  <g id=\"axes_1\">\r\n   <g id=\"patch_2\">\r\n    <path d=\"M 46.0125 228.14 \r\nL 380.8125 228.14 \r\nL 380.8125 10.7 \r\nL 46.0125 10.7 \r\nz\r\n\" style=\"fill:#ffffff;\"/>\r\n   </g>\r\n   <g id=\"matplotlib.axis_1\">\r\n    <g id=\"xtick_1\">\r\n     <g id=\"line2d_1\">\r\n      <defs>\r\n       <path d=\"M 0 0 \r\nL 0 3.5 \r\n\" id=\"mb6b47f0e61\" style=\"stroke:#000000;stroke-width:0.8;\"/>\r\n      </defs>\r\n      <g>\r\n       <use style=\"stroke:#000000;stroke-width:0.8;\" x=\"61.230682\" xlink:href=\"#mb6b47f0e61\" y=\"228.14\"/>\r\n      </g>\r\n     </g>\r\n     <g id=\"text_1\">\r\n      <!-- 2002-2003 -->\r\n      <defs>\r\n       <path d=\"M 19.1875 8.296875 \r\nL 53.609375 8.296875 \r\nL 53.609375 0 \r\nL 7.328125 0 \r\nL 7.328125 8.296875 \r\nQ 12.9375 14.109375 22.625 23.890625 \r\nQ 32.328125 33.6875 34.8125 36.53125 \r\nQ 39.546875 41.84375 41.421875 45.53125 \r\nQ 43.3125 49.21875 43.3125 52.78125 \r\nQ 43.3125 58.59375 39.234375 62.25 \r\nQ 35.15625 65.921875 28.609375 65.921875 \r\nQ 23.96875 65.921875 18.8125 64.3125 \r\nQ 13.671875 62.703125 7.8125 59.421875 \r\nL 7.8125 69.390625 \r\nQ 13.765625 71.78125 18.9375 73 \r\nQ 24.125 74.21875 28.421875 74.21875 \r\nQ 39.75 74.21875 46.484375 68.546875 \r\nQ 53.21875 62.890625 53.21875 53.421875 \r\nQ 53.21875 48.921875 51.53125 44.890625 \r\nQ 49.859375 40.875 45.40625 35.40625 \r\nQ 44.1875 33.984375 37.640625 27.21875 \r\nQ 31.109375 20.453125 19.1875 8.296875 \r\nz\r\n\" id=\"DejaVuSans-32\"/>\r\n       <path d=\"M 31.78125 66.40625 \r\nQ 24.171875 66.40625 20.328125 58.90625 \r\nQ 16.5 51.421875 16.5 36.375 \r\nQ 16.5 21.390625 20.328125 13.890625 \r\nQ 24.171875 6.390625 31.78125 6.390625 \r\nQ 39.453125 6.390625 43.28125 13.890625 \r\nQ 47.125 21.390625 47.125 36.375 \r\nQ 47.125 51.421875 43.28125 58.90625 \r\nQ 39.453125 66.40625 31.78125 66.40625 \r\nz\r\nM 31.78125 74.21875 \r\nQ 44.046875 74.21875 50.515625 64.515625 \r\nQ 56.984375 54.828125 56.984375 36.375 \r\nQ 56.984375 17.96875 50.515625 8.265625 \r\nQ 44.046875 -1.421875 31.78125 -1.421875 \r\nQ 19.53125 -1.421875 13.0625 8.265625 \r\nQ 6.59375 17.96875 6.59375 36.375 \r\nQ 6.59375 54.828125 13.0625 64.515625 \r\nQ 19.53125 74.21875 31.78125 74.21875 \r\nz\r\n\" id=\"DejaVuSans-30\"/>\r\n       <path d=\"M 4.890625 31.390625 \r\nL 31.203125 31.390625 \r\nL 31.203125 23.390625 \r\nL 4.890625 23.390625 \r\nz\r\n\" id=\"DejaVuSans-2d\"/>\r\n       <path d=\"M 40.578125 39.3125 \r\nQ 47.65625 37.796875 51.625 33 \r\nQ 55.609375 28.21875 55.609375 21.1875 \r\nQ 55.609375 10.40625 48.1875 4.484375 \r\nQ 40.765625 -1.421875 27.09375 -1.421875 \r\nQ 22.515625 -1.421875 17.65625 -0.515625 \r\nQ 12.796875 0.390625 7.625 2.203125 \r\nL 7.625 11.71875 \r\nQ 11.71875 9.328125 16.59375 8.109375 \r\nQ 21.484375 6.890625 26.8125 6.890625 \r\nQ 36.078125 6.890625 40.9375 10.546875 \r\nQ 45.796875 14.203125 45.796875 21.1875 \r\nQ 45.796875 27.640625 41.28125 31.265625 \r\nQ 36.765625 34.90625 28.71875 34.90625 \r\nL 20.21875 34.90625 \r\nL 20.21875 43.015625 \r\nL 29.109375 43.015625 \r\nQ 36.375 43.015625 40.234375 45.921875 \r\nQ 44.09375 48.828125 44.09375 54.296875 \r\nQ 44.09375 59.90625 40.109375 62.90625 \r\nQ 36.140625 65.921875 28.71875 65.921875 \r\nQ 24.65625 65.921875 20.015625 65.03125 \r\nQ 15.375 64.15625 9.8125 62.3125 \r\nL 9.8125 71.09375 \r\nQ 15.4375 72.65625 20.34375 73.4375 \r\nQ 25.25 74.21875 29.59375 74.21875 \r\nQ 40.828125 74.21875 47.359375 69.109375 \r\nQ 53.90625 64.015625 53.90625 55.328125 \r\nQ 53.90625 49.265625 50.4375 45.09375 \r\nQ 46.96875 40.921875 40.578125 39.3125 \r\nz\r\n\" id=\"DejaVuSans-33\"/>\r\n      </defs>\r\n      <g transform=\"translate(33.976776 242.738437)scale(0.1 -0.1)\">\r\n       <use xlink:href=\"#DejaVuSans-32\"/>\r\n       <use x=\"63.623047\" xlink:href=\"#DejaVuSans-30\"/>\r\n       <use x=\"127.246094\" xlink:href=\"#DejaVuSans-30\"/>\r\n       <use x=\"190.869141\" xlink:href=\"#DejaVuSans-32\"/>\r\n       <use x=\"254.492188\" xlink:href=\"#DejaVuSans-2d\"/>\r\n       <use x=\"290.576172\" xlink:href=\"#DejaVuSans-32\"/>\r\n       <use x=\"354.199219\" xlink:href=\"#DejaVuSans-30\"/>\r\n       <use x=\"417.822266\" xlink:href=\"#DejaVuSans-30\"/>\r\n       <use x=\"481.445312\" xlink:href=\"#DejaVuSans-33\"/>\r\n      </g>\r\n     </g>\r\n    </g>\r\n    <g id=\"xtick_2\">\r\n     <g id=\"line2d_2\">\r\n      <g>\r\n       <use style=\"stroke:#000000;stroke-width:0.8;\" x=\"103.503409\" xlink:href=\"#mb6b47f0e61\" y=\"228.14\"/>\r\n      </g>\r\n     </g>\r\n    </g>\r\n    <g id=\"xtick_3\">\r\n     <g id=\"line2d_3\">\r\n      <g>\r\n       <use style=\"stroke:#000000;stroke-width:0.8;\" x=\"145.776136\" xlink:href=\"#mb6b47f0e61\" y=\"228.14\"/>\r\n      </g>\r\n     </g>\r\n     <g id=\"text_2\">\r\n      <!-- 2007-2008 -->\r\n      <defs>\r\n       <path d=\"M 8.203125 72.90625 \r\nL 55.078125 72.90625 \r\nL 55.078125 68.703125 \r\nL 28.609375 0 \r\nL 18.3125 0 \r\nL 43.21875 64.59375 \r\nL 8.203125 64.59375 \r\nz\r\n\" id=\"DejaVuSans-37\"/>\r\n       <path d=\"M 31.78125 34.625 \r\nQ 24.75 34.625 20.71875 30.859375 \r\nQ 16.703125 27.09375 16.703125 20.515625 \r\nQ 16.703125 13.921875 20.71875 10.15625 \r\nQ 24.75 6.390625 31.78125 6.390625 \r\nQ 38.8125 6.390625 42.859375 10.171875 \r\nQ 46.921875 13.96875 46.921875 20.515625 \r\nQ 46.921875 27.09375 42.890625 30.859375 \r\nQ 38.875 34.625 31.78125 34.625 \r\nz\r\nM 21.921875 38.8125 \r\nQ 15.578125 40.375 12.03125 44.71875 \r\nQ 8.5 49.078125 8.5 55.328125 \r\nQ 8.5 64.0625 14.71875 69.140625 \r\nQ 20.953125 74.21875 31.78125 74.21875 \r\nQ 42.671875 74.21875 48.875 69.140625 \r\nQ 55.078125 64.0625 55.078125 55.328125 \r\nQ 55.078125 49.078125 51.53125 44.71875 \r\nQ 48 40.375 41.703125 38.8125 \r\nQ 48.828125 37.15625 52.796875 32.3125 \r\nQ 56.78125 27.484375 56.78125 20.515625 \r\nQ 56.78125 9.90625 50.3125 4.234375 \r\nQ 43.84375 -1.421875 31.78125 -1.421875 \r\nQ 19.734375 -1.421875 13.25 4.234375 \r\nQ 6.78125 9.90625 6.78125 20.515625 \r\nQ 6.78125 27.484375 10.78125 32.3125 \r\nQ 14.796875 37.15625 21.921875 38.8125 \r\nz\r\nM 18.3125 54.390625 \r\nQ 18.3125 48.734375 21.84375 45.5625 \r\nQ 25.390625 42.390625 31.78125 42.390625 \r\nQ 38.140625 42.390625 41.71875 45.5625 \r\nQ 45.3125 48.734375 45.3125 54.390625 \r\nQ 45.3125 60.0625 41.71875 63.234375 \r\nQ 38.140625 66.40625 31.78125 66.40625 \r\nQ 25.390625 66.40625 21.84375 63.234375 \r\nQ 18.3125 60.0625 18.3125 54.390625 \r\nz\r\n\" id=\"DejaVuSans-38\"/>\r\n      </defs>\r\n      <g transform=\"translate(118.52223 242.738437)scale(0.1 -0.1)\">\r\n       <use xlink:href=\"#DejaVuSans-32\"/>\r\n       <use x=\"63.623047\" xlink:href=\"#DejaVuSans-30\"/>\r\n       <use x=\"127.246094\" xlink:href=\"#DejaVuSans-30\"/>\r\n       <use x=\"190.869141\" xlink:href=\"#DejaVuSans-37\"/>\r\n       <use x=\"254.492188\" xlink:href=\"#DejaVuSans-2d\"/>\r\n       <use x=\"290.576172\" xlink:href=\"#DejaVuSans-32\"/>\r\n       <use x=\"354.199219\" xlink:href=\"#DejaVuSans-30\"/>\r\n       <use x=\"417.822266\" xlink:href=\"#DejaVuSans-30\"/>\r\n       <use x=\"481.445312\" xlink:href=\"#DejaVuSans-38\"/>\r\n      </g>\r\n     </g>\r\n    </g>\r\n    <g id=\"xtick_4\">\r\n     <g id=\"line2d_4\">\r\n      <g>\r\n       <use style=\"stroke:#000000;stroke-width:0.8;\" x=\"188.048864\" xlink:href=\"#mb6b47f0e61\" y=\"228.14\"/>\r\n      </g>\r\n     </g>\r\n    </g>\r\n    <g id=\"xtick_5\">\r\n     <g id=\"line2d_5\">\r\n      <g>\r\n       <use style=\"stroke:#000000;stroke-width:0.8;\" x=\"230.321591\" xlink:href=\"#mb6b47f0e61\" y=\"228.14\"/>\r\n      </g>\r\n     </g>\r\n     <g id=\"text_3\">\r\n      <!-- 2012-2013 -->\r\n      <defs>\r\n       <path d=\"M 12.40625 8.296875 \r\nL 28.515625 8.296875 \r\nL 28.515625 63.921875 \r\nL 10.984375 60.40625 \r\nL 10.984375 69.390625 \r\nL 28.421875 72.90625 \r\nL 38.28125 72.90625 \r\nL 38.28125 8.296875 \r\nL 54.390625 8.296875 \r\nL 54.390625 0 \r\nL 12.40625 0 \r\nz\r\n\" id=\"DejaVuSans-31\"/>\r\n      </defs>\r\n      <g transform=\"translate(203.067685 242.738437)scale(0.1 -0.1)\">\r\n       <use xlink:href=\"#DejaVuSans-32\"/>\r\n       <use x=\"63.623047\" xlink:href=\"#DejaVuSans-30\"/>\r\n       <use x=\"127.246094\" xlink:href=\"#DejaVuSans-31\"/>\r\n       <use x=\"190.869141\" xlink:href=\"#DejaVuSans-32\"/>\r\n       <use x=\"254.492188\" xlink:href=\"#DejaVuSans-2d\"/>\r\n       <use x=\"290.576172\" xlink:href=\"#DejaVuSans-32\"/>\r\n       <use x=\"354.199219\" xlink:href=\"#DejaVuSans-30\"/>\r\n       <use x=\"417.822266\" xlink:href=\"#DejaVuSans-31\"/>\r\n       <use x=\"481.445312\" xlink:href=\"#DejaVuSans-33\"/>\r\n      </g>\r\n     </g>\r\n    </g>\r\n    <g id=\"xtick_6\">\r\n     <g id=\"line2d_6\">\r\n      <g>\r\n       <use style=\"stroke:#000000;stroke-width:0.8;\" x=\"272.594318\" xlink:href=\"#mb6b47f0e61\" y=\"228.14\"/>\r\n      </g>\r\n     </g>\r\n    </g>\r\n    <g id=\"xtick_7\">\r\n     <g id=\"line2d_7\">\r\n      <g>\r\n       <use style=\"stroke:#000000;stroke-width:0.8;\" x=\"314.867045\" xlink:href=\"#mb6b47f0e61\" y=\"228.14\"/>\r\n      </g>\r\n     </g>\r\n     <g id=\"text_4\">\r\n      <!-- 2017-2018 -->\r\n      <g transform=\"translate(287.613139 242.738437)scale(0.1 -0.1)\">\r\n       <use xlink:href=\"#DejaVuSans-32\"/>\r\n       <use x=\"63.623047\" xlink:href=\"#DejaVuSans-30\"/>\r\n       <use x=\"127.246094\" xlink:href=\"#DejaVuSans-31\"/>\r\n       <use x=\"190.869141\" xlink:href=\"#DejaVuSans-37\"/>\r\n       <use x=\"254.492188\" xlink:href=\"#DejaVuSans-2d\"/>\r\n       <use x=\"290.576172\" xlink:href=\"#DejaVuSans-32\"/>\r\n       <use x=\"354.199219\" xlink:href=\"#DejaVuSans-30\"/>\r\n       <use x=\"417.822266\" xlink:href=\"#DejaVuSans-31\"/>\r\n       <use x=\"481.445312\" xlink:href=\"#DejaVuSans-38\"/>\r\n      </g>\r\n     </g>\r\n    </g>\r\n    <g id=\"xtick_8\">\r\n     <g id=\"line2d_8\">\r\n      <g>\r\n       <use style=\"stroke:#000000;stroke-width:0.8;\" x=\"357.139773\" xlink:href=\"#mb6b47f0e61\" y=\"228.14\"/>\r\n      </g>\r\n     </g>\r\n    </g>\r\n    <g id=\"text_5\">\r\n     <!-- Academic Year -->\r\n     <defs>\r\n      <path d=\"M 34.1875 63.1875 \r\nL 20.796875 26.90625 \r\nL 47.609375 26.90625 \r\nz\r\nM 28.609375 72.90625 \r\nL 39.796875 72.90625 \r\nL 67.578125 0 \r\nL 57.328125 0 \r\nL 50.6875 18.703125 \r\nL 17.828125 18.703125 \r\nL 11.1875 0 \r\nL 0.78125 0 \r\nz\r\n\" id=\"DejaVuSans-41\"/>\r\n      <path d=\"M 48.78125 52.59375 \r\nL 48.78125 44.1875 \r\nQ 44.96875 46.296875 41.140625 47.34375 \r\nQ 37.3125 48.390625 33.40625 48.390625 \r\nQ 24.65625 48.390625 19.8125 42.84375 \r\nQ 14.984375 37.3125 14.984375 27.296875 \r\nQ 14.984375 17.28125 19.8125 11.734375 \r\nQ 24.65625 6.203125 33.40625 6.203125 \r\nQ 37.3125 6.203125 41.140625 7.25 \r\nQ 44.96875 8.296875 48.78125 10.40625 \r\nL 48.78125 2.09375 \r\nQ 45.015625 0.34375 40.984375 -0.53125 \r\nQ 36.96875 -1.421875 32.421875 -1.421875 \r\nQ 20.0625 -1.421875 12.78125 6.34375 \r\nQ 5.515625 14.109375 5.515625 27.296875 \r\nQ 5.515625 40.671875 12.859375 48.328125 \r\nQ 20.21875 56 33.015625 56 \r\nQ 37.15625 56 41.109375 55.140625 \r\nQ 45.0625 54.296875 48.78125 52.59375 \r\nz\r\n\" id=\"DejaVuSans-63\"/>\r\n      <path d=\"M 34.28125 27.484375 \r\nQ 23.390625 27.484375 19.1875 25 \r\nQ 14.984375 22.515625 14.984375 16.5 \r\nQ 14.984375 11.71875 18.140625 8.90625 \r\nQ 21.296875 6.109375 26.703125 6.109375 \r\nQ 34.1875 6.109375 38.703125 11.40625 \r\nQ 43.21875 16.703125 43.21875 25.484375 \r\nL 43.21875 27.484375 \r\nz\r\nM 52.203125 31.203125 \r\nL 52.203125 0 \r\nL 43.21875 0 \r\nL 43.21875 8.296875 \r\nQ 40.140625 3.328125 35.546875 0.953125 \r\nQ 30.953125 -1.421875 24.3125 -1.421875 \r\nQ 15.921875 -1.421875 10.953125 3.296875 \r\nQ 6 8.015625 6 15.921875 \r\nQ 6 25.140625 12.171875 29.828125 \r\nQ 18.359375 34.515625 30.609375 34.515625 \r\nL 43.21875 34.515625 \r\nL 43.21875 35.40625 \r\nQ 43.21875 41.609375 39.140625 45 \r\nQ 35.0625 48.390625 27.6875 48.390625 \r\nQ 23 48.390625 18.546875 47.265625 \r\nQ 14.109375 46.140625 10.015625 43.890625 \r\nL 10.015625 52.203125 \r\nQ 14.9375 54.109375 19.578125 55.046875 \r\nQ 24.21875 56 28.609375 56 \r\nQ 40.484375 56 46.34375 49.84375 \r\nQ 52.203125 43.703125 52.203125 31.203125 \r\nz\r\n\" id=\"DejaVuSans-61\"/>\r\n      <path d=\"M 45.40625 46.390625 \r\nL 45.40625 75.984375 \r\nL 54.390625 75.984375 \r\nL 54.390625 0 \r\nL 45.40625 0 \r\nL 45.40625 8.203125 \r\nQ 42.578125 3.328125 38.25 0.953125 \r\nQ 33.9375 -1.421875 27.875 -1.421875 \r\nQ 17.96875 -1.421875 11.734375 6.484375 \r\nQ 5.515625 14.40625 5.515625 27.296875 \r\nQ 5.515625 40.1875 11.734375 48.09375 \r\nQ 17.96875 56 27.875 56 \r\nQ 33.9375 56 38.25 53.625 \r\nQ 42.578125 51.265625 45.40625 46.390625 \r\nz\r\nM 14.796875 27.296875 \r\nQ 14.796875 17.390625 18.875 11.75 \r\nQ 22.953125 6.109375 30.078125 6.109375 \r\nQ 37.203125 6.109375 41.296875 11.75 \r\nQ 45.40625 17.390625 45.40625 27.296875 \r\nQ 45.40625 37.203125 41.296875 42.84375 \r\nQ 37.203125 48.484375 30.078125 48.484375 \r\nQ 22.953125 48.484375 18.875 42.84375 \r\nQ 14.796875 37.203125 14.796875 27.296875 \r\nz\r\n\" id=\"DejaVuSans-64\"/>\r\n      <path d=\"M 56.203125 29.59375 \r\nL 56.203125 25.203125 \r\nL 14.890625 25.203125 \r\nQ 15.484375 15.921875 20.484375 11.0625 \r\nQ 25.484375 6.203125 34.421875 6.203125 \r\nQ 39.59375 6.203125 44.453125 7.46875 \r\nQ 49.3125 8.734375 54.109375 11.28125 \r\nL 54.109375 2.78125 \r\nQ 49.265625 0.734375 44.1875 -0.34375 \r\nQ 39.109375 -1.421875 33.890625 -1.421875 \r\nQ 20.796875 -1.421875 13.15625 6.1875 \r\nQ 5.515625 13.8125 5.515625 26.8125 \r\nQ 5.515625 40.234375 12.765625 48.109375 \r\nQ 20.015625 56 32.328125 56 \r\nQ 43.359375 56 49.78125 48.890625 \r\nQ 56.203125 41.796875 56.203125 29.59375 \r\nz\r\nM 47.21875 32.234375 \r\nQ 47.125 39.59375 43.09375 43.984375 \r\nQ 39.0625 48.390625 32.421875 48.390625 \r\nQ 24.90625 48.390625 20.390625 44.140625 \r\nQ 15.875 39.890625 15.1875 32.171875 \r\nz\r\n\" id=\"DejaVuSans-65\"/>\r\n      <path d=\"M 52 44.1875 \r\nQ 55.375 50.25 60.0625 53.125 \r\nQ 64.75 56 71.09375 56 \r\nQ 79.640625 56 84.28125 50.015625 \r\nQ 88.921875 44.046875 88.921875 33.015625 \r\nL 88.921875 0 \r\nL 79.890625 0 \r\nL 79.890625 32.71875 \r\nQ 79.890625 40.578125 77.09375 44.375 \r\nQ 74.3125 48.1875 68.609375 48.1875 \r\nQ 61.625 48.1875 57.5625 43.546875 \r\nQ 53.515625 38.921875 53.515625 30.90625 \r\nL 53.515625 0 \r\nL 44.484375 0 \r\nL 44.484375 32.71875 \r\nQ 44.484375 40.625 41.703125 44.40625 \r\nQ 38.921875 48.1875 33.109375 48.1875 \r\nQ 26.21875 48.1875 22.15625 43.53125 \r\nQ 18.109375 38.875 18.109375 30.90625 \r\nL 18.109375 0 \r\nL 9.078125 0 \r\nL 9.078125 54.6875 \r\nL 18.109375 54.6875 \r\nL 18.109375 46.1875 \r\nQ 21.1875 51.21875 25.484375 53.609375 \r\nQ 29.78125 56 35.6875 56 \r\nQ 41.65625 56 45.828125 52.96875 \r\nQ 50 49.953125 52 44.1875 \r\nz\r\n\" id=\"DejaVuSans-6d\"/>\r\n      <path d=\"M 9.421875 54.6875 \r\nL 18.40625 54.6875 \r\nL 18.40625 0 \r\nL 9.421875 0 \r\nz\r\nM 9.421875 75.984375 \r\nL 18.40625 75.984375 \r\nL 18.40625 64.59375 \r\nL 9.421875 64.59375 \r\nz\r\n\" id=\"DejaVuSans-69\"/>\r\n      <path id=\"DejaVuSans-20\"/>\r\n      <path d=\"M -0.203125 72.90625 \r\nL 10.40625 72.90625 \r\nL 30.609375 42.921875 \r\nL 50.6875 72.90625 \r\nL 61.28125 72.90625 \r\nL 35.5 34.71875 \r\nL 35.5 0 \r\nL 25.59375 0 \r\nL 25.59375 34.71875 \r\nz\r\n\" id=\"DejaVuSans-59\"/>\r\n      <path d=\"M 41.109375 46.296875 \r\nQ 39.59375 47.171875 37.8125 47.578125 \r\nQ 36.03125 48 33.890625 48 \r\nQ 26.265625 48 22.1875 43.046875 \r\nQ 18.109375 38.09375 18.109375 28.8125 \r\nL 18.109375 0 \r\nL 9.078125 0 \r\nL 9.078125 54.6875 \r\nL 18.109375 54.6875 \r\nL 18.109375 46.1875 \r\nQ 20.953125 51.171875 25.484375 53.578125 \r\nQ 30.03125 56 36.53125 56 \r\nQ 37.453125 56 38.578125 55.875 \r\nQ 39.703125 55.765625 41.0625 55.515625 \r\nz\r\n\" id=\"DejaVuSans-72\"/>\r\n     </defs>\r\n     <g transform=\"translate(176.091406 256.416562)scale(0.1 -0.1)\">\r\n      <use xlink:href=\"#DejaVuSans-41\"/>\r\n      <use x=\"68.392578\" xlink:href=\"#DejaVuSans-63\"/>\r\n      <use x=\"123.373047\" xlink:href=\"#DejaVuSans-61\"/>\r\n      <use x=\"184.652344\" xlink:href=\"#DejaVuSans-64\"/>\r\n      <use x=\"248.128906\" xlink:href=\"#DejaVuSans-65\"/>\r\n      <use x=\"309.652344\" xlink:href=\"#DejaVuSans-6d\"/>\r\n      <use x=\"407.064453\" xlink:href=\"#DejaVuSans-69\"/>\r\n      <use x=\"434.847656\" xlink:href=\"#DejaVuSans-63\"/>\r\n      <use x=\"489.828125\" xlink:href=\"#DejaVuSans-20\"/>\r\n      <use x=\"521.615234\" xlink:href=\"#DejaVuSans-59\"/>\r\n      <use x=\"582.496094\" xlink:href=\"#DejaVuSans-65\"/>\r\n      <use x=\"644.019531\" xlink:href=\"#DejaVuSans-61\"/>\r\n      <use x=\"705.298828\" xlink:href=\"#DejaVuSans-72\"/>\r\n     </g>\r\n    </g>\r\n   </g>\r\n   <g id=\"matplotlib.axis_2\">\r\n    <g id=\"ytick_1\">\r\n     <g id=\"line2d_9\">\r\n      <defs>\r\n       <path d=\"M 0 0 \r\nL -3.5 0 \r\n\" id=\"md15dc66310\" style=\"stroke:#000000;stroke-width:0.8;\"/>\r\n      </defs>\r\n      <g>\r\n       <use style=\"stroke:#000000;stroke-width:0.8;\" x=\"46.0125\" xlink:href=\"#md15dc66310\" y=\"218.256364\"/>\r\n      </g>\r\n     </g>\r\n     <g id=\"text_6\">\r\n      <!-- 16000 -->\r\n      <defs>\r\n       <path d=\"M 33.015625 40.375 \r\nQ 26.375 40.375 22.484375 35.828125 \r\nQ 18.609375 31.296875 18.609375 23.390625 \r\nQ 18.609375 15.53125 22.484375 10.953125 \r\nQ 26.375 6.390625 33.015625 6.390625 \r\nQ 39.65625 6.390625 43.53125 10.953125 \r\nQ 47.40625 15.53125 47.40625 23.390625 \r\nQ 47.40625 31.296875 43.53125 35.828125 \r\nQ 39.65625 40.375 33.015625 40.375 \r\nz\r\nM 52.59375 71.296875 \r\nL 52.59375 62.3125 \r\nQ 48.875 64.0625 45.09375 64.984375 \r\nQ 41.3125 65.921875 37.59375 65.921875 \r\nQ 27.828125 65.921875 22.671875 59.328125 \r\nQ 17.53125 52.734375 16.796875 39.40625 \r\nQ 19.671875 43.65625 24.015625 45.921875 \r\nQ 28.375 48.1875 33.59375 48.1875 \r\nQ 44.578125 48.1875 50.953125 41.515625 \r\nQ 57.328125 34.859375 57.328125 23.390625 \r\nQ 57.328125 12.15625 50.6875 5.359375 \r\nQ 44.046875 -1.421875 33.015625 -1.421875 \r\nQ 20.359375 -1.421875 13.671875 8.265625 \r\nQ 6.984375 17.96875 6.984375 36.375 \r\nQ 6.984375 53.65625 15.1875 63.9375 \r\nQ 23.390625 74.21875 37.203125 74.21875 \r\nQ 40.921875 74.21875 44.703125 73.484375 \r\nQ 48.484375 72.75 52.59375 71.296875 \r\nz\r\n\" id=\"DejaVuSans-36\"/>\r\n      </defs>\r\n      <g transform=\"translate(7.2 222.055582)scale(0.1 -0.1)\">\r\n       <use xlink:href=\"#DejaVuSans-31\"/>\r\n       <use x=\"63.623047\" xlink:href=\"#DejaVuSans-36\"/>\r\n       <use x=\"127.246094\" xlink:href=\"#DejaVuSans-30\"/>\r\n       <use x=\"190.869141\" xlink:href=\"#DejaVuSans-30\"/>\r\n       <use x=\"254.492188\" xlink:href=\"#DejaVuSans-30\"/>\r\n      </g>\r\n     </g>\r\n    </g>\r\n    <g id=\"ytick_2\">\r\n     <g id=\"line2d_10\">\r\n      <g>\r\n       <use style=\"stroke:#000000;stroke-width:0.8;\" x=\"46.0125\" xlink:href=\"#md15dc66310\" y=\"185.255908\"/>\r\n      </g>\r\n     </g>\r\n     <g id=\"text_7\">\r\n      <!-- 18000 -->\r\n      <g transform=\"translate(7.2 189.055127)scale(0.1 -0.1)\">\r\n       <use xlink:href=\"#DejaVuSans-31\"/>\r\n       <use x=\"63.623047\" xlink:href=\"#DejaVuSans-38\"/>\r\n       <use x=\"127.246094\" xlink:href=\"#DejaVuSans-30\"/>\r\n       <use x=\"190.869141\" xlink:href=\"#DejaVuSans-30\"/>\r\n       <use x=\"254.492188\" xlink:href=\"#DejaVuSans-30\"/>\r\n      </g>\r\n     </g>\r\n    </g>\r\n    <g id=\"ytick_3\">\r\n     <g id=\"line2d_11\">\r\n      <g>\r\n       <use style=\"stroke:#000000;stroke-width:0.8;\" x=\"46.0125\" xlink:href=\"#md15dc66310\" y=\"152.255453\"/>\r\n      </g>\r\n     </g>\r\n     <g id=\"text_8\">\r\n      <!-- 20000 -->\r\n      <g transform=\"translate(7.2 156.054672)scale(0.1 -0.1)\">\r\n       <use xlink:href=\"#DejaVuSans-32\"/>\r\n       <use x=\"63.623047\" xlink:href=\"#DejaVuSans-30\"/>\r\n       <use x=\"127.246094\" xlink:href=\"#DejaVuSans-30\"/>\r\n       <use x=\"190.869141\" xlink:href=\"#DejaVuSans-30\"/>\r\n       <use x=\"254.492188\" xlink:href=\"#DejaVuSans-30\"/>\r\n      </g>\r\n     </g>\r\n    </g>\r\n    <g id=\"ytick_4\">\r\n     <g id=\"line2d_12\">\r\n      <g>\r\n       <use style=\"stroke:#000000;stroke-width:0.8;\" x=\"46.0125\" xlink:href=\"#md15dc66310\" y=\"119.254998\"/>\r\n      </g>\r\n     </g>\r\n     <g id=\"text_9\">\r\n      <!-- 22000 -->\r\n      <g transform=\"translate(7.2 123.054216)scale(0.1 -0.1)\">\r\n       <use xlink:href=\"#DejaVuSans-32\"/>\r\n       <use x=\"63.623047\" xlink:href=\"#DejaVuSans-32\"/>\r\n       <use x=\"127.246094\" xlink:href=\"#DejaVuSans-30\"/>\r\n       <use x=\"190.869141\" xlink:href=\"#DejaVuSans-30\"/>\r\n       <use x=\"254.492188\" xlink:href=\"#DejaVuSans-30\"/>\r\n      </g>\r\n     </g>\r\n    </g>\r\n    <g id=\"ytick_5\">\r\n     <g id=\"line2d_13\">\r\n      <g>\r\n       <use style=\"stroke:#000000;stroke-width:0.8;\" x=\"46.0125\" xlink:href=\"#md15dc66310\" y=\"86.254542\"/>\r\n      </g>\r\n     </g>\r\n     <g id=\"text_10\">\r\n      <!-- 24000 -->\r\n      <defs>\r\n       <path d=\"M 37.796875 64.3125 \r\nL 12.890625 25.390625 \r\nL 37.796875 25.390625 \r\nz\r\nM 35.203125 72.90625 \r\nL 47.609375 72.90625 \r\nL 47.609375 25.390625 \r\nL 58.015625 25.390625 \r\nL 58.015625 17.1875 \r\nL 47.609375 17.1875 \r\nL 47.609375 0 \r\nL 37.796875 0 \r\nL 37.796875 17.1875 \r\nL 4.890625 17.1875 \r\nL 4.890625 26.703125 \r\nz\r\n\" id=\"DejaVuSans-34\"/>\r\n      </defs>\r\n      <g transform=\"translate(7.2 90.053761)scale(0.1 -0.1)\">\r\n       <use xlink:href=\"#DejaVuSans-32\"/>\r\n       <use x=\"63.623047\" xlink:href=\"#DejaVuSans-34\"/>\r\n       <use x=\"127.246094\" xlink:href=\"#DejaVuSans-30\"/>\r\n       <use x=\"190.869141\" xlink:href=\"#DejaVuSans-30\"/>\r\n       <use x=\"254.492188\" xlink:href=\"#DejaVuSans-30\"/>\r\n      </g>\r\n     </g>\r\n    </g>\r\n    <g id=\"ytick_6\">\r\n     <g id=\"line2d_14\">\r\n      <g>\r\n       <use style=\"stroke:#000000;stroke-width:0.8;\" x=\"46.0125\" xlink:href=\"#md15dc66310\" y=\"53.254087\"/>\r\n      </g>\r\n     </g>\r\n     <g id=\"text_11\">\r\n      <!-- 26000 -->\r\n      <g transform=\"translate(7.2 57.053306)scale(0.1 -0.1)\">\r\n       <use xlink:href=\"#DejaVuSans-32\"/>\r\n       <use x=\"63.623047\" xlink:href=\"#DejaVuSans-36\"/>\r\n       <use x=\"127.246094\" xlink:href=\"#DejaVuSans-30\"/>\r\n       <use x=\"190.869141\" xlink:href=\"#DejaVuSans-30\"/>\r\n       <use x=\"254.492188\" xlink:href=\"#DejaVuSans-30\"/>\r\n      </g>\r\n     </g>\r\n    </g>\r\n    <g id=\"ytick_7\">\r\n     <g id=\"line2d_15\">\r\n      <g>\r\n       <use style=\"stroke:#000000;stroke-width:0.8;\" x=\"46.0125\" xlink:href=\"#md15dc66310\" y=\"20.253632\"/>\r\n      </g>\r\n     </g>\r\n     <g id=\"text_12\">\r\n      <!-- 28000 -->\r\n      <g transform=\"translate(7.2 24.052851)scale(0.1 -0.1)\">\r\n       <use xlink:href=\"#DejaVuSans-32\"/>\r\n       <use x=\"63.623047\" xlink:href=\"#DejaVuSans-38\"/>\r\n       <use x=\"127.246094\" xlink:href=\"#DejaVuSans-30\"/>\r\n       <use x=\"190.869141\" xlink:href=\"#DejaVuSans-30\"/>\r\n       <use x=\"254.492188\" xlink:href=\"#DejaVuSans-30\"/>\r\n      </g>\r\n     </g>\r\n    </g>\r\n   </g>\r\n   <g id=\"line2d_16\">\r\n    <path clip-path=\"url(#p9ef2415625)\" d=\"M 61.230682 97.254694 \r\nL 78.139773 95.054664 \r\nL 95.048864 188.880458 \r\nL 111.957955 213.728701 \r\nL 128.867045 101.140286 \r\nL 145.776136 63.295026 \r\nL 162.685227 87.388933 \r\nL 179.594318 104.522652 \r\nL 196.503409 98.683834 \r\nL 213.4125 103.10265 \r\nL 230.321591 81.136252 \r\nL 247.230682 67.595296 \r\nL 264.139773 74.207609 \r\nL 281.048864 98.094331 \r\nL 297.957955 78.622459 \r\nL 314.867045 66.926249 \r\nL 331.776136 56.614451 \r\nL 348.685227 30.033464 \r\nL 365.594318 28.569392 \r\n\" style=\"fill:none;stroke:#1f77b4;stroke-linecap:square;stroke-width:1.5;\"/>\r\n   </g>\r\n   <g id=\"line2d_17\">\r\n    <path clip-path=\"url(#p9ef2415625)\" d=\"M 61.230682 157.205521 \r\nL 78.139773 96.154679 \r\nL 95.048864 168.079171 \r\nL 111.957955 218.256364 \r\nL 128.867045 172.055726 \r\nL 145.776136 102.75477 \r\nL 162.685227 96.154679 \r\nL 179.594318 94.504656 \r\nL 196.503409 79.654451 \r\nL 213.4125 77.509422 \r\nL 230.321591 36.753859 \r\nL 247.230682 59.029167 \r\nL 264.139773 69.754315 \r\nL 281.048864 94.521156 \r\nL 297.957955 80.396962 \r\nL 314.867045 62.791219 \r\nL 331.776136 59.854178 \r\nL 348.685227 20.583636 \r\nL 365.594318 36.753859 \r\n\" style=\"fill:none;stroke:#ff7f0e;stroke-linecap:square;stroke-width:1.5;\"/>\r\n   </g>\r\n   <g id=\"patch_3\">\r\n    <path d=\"M 46.0125 228.14 \r\nL 46.0125 10.7 \r\n\" style=\"fill:none;stroke:#000000;stroke-linecap:square;stroke-linejoin:miter;stroke-width:0.8;\"/>\r\n   </g>\r\n   <g id=\"patch_4\">\r\n    <path d=\"M 380.8125 228.14 \r\nL 380.8125 10.7 \r\n\" style=\"fill:none;stroke:#000000;stroke-linecap:square;stroke-linejoin:miter;stroke-width:0.8;\"/>\r\n   </g>\r\n   <g id=\"patch_5\">\r\n    <path d=\"M 46.0125 228.14 \r\nL 380.8125 228.14 \r\n\" style=\"fill:none;stroke:#000000;stroke-linecap:square;stroke-linejoin:miter;stroke-width:0.8;\"/>\r\n   </g>\r\n   <g id=\"patch_6\">\r\n    <path d=\"M 46.0125 10.7 \r\nL 380.8125 10.7 \r\n\" style=\"fill:none;stroke:#000000;stroke-linecap:square;stroke-linejoin:miter;stroke-width:0.8;\"/>\r\n   </g>\r\n   <g id=\"legend_1\">\r\n    <g id=\"patch_7\">\r\n     <path d=\"M 53.0125 62.734375 \r\nL 193.645312 62.734375 \r\nQ 195.645312 62.734375 195.645312 60.734375 \r\nL 195.645312 17.7 \r\nQ 195.645312 15.7 193.645312 15.7 \r\nL 53.0125 15.7 \r\nQ 51.0125 15.7 51.0125 17.7 \r\nL 51.0125 60.734375 \r\nQ 51.0125 62.734375 53.0125 62.734375 \r\nz\r\n\" style=\"fill:#ffffff;opacity:0.8;stroke:#cccccc;stroke-linejoin:miter;\"/>\r\n    </g>\r\n    <g id=\"text_13\">\r\n     <!-- None,None -->\r\n     <defs>\r\n      <path d=\"M 9.8125 72.90625 \r\nL 23.09375 72.90625 \r\nL 55.421875 11.921875 \r\nL 55.421875 72.90625 \r\nL 64.984375 72.90625 \r\nL 64.984375 0 \r\nL 51.703125 0 \r\nL 19.390625 60.984375 \r\nL 19.390625 0 \r\nL 9.8125 0 \r\nz\r\n\" id=\"DejaVuSans-4e\"/>\r\n      <path d=\"M 30.609375 48.390625 \r\nQ 23.390625 48.390625 19.1875 42.75 \r\nQ 14.984375 37.109375 14.984375 27.296875 \r\nQ 14.984375 17.484375 19.15625 11.84375 \r\nQ 23.34375 6.203125 30.609375 6.203125 \r\nQ 37.796875 6.203125 41.984375 11.859375 \r\nQ 46.1875 17.53125 46.1875 27.296875 \r\nQ 46.1875 37.015625 41.984375 42.703125 \r\nQ 37.796875 48.390625 30.609375 48.390625 \r\nz\r\nM 30.609375 56 \r\nQ 42.328125 56 49.015625 48.375 \r\nQ 55.71875 40.765625 55.71875 27.296875 \r\nQ 55.71875 13.875 49.015625 6.21875 \r\nQ 42.328125 -1.421875 30.609375 -1.421875 \r\nQ 18.84375 -1.421875 12.171875 6.21875 \r\nQ 5.515625 13.875 5.515625 27.296875 \r\nQ 5.515625 40.765625 12.171875 48.375 \r\nQ 18.84375 56 30.609375 56 \r\nz\r\n\" id=\"DejaVuSans-6f\"/>\r\n      <path d=\"M 54.890625 33.015625 \r\nL 54.890625 0 \r\nL 45.90625 0 \r\nL 45.90625 32.71875 \r\nQ 45.90625 40.484375 42.875 44.328125 \r\nQ 39.84375 48.1875 33.796875 48.1875 \r\nQ 26.515625 48.1875 22.3125 43.546875 \r\nQ 18.109375 38.921875 18.109375 30.90625 \r\nL 18.109375 0 \r\nL 9.078125 0 \r\nL 9.078125 54.6875 \r\nL 18.109375 54.6875 \r\nL 18.109375 46.1875 \r\nQ 21.34375 51.125 25.703125 53.5625 \r\nQ 30.078125 56 35.796875 56 \r\nQ 45.21875 56 50.046875 50.171875 \r\nQ 54.890625 44.34375 54.890625 33.015625 \r\nz\r\n\" id=\"DejaVuSans-6e\"/>\r\n      <path d=\"M 11.71875 12.40625 \r\nL 22.015625 12.40625 \r\nL 22.015625 4 \r\nL 14.015625 -11.625 \r\nL 7.71875 -11.625 \r\nL 11.71875 4 \r\nz\r\n\" id=\"DejaVuSans-2c\"/>\r\n     </defs>\r\n     <g transform=\"translate(95.649219 27.298437)scale(0.1 -0.1)\">\r\n      <use xlink:href=\"#DejaVuSans-4e\"/>\r\n      <use x=\"74.804688\" xlink:href=\"#DejaVuSans-6f\"/>\r\n      <use x=\"135.986328\" xlink:href=\"#DejaVuSans-6e\"/>\r\n      <use x=\"199.365234\" xlink:href=\"#DejaVuSans-65\"/>\r\n      <use x=\"260.888672\" xlink:href=\"#DejaVuSans-2c\"/>\r\n      <use x=\"292.675781\" xlink:href=\"#DejaVuSans-4e\"/>\r\n      <use x=\"367.480469\" xlink:href=\"#DejaVuSans-6f\"/>\r\n      <use x=\"428.662109\" xlink:href=\"#DejaVuSans-6e\"/>\r\n      <use x=\"492.041016\" xlink:href=\"#DejaVuSans-65\"/>\r\n     </g>\r\n    </g>\r\n    <g id=\"line2d_18\">\r\n     <path d=\"M 55.0125 38.476562 \r\nL 75.0125 38.476562 \r\n\" style=\"fill:none;stroke:#1f77b4;stroke-linecap:square;stroke-width:1.5;\"/>\r\n    </g>\r\n    <g id=\"line2d_19\"/>\r\n    <g id=\"text_14\">\r\n     <!-- (Overall Pay, mean) -->\r\n     <defs>\r\n      <path d=\"M 31 75.875 \r\nQ 24.46875 64.65625 21.28125 53.65625 \r\nQ 18.109375 42.671875 18.109375 31.390625 \r\nQ 18.109375 20.125 21.3125 9.0625 \r\nQ 24.515625 -2 31 -13.1875 \r\nL 23.1875 -13.1875 \r\nQ 15.875 -1.703125 12.234375 9.375 \r\nQ 8.59375 20.453125 8.59375 31.390625 \r\nQ 8.59375 42.28125 12.203125 53.3125 \r\nQ 15.828125 64.359375 23.1875 75.875 \r\nz\r\n\" id=\"DejaVuSans-28\"/>\r\n      <path d=\"M 39.40625 66.21875 \r\nQ 28.65625 66.21875 22.328125 58.203125 \r\nQ 16.015625 50.203125 16.015625 36.375 \r\nQ 16.015625 22.609375 22.328125 14.59375 \r\nQ 28.65625 6.59375 39.40625 6.59375 \r\nQ 50.140625 6.59375 56.421875 14.59375 \r\nQ 62.703125 22.609375 62.703125 36.375 \r\nQ 62.703125 50.203125 56.421875 58.203125 \r\nQ 50.140625 66.21875 39.40625 66.21875 \r\nz\r\nM 39.40625 74.21875 \r\nQ 54.734375 74.21875 63.90625 63.9375 \r\nQ 73.09375 53.65625 73.09375 36.375 \r\nQ 73.09375 19.140625 63.90625 8.859375 \r\nQ 54.734375 -1.421875 39.40625 -1.421875 \r\nQ 24.03125 -1.421875 14.8125 8.828125 \r\nQ 5.609375 19.09375 5.609375 36.375 \r\nQ 5.609375 53.65625 14.8125 63.9375 \r\nQ 24.03125 74.21875 39.40625 74.21875 \r\nz\r\n\" id=\"DejaVuSans-4f\"/>\r\n      <path d=\"M 2.984375 54.6875 \r\nL 12.5 54.6875 \r\nL 29.59375 8.796875 \r\nL 46.6875 54.6875 \r\nL 56.203125 54.6875 \r\nL 35.6875 0 \r\nL 23.484375 0 \r\nz\r\n\" id=\"DejaVuSans-76\"/>\r\n      <path d=\"M 9.421875 75.984375 \r\nL 18.40625 75.984375 \r\nL 18.40625 0 \r\nL 9.421875 0 \r\nz\r\n\" id=\"DejaVuSans-6c\"/>\r\n      <path d=\"M 19.671875 64.796875 \r\nL 19.671875 37.40625 \r\nL 32.078125 37.40625 \r\nQ 38.96875 37.40625 42.71875 40.96875 \r\nQ 46.484375 44.53125 46.484375 51.125 \r\nQ 46.484375 57.671875 42.71875 61.234375 \r\nQ 38.96875 64.796875 32.078125 64.796875 \r\nz\r\nM 9.8125 72.90625 \r\nL 32.078125 72.90625 \r\nQ 44.34375 72.90625 50.609375 67.359375 \r\nQ 56.890625 61.8125 56.890625 51.125 \r\nQ 56.890625 40.328125 50.609375 34.8125 \r\nQ 44.34375 29.296875 32.078125 29.296875 \r\nL 19.671875 29.296875 \r\nL 19.671875 0 \r\nL 9.8125 0 \r\nz\r\n\" id=\"DejaVuSans-50\"/>\r\n      <path d=\"M 32.171875 -5.078125 \r\nQ 28.375 -14.84375 24.75 -17.8125 \r\nQ 21.140625 -20.796875 15.09375 -20.796875 \r\nL 7.90625 -20.796875 \r\nL 7.90625 -13.28125 \r\nL 13.1875 -13.28125 \r\nQ 16.890625 -13.28125 18.9375 -11.515625 \r\nQ 21 -9.765625 23.484375 -3.21875 \r\nL 25.09375 0.875 \r\nL 2.984375 54.6875 \r\nL 12.5 54.6875 \r\nL 29.59375 11.921875 \r\nL 46.6875 54.6875 \r\nL 56.203125 54.6875 \r\nz\r\n\" id=\"DejaVuSans-79\"/>\r\n      <path d=\"M 8.015625 75.875 \r\nL 15.828125 75.875 \r\nQ 23.140625 64.359375 26.78125 53.3125 \r\nQ 30.421875 42.28125 30.421875 31.390625 \r\nQ 30.421875 20.453125 26.78125 9.375 \r\nQ 23.140625 -1.703125 15.828125 -13.1875 \r\nL 8.015625 -13.1875 \r\nQ 14.5 -2 17.703125 9.0625 \r\nQ 20.90625 20.125 20.90625 31.390625 \r\nQ 20.90625 42.671875 17.703125 53.65625 \r\nQ 14.5 64.65625 8.015625 75.875 \r\nz\r\n\" id=\"DejaVuSans-29\"/>\r\n     </defs>\r\n     <g transform=\"translate(83.0125 41.976562)scale(0.1 -0.1)\">\r\n      <use xlink:href=\"#DejaVuSans-28\"/>\r\n      <use x=\"39.013672\" xlink:href=\"#DejaVuSans-4f\"/>\r\n      <use x=\"117.724609\" xlink:href=\"#DejaVuSans-76\"/>\r\n      <use x=\"176.904297\" xlink:href=\"#DejaVuSans-65\"/>\r\n      <use x=\"238.427734\" xlink:href=\"#DejaVuSans-72\"/>\r\n      <use x=\"279.541016\" xlink:href=\"#DejaVuSans-61\"/>\r\n      <use x=\"340.820312\" xlink:href=\"#DejaVuSans-6c\"/>\r\n      <use x=\"368.603516\" xlink:href=\"#DejaVuSans-6c\"/>\r\n      <use x=\"396.386719\" xlink:href=\"#DejaVuSans-20\"/>\r\n      <use x=\"428.173828\" xlink:href=\"#DejaVuSans-50\"/>\r\n      <use x=\"488.414062\" xlink:href=\"#DejaVuSans-61\"/>\r\n      <use x=\"549.693359\" xlink:href=\"#DejaVuSans-79\"/>\r\n      <use x=\"608.873047\" xlink:href=\"#DejaVuSans-2c\"/>\r\n      <use x=\"640.660156\" xlink:href=\"#DejaVuSans-20\"/>\r\n      <use x=\"672.447266\" xlink:href=\"#DejaVuSans-6d\"/>\r\n      <use x=\"769.859375\" xlink:href=\"#DejaVuSans-65\"/>\r\n      <use x=\"831.382812\" xlink:href=\"#DejaVuSans-61\"/>\r\n      <use x=\"892.662109\" xlink:href=\"#DejaVuSans-6e\"/>\r\n      <use x=\"956.041016\" xlink:href=\"#DejaVuSans-29\"/>\r\n     </g>\r\n    </g>\r\n    <g id=\"line2d_20\">\r\n     <path d=\"M 55.0125 53.154687 \r\nL 75.0125 53.154687 \r\n\" style=\"fill:none;stroke:#ff7f0e;stroke-linecap:square;stroke-width:1.5;\"/>\r\n    </g>\r\n    <g id=\"line2d_21\"/>\r\n    <g id=\"text_15\">\r\n     <!-- (Overall Pay, median) -->\r\n     <g transform=\"translate(83.0125 56.654687)scale(0.1 -0.1)\">\r\n      <use xlink:href=\"#DejaVuSans-28\"/>\r\n      <use x=\"39.013672\" xlink:href=\"#DejaVuSans-4f\"/>\r\n      <use x=\"117.724609\" xlink:href=\"#DejaVuSans-76\"/>\r\n      <use x=\"176.904297\" xlink:href=\"#DejaVuSans-65\"/>\r\n      <use x=\"238.427734\" xlink:href=\"#DejaVuSans-72\"/>\r\n      <use x=\"279.541016\" xlink:href=\"#DejaVuSans-61\"/>\r\n      <use x=\"340.820312\" xlink:href=\"#DejaVuSans-6c\"/>\r\n      <use x=\"368.603516\" xlink:href=\"#DejaVuSans-6c\"/>\r\n      <use x=\"396.386719\" xlink:href=\"#DejaVuSans-20\"/>\r\n      <use x=\"428.173828\" xlink:href=\"#DejaVuSans-50\"/>\r\n      <use x=\"488.414062\" xlink:href=\"#DejaVuSans-61\"/>\r\n      <use x=\"549.693359\" xlink:href=\"#DejaVuSans-79\"/>\r\n      <use x=\"608.873047\" xlink:href=\"#DejaVuSans-2c\"/>\r\n      <use x=\"640.660156\" xlink:href=\"#DejaVuSans-20\"/>\r\n      <use x=\"672.447266\" xlink:href=\"#DejaVuSans-6d\"/>\r\n      <use x=\"769.859375\" xlink:href=\"#DejaVuSans-65\"/>\r\n      <use x=\"831.382812\" xlink:href=\"#DejaVuSans-64\"/>\r\n      <use x=\"894.859375\" xlink:href=\"#DejaVuSans-69\"/>\r\n      <use x=\"922.642578\" xlink:href=\"#DejaVuSans-61\"/>\r\n      <use x=\"983.921875\" xlink:href=\"#DejaVuSans-6e\"/>\r\n      <use x=\"1047.300781\" xlink:href=\"#DejaVuSans-29\"/>\r\n     </g>\r\n    </g>\r\n   </g>\r\n  </g>\r\n </g>\r\n <defs>\r\n  <clipPath id=\"p9ef2415625\">\r\n   <rect height=\"217.44\" width=\"334.8\" x=\"46.0125\" y=\"10.7\"/>\r\n  </clipPath>\r\n </defs>\r\n</svg>\r\n",
      "image/png": "[encoded data removed]"
     },
     "metadata": {
      "needs_background": "light"
     }
    }
   ],
   "source": [
    "# the mean and median pay fluctuate over the years, with a small upward trend\n",
    "data[['Overall Pay', 'Academic Year']].groupby('Academic Year').agg(['mean', 'median']).plot()"
   ]
  },
  {
   "cell_type": "code",
   "execution_count": 199,
   "metadata": {},
   "outputs": [
    {
     "output_type": "error",
     "ename": "TypeError",
     "evalue": "boxplot() got an unexpected keyword argument 'rotation'",
     "traceback": [
      "\u001b[1;31m---------------------------------------------------------------------------\u001b[0m",
      "\u001b[1;31mTypeError\u001b[0m                                 Traceback (most recent call last)",
      "\u001b[1;32m<ipython-input-199-172c2f5e2099>\u001b[0m in \u001b[0;36m<module>\u001b[1;34m()\u001b[0m\n\u001b[0;32m      1\u001b[0m \u001b[1;31m# given the high variance though, the difference in the\u001b[0m\u001b[1;33m\u001b[0m\u001b[1;33m\u001b[0m\u001b[0m\n\u001b[1;32m----> 2\u001b[1;33m \u001b[0mdata\u001b[0m\u001b[1;33m[\u001b[0m\u001b[1;33m[\u001b[0m\u001b[1;34m'Overall Pay'\u001b[0m\u001b[1;33m,\u001b[0m \u001b[1;34m'Academic Year'\u001b[0m\u001b[1;33m]\u001b[0m\u001b[1;33m]\u001b[0m\u001b[1;33m.\u001b[0m\u001b[0mboxplot\u001b[0m\u001b[1;33m(\u001b[0m\u001b[0mby\u001b[0m\u001b[1;33m=\u001b[0m\u001b[1;34m'Academic Year'\u001b[0m\u001b[1;33m,\u001b[0m \u001b[0mrotation\u001b[0m\u001b[1;33m=\u001b[0m\u001b[1;36m30\u001b[0m\u001b[1;33m,\u001b[0m \u001b[0mha\u001b[0m\u001b[1;33m=\u001b[0m\u001b[1;34m'right'\u001b[0m\u001b[1;33m)\u001b[0m\u001b[1;33m\u001b[0m\u001b[0m\n\u001b[0m",
      "\u001b[1;32m~\\AppData\\Local\\Programs\\Python\\Python37\\lib\\site-packages\\pandas\\plotting\\_core.py\u001b[0m in \u001b[0;36mboxplot_frame\u001b[1;34m(self, column, by, ax, fontsize, rot, grid, figsize, layout, return_type, backend, **kwargs)\u001b[0m\n\u001b[0;32m    445\u001b[0m         \u001b[0mlayout\u001b[0m\u001b[1;33m=\u001b[0m\u001b[0mlayout\u001b[0m\u001b[1;33m,\u001b[0m\u001b[1;33m\u001b[0m\u001b[0m\n\u001b[0;32m    446\u001b[0m         \u001b[0mreturn_type\u001b[0m\u001b[1;33m=\u001b[0m\u001b[0mreturn_type\u001b[0m\u001b[1;33m,\u001b[0m\u001b[1;33m\u001b[0m\u001b[0m\n\u001b[1;32m--> 447\u001b[1;33m         \u001b[1;33m**\u001b[0m\u001b[0mkwargs\u001b[0m\u001b[1;33m,\u001b[0m\u001b[1;33m\u001b[0m\u001b[0m\n\u001b[0m\u001b[0;32m    448\u001b[0m     )\n\u001b[0;32m    449\u001b[0m \u001b[1;33m\u001b[0m\u001b[0m\n",
      "\u001b[1;32m~\\AppData\\Local\\Programs\\Python\\Python37\\lib\\site-packages\\pandas\\plotting\\_matplotlib\\boxplot.py\u001b[0m in \u001b[0;36mboxplot_frame\u001b[1;34m(self, column, by, ax, fontsize, rot, grid, figsize, layout, return_type, **kwds)\u001b[0m\n\u001b[0;32m    373\u001b[0m         \u001b[0mlayout\u001b[0m\u001b[1;33m=\u001b[0m\u001b[0mlayout\u001b[0m\u001b[1;33m,\u001b[0m\u001b[1;33m\u001b[0m\u001b[0m\n\u001b[0;32m    374\u001b[0m         \u001b[0mreturn_type\u001b[0m\u001b[1;33m=\u001b[0m\u001b[0mreturn_type\u001b[0m\u001b[1;33m,\u001b[0m\u001b[1;33m\u001b[0m\u001b[0m\n\u001b[1;32m--> 375\u001b[1;33m         \u001b[1;33m**\u001b[0m\u001b[0mkwds\u001b[0m\u001b[1;33m,\u001b[0m\u001b[1;33m\u001b[0m\u001b[0m\n\u001b[0m\u001b[0;32m    376\u001b[0m     )\n\u001b[0;32m    377\u001b[0m     \u001b[0mplt\u001b[0m\u001b[1;33m.\u001b[0m\u001b[0mdraw_if_interactive\u001b[0m\u001b[1;33m(\u001b[0m\u001b[1;33m)\u001b[0m\u001b[1;33m\u001b[0m\u001b[0m\n",
      "\u001b[1;32m~\\AppData\\Local\\Programs\\Python\\Python37\\lib\\site-packages\\pandas\\plotting\\_matplotlib\\boxplot.py\u001b[0m in \u001b[0;36mboxplot\u001b[1;34m(data, column, by, ax, fontsize, rot, grid, figsize, layout, return_type, **kwds)\u001b[0m\n\u001b[0;32m    323\u001b[0m             \u001b[0max\u001b[0m\u001b[1;33m=\u001b[0m\u001b[0max\u001b[0m\u001b[1;33m,\u001b[0m\u001b[1;33m\u001b[0m\u001b[0m\n\u001b[0;32m    324\u001b[0m             \u001b[0mlayout\u001b[0m\u001b[1;33m=\u001b[0m\u001b[0mlayout\u001b[0m\u001b[1;33m,\u001b[0m\u001b[1;33m\u001b[0m\u001b[0m\n\u001b[1;32m--> 325\u001b[1;33m             \u001b[0mreturn_type\u001b[0m\u001b[1;33m=\u001b[0m\u001b[0mreturn_type\u001b[0m\u001b[1;33m,\u001b[0m\u001b[1;33m\u001b[0m\u001b[0m\n\u001b[0m\u001b[0;32m    326\u001b[0m         )\n\u001b[0;32m    327\u001b[0m     \u001b[1;32melse\u001b[0m\u001b[1;33m:\u001b[0m\u001b[1;33m\u001b[0m\u001b[0m\n",
      "\u001b[1;32m~\\AppData\\Local\\Programs\\Python\\Python37\\lib\\site-packages\\pandas\\plotting\\_matplotlib\\boxplot.py\u001b[0m in \u001b[0;36m_grouped_plot_by_column\u001b[1;34m(plotf, data, columns, by, numeric_only, grid, figsize, ax, layout, return_type, **kwargs)\u001b[0m\n\u001b[0;32m    204\u001b[0m         \u001b[0mgp_col\u001b[0m \u001b[1;33m=\u001b[0m \u001b[0mgrouped\u001b[0m\u001b[1;33m[\u001b[0m\u001b[0mcol\u001b[0m\u001b[1;33m]\u001b[0m\u001b[1;33m\u001b[0m\u001b[0m\n\u001b[0;32m    205\u001b[0m         \u001b[0mkeys\u001b[0m\u001b[1;33m,\u001b[0m \u001b[0mvalues\u001b[0m \u001b[1;33m=\u001b[0m \u001b[0mzip\u001b[0m\u001b[1;33m(\u001b[0m\u001b[1;33m*\u001b[0m\u001b[0mgp_col\u001b[0m\u001b[1;33m)\u001b[0m\u001b[1;33m\u001b[0m\u001b[0m\n\u001b[1;32m--> 206\u001b[1;33m         \u001b[0mre_plotf\u001b[0m \u001b[1;33m=\u001b[0m \u001b[0mplotf\u001b[0m\u001b[1;33m(\u001b[0m\u001b[0mkeys\u001b[0m\u001b[1;33m,\u001b[0m \u001b[0mvalues\u001b[0m\u001b[1;33m,\u001b[0m \u001b[0max\u001b[0m\u001b[1;33m,\u001b[0m \u001b[1;33m**\u001b[0m\u001b[0mkwargs\u001b[0m\u001b[1;33m)\u001b[0m\u001b[1;33m\u001b[0m\u001b[0m\n\u001b[0m\u001b[0;32m    207\u001b[0m         \u001b[0max\u001b[0m\u001b[1;33m.\u001b[0m\u001b[0mset_title\u001b[0m\u001b[1;33m(\u001b[0m\u001b[0mcol\u001b[0m\u001b[1;33m)\u001b[0m\u001b[1;33m\u001b[0m\u001b[0m\n\u001b[0;32m    208\u001b[0m         \u001b[0max\u001b[0m\u001b[1;33m.\u001b[0m\u001b[0mset_xlabel\u001b[0m\u001b[1;33m(\u001b[0m\u001b[0mpprint_thing\u001b[0m\u001b[1;33m(\u001b[0m\u001b[0mby\u001b[0m\u001b[1;33m)\u001b[0m\u001b[1;33m)\u001b[0m\u001b[1;33m\u001b[0m\u001b[0m\n",
      "\u001b[1;32m~\\AppData\\Local\\Programs\\Python\\Python37\\lib\\site-packages\\pandas\\plotting\\_matplotlib\\boxplot.py\u001b[0m in \u001b[0;36mplot_group\u001b[1;34m(keys, values, ax)\u001b[0m\n\u001b[0;32m    285\u001b[0m         \u001b[0mkeys\u001b[0m \u001b[1;33m=\u001b[0m \u001b[1;33m[\u001b[0m\u001b[0mpprint_thing\u001b[0m\u001b[1;33m(\u001b[0m\u001b[0mx\u001b[0m\u001b[1;33m)\u001b[0m \u001b[1;32mfor\u001b[0m \u001b[0mx\u001b[0m \u001b[1;32min\u001b[0m \u001b[0mkeys\u001b[0m\u001b[1;33m]\u001b[0m\u001b[1;33m\u001b[0m\u001b[0m\n\u001b[0;32m    286\u001b[0m         \u001b[0mvalues\u001b[0m \u001b[1;33m=\u001b[0m \u001b[1;33m[\u001b[0m\u001b[0mnp\u001b[0m\u001b[1;33m.\u001b[0m\u001b[0masarray\u001b[0m\u001b[1;33m(\u001b[0m\u001b[0mremove_na_arraylike\u001b[0m\u001b[1;33m(\u001b[0m\u001b[0mv\u001b[0m\u001b[1;33m)\u001b[0m\u001b[1;33m)\u001b[0m \u001b[1;32mfor\u001b[0m \u001b[0mv\u001b[0m \u001b[1;32min\u001b[0m \u001b[0mvalues\u001b[0m\u001b[1;33m]\u001b[0m\u001b[1;33m\u001b[0m\u001b[0m\n\u001b[1;32m--> 287\u001b[1;33m         \u001b[0mbp\u001b[0m \u001b[1;33m=\u001b[0m \u001b[0max\u001b[0m\u001b[1;33m.\u001b[0m\u001b[0mboxplot\u001b[0m\u001b[1;33m(\u001b[0m\u001b[0mvalues\u001b[0m\u001b[1;33m,\u001b[0m \u001b[1;33m**\u001b[0m\u001b[0mkwds\u001b[0m\u001b[1;33m)\u001b[0m\u001b[1;33m\u001b[0m\u001b[0m\n\u001b[0m\u001b[0;32m    288\u001b[0m         \u001b[1;32mif\u001b[0m \u001b[0mfontsize\u001b[0m \u001b[1;32mis\u001b[0m \u001b[1;32mnot\u001b[0m \u001b[1;32mNone\u001b[0m\u001b[1;33m:\u001b[0m\u001b[1;33m\u001b[0m\u001b[0m\n\u001b[0;32m    289\u001b[0m             \u001b[0max\u001b[0m\u001b[1;33m.\u001b[0m\u001b[0mtick_params\u001b[0m\u001b[1;33m(\u001b[0m\u001b[0maxis\u001b[0m\u001b[1;33m=\u001b[0m\u001b[1;34m\"both\"\u001b[0m\u001b[1;33m,\u001b[0m \u001b[0mlabelsize\u001b[0m\u001b[1;33m=\u001b[0m\u001b[0mfontsize\u001b[0m\u001b[1;33m)\u001b[0m\u001b[1;33m\u001b[0m\u001b[0m\n",
      "\u001b[1;32m~\\AppData\\Local\\Programs\\Python\\Python37\\lib\\site-packages\\matplotlib\\__init__.py\u001b[0m in \u001b[0;36minner\u001b[1;34m(ax, *args, **kwargs)\u001b[0m\n\u001b[0;32m   1865\u001b[0m                         \u001b[1;34m\"the Matplotlib list!)\"\u001b[0m \u001b[1;33m%\u001b[0m \u001b[1;33m(\u001b[0m\u001b[0mlabel_namer\u001b[0m\u001b[1;33m,\u001b[0m \u001b[0mfunc\u001b[0m\u001b[1;33m.\u001b[0m\u001b[0m__name__\u001b[0m\u001b[1;33m)\u001b[0m\u001b[1;33m,\u001b[0m\u001b[1;33m\u001b[0m\u001b[0m\n\u001b[0;32m   1866\u001b[0m                         RuntimeWarning, stacklevel=2)\n\u001b[1;32m-> 1867\u001b[1;33m             \u001b[1;32mreturn\u001b[0m \u001b[0mfunc\u001b[0m\u001b[1;33m(\u001b[0m\u001b[0max\u001b[0m\u001b[1;33m,\u001b[0m \u001b[1;33m*\u001b[0m\u001b[0margs\u001b[0m\u001b[1;33m,\u001b[0m \u001b[1;33m**\u001b[0m\u001b[0mkwargs\u001b[0m\u001b[1;33m)\u001b[0m\u001b[1;33m\u001b[0m\u001b[0m\n\u001b[0m\u001b[0;32m   1868\u001b[0m \u001b[1;33m\u001b[0m\u001b[0m\n\u001b[0;32m   1869\u001b[0m         inner.__doc__ = _add_data_doc(inner.__doc__,\n",
      "\u001b[1;31mTypeError\u001b[0m: boxplot() got an unexpected keyword argument 'rotation'"
     ]
    }
   ],
   "source": [
    "# given the high variance though, the difference in the\n",
    "data[['Overall Pay', 'Academic Year']].boxplot(by='Academic Year', rotation=30, ha='right')"
   ]
  },
  {
   "cell_type": "code",
   "execution_count": 147,
   "metadata": {},
   "outputs": [
    {
     "output_type": "execute_result",
     "data": {
      "text/plain": "<matplotlib.axes._subplots.AxesSubplot at 0x1fd2228c400>"
     },
     "metadata": {},
     "execution_count": 147
    },
    {
     "output_type": "display_data",
     "data": {
      "text/plain": "<Figure size 432x288 with 1 Axes>",
      "image/svg+xml": "<?xml version=\"1.0\" encoding=\"utf-8\" standalone=\"no\"?>\r\n<!DOCTYPE svg PUBLIC \"-//W3C//DTD SVG 1.1//EN\"\r\n  \"http://www.w3.org/Graphics/SVG/1.1/DTD/svg11.dtd\">\r\n<!-- Created with matplotlib (http://matplotlib.org/) -->\r\n<svg height=\"283.79625pt\" version=\"1.1\" viewBox=\"0 0 402.3125 283.79625\" width=\"402.3125pt\" xmlns=\"http://www.w3.org/2000/svg\" xmlns:xlink=\"http://www.w3.org/1999/xlink\">\r\n <defs>\r\n  <style type=\"text/css\">\r\n*{stroke-linecap:butt;stroke-linejoin:round;}\r\n  </style>\r\n </defs>\r\n <g id=\"figure_1\">\r\n  <g id=\"patch_1\">\r\n   <path d=\"M 0 283.79625 \r\nL 402.3125 283.79625 \r\nL 402.3125 0 \r\nL 0 0 \r\nz\r\n\" style=\"fill:none;\"/>\r\n  </g>\r\n  <g id=\"axes_1\">\r\n   <g id=\"patch_2\">\r\n    <path d=\"M 46.0125 246.24 \r\nL 391.6125 246.24 \r\nL 391.6125 30.24 \r\nL 46.0125 30.24 \r\nz\r\n\" style=\"fill:#ffffff;\"/>\r\n   </g>\r\n   <g id=\"matplotlib.axis_1\">\r\n    <g id=\"xtick_1\">\r\n     <g id=\"line2d_1\">\r\n      <path clip-path=\"url(#pafe7f2fe0a)\" d=\"M 74.8125 246.24 \r\nL 74.8125 30.24 \r\n\" style=\"fill:none;stroke:#b0b0b0;stroke-linecap:square;stroke-width:0.8;\"/>\r\n     </g>\r\n     <g id=\"line2d_2\">\r\n      <defs>\r\n       <path d=\"M 0 0 \r\nL 0 3.5 \r\n\" id=\"ma05471411e\" style=\"stroke:#000000;stroke-width:0.8;\"/>\r\n      </defs>\r\n      <g>\r\n       <use style=\"stroke:#000000;stroke-width:0.8;\" x=\"74.8125\" xlink:href=\"#ma05471411e\" y=\"246.24\"/>\r\n      </g>\r\n     </g>\r\n     <g id=\"text_1\">\r\n      <!-- 1st -->\r\n      <defs>\r\n       <path d=\"M 12.40625 8.296875 \r\nL 28.515625 8.296875 \r\nL 28.515625 63.921875 \r\nL 10.984375 60.40625 \r\nL 10.984375 69.390625 \r\nL 28.421875 72.90625 \r\nL 38.28125 72.90625 \r\nL 38.28125 8.296875 \r\nL 54.390625 8.296875 \r\nL 54.390625 0 \r\nL 12.40625 0 \r\nz\r\n\" id=\"DejaVuSans-31\"/>\r\n       <path d=\"M 44.28125 53.078125 \r\nL 44.28125 44.578125 \r\nQ 40.484375 46.53125 36.375 47.5 \r\nQ 32.28125 48.484375 27.875 48.484375 \r\nQ 21.1875 48.484375 17.84375 46.4375 \r\nQ 14.5 44.390625 14.5 40.28125 \r\nQ 14.5 37.15625 16.890625 35.375 \r\nQ 19.28125 33.59375 26.515625 31.984375 \r\nL 29.59375 31.296875 \r\nQ 39.15625 29.25 43.1875 25.515625 \r\nQ 47.21875 21.78125 47.21875 15.09375 \r\nQ 47.21875 7.46875 41.1875 3.015625 \r\nQ 35.15625 -1.421875 24.609375 -1.421875 \r\nQ 20.21875 -1.421875 15.453125 -0.5625 \r\nQ 10.6875 0.296875 5.421875 2 \r\nL 5.421875 11.28125 \r\nQ 10.40625 8.6875 15.234375 7.390625 \r\nQ 20.0625 6.109375 24.8125 6.109375 \r\nQ 31.15625 6.109375 34.5625 8.28125 \r\nQ 37.984375 10.453125 37.984375 14.40625 \r\nQ 37.984375 18.0625 35.515625 20.015625 \r\nQ 33.0625 21.96875 24.703125 23.78125 \r\nL 21.578125 24.515625 \r\nQ 13.234375 26.265625 9.515625 29.90625 \r\nQ 5.8125 33.546875 5.8125 39.890625 \r\nQ 5.8125 47.609375 11.28125 51.796875 \r\nQ 16.75 56 26.8125 56 \r\nQ 31.78125 56 36.171875 55.265625 \r\nQ 40.578125 54.546875 44.28125 53.078125 \r\nz\r\n\" id=\"DejaVuSans-73\"/>\r\n       <path d=\"M 18.3125 70.21875 \r\nL 18.3125 54.6875 \r\nL 36.8125 54.6875 \r\nL 36.8125 47.703125 \r\nL 18.3125 47.703125 \r\nL 18.3125 18.015625 \r\nQ 18.3125 11.328125 20.140625 9.421875 \r\nQ 21.96875 7.515625 27.59375 7.515625 \r\nL 36.8125 7.515625 \r\nL 36.8125 0 \r\nL 27.59375 0 \r\nQ 17.1875 0 13.234375 3.875 \r\nQ 9.28125 7.765625 9.28125 18.015625 \r\nL 9.28125 47.703125 \r\nL 2.6875 47.703125 \r\nL 2.6875 54.6875 \r\nL 9.28125 54.6875 \r\nL 9.28125 70.21875 \r\nz\r\n\" id=\"DejaVuSans-74\"/>\r\n      </defs>\r\n      <g transform=\"translate(67.066406 260.838437)scale(0.1 -0.1)\">\r\n       <use xlink:href=\"#DejaVuSans-31\"/>\r\n       <use x=\"63.623047\" xlink:href=\"#DejaVuSans-73\"/>\r\n       <use x=\"115.722656\" xlink:href=\"#DejaVuSans-74\"/>\r\n      </g>\r\n     </g>\r\n    </g>\r\n    <g id=\"xtick_2\">\r\n     <g id=\"line2d_3\">\r\n      <path clip-path=\"url(#pafe7f2fe0a)\" d=\"M 132.4125 246.24 \r\nL 132.4125 30.24 \r\n\" style=\"fill:none;stroke:#b0b0b0;stroke-linecap:square;stroke-width:0.8;\"/>\r\n     </g>\r\n     <g id=\"line2d_4\">\r\n      <g>\r\n       <use style=\"stroke:#000000;stroke-width:0.8;\" x=\"132.4125\" xlink:href=\"#ma05471411e\" y=\"246.24\"/>\r\n      </g>\r\n     </g>\r\n     <g id=\"text_2\">\r\n      <!-- 2nd -->\r\n      <defs>\r\n       <path d=\"M 19.1875 8.296875 \r\nL 53.609375 8.296875 \r\nL 53.609375 0 \r\nL 7.328125 0 \r\nL 7.328125 8.296875 \r\nQ 12.9375 14.109375 22.625 23.890625 \r\nQ 32.328125 33.6875 34.8125 36.53125 \r\nQ 39.546875 41.84375 41.421875 45.53125 \r\nQ 43.3125 49.21875 43.3125 52.78125 \r\nQ 43.3125 58.59375 39.234375 62.25 \r\nQ 35.15625 65.921875 28.609375 65.921875 \r\nQ 23.96875 65.921875 18.8125 64.3125 \r\nQ 13.671875 62.703125 7.8125 59.421875 \r\nL 7.8125 69.390625 \r\nQ 13.765625 71.78125 18.9375 73 \r\nQ 24.125 74.21875 28.421875 74.21875 \r\nQ 39.75 74.21875 46.484375 68.546875 \r\nQ 53.21875 62.890625 53.21875 53.421875 \r\nQ 53.21875 48.921875 51.53125 44.890625 \r\nQ 49.859375 40.875 45.40625 35.40625 \r\nQ 44.1875 33.984375 37.640625 27.21875 \r\nQ 31.109375 20.453125 19.1875 8.296875 \r\nz\r\n\" id=\"DejaVuSans-32\"/>\r\n       <path d=\"M 54.890625 33.015625 \r\nL 54.890625 0 \r\nL 45.90625 0 \r\nL 45.90625 32.71875 \r\nQ 45.90625 40.484375 42.875 44.328125 \r\nQ 39.84375 48.1875 33.796875 48.1875 \r\nQ 26.515625 48.1875 22.3125 43.546875 \r\nQ 18.109375 38.921875 18.109375 30.90625 \r\nL 18.109375 0 \r\nL 9.078125 0 \r\nL 9.078125 54.6875 \r\nL 18.109375 54.6875 \r\nL 18.109375 46.1875 \r\nQ 21.34375 51.125 25.703125 53.5625 \r\nQ 30.078125 56 35.796875 56 \r\nQ 45.21875 56 50.046875 50.171875 \r\nQ 54.890625 44.34375 54.890625 33.015625 \r\nz\r\n\" id=\"DejaVuSans-6e\"/>\r\n       <path d=\"M 45.40625 46.390625 \r\nL 45.40625 75.984375 \r\nL 54.390625 75.984375 \r\nL 54.390625 0 \r\nL 45.40625 0 \r\nL 45.40625 8.203125 \r\nQ 42.578125 3.328125 38.25 0.953125 \r\nQ 33.9375 -1.421875 27.875 -1.421875 \r\nQ 17.96875 -1.421875 11.734375 6.484375 \r\nQ 5.515625 14.40625 5.515625 27.296875 \r\nQ 5.515625 40.1875 11.734375 48.09375 \r\nQ 17.96875 56 27.875 56 \r\nQ 33.9375 56 38.25 53.625 \r\nQ 42.578125 51.265625 45.40625 46.390625 \r\nz\r\nM 14.796875 27.296875 \r\nQ 14.796875 17.390625 18.875 11.75 \r\nQ 22.953125 6.109375 30.078125 6.109375 \r\nQ 37.203125 6.109375 41.296875 11.75 \r\nQ 45.40625 17.390625 45.40625 27.296875 \r\nQ 45.40625 37.203125 41.296875 42.84375 \r\nQ 37.203125 48.484375 30.078125 48.484375 \r\nQ 22.953125 48.484375 18.875 42.84375 \r\nQ 14.796875 37.203125 14.796875 27.296875 \r\nz\r\n\" id=\"DejaVuSans-64\"/>\r\n      </defs>\r\n      <g transform=\"translate(122.888281 260.838437)scale(0.1 -0.1)\">\r\n       <use xlink:href=\"#DejaVuSans-32\"/>\r\n       <use x=\"63.623047\" xlink:href=\"#DejaVuSans-6e\"/>\r\n       <use x=\"127.001953\" xlink:href=\"#DejaVuSans-64\"/>\r\n      </g>\r\n     </g>\r\n    </g>\r\n    <g id=\"xtick_3\">\r\n     <g id=\"line2d_5\">\r\n      <path clip-path=\"url(#pafe7f2fe0a)\" d=\"M 190.0125 246.24 \r\nL 190.0125 30.24 \r\n\" style=\"fill:none;stroke:#b0b0b0;stroke-linecap:square;stroke-width:0.8;\"/>\r\n     </g>\r\n     <g id=\"line2d_6\">\r\n      <g>\r\n       <use style=\"stroke:#000000;stroke-width:0.8;\" x=\"190.0125\" xlink:href=\"#ma05471411e\" y=\"246.24\"/>\r\n      </g>\r\n     </g>\r\n     <g id=\"text_3\">\r\n      <!-- 3rd -->\r\n      <defs>\r\n       <path d=\"M 40.578125 39.3125 \r\nQ 47.65625 37.796875 51.625 33 \r\nQ 55.609375 28.21875 55.609375 21.1875 \r\nQ 55.609375 10.40625 48.1875 4.484375 \r\nQ 40.765625 -1.421875 27.09375 -1.421875 \r\nQ 22.515625 -1.421875 17.65625 -0.515625 \r\nQ 12.796875 0.390625 7.625 2.203125 \r\nL 7.625 11.71875 \r\nQ 11.71875 9.328125 16.59375 8.109375 \r\nQ 21.484375 6.890625 26.8125 6.890625 \r\nQ 36.078125 6.890625 40.9375 10.546875 \r\nQ 45.796875 14.203125 45.796875 21.1875 \r\nQ 45.796875 27.640625 41.28125 31.265625 \r\nQ 36.765625 34.90625 28.71875 34.90625 \r\nL 20.21875 34.90625 \r\nL 20.21875 43.015625 \r\nL 29.109375 43.015625 \r\nQ 36.375 43.015625 40.234375 45.921875 \r\nQ 44.09375 48.828125 44.09375 54.296875 \r\nQ 44.09375 59.90625 40.109375 62.90625 \r\nQ 36.140625 65.921875 28.71875 65.921875 \r\nQ 24.65625 65.921875 20.015625 65.03125 \r\nQ 15.375 64.15625 9.8125 62.3125 \r\nL 9.8125 71.09375 \r\nQ 15.4375 72.65625 20.34375 73.4375 \r\nQ 25.25 74.21875 29.59375 74.21875 \r\nQ 40.828125 74.21875 47.359375 69.109375 \r\nQ 53.90625 64.015625 53.90625 55.328125 \r\nQ 53.90625 49.265625 50.4375 45.09375 \r\nQ 46.96875 40.921875 40.578125 39.3125 \r\nz\r\n\" id=\"DejaVuSans-33\"/>\r\n       <path d=\"M 41.109375 46.296875 \r\nQ 39.59375 47.171875 37.8125 47.578125 \r\nQ 36.03125 48 33.890625 48 \r\nQ 26.265625 48 22.1875 43.046875 \r\nQ 18.109375 38.09375 18.109375 28.8125 \r\nL 18.109375 0 \r\nL 9.078125 0 \r\nL 9.078125 54.6875 \r\nL 18.109375 54.6875 \r\nL 18.109375 46.1875 \r\nQ 20.953125 51.171875 25.484375 53.578125 \r\nQ 30.03125 56 36.53125 56 \r\nQ 37.453125 56 38.578125 55.875 \r\nQ 39.703125 55.765625 41.0625 55.515625 \r\nz\r\n\" id=\"DejaVuSans-72\"/>\r\n      </defs>\r\n      <g transform=\"translate(181.602344 260.838437)scale(0.1 -0.1)\">\r\n       <use xlink:href=\"#DejaVuSans-33\"/>\r\n       <use x=\"63.623047\" xlink:href=\"#DejaVuSans-72\"/>\r\n       <use x=\"104.720703\" xlink:href=\"#DejaVuSans-64\"/>\r\n      </g>\r\n     </g>\r\n    </g>\r\n    <g id=\"xtick_4\">\r\n     <g id=\"line2d_7\">\r\n      <path clip-path=\"url(#pafe7f2fe0a)\" d=\"M 247.6125 246.24 \r\nL 247.6125 30.24 \r\n\" style=\"fill:none;stroke:#b0b0b0;stroke-linecap:square;stroke-width:0.8;\"/>\r\n     </g>\r\n     <g id=\"line2d_8\">\r\n      <g>\r\n       <use style=\"stroke:#000000;stroke-width:0.8;\" x=\"247.6125\" xlink:href=\"#ma05471411e\" y=\"246.24\"/>\r\n      </g>\r\n     </g>\r\n     <g id=\"text_4\">\r\n      <!-- 4th -->\r\n      <defs>\r\n       <path d=\"M 37.796875 64.3125 \r\nL 12.890625 25.390625 \r\nL 37.796875 25.390625 \r\nz\r\nM 35.203125 72.90625 \r\nL 47.609375 72.90625 \r\nL 47.609375 25.390625 \r\nL 58.015625 25.390625 \r\nL 58.015625 17.1875 \r\nL 47.609375 17.1875 \r\nL 47.609375 0 \r\nL 37.796875 0 \r\nL 37.796875 17.1875 \r\nL 4.890625 17.1875 \r\nL 4.890625 26.703125 \r\nz\r\n\" id=\"DejaVuSans-34\"/>\r\n       <path d=\"M 54.890625 33.015625 \r\nL 54.890625 0 \r\nL 45.90625 0 \r\nL 45.90625 32.71875 \r\nQ 45.90625 40.484375 42.875 44.328125 \r\nQ 39.84375 48.1875 33.796875 48.1875 \r\nQ 26.515625 48.1875 22.3125 43.546875 \r\nQ 18.109375 38.921875 18.109375 30.90625 \r\nL 18.109375 0 \r\nL 9.078125 0 \r\nL 9.078125 75.984375 \r\nL 18.109375 75.984375 \r\nL 18.109375 46.1875 \r\nQ 21.34375 51.125 25.703125 53.5625 \r\nQ 30.078125 56 35.796875 56 \r\nQ 45.21875 56 50.046875 50.171875 \r\nQ 54.890625 44.34375 54.890625 33.015625 \r\nz\r\n\" id=\"DejaVuSans-68\"/>\r\n      </defs>\r\n      <g transform=\"translate(239.302344 260.838437)scale(0.1 -0.1)\">\r\n       <use xlink:href=\"#DejaVuSans-34\"/>\r\n       <use x=\"63.623047\" xlink:href=\"#DejaVuSans-74\"/>\r\n       <use x=\"102.832031\" xlink:href=\"#DejaVuSans-68\"/>\r\n      </g>\r\n     </g>\r\n    </g>\r\n    <g id=\"xtick_5\">\r\n     <g id=\"line2d_9\">\r\n      <path clip-path=\"url(#pafe7f2fe0a)\" d=\"M 305.2125 246.24 \r\nL 305.2125 30.24 \r\n\" style=\"fill:none;stroke:#b0b0b0;stroke-linecap:square;stroke-width:0.8;\"/>\r\n     </g>\r\n     <g id=\"line2d_10\">\r\n      <g>\r\n       <use style=\"stroke:#000000;stroke-width:0.8;\" x=\"305.2125\" xlink:href=\"#ma05471411e\" y=\"246.24\"/>\r\n      </g>\r\n     </g>\r\n     <g id=\"text_5\">\r\n      <!-- 5th -->\r\n      <defs>\r\n       <path d=\"M 10.796875 72.90625 \r\nL 49.515625 72.90625 \r\nL 49.515625 64.59375 \r\nL 19.828125 64.59375 \r\nL 19.828125 46.734375 \r\nQ 21.96875 47.46875 24.109375 47.828125 \r\nQ 26.265625 48.1875 28.421875 48.1875 \r\nQ 40.625 48.1875 47.75 41.5 \r\nQ 54.890625 34.8125 54.890625 23.390625 \r\nQ 54.890625 11.625 47.5625 5.09375 \r\nQ 40.234375 -1.421875 26.90625 -1.421875 \r\nQ 22.3125 -1.421875 17.546875 -0.640625 \r\nQ 12.796875 0.140625 7.71875 1.703125 \r\nL 7.71875 11.625 \r\nQ 12.109375 9.234375 16.796875 8.0625 \r\nQ 21.484375 6.890625 26.703125 6.890625 \r\nQ 35.15625 6.890625 40.078125 11.328125 \r\nQ 45.015625 15.765625 45.015625 23.390625 \r\nQ 45.015625 31 40.078125 35.4375 \r\nQ 35.15625 39.890625 26.703125 39.890625 \r\nQ 22.75 39.890625 18.8125 39.015625 \r\nQ 14.890625 38.140625 10.796875 36.28125 \r\nz\r\n\" id=\"DejaVuSans-35\"/>\r\n      </defs>\r\n      <g transform=\"translate(296.902344 260.838437)scale(0.1 -0.1)\">\r\n       <use xlink:href=\"#DejaVuSans-35\"/>\r\n       <use x=\"63.623047\" xlink:href=\"#DejaVuSans-74\"/>\r\n       <use x=\"102.832031\" xlink:href=\"#DejaVuSans-68\"/>\r\n      </g>\r\n     </g>\r\n    </g>\r\n    <g id=\"xtick_6\">\r\n     <g id=\"line2d_11\">\r\n      <path clip-path=\"url(#pafe7f2fe0a)\" d=\"M 362.8125 246.24 \r\nL 362.8125 30.24 \r\n\" style=\"fill:none;stroke:#b0b0b0;stroke-linecap:square;stroke-width:0.8;\"/>\r\n     </g>\r\n     <g id=\"line2d_12\">\r\n      <g>\r\n       <use style=\"stroke:#000000;stroke-width:0.8;\" x=\"362.8125\" xlink:href=\"#ma05471411e\" y=\"246.24\"/>\r\n      </g>\r\n     </g>\r\n     <g id=\"text_6\">\r\n      <!-- 6th and up -->\r\n      <defs>\r\n       <path d=\"M 33.015625 40.375 \r\nQ 26.375 40.375 22.484375 35.828125 \r\nQ 18.609375 31.296875 18.609375 23.390625 \r\nQ 18.609375 15.53125 22.484375 10.953125 \r\nQ 26.375 6.390625 33.015625 6.390625 \r\nQ 39.65625 6.390625 43.53125 10.953125 \r\nQ 47.40625 15.53125 47.40625 23.390625 \r\nQ 47.40625 31.296875 43.53125 35.828125 \r\nQ 39.65625 40.375 33.015625 40.375 \r\nz\r\nM 52.59375 71.296875 \r\nL 52.59375 62.3125 \r\nQ 48.875 64.0625 45.09375 64.984375 \r\nQ 41.3125 65.921875 37.59375 65.921875 \r\nQ 27.828125 65.921875 22.671875 59.328125 \r\nQ 17.53125 52.734375 16.796875 39.40625 \r\nQ 19.671875 43.65625 24.015625 45.921875 \r\nQ 28.375 48.1875 33.59375 48.1875 \r\nQ 44.578125 48.1875 50.953125 41.515625 \r\nQ 57.328125 34.859375 57.328125 23.390625 \r\nQ 57.328125 12.15625 50.6875 5.359375 \r\nQ 44.046875 -1.421875 33.015625 -1.421875 \r\nQ 20.359375 -1.421875 13.671875 8.265625 \r\nQ 6.984375 17.96875 6.984375 36.375 \r\nQ 6.984375 53.65625 15.1875 63.9375 \r\nQ 23.390625 74.21875 37.203125 74.21875 \r\nQ 40.921875 74.21875 44.703125 73.484375 \r\nQ 48.484375 72.75 52.59375 71.296875 \r\nz\r\n\" id=\"DejaVuSans-36\"/>\r\n       <path id=\"DejaVuSans-20\"/>\r\n       <path d=\"M 34.28125 27.484375 \r\nQ 23.390625 27.484375 19.1875 25 \r\nQ 14.984375 22.515625 14.984375 16.5 \r\nQ 14.984375 11.71875 18.140625 8.90625 \r\nQ 21.296875 6.109375 26.703125 6.109375 \r\nQ 34.1875 6.109375 38.703125 11.40625 \r\nQ 43.21875 16.703125 43.21875 25.484375 \r\nL 43.21875 27.484375 \r\nz\r\nM 52.203125 31.203125 \r\nL 52.203125 0 \r\nL 43.21875 0 \r\nL 43.21875 8.296875 \r\nQ 40.140625 3.328125 35.546875 0.953125 \r\nQ 30.953125 -1.421875 24.3125 -1.421875 \r\nQ 15.921875 -1.421875 10.953125 3.296875 \r\nQ 6 8.015625 6 15.921875 \r\nQ 6 25.140625 12.171875 29.828125 \r\nQ 18.359375 34.515625 30.609375 34.515625 \r\nL 43.21875 34.515625 \r\nL 43.21875 35.40625 \r\nQ 43.21875 41.609375 39.140625 45 \r\nQ 35.0625 48.390625 27.6875 48.390625 \r\nQ 23 48.390625 18.546875 47.265625 \r\nQ 14.109375 46.140625 10.015625 43.890625 \r\nL 10.015625 52.203125 \r\nQ 14.9375 54.109375 19.578125 55.046875 \r\nQ 24.21875 56 28.609375 56 \r\nQ 40.484375 56 46.34375 49.84375 \r\nQ 52.203125 43.703125 52.203125 31.203125 \r\nz\r\n\" id=\"DejaVuSans-61\"/>\r\n       <path d=\"M 8.5 21.578125 \r\nL 8.5 54.6875 \r\nL 17.484375 54.6875 \r\nL 17.484375 21.921875 \r\nQ 17.484375 14.15625 20.5 10.265625 \r\nQ 23.53125 6.390625 29.59375 6.390625 \r\nQ 36.859375 6.390625 41.078125 11.03125 \r\nQ 45.3125 15.671875 45.3125 23.6875 \r\nL 45.3125 54.6875 \r\nL 54.296875 54.6875 \r\nL 54.296875 0 \r\nL 45.3125 0 \r\nL 45.3125 8.40625 \r\nQ 42.046875 3.421875 37.71875 1 \r\nQ 33.40625 -1.421875 27.6875 -1.421875 \r\nQ 18.265625 -1.421875 13.375 4.4375 \r\nQ 8.5 10.296875 8.5 21.578125 \r\nz\r\nM 31.109375 56 \r\nz\r\n\" id=\"DejaVuSans-75\"/>\r\n       <path d=\"M 18.109375 8.203125 \r\nL 18.109375 -20.796875 \r\nL 9.078125 -20.796875 \r\nL 9.078125 54.6875 \r\nL 18.109375 54.6875 \r\nL 18.109375 46.390625 \r\nQ 20.953125 51.265625 25.265625 53.625 \r\nQ 29.59375 56 35.59375 56 \r\nQ 45.5625 56 51.78125 48.09375 \r\nQ 58.015625 40.1875 58.015625 27.296875 \r\nQ 58.015625 14.40625 51.78125 6.484375 \r\nQ 45.5625 -1.421875 35.59375 -1.421875 \r\nQ 29.59375 -1.421875 25.265625 0.953125 \r\nQ 20.953125 3.328125 18.109375 8.203125 \r\nz\r\nM 48.6875 27.296875 \r\nQ 48.6875 37.203125 44.609375 42.84375 \r\nQ 40.53125 48.484375 33.40625 48.484375 \r\nQ 26.265625 48.484375 22.1875 42.84375 \r\nQ 18.109375 37.203125 18.109375 27.296875 \r\nQ 18.109375 17.390625 22.1875 11.75 \r\nQ 26.265625 6.109375 33.40625 6.109375 \r\nQ 40.53125 6.109375 44.609375 11.75 \r\nQ 48.6875 17.390625 48.6875 27.296875 \r\nz\r\n\" id=\"DejaVuSans-70\"/>\r\n      </defs>\r\n      <g transform=\"translate(335.574219 260.838437)scale(0.1 -0.1)\">\r\n       <use xlink:href=\"#DejaVuSans-36\"/>\r\n       <use x=\"63.623047\" xlink:href=\"#DejaVuSans-74\"/>\r\n       <use x=\"102.832031\" xlink:href=\"#DejaVuSans-68\"/>\r\n       <use x=\"166.210938\" xlink:href=\"#DejaVuSans-20\"/>\r\n       <use x=\"197.998047\" xlink:href=\"#DejaVuSans-61\"/>\r\n       <use x=\"259.277344\" xlink:href=\"#DejaVuSans-6e\"/>\r\n       <use x=\"322.65625\" xlink:href=\"#DejaVuSans-64\"/>\r\n       <use x=\"386.132812\" xlink:href=\"#DejaVuSans-20\"/>\r\n       <use x=\"417.919922\" xlink:href=\"#DejaVuSans-75\"/>\r\n       <use x=\"481.298828\" xlink:href=\"#DejaVuSans-70\"/>\r\n      </g>\r\n     </g>\r\n    </g>\r\n    <g id=\"text_7\">\r\n     <!-- [Program Year] -->\r\n     <defs>\r\n      <path d=\"M 8.59375 75.984375 \r\nL 29.296875 75.984375 \r\nL 29.296875 69 \r\nL 17.578125 69 \r\nL 17.578125 -6.203125 \r\nL 29.296875 -6.203125 \r\nL 29.296875 -13.1875 \r\nL 8.59375 -13.1875 \r\nz\r\n\" id=\"DejaVuSans-5b\"/>\r\n      <path d=\"M 19.671875 64.796875 \r\nL 19.671875 37.40625 \r\nL 32.078125 37.40625 \r\nQ 38.96875 37.40625 42.71875 40.96875 \r\nQ 46.484375 44.53125 46.484375 51.125 \r\nQ 46.484375 57.671875 42.71875 61.234375 \r\nQ 38.96875 64.796875 32.078125 64.796875 \r\nz\r\nM 9.8125 72.90625 \r\nL 32.078125 72.90625 \r\nQ 44.34375 72.90625 50.609375 67.359375 \r\nQ 56.890625 61.8125 56.890625 51.125 \r\nQ 56.890625 40.328125 50.609375 34.8125 \r\nQ 44.34375 29.296875 32.078125 29.296875 \r\nL 19.671875 29.296875 \r\nL 19.671875 0 \r\nL 9.8125 0 \r\nz\r\n\" id=\"DejaVuSans-50\"/>\r\n      <path d=\"M 30.609375 48.390625 \r\nQ 23.390625 48.390625 19.1875 42.75 \r\nQ 14.984375 37.109375 14.984375 27.296875 \r\nQ 14.984375 17.484375 19.15625 11.84375 \r\nQ 23.34375 6.203125 30.609375 6.203125 \r\nQ 37.796875 6.203125 41.984375 11.859375 \r\nQ 46.1875 17.53125 46.1875 27.296875 \r\nQ 46.1875 37.015625 41.984375 42.703125 \r\nQ 37.796875 48.390625 30.609375 48.390625 \r\nz\r\nM 30.609375 56 \r\nQ 42.328125 56 49.015625 48.375 \r\nQ 55.71875 40.765625 55.71875 27.296875 \r\nQ 55.71875 13.875 49.015625 6.21875 \r\nQ 42.328125 -1.421875 30.609375 -1.421875 \r\nQ 18.84375 -1.421875 12.171875 6.21875 \r\nQ 5.515625 13.875 5.515625 27.296875 \r\nQ 5.515625 40.765625 12.171875 48.375 \r\nQ 18.84375 56 30.609375 56 \r\nz\r\n\" id=\"DejaVuSans-6f\"/>\r\n      <path d=\"M 45.40625 27.984375 \r\nQ 45.40625 37.75 41.375 43.109375 \r\nQ 37.359375 48.484375 30.078125 48.484375 \r\nQ 22.859375 48.484375 18.828125 43.109375 \r\nQ 14.796875 37.75 14.796875 27.984375 \r\nQ 14.796875 18.265625 18.828125 12.890625 \r\nQ 22.859375 7.515625 30.078125 7.515625 \r\nQ 37.359375 7.515625 41.375 12.890625 \r\nQ 45.40625 18.265625 45.40625 27.984375 \r\nz\r\nM 54.390625 6.78125 \r\nQ 54.390625 -7.171875 48.1875 -13.984375 \r\nQ 42 -20.796875 29.203125 -20.796875 \r\nQ 24.46875 -20.796875 20.265625 -20.09375 \r\nQ 16.0625 -19.390625 12.109375 -17.921875 \r\nL 12.109375 -9.1875 \r\nQ 16.0625 -11.328125 19.921875 -12.34375 \r\nQ 23.78125 -13.375 27.78125 -13.375 \r\nQ 36.625 -13.375 41.015625 -8.765625 \r\nQ 45.40625 -4.15625 45.40625 5.171875 \r\nL 45.40625 9.625 \r\nQ 42.625 4.78125 38.28125 2.390625 \r\nQ 33.9375 0 27.875 0 \r\nQ 17.828125 0 11.671875 7.65625 \r\nQ 5.515625 15.328125 5.515625 27.984375 \r\nQ 5.515625 40.671875 11.671875 48.328125 \r\nQ 17.828125 56 27.875 56 \r\nQ 33.9375 56 38.28125 53.609375 \r\nQ 42.625 51.21875 45.40625 46.390625 \r\nL 45.40625 54.6875 \r\nL 54.390625 54.6875 \r\nz\r\n\" id=\"DejaVuSans-67\"/>\r\n      <path d=\"M 52 44.1875 \r\nQ 55.375 50.25 60.0625 53.125 \r\nQ 64.75 56 71.09375 56 \r\nQ 79.640625 56 84.28125 50.015625 \r\nQ 88.921875 44.046875 88.921875 33.015625 \r\nL 88.921875 0 \r\nL 79.890625 0 \r\nL 79.890625 32.71875 \r\nQ 79.890625 40.578125 77.09375 44.375 \r\nQ 74.3125 48.1875 68.609375 48.1875 \r\nQ 61.625 48.1875 57.5625 43.546875 \r\nQ 53.515625 38.921875 53.515625 30.90625 \r\nL 53.515625 0 \r\nL 44.484375 0 \r\nL 44.484375 32.71875 \r\nQ 44.484375 40.625 41.703125 44.40625 \r\nQ 38.921875 48.1875 33.109375 48.1875 \r\nQ 26.21875 48.1875 22.15625 43.53125 \r\nQ 18.109375 38.875 18.109375 30.90625 \r\nL 18.109375 0 \r\nL 9.078125 0 \r\nL 9.078125 54.6875 \r\nL 18.109375 54.6875 \r\nL 18.109375 46.1875 \r\nQ 21.1875 51.21875 25.484375 53.609375 \r\nQ 29.78125 56 35.6875 56 \r\nQ 41.65625 56 45.828125 52.96875 \r\nQ 50 49.953125 52 44.1875 \r\nz\r\n\" id=\"DejaVuSans-6d\"/>\r\n      <path d=\"M -0.203125 72.90625 \r\nL 10.40625 72.90625 \r\nL 30.609375 42.921875 \r\nL 50.6875 72.90625 \r\nL 61.28125 72.90625 \r\nL 35.5 34.71875 \r\nL 35.5 0 \r\nL 25.59375 0 \r\nL 25.59375 34.71875 \r\nz\r\n\" id=\"DejaVuSans-59\"/>\r\n      <path d=\"M 56.203125 29.59375 \r\nL 56.203125 25.203125 \r\nL 14.890625 25.203125 \r\nQ 15.484375 15.921875 20.484375 11.0625 \r\nQ 25.484375 6.203125 34.421875 6.203125 \r\nQ 39.59375 6.203125 44.453125 7.46875 \r\nQ 49.3125 8.734375 54.109375 11.28125 \r\nL 54.109375 2.78125 \r\nQ 49.265625 0.734375 44.1875 -0.34375 \r\nQ 39.109375 -1.421875 33.890625 -1.421875 \r\nQ 20.796875 -1.421875 13.15625 6.1875 \r\nQ 5.515625 13.8125 5.515625 26.8125 \r\nQ 5.515625 40.234375 12.765625 48.109375 \r\nQ 20.015625 56 32.328125 56 \r\nQ 43.359375 56 49.78125 48.890625 \r\nQ 56.203125 41.796875 56.203125 29.59375 \r\nz\r\nM 47.21875 32.234375 \r\nQ 47.125 39.59375 43.09375 43.984375 \r\nQ 39.0625 48.390625 32.421875 48.390625 \r\nQ 24.90625 48.390625 20.390625 44.140625 \r\nQ 15.875 39.890625 15.1875 32.171875 \r\nz\r\n\" id=\"DejaVuSans-65\"/>\r\n      <path d=\"M 30.421875 75.984375 \r\nL 30.421875 -13.1875 \r\nL 9.71875 -13.1875 \r\nL 9.71875 -6.203125 \r\nL 21.390625 -6.203125 \r\nL 21.390625 69 \r\nL 9.71875 69 \r\nL 9.71875 75.984375 \r\nz\r\n\" id=\"DejaVuSans-5d\"/>\r\n     </defs>\r\n     <g transform=\"translate(180.790625 274.516562)scale(0.1 -0.1)\">\r\n      <use xlink:href=\"#DejaVuSans-5b\"/>\r\n      <use x=\"39.013672\" xlink:href=\"#DejaVuSans-50\"/>\r\n      <use x=\"99.300781\" xlink:href=\"#DejaVuSans-72\"/>\r\n      <use x=\"140.382812\" xlink:href=\"#DejaVuSans-6f\"/>\r\n      <use x=\"201.564453\" xlink:href=\"#DejaVuSans-67\"/>\r\n      <use x=\"265.041016\" xlink:href=\"#DejaVuSans-72\"/>\r\n      <use x=\"306.154297\" xlink:href=\"#DejaVuSans-61\"/>\r\n      <use x=\"367.433594\" xlink:href=\"#DejaVuSans-6d\"/>\r\n      <use x=\"464.845703\" xlink:href=\"#DejaVuSans-20\"/>\r\n      <use x=\"496.632812\" xlink:href=\"#DejaVuSans-59\"/>\r\n      <use x=\"557.513672\" xlink:href=\"#DejaVuSans-65\"/>\r\n      <use x=\"619.037109\" xlink:href=\"#DejaVuSans-61\"/>\r\n      <use x=\"680.316406\" xlink:href=\"#DejaVuSans-72\"/>\r\n      <use x=\"721.429688\" xlink:href=\"#DejaVuSans-5d\"/>\r\n     </g>\r\n    </g>\r\n   </g>\r\n   <g id=\"matplotlib.axis_2\">\r\n    <g id=\"ytick_1\">\r\n     <g id=\"line2d_13\">\r\n      <path clip-path=\"url(#pafe7f2fe0a)\" d=\"M 46.0125 224.440828 \r\nL 391.6125 224.440828 \r\n\" style=\"fill:none;stroke:#b0b0b0;stroke-linecap:square;stroke-width:0.8;\"/>\r\n     </g>\r\n     <g id=\"line2d_14\">\r\n      <defs>\r\n       <path d=\"M 0 0 \r\nL -3.5 0 \r\n\" id=\"mda8cc718c4\" style=\"stroke:#000000;stroke-width:0.8;\"/>\r\n      </defs>\r\n      <g>\r\n       <use style=\"stroke:#000000;stroke-width:0.8;\" x=\"46.0125\" xlink:href=\"#mda8cc718c4\" y=\"224.440828\"/>\r\n      </g>\r\n     </g>\r\n     <g id=\"text_8\">\r\n      <!-- 10000 -->\r\n      <defs>\r\n       <path d=\"M 31.78125 66.40625 \r\nQ 24.171875 66.40625 20.328125 58.90625 \r\nQ 16.5 51.421875 16.5 36.375 \r\nQ 16.5 21.390625 20.328125 13.890625 \r\nQ 24.171875 6.390625 31.78125 6.390625 \r\nQ 39.453125 6.390625 43.28125 13.890625 \r\nQ 47.125 21.390625 47.125 36.375 \r\nQ 47.125 51.421875 43.28125 58.90625 \r\nQ 39.453125 66.40625 31.78125 66.40625 \r\nz\r\nM 31.78125 74.21875 \r\nQ 44.046875 74.21875 50.515625 64.515625 \r\nQ 56.984375 54.828125 56.984375 36.375 \r\nQ 56.984375 17.96875 50.515625 8.265625 \r\nQ 44.046875 -1.421875 31.78125 -1.421875 \r\nQ 19.53125 -1.421875 13.0625 8.265625 \r\nQ 6.59375 17.96875 6.59375 36.375 \r\nQ 6.59375 54.828125 13.0625 64.515625 \r\nQ 19.53125 74.21875 31.78125 74.21875 \r\nz\r\n\" id=\"DejaVuSans-30\"/>\r\n      </defs>\r\n      <g transform=\"translate(7.2 228.240047)scale(0.1 -0.1)\">\r\n       <use xlink:href=\"#DejaVuSans-31\"/>\r\n       <use x=\"63.623047\" xlink:href=\"#DejaVuSans-30\"/>\r\n       <use x=\"127.246094\" xlink:href=\"#DejaVuSans-30\"/>\r\n       <use x=\"190.869141\" xlink:href=\"#DejaVuSans-30\"/>\r\n       <use x=\"254.492188\" xlink:href=\"#DejaVuSans-30\"/>\r\n      </g>\r\n     </g>\r\n    </g>\r\n    <g id=\"ytick_2\">\r\n     <g id=\"line2d_15\">\r\n      <path clip-path=\"url(#pafe7f2fe0a)\" d=\"M 46.0125 176.516867 \r\nL 391.6125 176.516867 \r\n\" style=\"fill:none;stroke:#b0b0b0;stroke-linecap:square;stroke-width:0.8;\"/>\r\n     </g>\r\n     <g id=\"line2d_16\">\r\n      <g>\r\n       <use style=\"stroke:#000000;stroke-width:0.8;\" x=\"46.0125\" xlink:href=\"#mda8cc718c4\" y=\"176.516867\"/>\r\n      </g>\r\n     </g>\r\n     <g id=\"text_9\">\r\n      <!-- 20000 -->\r\n      <g transform=\"translate(7.2 180.316086)scale(0.1 -0.1)\">\r\n       <use xlink:href=\"#DejaVuSans-32\"/>\r\n       <use x=\"63.623047\" xlink:href=\"#DejaVuSans-30\"/>\r\n       <use x=\"127.246094\" xlink:href=\"#DejaVuSans-30\"/>\r\n       <use x=\"190.869141\" xlink:href=\"#DejaVuSans-30\"/>\r\n       <use x=\"254.492188\" xlink:href=\"#DejaVuSans-30\"/>\r\n      </g>\r\n     </g>\r\n    </g>\r\n    <g id=\"ytick_3\">\r\n     <g id=\"line2d_17\">\r\n      <path clip-path=\"url(#pafe7f2fe0a)\" d=\"M 46.0125 128.592907 \r\nL 391.6125 128.592907 \r\n\" style=\"fill:none;stroke:#b0b0b0;stroke-linecap:square;stroke-width:0.8;\"/>\r\n     </g>\r\n     <g id=\"line2d_18\">\r\n      <g>\r\n       <use style=\"stroke:#000000;stroke-width:0.8;\" x=\"46.0125\" xlink:href=\"#mda8cc718c4\" y=\"128.592907\"/>\r\n      </g>\r\n     </g>\r\n     <g id=\"text_10\">\r\n      <!-- 30000 -->\r\n      <g transform=\"translate(7.2 132.392125)scale(0.1 -0.1)\">\r\n       <use xlink:href=\"#DejaVuSans-33\"/>\r\n       <use x=\"63.623047\" xlink:href=\"#DejaVuSans-30\"/>\r\n       <use x=\"127.246094\" xlink:href=\"#DejaVuSans-30\"/>\r\n       <use x=\"190.869141\" xlink:href=\"#DejaVuSans-30\"/>\r\n       <use x=\"254.492188\" xlink:href=\"#DejaVuSans-30\"/>\r\n      </g>\r\n     </g>\r\n    </g>\r\n    <g id=\"ytick_4\">\r\n     <g id=\"line2d_19\">\r\n      <path clip-path=\"url(#pafe7f2fe0a)\" d=\"M 46.0125 80.668946 \r\nL 391.6125 80.668946 \r\n\" style=\"fill:none;stroke:#b0b0b0;stroke-linecap:square;stroke-width:0.8;\"/>\r\n     </g>\r\n     <g id=\"line2d_20\">\r\n      <g>\r\n       <use style=\"stroke:#000000;stroke-width:0.8;\" x=\"46.0125\" xlink:href=\"#mda8cc718c4\" y=\"80.668946\"/>\r\n      </g>\r\n     </g>\r\n     <g id=\"text_11\">\r\n      <!-- 40000 -->\r\n      <g transform=\"translate(7.2 84.468165)scale(0.1 -0.1)\">\r\n       <use xlink:href=\"#DejaVuSans-34\"/>\r\n       <use x=\"63.623047\" xlink:href=\"#DejaVuSans-30\"/>\r\n       <use x=\"127.246094\" xlink:href=\"#DejaVuSans-30\"/>\r\n       <use x=\"190.869141\" xlink:href=\"#DejaVuSans-30\"/>\r\n       <use x=\"254.492188\" xlink:href=\"#DejaVuSans-30\"/>\r\n      </g>\r\n     </g>\r\n    </g>\r\n    <g id=\"ytick_5\">\r\n     <g id=\"line2d_21\">\r\n      <path clip-path=\"url(#pafe7f2fe0a)\" d=\"M 46.0125 32.744985 \r\nL 391.6125 32.744985 \r\n\" style=\"fill:none;stroke:#b0b0b0;stroke-linecap:square;stroke-width:0.8;\"/>\r\n     </g>\r\n     <g id=\"line2d_22\">\r\n      <g>\r\n       <use style=\"stroke:#000000;stroke-width:0.8;\" x=\"46.0125\" xlink:href=\"#mda8cc718c4\" y=\"32.744985\"/>\r\n      </g>\r\n     </g>\r\n     <g id=\"text_12\">\r\n      <!-- 50000 -->\r\n      <g transform=\"translate(7.2 36.544204)scale(0.1 -0.1)\">\r\n       <use xlink:href=\"#DejaVuSans-35\"/>\r\n       <use x=\"63.623047\" xlink:href=\"#DejaVuSans-30\"/>\r\n       <use x=\"127.246094\" xlink:href=\"#DejaVuSans-30\"/>\r\n       <use x=\"190.869141\" xlink:href=\"#DejaVuSans-30\"/>\r\n       <use x=\"254.492188\" xlink:href=\"#DejaVuSans-30\"/>\r\n      </g>\r\n     </g>\r\n    </g>\r\n   </g>\r\n   <g id=\"line2d_23\">\r\n    <path clip-path=\"url(#pafe7f2fe0a)\" d=\"M 60.4125 176.037628 \r\nL 89.2125 176.037628 \r\nL 89.2125 123.800511 \r\nL 60.4125 123.800511 \r\nL 60.4125 176.037628 \r\n\" style=\"fill:none;stroke:#1f77b4;stroke-linecap:square;\"/>\r\n   </g>\r\n   <g id=\"line2d_24\">\r\n    <path clip-path=\"url(#pafe7f2fe0a)\" d=\"M 74.8125 176.037628 \r\nL 74.8125 236.421818 \r\n\" style=\"fill:none;stroke:#1f77b4;stroke-linecap:square;\"/>\r\n   </g>\r\n   <g id=\"line2d_25\">\r\n    <path clip-path=\"url(#pafe7f2fe0a)\" d=\"M 74.8125 123.800511 \r\nL 74.8125 46.163694 \r\n\" style=\"fill:none;stroke:#1f77b4;stroke-linecap:square;\"/>\r\n   </g>\r\n   <g id=\"line2d_26\">\r\n    <path clip-path=\"url(#pafe7f2fe0a)\" d=\"M 67.6125 236.421818 \r\nL 82.0125 236.421818 \r\n\" style=\"fill:none;stroke:#000000;stroke-linecap:square;\"/>\r\n   </g>\r\n   <g id=\"line2d_27\">\r\n    <path clip-path=\"url(#pafe7f2fe0a)\" d=\"M 67.6125 46.163694 \r\nL 82.0125 46.163694 \r\n\" style=\"fill:none;stroke:#000000;stroke-linecap:square;\"/>\r\n   </g>\r\n   <g id=\"line2d_28\">\r\n    <defs>\r\n     <path d=\"M 0 3 \r\nC 0.795609 3 1.55874 2.683901 2.12132 2.12132 \r\nC 2.683901 1.55874 3 0.795609 3 0 \r\nC 3 -0.795609 2.683901 -1.55874 2.12132 -2.12132 \r\nC 1.55874 -2.683901 0.795609 -3 0 -3 \r\nC -0.795609 -3 -1.55874 -2.683901 -2.12132 -2.12132 \r\nC -2.683901 -1.55874 -3 -0.795609 -3 0 \r\nC -3 0.795609 -2.683901 1.55874 -2.12132 2.12132 \r\nC -1.55874 2.683901 -0.795609 3 0 3 \r\nz\r\n\" id=\"m99c00a5f0e\" style=\"stroke:#000000;\"/>\r\n    </defs>\r\n    <g clip-path=\"url(#pafe7f2fe0a)\">\r\n     <use style=\"fill-opacity:0;stroke:#000000;\" x=\"74.8125\" xlink:href=\"#m99c00a5f0e\" y=\"41.850538\"/>\r\n     <use style=\"fill-opacity:0;stroke:#000000;\" x=\"74.8125\" xlink:href=\"#m99c00a5f0e\" y=\"45.238762\"/>\r\n     <use style=\"fill-opacity:0;stroke:#000000;\" x=\"74.8125\" xlink:href=\"#m99c00a5f0e\" y=\"42.329778\"/>\r\n     <use style=\"fill-opacity:0;stroke:#000000;\" x=\"74.8125\" xlink:href=\"#m99c00a5f0e\" y=\"42.329778\"/>\r\n     <use style=\"fill-opacity:0;stroke:#000000;\" x=\"74.8125\" xlink:href=\"#m99c00a5f0e\" y=\"43.077391\"/>\r\n     <use style=\"fill-opacity:0;stroke:#000000;\" x=\"74.8125\" xlink:href=\"#m99c00a5f0e\" y=\"42.329778\"/>\r\n     <use style=\"fill-opacity:0;stroke:#000000;\" x=\"74.8125\" xlink:href=\"#m99c00a5f0e\" y=\"44.788277\"/>\r\n     <use style=\"fill-opacity:0;stroke:#000000;\" x=\"74.8125\" xlink:href=\"#m99c00a5f0e\" y=\"42.329778\"/>\r\n    </g>\r\n   </g>\r\n   <g id=\"line2d_29\">\r\n    <path clip-path=\"url(#pafe7f2fe0a)\" d=\"M 118.0125 179.155081 \r\nL 146.8125 179.155081 \r\nL 146.8125 128.592907 \r\nL 118.0125 128.592907 \r\nL 118.0125 179.155081 \r\n\" style=\"fill:none;stroke:#1f77b4;stroke-linecap:square;\"/>\r\n   </g>\r\n   <g id=\"line2d_30\">\r\n    <path clip-path=\"url(#pafe7f2fe0a)\" d=\"M 132.4125 179.155081 \r\nL 132.4125 236.421818 \r\n\" style=\"fill:none;stroke:#1f77b4;stroke-linecap:square;\"/>\r\n   </g>\r\n   <g id=\"line2d_31\">\r\n    <path clip-path=\"url(#pafe7f2fe0a)\" d=\"M 132.4125 128.592907 \r\nL 132.4125 56.706966 \r\n\" style=\"fill:none;stroke:#1f77b4;stroke-linecap:square;\"/>\r\n   </g>\r\n   <g id=\"line2d_32\">\r\n    <path clip-path=\"url(#pafe7f2fe0a)\" d=\"M 125.2125 236.421818 \r\nL 139.6125 236.421818 \r\n\" style=\"fill:none;stroke:#000000;stroke-linecap:square;\"/>\r\n   </g>\r\n   <g id=\"line2d_33\">\r\n    <path clip-path=\"url(#pafe7f2fe0a)\" d=\"M 125.2125 56.706966 \r\nL 139.6125 56.706966 \r\n\" style=\"fill:none;stroke:#000000;stroke-linecap:square;\"/>\r\n   </g>\r\n   <g id=\"line2d_34\">\r\n    <g clip-path=\"url(#pafe7f2fe0a)\">\r\n     <use style=\"fill-opacity:0;stroke:#000000;\" x=\"132.4125\" xlink:href=\"#m99c00a5f0e\" y=\"40.288217\"/>\r\n     <use style=\"fill-opacity:0;stroke:#000000;\" x=\"132.4125\" xlink:href=\"#m99c00a5f0e\" y=\"47.122174\"/>\r\n     <use style=\"fill-opacity:0;stroke:#000000;\" x=\"132.4125\" xlink:href=\"#m99c00a5f0e\" y=\"41.932009\"/>\r\n    </g>\r\n   </g>\r\n   <g id=\"line2d_35\">\r\n    <path clip-path=\"url(#pafe7f2fe0a)\" d=\"M 175.6125 176.167022 \r\nL 204.4125 176.167022 \r\nL 204.4125 128.592907 \r\nL 175.6125 128.592907 \r\nL 175.6125 176.167022 \r\n\" style=\"fill:none;stroke:#1f77b4;stroke-linecap:square;\"/>\r\n   </g>\r\n   <g id=\"line2d_36\">\r\n    <path clip-path=\"url(#pafe7f2fe0a)\" d=\"M 190.0125 176.167022 \r\nL 190.0125 236.421818 \r\n\" style=\"fill:none;stroke:#1f77b4;stroke-linecap:square;\"/>\r\n   </g>\r\n   <g id=\"line2d_37\">\r\n    <path clip-path=\"url(#pafe7f2fe0a)\" d=\"M 190.0125 128.592907 \r\nL 190.0125 64.470647 \r\n\" style=\"fill:none;stroke:#1f77b4;stroke-linecap:square;\"/>\r\n   </g>\r\n   <g id=\"line2d_38\">\r\n    <path clip-path=\"url(#pafe7f2fe0a)\" d=\"M 182.8125 236.421818 \r\nL 197.2125 236.421818 \r\n\" style=\"fill:none;stroke:#000000;stroke-linecap:square;\"/>\r\n   </g>\r\n   <g id=\"line2d_39\">\r\n    <path clip-path=\"url(#pafe7f2fe0a)\" d=\"M 182.8125 64.470647 \r\nL 197.2125 64.470647 \r\n\" style=\"fill:none;stroke:#000000;stroke-linecap:square;\"/>\r\n   </g>\r\n   <g id=\"line2d_40\">\r\n    <g clip-path=\"url(#pafe7f2fe0a)\">\r\n     <use style=\"fill-opacity:0;stroke:#000000;\" x=\"190.0125\" xlink:href=\"#m99c00a5f0e\" y=\"40.058182\"/>\r\n     <use style=\"fill-opacity:0;stroke:#000000;\" x=\"190.0125\" xlink:href=\"#m99c00a5f0e\" y=\"44.725976\"/>\r\n     <use style=\"fill-opacity:0;stroke:#000000;\" x=\"190.0125\" xlink:href=\"#m99c00a5f0e\" y=\"51.91457\"/>\r\n     <use style=\"fill-opacity:0;stroke:#000000;\" x=\"190.0125\" xlink:href=\"#m99c00a5f0e\" y=\"56.706966\"/>\r\n    </g>\r\n   </g>\r\n   <g id=\"line2d_41\">\r\n    <path clip-path=\"url(#pafe7f2fe0a)\" d=\"M 233.2125 176.976937 \r\nL 262.0125 176.976937 \r\nL 262.0125 126.196709 \r\nL 233.2125 126.196709 \r\nL 233.2125 176.976937 \r\n\" style=\"fill:none;stroke:#1f77b4;stroke-linecap:square;\"/>\r\n   </g>\r\n   <g id=\"line2d_42\">\r\n    <path clip-path=\"url(#pafe7f2fe0a)\" d=\"M 247.6125 176.976937 \r\nL 247.6125 235.669412 \r\n\" style=\"fill:none;stroke:#1f77b4;stroke-linecap:square;\"/>\r\n   </g>\r\n   <g id=\"line2d_43\">\r\n    <path clip-path=\"url(#pafe7f2fe0a)\" d=\"M 247.6125 126.196709 \r\nL 247.6125 51.91457 \r\n\" style=\"fill:none;stroke:#1f77b4;stroke-linecap:square;\"/>\r\n   </g>\r\n   <g id=\"line2d_44\">\r\n    <path clip-path=\"url(#pafe7f2fe0a)\" d=\"M 240.4125 235.669412 \r\nL 254.8125 235.669412 \r\n\" style=\"fill:none;stroke:#000000;stroke-linecap:square;\"/>\r\n   </g>\r\n   <g id=\"line2d_45\">\r\n    <path clip-path=\"url(#pafe7f2fe0a)\" d=\"M 240.4125 51.91457 \r\nL 254.8125 51.91457 \r\n\" style=\"fill:none;stroke:#000000;stroke-linecap:square;\"/>\r\n   </g>\r\n   <g id=\"line2d_46\"/>\r\n   <g id=\"line2d_47\">\r\n    <path clip-path=\"url(#pafe7f2fe0a)\" d=\"M 290.8125 173.16219 \r\nL 319.6125 173.16219 \r\nL 319.6125 126.196709 \r\nL 290.8125 126.196709 \r\nL 290.8125 173.16219 \r\n\" style=\"fill:none;stroke:#1f77b4;stroke-linecap:square;\"/>\r\n   </g>\r\n   <g id=\"line2d_48\">\r\n    <path clip-path=\"url(#pafe7f2fe0a)\" d=\"M 305.2125 173.16219 \r\nL 305.2125 224.10536 \r\n\" style=\"fill:none;stroke:#1f77b4;stroke-linecap:square;\"/>\r\n   </g>\r\n   <g id=\"line2d_49\">\r\n    <path clip-path=\"url(#pafe7f2fe0a)\" d=\"M 305.2125 126.196709 \r\nL 305.2125 55.748487 \r\n\" style=\"fill:none;stroke:#1f77b4;stroke-linecap:square;\"/>\r\n   </g>\r\n   <g id=\"line2d_50\">\r\n    <path clip-path=\"url(#pafe7f2fe0a)\" d=\"M 298.0125 224.10536 \r\nL 312.4125 224.10536 \r\n\" style=\"fill:none;stroke:#000000;stroke-linecap:square;\"/>\r\n   </g>\r\n   <g id=\"line2d_51\">\r\n    <path clip-path=\"url(#pafe7f2fe0a)\" d=\"M 298.0125 55.748487 \r\nL 312.4125 55.748487 \r\n\" style=\"fill:none;stroke:#000000;stroke-linecap:square;\"/>\r\n   </g>\r\n   <g id=\"line2d_52\">\r\n    <g clip-path=\"url(#pafe7f2fe0a)\">\r\n     <use style=\"fill-opacity:0;stroke:#000000;\" x=\"305.2125\" xlink:href=\"#m99c00a5f0e\" y=\"42.329778\"/>\r\n     <use style=\"fill-opacity:0;stroke:#000000;\" x=\"305.2125\" xlink:href=\"#m99c00a5f0e\" y=\"40.316971\"/>\r\n     <use style=\"fill-opacity:0;stroke:#000000;\" x=\"305.2125\" xlink:href=\"#m99c00a5f0e\" y=\"42.329778\"/>\r\n    </g>\r\n   </g>\r\n   <g id=\"line2d_53\">\r\n    <path clip-path=\"url(#pafe7f2fe0a)\" d=\"M 348.4125 166.892538 \r\nL 377.2125 166.892538 \r\nL 377.2125 123.800511 \r\nL 348.4125 123.800511 \r\nL 348.4125 166.892538 \r\n\" style=\"fill:none;stroke:#1f77b4;stroke-linecap:square;\"/>\r\n   </g>\r\n   <g id=\"line2d_54\">\r\n    <path clip-path=\"url(#pafe7f2fe0a)\" d=\"M 362.8125 166.892538 \r\nL 362.8125 229.233224 \r\n\" style=\"fill:none;stroke:#1f77b4;stroke-linecap:square;\"/>\r\n   </g>\r\n   <g id=\"line2d_55\">\r\n    <path clip-path=\"url(#pafe7f2fe0a)\" d=\"M 362.8125 123.800511 \r\nL 362.8125 63.627186 \r\n\" style=\"fill:none;stroke:#1f77b4;stroke-linecap:square;\"/>\r\n   </g>\r\n   <g id=\"line2d_56\">\r\n    <path clip-path=\"url(#pafe7f2fe0a)\" d=\"M 355.6125 229.233224 \r\nL 370.0125 229.233224 \r\n\" style=\"fill:none;stroke:#000000;stroke-linecap:square;\"/>\r\n   </g>\r\n   <g id=\"line2d_57\">\r\n    <path clip-path=\"url(#pafe7f2fe0a)\" d=\"M 355.6125 63.627186 \r\nL 370.0125 63.627186 \r\n\" style=\"fill:none;stroke:#000000;stroke-linecap:square;\"/>\r\n   </g>\r\n   <g id=\"line2d_58\">\r\n    <g clip-path=\"url(#pafe7f2fe0a)\">\r\n     <use style=\"fill-opacity:0;stroke:#000000;\" x=\"362.8125\" xlink:href=\"#m99c00a5f0e\" y=\"235.463339\"/>\r\n    </g>\r\n   </g>\r\n   <g id=\"line2d_59\">\r\n    <path clip-path=\"url(#pafe7f2fe0a)\" d=\"M 60.4125 147.762491 \r\nL 89.2125 147.762491 \r\n\" style=\"fill:none;stroke:#2ca02c;stroke-linecap:square;\"/>\r\n   </g>\r\n   <g id=\"line2d_60\">\r\n    <path clip-path=\"url(#pafe7f2fe0a)\" d=\"M 118.0125 154.256188 \r\nL 146.8125 154.256188 \r\n\" style=\"fill:none;stroke:#2ca02c;stroke-linecap:square;\"/>\r\n   </g>\r\n   <g id=\"line2d_61\">\r\n    <path clip-path=\"url(#pafe7f2fe0a)\" d=\"M 175.6125 152.554887 \r\nL 204.4125 152.554887 \r\n\" style=\"fill:none;stroke:#2ca02c;stroke-linecap:square;\"/>\r\n   </g>\r\n   <g id=\"line2d_62\">\r\n    <path clip-path=\"url(#pafe7f2fe0a)\" d=\"M 233.2125 156.180335 \r\nL 262.0125 156.180335 \r\n\" style=\"fill:none;stroke:#2ca02c;stroke-linecap:square;\"/>\r\n   </g>\r\n   <g id=\"line2d_63\">\r\n    <path clip-path=\"url(#pafe7f2fe0a)\" d=\"M 290.8125 148.72097 \r\nL 319.6125 148.72097 \r\n\" style=\"fill:none;stroke:#2ca02c;stroke-linecap:square;\"/>\r\n   </g>\r\n   <g id=\"line2d_64\">\r\n    <path clip-path=\"url(#pafe7f2fe0a)\" d=\"M 348.4125 142.155388 \r\nL 377.2125 142.155388 \r\n\" style=\"fill:none;stroke:#2ca02c;stroke-linecap:square;\"/>\r\n   </g>\r\n   <g id=\"patch_3\">\r\n    <path d=\"M 46.0125 246.24 \r\nL 46.0125 30.24 \r\n\" style=\"fill:none;stroke:#000000;stroke-linecap:square;stroke-linejoin:miter;stroke-width:0.8;\"/>\r\n   </g>\r\n   <g id=\"patch_4\">\r\n    <path d=\"M 391.6125 246.24 \r\nL 391.6125 30.24 \r\n\" style=\"fill:none;stroke:#000000;stroke-linecap:square;stroke-linejoin:miter;stroke-width:0.8;\"/>\r\n   </g>\r\n   <g id=\"patch_5\">\r\n    <path d=\"M 46.0125 246.24 \r\nL 391.6125 246.24 \r\n\" style=\"fill:none;stroke:#000000;stroke-linecap:square;stroke-linejoin:miter;stroke-width:0.8;\"/>\r\n   </g>\r\n   <g id=\"patch_6\">\r\n    <path d=\"M 46.0125 30.24 \r\nL 391.6125 30.24 \r\n\" style=\"fill:none;stroke:#000000;stroke-linecap:square;stroke-linejoin:miter;stroke-width:0.8;\"/>\r\n   </g>\r\n   <g id=\"text_13\">\r\n    <!-- Overall Pay -->\r\n    <defs>\r\n     <path d=\"M 39.40625 66.21875 \r\nQ 28.65625 66.21875 22.328125 58.203125 \r\nQ 16.015625 50.203125 16.015625 36.375 \r\nQ 16.015625 22.609375 22.328125 14.59375 \r\nQ 28.65625 6.59375 39.40625 6.59375 \r\nQ 50.140625 6.59375 56.421875 14.59375 \r\nQ 62.703125 22.609375 62.703125 36.375 \r\nQ 62.703125 50.203125 56.421875 58.203125 \r\nQ 50.140625 66.21875 39.40625 66.21875 \r\nz\r\nM 39.40625 74.21875 \r\nQ 54.734375 74.21875 63.90625 63.9375 \r\nQ 73.09375 53.65625 73.09375 36.375 \r\nQ 73.09375 19.140625 63.90625 8.859375 \r\nQ 54.734375 -1.421875 39.40625 -1.421875 \r\nQ 24.03125 -1.421875 14.8125 8.828125 \r\nQ 5.609375 19.09375 5.609375 36.375 \r\nQ 5.609375 53.65625 14.8125 63.9375 \r\nQ 24.03125 74.21875 39.40625 74.21875 \r\nz\r\n\" id=\"DejaVuSans-4f\"/>\r\n     <path d=\"M 2.984375 54.6875 \r\nL 12.5 54.6875 \r\nL 29.59375 8.796875 \r\nL 46.6875 54.6875 \r\nL 56.203125 54.6875 \r\nL 35.6875 0 \r\nL 23.484375 0 \r\nz\r\n\" id=\"DejaVuSans-76\"/>\r\n     <path d=\"M 9.421875 75.984375 \r\nL 18.40625 75.984375 \r\nL 18.40625 0 \r\nL 9.421875 0 \r\nz\r\n\" id=\"DejaVuSans-6c\"/>\r\n     <path d=\"M 32.171875 -5.078125 \r\nQ 28.375 -14.84375 24.75 -17.8125 \r\nQ 21.140625 -20.796875 15.09375 -20.796875 \r\nL 7.90625 -20.796875 \r\nL 7.90625 -13.28125 \r\nL 13.1875 -13.28125 \r\nQ 16.890625 -13.28125 18.9375 -11.515625 \r\nQ 21 -9.765625 23.484375 -3.21875 \r\nL 25.09375 0.875 \r\nL 2.984375 54.6875 \r\nL 12.5 54.6875 \r\nL 29.59375 11.921875 \r\nL 46.6875 54.6875 \r\nL 56.203125 54.6875 \r\nz\r\n\" id=\"DejaVuSans-79\"/>\r\n    </defs>\r\n    <g transform=\"translate(184.62 24.24)scale(0.12 -0.12)\">\r\n     <use xlink:href=\"#DejaVuSans-4f\"/>\r\n     <use x=\"78.710938\" xlink:href=\"#DejaVuSans-76\"/>\r\n     <use x=\"137.890625\" xlink:href=\"#DejaVuSans-65\"/>\r\n     <use x=\"199.414062\" xlink:href=\"#DejaVuSans-72\"/>\r\n     <use x=\"240.527344\" xlink:href=\"#DejaVuSans-61\"/>\r\n     <use x=\"301.806641\" xlink:href=\"#DejaVuSans-6c\"/>\r\n     <use x=\"329.589844\" xlink:href=\"#DejaVuSans-6c\"/>\r\n     <use x=\"357.373047\" xlink:href=\"#DejaVuSans-20\"/>\r\n     <use x=\"389.160156\" xlink:href=\"#DejaVuSans-50\"/>\r\n     <use x=\"449.400391\" xlink:href=\"#DejaVuSans-61\"/>\r\n     <use x=\"510.679688\" xlink:href=\"#DejaVuSans-79\"/>\r\n    </g>\r\n   </g>\r\n  </g>\r\n  <g id=\"text_14\">\r\n   <!-- Boxplot grouped by Program Year -->\r\n   <defs>\r\n    <path d=\"M 19.671875 34.8125 \r\nL 19.671875 8.109375 \r\nL 35.5 8.109375 \r\nQ 43.453125 8.109375 47.28125 11.40625 \r\nQ 51.125 14.703125 51.125 21.484375 \r\nQ 51.125 28.328125 47.28125 31.5625 \r\nQ 43.453125 34.8125 35.5 34.8125 \r\nz\r\nM 19.671875 64.796875 \r\nL 19.671875 42.828125 \r\nL 34.28125 42.828125 \r\nQ 41.5 42.828125 45.03125 45.53125 \r\nQ 48.578125 48.25 48.578125 53.8125 \r\nQ 48.578125 59.328125 45.03125 62.0625 \r\nQ 41.5 64.796875 34.28125 64.796875 \r\nz\r\nM 9.8125 72.90625 \r\nL 35.015625 72.90625 \r\nQ 46.296875 72.90625 52.390625 68.21875 \r\nQ 58.5 63.53125 58.5 54.890625 \r\nQ 58.5 48.1875 55.375 44.234375 \r\nQ 52.25 40.28125 46.1875 39.3125 \r\nQ 53.46875 37.75 57.5 32.78125 \r\nQ 61.53125 27.828125 61.53125 20.40625 \r\nQ 61.53125 10.640625 54.890625 5.3125 \r\nQ 48.25 0 35.984375 0 \r\nL 9.8125 0 \r\nz\r\n\" id=\"DejaVuSans-42\"/>\r\n    <path d=\"M 54.890625 54.6875 \r\nL 35.109375 28.078125 \r\nL 55.90625 0 \r\nL 45.3125 0 \r\nL 29.390625 21.484375 \r\nL 13.484375 0 \r\nL 2.875 0 \r\nL 24.125 28.609375 \r\nL 4.6875 54.6875 \r\nL 15.28125 54.6875 \r\nL 29.78125 35.203125 \r\nL 44.28125 54.6875 \r\nz\r\n\" id=\"DejaVuSans-78\"/>\r\n    <path d=\"M 48.6875 27.296875 \r\nQ 48.6875 37.203125 44.609375 42.84375 \r\nQ 40.53125 48.484375 33.40625 48.484375 \r\nQ 26.265625 48.484375 22.1875 42.84375 \r\nQ 18.109375 37.203125 18.109375 27.296875 \r\nQ 18.109375 17.390625 22.1875 11.75 \r\nQ 26.265625 6.109375 33.40625 6.109375 \r\nQ 40.53125 6.109375 44.609375 11.75 \r\nQ 48.6875 17.390625 48.6875 27.296875 \r\nz\r\nM 18.109375 46.390625 \r\nQ 20.953125 51.265625 25.265625 53.625 \r\nQ 29.59375 56 35.59375 56 \r\nQ 45.5625 56 51.78125 48.09375 \r\nQ 58.015625 40.1875 58.015625 27.296875 \r\nQ 58.015625 14.40625 51.78125 6.484375 \r\nQ 45.5625 -1.421875 35.59375 -1.421875 \r\nQ 29.59375 -1.421875 25.265625 0.953125 \r\nQ 20.953125 3.328125 18.109375 8.203125 \r\nL 18.109375 0 \r\nL 9.078125 0 \r\nL 9.078125 75.984375 \r\nL 18.109375 75.984375 \r\nz\r\n\" id=\"DejaVuSans-62\"/>\r\n   </defs>\r\n   <g transform=\"translate(116.894063 16.318125)scale(0.12 -0.12)\">\r\n    <use xlink:href=\"#DejaVuSans-42\"/>\r\n    <use x=\"68.603516\" xlink:href=\"#DejaVuSans-6f\"/>\r\n    <use x=\"129.738281\" xlink:href=\"#DejaVuSans-78\"/>\r\n    <use x=\"188.917969\" xlink:href=\"#DejaVuSans-70\"/>\r\n    <use x=\"252.394531\" xlink:href=\"#DejaVuSans-6c\"/>\r\n    <use x=\"280.177734\" xlink:href=\"#DejaVuSans-6f\"/>\r\n    <use x=\"341.359375\" xlink:href=\"#DejaVuSans-74\"/>\r\n    <use x=\"380.568359\" xlink:href=\"#DejaVuSans-20\"/>\r\n    <use x=\"412.355469\" xlink:href=\"#DejaVuSans-67\"/>\r\n    <use x=\"475.832031\" xlink:href=\"#DejaVuSans-72\"/>\r\n    <use x=\"516.914062\" xlink:href=\"#DejaVuSans-6f\"/>\r\n    <use x=\"578.095703\" xlink:href=\"#DejaVuSans-75\"/>\r\n    <use x=\"641.474609\" xlink:href=\"#DejaVuSans-70\"/>\r\n    <use x=\"704.951172\" xlink:href=\"#DejaVuSans-65\"/>\r\n    <use x=\"766.474609\" xlink:href=\"#DejaVuSans-64\"/>\r\n    <use x=\"829.951172\" xlink:href=\"#DejaVuSans-20\"/>\r\n    <use x=\"861.738281\" xlink:href=\"#DejaVuSans-62\"/>\r\n    <use x=\"925.214844\" xlink:href=\"#DejaVuSans-79\"/>\r\n    <use x=\"984.394531\" xlink:href=\"#DejaVuSans-20\"/>\r\n    <use x=\"1016.181641\" xlink:href=\"#DejaVuSans-50\"/>\r\n    <use x=\"1076.46875\" xlink:href=\"#DejaVuSans-72\"/>\r\n    <use x=\"1117.550781\" xlink:href=\"#DejaVuSans-6f\"/>\r\n    <use x=\"1178.732422\" xlink:href=\"#DejaVuSans-67\"/>\r\n    <use x=\"1242.208984\" xlink:href=\"#DejaVuSans-72\"/>\r\n    <use x=\"1283.322266\" xlink:href=\"#DejaVuSans-61\"/>\r\n    <use x=\"1344.601562\" xlink:href=\"#DejaVuSans-6d\"/>\r\n    <use x=\"1442.013672\" xlink:href=\"#DejaVuSans-20\"/>\r\n    <use x=\"1473.800781\" xlink:href=\"#DejaVuSans-59\"/>\r\n    <use x=\"1534.681641\" xlink:href=\"#DejaVuSans-65\"/>\r\n    <use x=\"1596.205078\" xlink:href=\"#DejaVuSans-61\"/>\r\n    <use x=\"1657.484375\" xlink:href=\"#DejaVuSans-72\"/>\r\n   </g>\r\n  </g>\r\n </g>\r\n <defs>\r\n  <clipPath id=\"pafe7f2fe0a\">\r\n   <rect height=\"216\" width=\"345.6\" x=\"46.0125\" y=\"30.24\"/>\r\n  </clipPath>\r\n </defs>\r\n</svg>\r\n",
      "image/png": "[encoded data removed]"
     },
     "metadata": {
      "needs_background": "light"
     }
    }
   ],
   "source": [
    "# on the other hand, there is no significant variation of pay over the course of the PhD program\n",
    "data[['Overall Pay', 'Program Year']].boxplot(by='Program Year')"
   ]
  },
  {
   "cell_type": "code",
   "execution_count": 186,
   "metadata": {
    "tags": []
   },
   "outputs": [],
   "source": [
    "# get locations from Mapbox and add them to the DataFrame (https://github.com/mapbox/mapbox-sdk-py/blob/master/docs/geocoding.md#geocoding)\n",
    "from mapbox import Geocoder\n",
    "with open('mapbox_tkn.txt', 'r') as f:\n",
    "    mapbox_key = f.read().strip()\n",
    "geocoder = Geocoder(access_token=mapbox_key)\n",
    "data.assign(lon=np.NaN)\n",
    "data.assign(lat=np.NaN)\n",
    "uni_names = data['University'].dropna().unique()\n",
    "for i, uni in enumerate(uni_names[174:]):\n",
    "    print(uni)\n",
    "    response = geocoder.forward(uni, limit=1)\n",
    "    if response.geojson()['features']:\n",
    "        lon, lat = response.geojson()['features'][0]['center']\n",
    "        print(lon, lat)\n",
    "        mask = data['University'] == uni\n",
    "        data.loc[mask, 'lon'] = lon\n",
    "        data.loc[mask, 'lat'] = lat\n",
    "        print('\\n')\n",
    "data.to_csv('data_cleaned_geoloc.csv')\n",
    "data.head()"
   ]
  },
  {
   "cell_type": "code",
   "execution_count": null,
   "metadata": {},
   "outputs": [],
   "source": [
    "#data = pd.read_csv('data_cleaned_geoloc.csv')"
   ]
  },
  {
   "cell_type": "code",
   "execution_count": 196,
   "metadata": {
    "tags": [
     "outputPrepend"
    ]
   },
   "outputs": [
    {
     "output_type": "stream",
     "name": "stdout",
     "text": "(USU)\", index 2408\nFound duplicate item \"Utah State University (USU)\", index 2590\nFound duplicate item \"Utah State University (USU)\", index 2762\nFound duplicate item \"Utah State University (USU)\", index 2946\nFound duplicate item \"Utah State University (USU)\", index 3303\nFound duplicate item \"Utah State University (USU)\", index 4062\nFound duplicate item \"Utah State University (USU)\", index 4269\nFound duplicate item \"Utah State University (USU)\", index 5291\nFound duplicate item \"Utah State University (USU)\", index 5853\nFound duplicate item \"Utah State University (USU)\", index 5961\nFound duplicate item \"Utah State University (USU)\", index 6204\nFound duplicate item \"Utah State University (USU)\", index 6205\nFound duplicate item \"Utah State University (USU)\", index 7021\nFound duplicate item \"Utah State University (USU)\", index 7024\n1343\n1349\n1354\n1367\n1368\n1375\n1389\nFound duplicate item \"CUNY , City College\", index 1550\nFound duplicate item \"CUNY , City College\", index 3009\nFound duplicate item \"CUNY , City College\", index 4089\nFound duplicate item \"CUNY , City College\", index 4935\nFound duplicate item \"CUNY , City College\", index 5295\n1400\nFound duplicate item \"Rockefeller University\", index 3335\nFound duplicate item \"Rockefeller University\", index 3863\nFound duplicate item \"Rockefeller University\", index 4477\nFound duplicate item \"Rockefeller University\", index 4639\nFound duplicate item \"Rockefeller University\", index 5478\nFound duplicate item \"Rockefeller University\", index 6047\n1405\nFound duplicate item \"Middle Tennessee State University (MTSU)\", index 1618\nFound duplicate item \"Middle Tennessee State University (MTSU)\", index 5528\nFound duplicate item \"Middle Tennessee State University (MTSU)\", index 6132\nFound duplicate item \"Middle Tennessee State University (MTSU)\", index 6562\nFound duplicate item \"Middle Tennessee State University (MTSU)\", index 7857\n1434\n1449\n1450\nFound duplicate item \"Texas Woman's University \", index 5169\n1452\n1453\nFound duplicate item \"Lehigh University\", index 2525\nFound duplicate item \"Lehigh University\", index 4604\nFound duplicate item \"Lehigh University\", index 4711\nFound duplicate item \"Lehigh University\", index 5008\nFound duplicate item \"Lehigh University\", index 5390\nFound duplicate item \"Lehigh University\", index 5685\nFound duplicate item \"Lehigh University\", index 5891\nFound duplicate item \"Lehigh University\", index 6453\nFound duplicate item \"Lehigh University\", index 6696\nFound duplicate item \"Lehigh University\", index 7068\n1460\nFound duplicate item \"University of South Florida (USF)\", index 1830\nFound duplicate item \"University of South Florida (USF)\", index 5114\nFound duplicate item \"University of South Florida (USF)\", index 5925\nFound duplicate item \"University of South Florida (USF)\", index 7120\nFound duplicate item \"University of South Florida\", index 7144\nFound duplicate item \"University of South Florida\", index 7838\nFound duplicate item \"University of South Florida\", index 7839\nFound duplicate item \"University of South Florida\", index 7841\nFound duplicate item \"University of South Florida\", index 7842\nFound duplicate item \"University of South Florida \", index 7843\nFound duplicate item \"University of South Florida \", index 7844\n1461\n1490\n1497\n1503\n1504\nFound duplicate item \"University of St Andrews\", index 4108\n1505\n1523\nFound duplicate item \"University of Massachusetts , Boston (UMB)\", index 3889\nFound duplicate item \"University of Massachusetts , Boston (UMB)\", index 4546\nFound duplicate item \"University of Massachusetts , Boston (UMB)\", index 6051\nFound duplicate item \"University of Massachusetts , Boston (UMB)\", index 6683\n1528\nFound duplicate item \"University of Gothenburg (Sweden)\", index 1530\n1546\n1552\nFound duplicate item \"Central Michigan University (CMU)\", index 1838\nFound duplicate item \"Central Michigan University (CMU)\", index 5904\n1563\n1569\n1573\nFound duplicate item \"Weill Cornell Graduate School of Medical Sciences\", index 5453\nFound duplicate item \"Weill Cornell Graduate School of Medical Sciences\", index 6956\n1574\nFound duplicate item \"Thomas Jefferson University\", index 2216\nFound duplicate item \"Thomas Jefferson University\", index 2277\nFound duplicate item \"Thomas Jefferson University\", index 2783\nFound duplicate item \"Thomas Jefferson University\", index 5546\nFound duplicate item \"Thomas Jefferson University\", index 6274\nFound duplicate item \"Thomas Jefferson University\", index 6326\nFound duplicate item \"Thomas Jefferson University\", index 6330\n1619\nFound duplicate item \"Icahn School of Medicine at Mount Sinai\", index 5223\nFound duplicate item \"Icahn School of Medicine at Mount Sinai\", index 5260\nFound duplicate item \"Icahn School of Medicine at Mount Sinai\", index 7041\n1624\n1651\n1653\n1658\n1662\n1665\n1681\nFound duplicate item \"University of Montana (UM)\", index 2012\nFound duplicate item \"University of Montana (UM)\", index 3573\nFound duplicate item \"University of Montana (UM)\", index 3757\nFound duplicate item \"University of Montana (UM)\", index 6292\n1682\n1728\nFound duplicate item \"Worcester Polytechnic Institute (WPI)\", index 1937\nFound duplicate item \"Worcester Polytechnic Institute (WPI)\", index 3670\nFound duplicate item \"Worcester Polytechnic Institute (WPI)\", index 4673\nFound duplicate item \"Worcester Polytechnic Institute (WPI)\", index 4741\nFound duplicate item \"Worcester Polytechnic Institute (WPI)\", index 4807\nFound duplicate item \"Worcester Polytechnic Institute (WPI)\", index 5752\nFound duplicate item \"Worcester Polytechnic Institute (WPI)\", index 7682\n1739\n1748\nFound duplicate item \"University of Southern Mississippi (USM)\", index 2319\nFound duplicate item \"University of Southern Mississippi (USM)\", index 5747\nFound duplicate item \"University of Southern Mississippi (USM)\", index 5892\nFound duplicate item \"University of Southern Mississippi (USM)\", index 6532\n1753\n1762\nFound duplicate item \"University of Memphis\", index 2087\nFound duplicate item \"University of Memphis\", index 2698\nFound duplicate item \"University of Memphis\", index 2710\nFound duplicate item \"University of Memphis\", index 2775\nFound duplicate item \"University of Memphis\", index 2895\nFound duplicate item \"University of Memphis\", index 4092\nFound duplicate item \"University of Memphis\", index 4093\nFound duplicate item \"University of Memphis\", index 5587\nFound duplicate item \"University of Memphis\", index 5673\nFound duplicate item \"University of Memphis\", index 6003\n1765\n1786\n1811\nFound duplicate item \"University of Arkansas for Medical Sciences\", index 2757\nFound duplicate item \"University of Arkansas for Medical Sciences\", index 3481\nFound duplicate item \"University of Arkansas for Medical Sciences\", index 3676\nFound duplicate item \"University of Arkansas for Medical Sciences\", index 3919\nFound duplicate item \"University of Arkansas for Medical Sciences\", index 4446\nFound duplicate item \"University of Arkansas for Medical Sciences\", index 4448\nFound duplicate item \"University of Arkansas for Medical Sciences\", index 4449\nFound duplicate item \"University of Arkansas for Medical Sciences\", index 5056\nFound duplicate item \"University of Arkansas for Medical Sciences\", index 5794\nFound duplicate item \"University of Arkansas for Medical Sciences\", index 6641\nFound duplicate item \"University of Arkansas for Medical Sciences\", index 7803\n1818\n1824\n1833\n1834\nFound duplicate item \"University of New Hampshire (UNH)\", index 4250\nFound duplicate item \"University of New Hampshire (UNH)\", index 4715\nFound duplicate item \"University of New Hampshire (UNH)\", index 5141\nFound duplicate item \"University of New Hampshire (UNH)\", index 5477\nFound duplicate item \"University of New Hampshire (UNH)\", index 5684\nFound duplicate item \"University of New Hampshire (UNH)\", index 6464\nFound duplicate item \"University of New Hampshire (UNH)\", index 6636\nFound duplicate item \"University of New Hampshire (UNH)\", index 7420\n1845\n1848\nFound duplicate item \"Medical College of Wisconsin\", index 2654\nFound duplicate item \"Medical College of Wisconsin\", index 3347\nFound duplicate item \"Medical College of Wisconsin\", index 3480\nFound duplicate item \"Medical College of Wisconsin\", index 6724\n1852\nFound duplicate item \"Northern Illinois University (NIU)\", index 2043\nFound duplicate item \"Northern Illinois University (NIU)\", index 2425\nFound duplicate item \"Northern Illinois University (NIU)\", index 4123\nFound duplicate item \"Northern Illinois University (NIU)\", index 5272\nFound duplicate item \"Northern Illinois University (NIU)\", index 5630\nFound duplicate item \"Northern Illinois University (NIU)\", index 5682\n1867\n1887\n1888\nFound duplicate item \"Ball State University (BSU)\", index 6448\n1909\n1910\nFound duplicate item \"University of South Alabama (USA)\", index 2770\nFound duplicate item \"University of South Alabama (USA)\", index 7462\n1912\nFound duplicate item \"University of Missouri , Kansas City (UMKC)\", index 4120\nFound duplicate item \"University of Missouri , Kansas City (UMKC)\", index 5341\n1920\nFound duplicate item \"University of Rhode Island (URI)\", index 4677\nFound duplicate item \"University of Rhode Island (URI)\", index 5074\nFound duplicate item \"University of Rhode Island (URI)\", index 7248\n1925\nFound duplicate item \"University of Oklahoma Health Sciences Center\", index 2327\nFound duplicate item \"University of Oklahoma Health Sciences Center\", index 2329\nFound duplicate item \"University of Oklahoma Health Sciences Center\", index 3574\nFound duplicate item \"University of Oklahoma Health Sciences Center\", index 3957\n1958\n1962\n1981\n1986\nFound duplicate item \"Illinois Institute of Technology (IIT)\", index 2102\nFound duplicate item \"Illinois Institute of Technology (IIT)\", index 5281\nFound duplicate item \"Illinois Institute of Technology (IIT)\", index 7343\n1989\n2006\n2014\n2050\n2055\n2058\n2059\n2071\nFound duplicate item \"Clarkson University\", index 4703\nFound duplicate item \"Clarkson University\", index 5065\n2096\n2130\n2131\n2132\n2134\n2137\n2149\n2156\n2166\n2169\n2189\nFound duplicate item \"Florida Institute of Technology\", index 6133\n2196\nFound duplicate item \"University of Texas , Arlington (UTA)\", index 2197\nFound duplicate item \" University of Texas at Arlington \", index 2587\nFound duplicate item \"University of Texas , Arlington (UTA)\", index 2806\nFound duplicate item \"University of Texas , Arlington (UTA)\", index 3726\nFound duplicate item \"University of Texas , Arlington (UTA)\", index 3951\nFound duplicate item \"University of Texas , Arlington (UTA)\", index 3952\nFound duplicate item \"University of Texas , Arlington (UTA)\", index 3991\nFound duplicate item \"University of Texas , Arlington (UTA)\", index 4007\nFound duplicate item \"University of Texas , Arlington (UTA)\", index 4336\nFound duplicate item \"University of Texas , Arlington (UTA)\", index 5325\nFound duplicate item \"University of Texas , Arlington (UTA)\", index 5359\nFound duplicate item \"University of Texas , Arlington (UTA)\", index 5758\nFound duplicate item \"University of Texas , Arlington (UTA)\", index 7529\n2200\n2206\nFound duplicate item \"Eastman School of Music (University of Rochester)\", index 3610\n2239\n2256\n2289\n2301\n2321\n2328\n2335\nFound duplicate item \"University of Kansas Medical Center (KUMC)\", index 2336\nFound duplicate item \"University of Kansas\", index 3388\n2346\nFound duplicate item \"Walden University\", index 7642\n2364\n2369\n2372\n2433\nFound duplicate item \"University of North Dakota (ND)\", index 5080\nFound duplicate item \"University of North Dakota (ND)\", index 6700\n2503\n2516\n2606\nFound duplicate item \"University of Guelph\", index 4226\n2608\n2628\n2631\n2635\nFound duplicate item \"University of Victoria\", index 4558\nFound duplicate item \"University of Victoria\", index 5562\n2638\nFound duplicate item \"University of Texas Health Science Center , Houston\", index 3599\nFound duplicate item \"University of Texas Health Science Center , Houston\", index 4190\nFound duplicate item \"University of Texas Health Science Center , Houston\", index 4641\nFound duplicate item \"University of Texas Health Science Center , Houston\", index 5204\nFound duplicate item \"University of Texas Health Science Center , Houston\", index 5588\nFound duplicate item \"University of Texas Health Science Center , Houston\", index 6230\nFound duplicate item \"University of Texas Health Science Center , Houston\", index 7457\n2660\n2666\nFound duplicate item \"Loma Linda University\", index 6416\nFound duplicate item \"Loma Linda University\", index 6417\n2680\n2683\nFound duplicate item \"Indiana University of Pennsylvania (IUP)\", index 5749\n2706\n2712\nFound duplicate item \"Embry,Riddle Aeronautical University\", index 3501\nFound duplicate item \"Embry,Riddle Aeronautical University\", index 3502\nFound duplicate item \"Embry,Riddle Aeronautical University\", index 4345\n2720\nFound duplicate item \"University of California San Diego\", index 7136\n2728\n2764\n2771\n2803\n2835\n2842\nFound duplicate item \"New Mexico State University (NMSU)\", index 3650\nFound duplicate item \"New Mexico State University (NMSU)\", index 3929\nFound duplicate item \"New Mexico State University (NMSU)\", index 4161\nFound duplicate item \"New Mexico State University (NMSU)\", index 7145\nFound duplicate item \"New Mexico State University (NMSU)\", index 7958\nFound duplicate item \"New Mexico State University (NMSU)\", index 7959\nFound duplicate item \"New Mexico State University (NMSU)\", index 7960\nFound duplicate item \"New Mexico State University (NMSU)\", index 7961\nFound duplicate item \"New Mexico State University (NMSU)\", index 7962\nFound duplicate item \"New Mexico State University (NMSU)\", index 7970\n2859\nFound duplicate item \"INSEAD\", index 2860\nFound duplicate item \"INSEAD\", index 5720\nFound duplicate item \"INSEAD\", index 7445\n2891\n2914\n2916\n2921\nFound duplicate item \"North Carolina A&T State University (NC A&T)\", index 6007\n2951\nFound duplicate item \"CUNY , John Jay College\", index 3410\n2954\n2956\n2969\nFound duplicate item \"Clark University\", index 6191\n2983\n3005\nFound duplicate item \"DePaul University (DPU)\", index 3627\n3021\nFound duplicate item \"Binghamton University , SUNY\", index 3606\nFound duplicate item \"Binghamton University , SUNY\", index 3701\nFound duplicate item \"Binghamton University , SUNY\", index 4090\nFound duplicate item \"Binghamton University , SUNY\", index 4139\nFound duplicate item \"Binghamton University , SUNY\", index 5599\nFound duplicate item \"Binghamton University , SUNY\", index 5641\nFound duplicate item \"Binghamton University , SUNY\", index 5792\nFound duplicate item \"Binghamton University , SUNY\", index 6482\n3024\nFound duplicate item \"Lamar University\", index 5919\n3058\n3086\n3136\n3182\nFound duplicate item \"Princeton Theological Seminary (PTS)\", index 6183\n3212\n3264\n3269\n3284\n3293\n3365\nFound duplicate item \"Cornell\", index 5832\n3398\n3412\n3429\n3430\n3446\n3471\n3475\n3477\n3488\n3499\nFound duplicate item \"South Dakota State University (SDSU)\", index 4011\nFound duplicate item \"South Dakota State University (SDSU)\", index 4253\nFound duplicate item \"South Dakota State University (SDSU)\", index 6138\n3514\n3521\n3531\n3551\n3569\nFound duplicate item \"National University of Ireland, Galway\", index 4498\nFound duplicate item \"National University of Ireland, Galway\", index 4499\n3576\n3585\n3588\n3590\n3615\nFound duplicate item \"Albany Medical College\", index 3932\nFound duplicate item \"Albany Medical College\", index 5173\nFound duplicate item \"Albany Medical College\", index 6136\n3628\nFound duplicate item \"Nanyang Technological University\", index 4538\n3630\nFound duplicate item \"university of melbourne\", index 4469\nFound duplicate item \"University of Melbourne \", index 4996\n3651\nFound duplicate item \"Louisiana State University School of Medicine , Shreveport\", index 6301\nFound duplicate item \"Louisiana State University School of Medicine , Shreveport\", index 6302\nFound duplicate item \"Louisiana State University School of Medicine , Shreveport\", index 6303\nFound duplicate item \"Louisiana State University School of Medicine , Shreveport\", index 6304\n3667\n3713\n3721\nFound duplicate item \"University of North Carolina , Charlotte (UNCC)\", index 3806\nFound duplicate item \"University of North Carolina , Charlotte (UNCC)\", index 4170\nFound duplicate item \"University of North Carolina , Charlotte (UNCC)\", index 4484\nFound duplicate item \"University of North Carolina , Charlotte (UNCC)\", index 4881\nFound duplicate item \"University of North Carolina , Charlotte (UNCC)\", index 5535\nFound duplicate item \"University of North Carolina , Charlotte (UNCC)\", index 5689\nFound duplicate item \"University of North Carolina , Charlotte (UNCC)\", index 6499\n3727\nFound duplicate item \"University of Maryland\", index 3895\n3767\nFound duplicate item \"University of Notre Dame\", index 6175\n3813\n3820\n3825\nFound duplicate item \"University of the Sciences in Philadelphia\", index 3834\nFound duplicate item \"University of the Sciences in Philadelphia\", index 3894\nFound duplicate item \"University of the Sciences in Philadelphia\", index 6358\n3833\nFound duplicate item \"Yale University\", index 7395\n3839\n3848\n3849\n3857\n3858\n3859\nFound duplicate item \"University of Georgia\", index 4941\nFound duplicate item \"University of Georgia \", index 7225\n3872\n3877\n3896\nFound duplicate item \"Missouri University of Science & Technology\", index 4143\n3908\nFound duplicate item \"College of William and Mary (W&M)\", index 4049\nFound duplicate item \"College of William and Mary (W&M)\", index 4705\nFound duplicate item \"College of William and Mary (W&M)\", index 5279\nFound duplicate item \"College of William and Mary (W&M)\", index 6281\nFound duplicate item \"College of William and Mary (W&M)\", index 7418\n3918\n3939\nFound duplicate item \"johns hopkins \", index 7699\n3943\n3945\n3964\n3965\n3977\n3987\n4028\n4035\n4039\n4061\n4068\n4071\nFound duplicate item \"Massachusetts College of Pharmacy and Health Sciences\", index 4099\n4087\n4122\n4134\nFound duplicate item \"Montreal\", index 4612\n4149\n4151\nFound duplicate item \"Polytechnic Institute of New York University\", index 4231\nFound duplicate item \"Polytechnic Institute of New York University\", index 5059\nFound duplicate item \"Polytechnic Institute of New York University\", index 6060\n4218\n4237\n4268\n4281\n4282\n4295\n4298\n4313\n4333\n4339\n4355\n4357\n4375\n4419\nFound duplicate item \"Claremont Graduate University (CGU)\", index 4420\n4459\n4461\n4463\n4464\n4470\n4479\n4493\n4494\n4513\n4532\n4540\n4547\n4557\n4566\n4579\nFound duplicate item \"University of Puerto Rico\", index 6315\n4592\n4601\n4611\n4613\nFound duplicate item \"University of Gottingen\", index 5860\n4655\n4668\n4674\n4708\n4712\n4721\n4734\n4735\nFound duplicate item \"Cedars,Sinai Medical Center\", index 6115\nFound duplicate item \"Cedars,Sinai Medical Center\", index 6631\n4736\nFound duplicate item \"Boston University\", index 7020\n4794\n4808\nFound duplicate item \"Morgan State University (MSU)\", index 5492\n4832\n4847\n4849\n4882\n4886\n4887\n4897\n4899\nFound duplicate item \"Eastern Virginia Medical School\", index 7461\n4906\n4923\n4926\n4966\n4993\n5003\n5009\nFound duplicate item \"Hampton University (HU)\", index 5010\nFound duplicate item \"Hampton University (HU)\", index 5011\n5018\n5025\n5046\n5050\n5051\n5057\n5061\n5070\n5078\n5093\n5101\n5104\n5106\nFound duplicate item \"Gallaudet University\", index 5107\nFound duplicate item \"Gallaudet University\", index 5108\n5110\nFound duplicate item \"Alfred University , New York State College of Ceramics\", index 5637\n5121\n5164\n5166\n5167\n5186\n5198\n5220\n5224\n5225\n5236\n5238\n5249\n5290\n5318\n5336\n5356\n5369\n5504\n5552\n5634\n5642\nFound duplicate item \"St. John's University\", index 7254\n5657\n5692\nFound duplicate item \"University of Missouri , St. Louis\", index 6831\n5778\n5798\n5800\n5809\n5851\n5854\n5856\n5857\n5953\n5965\n6011\n6012\n6014\n6030\n6050\n6073\n6079\n6082\n6108\n6155\n6166\n6167\nFound duplicate item \"Nottingham Trent University\", index 6275\n6184\n6199\n6209\n6212\n6227\n6239\n6273\n6280\n6283\n6309\n6354\n6361\n6391\n6413\n6435\n6496\n6500\n6511\n6515\n6549\n6560\n6565\n6568\n6574\n6648\n6660\n6661\n6679\n6750\n6789\n6832\nFound duplicate item \"University of Western Ontario\", index 6947\n6848\n6870\n6871\n6880\n6934\n7072\n7077\n7098\n7142\n7153\n7176\n7235\n7256\n7260\n7278\n7289\n7334\n7346\n7359\n7360\n7409\n7495\n7520\n7521\n7627\n7651\n7657\n7670\n7689\n7712\n7747\n7881\n7904\n"
    }
   ],
   "source": [
    "# aggregate nearby universities and compute average pay (displayed as interactive tooltip on map)\n",
    "# the colour and size is proportional to the average pay\n",
    "# adapted from: https://www.jphwang.com/interactive-maps-with-python-pandas-and-plotly/\n",
    "data = data.assign(merged=False)\n",
    "data = data.assign(counts=1)\n",
    "data = data.assign(pay_sum=data['Overall Pay'])\n",
    "dist_thresh = 0.0001\n",
    "for i in range(len(data)):\n",
    "    src_ind = data.iloc[i].name\n",
    "    if not data.loc[src_ind]['merged']:\n",
    "        print(src_ind)\n",
    "        for j in range(i+1, len(data)):\n",
    "            tgt_ind = data.iloc[j].name\n",
    "            if not data.loc[tgt_ind]['merged']:\n",
    "                lat_dist = data.loc[src_ind]['lat'] - data.loc[tgt_ind]['lat']\n",
    "                lon_dist = data.loc[src_ind]['lon'] - data.loc[tgt_ind]['lon']\n",
    "                tot_dist = (lat_dist ** 2 + lon_dist ** 2) ** 0.5\n",
    "                if tot_dist < dist_thresh:\n",
    "                    print(f'Found duplicate item \"{data.loc[tgt_ind][\"University\"]}\", index {tgt_ind}')\n",
    "                    data.loc[src_ind, 'counts'] += 1\n",
    "                    data.loc[src_ind, 'pay_sum'] += data.loc[tgt_ind, 'Overall Pay']\n",
    "                    if data.loc[tgt_ind, 'University'] not in data.loc[src_ind, 'University']:\n",
    "                        data.loc[src_ind, 'University'] = data.loc[src_ind, 'University'] + ' | ' + data.loc[tgt_ind, 'University']\n",
    "                    data.loc[tgt_ind, 'merged'] = True\n",
    "\n",
    "# Update counts\n",
    "data = data[data.merged == False]\n",
    "data = data.assign(pay_average=data['pay_sum']/data['counts'])\n",
    "data.to_csv('data_cleaned_geoloc_aggregated.csv')"
   ]
  },
  {
   "cell_type": "code",
   "execution_count": 202,
   "metadata": {},
   "outputs": [
    {
     "output_type": "display_data",
     "data": {
      "application/vnd.plotly.v1+json": {
       "config": {
        "displayModeBar": false,
        "editable": false,
        "plotlyServerURL": "https://plot.ly"
       },
       "data": [
        {
         "customdata": [
          [
           19508.978723404256
          ],
          [
           21208
          ],
          [
           24785.371794871793
          ],
          [
           22565.227642276423
          ],
          [
           28825.93442622951
          ],
          [
           21844.714285714286
          ],
          [
           32398.777777777777
          ],
          [
           18866.4
          ],
          [
           18480.75
          ],
          [
           25641.770833333332
          ],
          [
           25081.836734693876
          ],
          [
           33724.03296703297
          ],
          [
           28055.933333333334
          ],
          [
           34400
          ],
          [
           30635.25114155251
          ],
          [
           12750
          ],
          [
           36601.849315068495
          ],
          [
           31048.43795620438
          ],
          [
           27060.30769230769
          ],
          [
           15714.214285714286
          ],
          [
           29547.73076923077
          ],
          [
           23297.60714285714
          ],
          [
           16477.5625
          ],
          [
           22366.97857142857
          ],
          [
           21116.68181818182
          ],
          [
           24933.695652173912
          ],
          [
           20712.5
          ],
          [
           22000
          ],
          [
           27242.944444444445
          ],
          [
           23492.076923076922
          ],
          [
           21826.41176470588
          ],
          [
           24305
          ],
          [
           44555
          ],
          [
           30000
          ],
          [
           24479.81818181818
          ],
          [
           38545.55855855856
          ],
          [
           31698.00900900901
          ],
          [
           29000
          ],
          [
           34417.653846153844
          ],
          [
           23886.345238095237
          ],
          [
           21961.20512820513
          ],
          [
           26996.34693877551
          ],
          [
           21579.166666666668
          ],
          [
           19041
          ],
          [
           26806.25
          ],
          [
           19453.674418604653
          ],
          [
           31799.990476190476
          ],
          [
           21738
          ],
          [
           24971.647058823528
          ],
          [
           19932.478260869564
          ],
          [
           20031.928571428572
          ],
          [
           21273.38888888889
          ],
          [
           24844.046875
          ],
          [
           31485.14876033058
          ],
          [
           25000
          ],
          [
           16571.428571428572
          ],
          [
           19537.285714285714
          ],
          [
           28700
          ],
          [
           24719.53
          ],
          [
           15000
          ],
          [
           21002.285714285714
          ],
          [
           21493.75
          ],
          [
           16343.714285714286
          ],
          [
           18000
          ],
          [
           18000
          ],
          [
           15714.5
          ],
          [
           20555.35714285714
          ],
          [
           21506.72
          ],
          [
           23836.533333333333
          ],
          [
           35500
          ],
          [
           23446.58620689655
          ],
          [
           28731.49315068493
          ],
          [
           23098.11111111111
          ],
          [
           27407.125
          ],
          [
           21710.714285714286
          ],
          [
           19829.80769230769
          ],
          [
           34895
          ],
          [
           33500
          ],
          [
           30454.545454545456
          ],
          [
           17175.909090909092
          ],
          [
           21311.31818181818
          ],
          [
           22775.68181818182
          ],
          [
           26583.01923076923
          ],
          [
           19594.222222222223
          ],
          [
           24006.37254901961
          ],
          [
           24760.53125
          ],
          [
           33640
          ],
          [
           24016.277777777777
          ],
          [
           42230
          ],
          [
           28658.174603174604
          ],
          [
           16810.5
          ],
          [
           18000
          ],
          [
           34570.21428571428
          ],
          [
           30000
          ],
          [
           23381.666666666668
          ],
          [
           27500
          ],
          [
           33878.52631578947
          ],
          [
           29433.18181818182
          ],
          [
           28050
          ],
          [
           20033.89285714286
          ],
          [
           37739.86486486487
          ],
          [
           18598.46153846154
          ],
          [
           20492.1125
          ],
          [
           23091.04651162791
          ],
          [
           22111.53125
          ],
          [
           18189.742857142857
          ],
          [
           24946.666666666668
          ],
          [
           31307.762376237624
          ],
          [
           21758.647058823528
          ],
          [
           27818.75
          ],
          [
           24606.163636363635
          ],
          [
           28432.076923076922
          ],
          [
           25421
          ],
          [
           25236.719626168226
          ],
          [
           24225.571428571428
          ],
          [
           29227.5
          ],
          [
           24018.922330097088
          ],
          [
           29392.20588235294
          ],
          [
           24000
          ],
          [
           20552.2
          ],
          [
           26607.733333333334
          ],
          [
           21549.352941176472
          ],
          [
           17633.714285714286
          ],
          [
           24238.90625
          ],
          [
           21724.51724137931
          ],
          [
           19468.717391304348
          ],
          [
           19282.133333333335
          ],
          [
           17773.363636363636
          ],
          [
           24400
          ],
          [
           17489.695652173912
          ],
          [
           22314.76923076923
          ],
          [
           17798.571428571428
          ],
          [
           22608.37254901961
          ],
          [
           27309.7
          ],
          [
           26714.36842105263
          ],
          [
           16380
          ],
          [
           12500
          ],
          [
           14832.25
          ],
          [
           16830.14285714286
          ],
          [
           19299.5
          ],
          [
           22656.973684210527
          ],
          [
           24324.166666666668
          ],
          [
           23700
          ],
          [
           23142.058823529413
          ],
          [
           19609.38888888889
          ],
          [
           18000
          ],
          [
           32700
          ],
          [
           30771
          ],
          [
           25700
          ],
          [
           18531.777777777777
          ],
          [
           18389.558823529413
          ],
          [
           32000
          ],
          [
           15000
          ],
          [
           20488.85714285714
          ],
          [
           26316
          ],
          [
           15361.111111111111
          ],
          [
           26218.28125
          ],
          [
           27600.29411764706
          ],
          [
           15668
          ],
          [
           17481.6
          ],
          [
           20757.25
          ],
          [
           28652.117647058825
          ],
          [
           19198.428571428572
          ],
          [
           22550
          ],
          [
           23816.29203539823
          ],
          [
           26550
          ],
          [
           21000
          ],
          [
           32000
          ],
          [
           31318.49019607843
          ],
          [
           19670.375
          ],
          [
           28175
          ],
          [
           30044.3
          ],
          [
           17488.4
          ],
          [
           26782.25
          ],
          [
           26185
          ],
          [
           21693.454545454544
          ],
          [
           24397.333333333332
          ],
          [
           18600
          ],
          [
           16046.833333333334
          ],
          [
           20950
          ],
          [
           8500
          ],
          [
           27173.821428571428
          ],
          [
           17154.545454545456
          ],
          [
           27289.460674157304
          ],
          [
           21369.166666666668
          ],
          [
           24765.824561403508
          ],
          [
           24076.546875
          ],
          [
           29000
          ],
          [
           16591.666666666668
          ],
          [
           12000
          ],
          [
           23084.263157894737
          ],
          [
           23912.375
          ],
          [
           22000
          ],
          [
           32000
          ],
          [
           32000
          ],
          [
           24600
          ],
          [
           21058.78947368421
          ],
          [
           25121
          ],
          [
           17515.555555555555
          ],
          [
           27402.85714285714
          ],
          [
           29750
          ],
          [
           19409
          ],
          [
           27848.153846153848
          ],
          [
           32000
          ],
          [
           26216.081967213115
          ],
          [
           18051.352941176472
          ],
          [
           40657.5
          ],
          [
           23800.647058823528
          ],
          [
           21552.166666666668
          ],
          [
           16181.375
          ],
          [
           20064.76923076923
          ],
          [
           25984.3
          ],
          [
           18603.058823529413
          ],
          [
           33721.59459459459
          ],
          [
           22815.222222222223
          ],
          [
           20559.375
          ],
          [
           31000
          ],
          [
           23746.620689655174
          ],
          [
           28092
          ],
          [
           25091.6
          ],
          [
           30000
          ],
          [
           28547.242857142857
          ],
          [
           29567
          ],
          [
           26950.303030303032
          ],
          [
           34800
          ],
          [
           21064
          ],
          [
           13500
          ],
          [
           36600
          ],
          [
           26060
          ],
          [
           34193.75
          ],
          [
           16989
          ],
          [
           23100
          ],
          [
           27600
          ],
          [
           18672.8
          ],
          [
           16750
          ],
          [
           15121.51724137931
          ],
          [
           30237.5
          ],
          [
           26703
          ],
          [
           40000
          ],
          [
           24579.444444444445
          ],
          [
           21878
          ],
          [
           30000
          ],
          [
           21560
          ],
          [
           15850
          ],
          [
           15850
          ],
          [
           28000
          ],
          [
           15850
          ],
          [
           14256
          ],
          [
           16858.4
          ],
          [
           32000
          ],
          [
           14096.8
          ],
          [
           34306
          ],
          [
           14303.714285714286
          ],
          [
           37272.72727272727
          ],
          [
           17900
          ],
          [
           26600
          ],
          [
           18233.333333333332
          ],
          [
           17000
          ],
          [
           15960
          ],
          [
           22459
          ],
          [
           25000
          ],
          [
           18475
          ],
          [
           30479.5
          ],
          [
           16000
          ],
          [
           20342.5
          ],
          [
           19464.5
          ],
          [
           20000
          ],
          [
           17451
          ],
          [
           18000
          ],
          [
           36000
          ],
          [
           20512
          ],
          [
           15005
          ],
          [
           33900
          ],
          [
           15500
          ],
          [
           26440
          ],
          [
           24798.333333333332
          ],
          [
           18170
          ],
          [
           12000
          ],
          [
           17400
          ],
          [
           29457.666666666668
          ],
          [
           33400
          ],
          [
           14600
          ],
          [
           19160.75
          ],
          [
           25000
          ],
          [
           30000
          ],
          [
           18170.75
          ],
          [
           23024.25
          ],
          [
           15931.25
          ],
          [
           18000
          ],
          [
           26775
          ],
          [
           19063.4
          ],
          [
           30500
          ],
          [
           18612.333333333332
          ],
          [
           25500
          ],
          [
           26440
          ],
          [
           22650
          ],
          [
           18700
          ],
          [
           18150
          ],
          [
           17500
          ],
          [
           9000
          ],
          [
           10500
          ],
          [
           18400
          ],
          [
           25175
          ],
          [
           16900
          ],
          [
           27000
          ],
          [
           23893.5
          ],
          [
           37742.5
          ],
          [
           29651
          ],
          [
           28899.42105263158
          ],
          [
           30000
          ],
          [
           20031
          ],
          [
           22000
          ],
          [
           33656
          ],
          [
           30775.875
          ],
          [
           25000
          ],
          [
           21200
          ],
          [
           16547
          ],
          [
           16720
          ],
          [
           19571.428571428572
          ],
          [
           20401
          ],
          [
           31640
          ],
          [
           21833.333333333332
          ],
          [
           15569.666666666666
          ],
          [
           19500
          ],
          [
           22190
          ],
          [
           22500
          ],
          [
           14150
          ],
          [
           24122.2
          ],
          [
           27500
          ],
          [
           19955.11111111111
          ],
          [
           27433.333333333332
          ],
          [
           30900
          ],
          [
           22966.666666666668
          ],
          [
           27300
          ],
          [
           41000
          ],
          [
           19500
          ],
          [
           9950
          ],
          [
           19743.333333333332
          ],
          [
           20068.29411764706
          ],
          [
           19500
          ],
          [
           11000
          ],
          [
           19856
          ],
          [
           9000
          ],
          [
           20280
          ],
          [
           21600
          ],
          [
           29189.333333333332
          ],
          [
           39361.42857142857
          ],
          [
           14170
          ],
          [
           37100
          ],
          [
           41000
          ],
          [
           10350
          ],
          [
           18907
          ],
          [
           23835.454545454544
          ],
          [
           23850
          ],
          [
           15408
          ],
          [
           29000
          ],
          [
           19645
          ],
          [
           24982
          ],
          [
           20204.5
          ],
          [
           34000
          ],
          [
           20861.6
          ],
          [
           40270
          ],
          [
           22000
          ],
          [
           13400
          ],
          [
           19600
          ],
          [
           40000
          ],
          [
           38322
          ],
          [
           29240.5
          ],
          [
           36500
          ],
          [
           38200
          ],
          [
           25700
          ],
          [
           30879
          ],
          [
           30000
          ],
          [
           18000
          ],
          [
           19500
          ],
          [
           19939.2
          ],
          [
           39000
          ],
          [
           28552.5
          ],
          [
           22000
          ],
          [
           17042
          ],
          [
           18000
          ],
          [
           17263.636363636364
          ],
          [
           27250
          ],
          [
           40000
          ],
          [
           24455.583333333332
          ],
          [
           28800
          ],
          [
           30000
          ],
          [
           11000
          ],
          [
           22399.222222222223
          ],
          [
           12500
          ],
          [
           30562.4
          ],
          [
           13015.714285714286
          ],
          [
           32775
          ],
          [
           26000
          ],
          [
           16066.5
          ],
          [
           18000
          ],
          [
           20996.666666666668
          ],
          [
           12933.333333333334
          ],
          [
           16121.25
          ],
          [
           25600
          ],
          [
           26500
          ],
          [
           35000
          ],
          [
           24000
          ],
          [
           16825
          ],
          [
           22000
          ],
          [
           15000
          ],
          [
           14360
          ],
          [
           42700
          ],
          [
           26450
          ],
          [
           27600
          ],
          [
           27600
          ],
          [
           25050
          ],
          [
           38662
          ],
          [
           32569
          ],
          [
           23980
          ],
          [
           23980
          ],
          [
           23000
          ],
          [
           26500
          ],
          [
           47000
          ],
          [
           32750
          ],
          [
           16183
          ],
          [
           17100
          ],
          [
           15780
          ],
          [
           21300
          ],
          [
           39000
          ],
          [
           15695.5
          ],
          [
           25000
          ],
          [
           24819
          ],
          [
           18000
          ],
          [
           25000
          ],
          [
           22400
          ],
          [
           25000
          ],
          [
           23666.666666666668
          ],
          [
           23000
          ],
          [
           12000
          ],
          [
           28500
          ],
          [
           23300
          ],
          [
           17143.666666666668
          ],
          [
           20000
          ],
          [
           25500
          ],
          [
           16055.5
          ],
          [
           24600
          ],
          [
           32000
          ],
          [
           27000
          ],
          [
           19561
          ],
          [
           27687.5
          ],
          [
           12000
          ],
          [
           20766.666666666668
          ],
          [
           29268
          ],
          [
           12500
          ],
          [
           26000
          ],
          [
           16250
          ],
          [
           27107
          ],
          [
           25000
          ],
          [
           27000
          ],
          [
           17000
          ],
          [
           20000
          ],
          [
           29000
          ],
          [
           19204.545454545456
          ],
          [
           30847
          ],
          [
           16000
          ],
          [
           36000
          ],
          [
           33000
          ],
          [
           16170.5
          ],
          [
           26250
          ],
          [
           26025
          ],
          [
           27500
          ],
          [
           17954
          ],
          [
           18070
          ],
          [
           19250
          ],
          [
           19911.11111111111
          ],
          [
           16350
          ],
          [
           37050
          ],
          [
           30000
          ],
          [
           25600
          ],
          [
           23000
          ],
          [
           25000
          ],
          [
           32000
          ],
          [
           26820
          ],
          [
           38000
          ],
          [
           23760
          ],
          [
           33602
          ],
          [
           34000
          ],
          [
           17000
          ],
          [
           30000
          ],
          [
           30000
          ],
          [
           18000
          ],
          [
           22500
          ],
          [
           22800
          ],
          [
           30000
          ],
          [
           30000
          ],
          [
           27106.25
          ],
          [
           31000
          ],
          [
           35000
          ],
          [
           30500
          ],
          [
           18400
          ],
          [
           14007
          ],
          [
           20000
          ],
          [
           23100
          ],
          [
           32125
          ],
          [
           25800
          ],
          [
           26500
          ],
          [
           25581
          ],
          [
           28266.666666666668
          ],
          [
           22840
          ],
          [
           18000
          ],
          [
           24000
          ],
          [
           16791.25
          ],
          [
           23000
          ],
          [
           27750
          ],
          [
           18400
          ],
          [
           18340
          ],
          [
           21207.75
          ],
          [
           32275
          ],
          [
           32000
          ],
          [
           37000
          ],
          [
           37500
          ],
          [
           28000
          ],
          [
           31100
          ],
          [
           14623.333333333334
          ],
          [
           26300
          ],
          [
           31635
          ],
          [
           21500
          ],
          [
           20625.333333333332
          ],
          [
           26300
          ],
          [
           26000
          ],
          [
           20000
          ],
          [
           16000
          ],
          [
           22000
          ],
          [
           22000
          ],
          [
           29500
          ],
          [
           20858
          ],
          [
           16500
          ],
          [
           27000
          ],
          [
           14000
          ],
          [
           22000
          ],
          [
           48000
          ],
          [
           22375
          ],
          [
           19000
          ],
          [
           30000
          ],
          [
           16250
          ],
          [
           30200
          ],
          [
           30900
          ],
          [
           16040
          ],
          [
           18000
          ],
          [
           16899
          ],
          [
           31165
          ],
          [
           15000
          ],
          [
           20250
          ],
          [
           17000
          ],
          [
           26000
          ],
          [
           30000
          ],
          [
           8784
          ],
          [
           16000
          ],
          [
           28000
          ],
          [
           28200
          ],
          [
           20000
          ],
          [
           21944
          ],
          [
           21752
          ],
          [
           16000
          ],
          [
           16000
          ],
          [
           18000
          ],
          [
           19305
          ],
          [
           38000
          ],
          [
           20000
          ],
          [
           26000
          ],
          [
           36000
          ],
          [
           22000
          ],
          [
           30000
          ],
          [
           47844
          ],
          [
           21000
          ],
          [
           11805.5
          ],
          [
           28000
          ],
          [
           9000
          ],
          [
           31000
          ],
          [
           19823.5
          ],
          [
           31300
          ],
          [
           26481
          ],
          [
           29000
          ],
          [
           28292
          ],
          [
           28000
          ],
          [
           13348
          ],
          [
           32000
          ],
          [
           42666.666666666664
          ],
          [
           22080
          ],
          [
           24116
          ],
          [
           16300
          ],
          [
           30000
          ],
          [
           30500
          ],
          [
           20000
          ],
          [
           25486
          ],
          [
           24000
          ],
          [
           35000
          ],
          [
           21000
          ],
          [
           28102.5
          ],
          [
           23000
          ],
          [
           34000
          ],
          [
           15000
          ],
          [
           16000
          ],
          [
           18000
          ],
          [
           20100
          ],
          [
           21233.333333333332
          ],
          [
           30730
          ],
          [
           14553
          ],
          [
           15500
          ],
          [
           30000
          ],
          [
           30000
          ],
          [
           30000
          ],
          [
           15900
          ],
          [
           25000
          ],
          [
           30000
          ],
          [
           19800
          ],
          [
           14600
          ],
          [
           25000
          ],
          [
           21000
          ],
          [
           17250
          ],
          [
           18000
          ],
          [
           16750
          ],
          [
           25969
          ],
          [
           28000
          ],
          [
           20600
          ],
          [
           20000
          ],
          [
           36000
          ],
          [
           18700
          ],
          [
           18700
          ],
          [
           22400
          ],
          [
           24000
          ],
          [
           26700
          ],
          [
           36000
          ],
          [
           26200
          ],
          [
           14370
          ],
          [
           15000
          ],
          [
           19000
          ],
          [
           12700
          ],
          [
           15000
          ],
          [
           27000
          ],
          [
           14700
          ],
          [
           15200
          ],
          [
           13000
          ],
          [
           32000
          ],
          [
           21744
          ],
          [
           22909
          ],
          [
           20000
          ],
          [
           8250
          ],
          [
           29000
          ],
          [
           30000
          ],
          [
           14000
          ],
          [
           40000
          ],
          [
           25000
          ],
          [
           38215
          ],
          [
           32975
          ],
          [
           24000
          ],
          [
           14700
          ],
          [
           27000
          ],
          [
           16500
          ],
          [
           16225
          ],
          [
           47500
          ],
          [
           11600
          ],
          [
           16557
          ],
          [
           37800
          ],
          [
           14802.5
          ],
          [
           24200
          ],
          [
           18800
          ],
          [
           10500
          ],
          [
           30000
          ],
          [
           24658
          ],
          [
           32000
          ],
          [
           13863
          ],
          [
           20000
          ],
          [
           24780
          ],
          [
           13000
          ],
          [
           20000
          ],
          [
           22000
          ],
          [
           20000
          ],
          [
           27800
          ],
          [
           14000
          ],
          [
           30000
          ],
          [
           23000
          ],
          [
           21500
          ],
          [
           20000
          ],
          [
           22000
          ],
          [
           24455
          ],
          [
           11000
          ],
          [
           18000
          ],
          [
           20494
          ],
          [
           25000
          ],
          [
           30000
          ],
          [
           30000
          ],
          [
           20500
          ],
          [
           15000
          ],
          [
           35000
          ],
          [
           25764.5
          ],
          [
           20000
          ],
          [
           14500
          ],
          [
           14500
          ],
          [
           31400
          ],
          [
           19000
          ],
          [
           12600
          ],
          [
           18774
          ],
          [
           28500
          ],
          [
           22000
          ],
          [
           23652
          ],
          [
           41600
          ],
          [
           28000
          ],
          [
           8185
          ],
          [
           15000
          ],
          [
           26000
          ],
          [
           20000
          ],
          [
           24000
          ],
          [
           20500
          ],
          [
           26500
          ],
          [
           15100
          ],
          [
           16250
          ],
          [
           28500
          ],
          [
           25000
          ],
          [
           11800
          ],
          [
           22000
          ],
          [
           29419
          ],
          [
           28000
          ],
          [
           29420
          ],
          [
           35375
          ],
          [
           20500
          ],
          [
           25000
          ],
          [
           24337
          ],
          [
           22225
          ]
         ],
         "hovertemplate": "<b>%{hovertext}</b><br><br>pay_average=%{marker.color}<br>lat=%{lat}<br>lon=%{lon}<extra></extra>",
         "hovertext": [
          "University of Arizona (U of A)",
          "University of Florida | university of florida",
          "University of Virginia (UVA) | University of virginia",
          "University of Wisconsin , Madison (UW) | University of Wisconsin Madison",
          "Washington University in St. Louis (Wash U)",
          "University of Tennessee , Knoxville",
          "New York University (NYU) | Columbia University",
          "Wright State University (WSU)",
          "University of Liverpool",
          "University of Delaware (UD) | University of Deleware",
          "Stony Brook University , SUNY",
          "Yale University (YU)",
          "Tufts University (TU)",
          "Albert Einstein College of Medicine",
          "Cornell University (CU) | Columbia University (CU) | Clemson University (CU) | Teachers College Columbia University (CU) ",
          "Dalhousie University | Dalhousie Univerity",
          "Massachusetts Institute of Technology (MIT)",
          "University of California , Berkeley | University of California, Berkeley | University of California,Berkeley",
          "Rutgers the State University of New Jersey , New Brunswick | Rutgers University",
          "University of North Carolina , Greensboro (UNCG)",
          "Duke University (DU)",
          "University of Texas , Dallas (UTD)",
          "University of Wisconsin , Milwaukee (UWM)",
          "University of North Carolina , Chapel Hill (UNC) | University of North Carolina at Chapel Hill ",
          "Colorado State University (CSU)",
          "University of Alabama , Birmingham (UAB)",
          "Old Dominion University (ODU)",
          null,
          "University of California , San Diego (UCSD) | University of California , Santa Cruz",
          "University of Utah",
          "University of Iowa (UI)",
          "University of Otago",
          "University of Zurich",
          null,
          "Case Western Reserve University",
          "Stanford University (SU)",
          "University of Pennsylvania | University of Pennsylvania ",
          "Australian National University",
          "Harvard University (HU) | Howard University (HU)",
          "University of Maryland , College Park (UMD)",
          "University of Georgia (UGA)",
          "Emory University",
          "University of Hawaii , Manoa (UH)",
          "University of British Columbia ",
          "Brandeis University",
          "Indiana University | Indiana University Bloomington",
          "Northwestern University (NU)",
          "Marquette University",
          "Virginia Commonwealth University (VCU)",
          "University of Nebraska , Lincoln (NU) | University of Nebraska Medical Center",
          "University of Kansas (KU)",
          "Purdue University , West Lafayette",
          "University of California , Davis (UCD)",
          "University of Southern California (USC)",
          null,
          "Kent State University (KSU)",
          "University of Alberta",
          null,
          "Georgia Institute of Technology (Georgia Tech)",
          "Tennessee State University (TSU)",
          "Florida Atlantic University (FAU)",
          "San Diego State University (SDSU)",
          "Trinity College Dublin | Trinity College Dublin ",
          null,
          "University of Padua",
          "University of Alabama , Huntsville (UAH) | University of Alabama in Huntsville",
          "University of Louisville (U of L)",
          "University of Missouri (MU)",
          "Ohio State University (OSU)",
          null,
          "University of California , Riverside (UCR)",
          "Vanderbilt University",
          "Wayne State University",
          "Carnegie Mellon University (CMU)",
          "University of Illinois , Chicago (UIC)",
          "Florida State University (FSU)",
          "Uniformed Services University of the Health Sciences",
          null,
          "Scripps Research Institute (SRI) | The Scripps Research Institute",
          "The Catholic University of America",
          "West Virginia University (WVU)",
          "Tulane University (TU)",
          "Pennsylvania State University (Penn State)",
          "University at Buffalo , SUNY",
          "Texas A&M University , College Station | Texas A&M College Station",
          "University of Connecticut (UConn)",
          "University of Chicago",
          "University of Houston (UH)",
          "Gerstner Sloan Kettering (Memorial Sloan Kettering Cancer Center)",
          "University of Michigan , Ann Arbor (UM)",
          "University of Arkansas , Little Rock (UALR)",
          null,
          "University of Texas Southwestern Medical Center , Dallas",
          null,
          "The Ohio State University | The ohio state university",
          "University of Texas Health Science Center , San Antonio",
          "Princeton University",
          "Johns Hopkins University (JHU)",
          null,
          "University of South Carolina (USC)",
          "University of California , San Francisco (UCSF)",
          "University of South Florida (UCF)",
          "Arizona State University (ASU)",
          "Virginia Tech",
          "Syracuse University",
          "Georgia State University (GSU)",
          "The Hong Kong University of Science and Technology | The Hong Kong University of science and technology",
          "University of Chicago (UC)",
          "University of Nevada , Reno (UNR)",
          "University of Maryland , Baltimore (UMB)",
          "University of California , Irvine (UCI)",
          "University of California , Los Angeles (UCLA) | UCLa",
          "University of Tennessee Health Science Center",
          "University of Texas , Austin (UT)",
          "Southern Methodist University (SMU) | Southern Methodist University (SMU) , UTSW",
          "Rowan University ",
          "University of Minnesota , Twin Cities (UM)",
          "Baylor College of Medicine",
          null,
          "Kansas State University (K,State)",
          "University of Vermont (UVM) | University of vermont",
          "North Carolina State University (NCSU)",
          "University of Louisiana , Lafayette | University of Louisiana at Lafayette",
          "Iowa State University (ISU)",
          "University of Oregon (UO)",
          "University of Alabama (UA) | University of Denver (DU)",
          "Oklahoma State University (OSU)",
          "Texas Tech University (TTU)",
          null,
          "Washington State University (WSU)",
          "University of Florida (UF) | University of Central Florida (UCF)",
          "University of North Texas (UNT)",
          "Temple University (TU)",
          "University of Notre Dame (ND)",
          "George Washington University (GW)",
          "Southern Illinois University , Carbondale (SIUC)",
          null,
          "North Dakota State University (NDSU)",
          "Idaho State University (ISU)",
          "Miami University (MU)",
          "University of Cincinnati (UC)",
          " University of California Merced | University of California , Merced",
          "Colorado School of Mines | Colorado school of mines",
          "Florida International University (FIU)",
          "Baylor University (BU)",
          null,
          null,
          "National Institutes of Health (NIH)",
          null,
          "University at Albany , SUNY",
          "Louisiana State University , Baton Rouge",
          "USC",
          "Texas A&M University , Kingsville",
          "University of Maryland , Baltimore County (UMBC)",
          null,
          "University of Nevada , Las Vegas (UNLV)",
          "University of Miami (UM)",
          "University of California , Santa Barbara (UCSB)",
          "Portland State University (PSU)",
          "SUNY College of Environmental Science and Forestry",
          "University of Toronto ",
          "Dartmouth College",
          "University of Tulsa (TU)",
          "Sam Houston State University",
          "University of Illinois , Urbana, Champaign (UIUC) | University of Illinois urbana | Unoversity of illinois",
          "Rice University",
          "Cleveland State University (CSU)",
          null,
          "Brown University",
          "Duquesne University (DU)",
          "Medical University of South Carolina",
          "Georgetown University",
          "University of Oklahoma (OU)",
          "CUNY , Hunter College",
          "University of North Texas Health Science Center",
          "Michigan Technological University (MTU)",
          "Northern Arizona University (NAU)",
          null,
          "Illinois State University (ISU)",
          null,
          "Eastern New Mexico University",
          "Northeastern University (NU)",
          "McGill University | McGill University ",
          "University of Washington (UW) | University of Washington, Seattle",
          "Montana State University (MSU)",
          "Michigan State University (MSU)",
          "Drexel University (DU)",
          null,
          "University of Idaho (UI)",
          null,
          "University of Arkansas , Fayetteville",
          "Wake Forest University | Wake Forest University (WFU)",
          "Brigham Young University (BYU)",
          "cu ansutlz",
          null,
          null,
          "Oregon State University (OSU)",
          "Rensselaer Polytechnic Institute (RPI)",
          "University of Akron | The University of Akron",
          "University of Colorado , Denver (UCD)",
          "University of Colorado , Anschutz meedical campus | University of Colorado Anschutz Medical Campus",
          null,
          "Rutgers the State University of New Jersey , Newark | rutgers",
          "King's College London",
          "University of Colorado , Boulder (UCB)",
          "Auburn University (AU)",
          "Weill Cornell Medicine",
          "University of Pittsburgh | university of pittsburgh",
          "University of Texas , San Antonio (UTSA)",
          "University of Wyoming (UW)",
          "George Mason University (GMU)",
          "CUNY Graduate School and University Center",
          "University of Kentucky (UK)",
          "California Institute of Technology (Caltech)",
          "New Jersey Institute of Technology",
          "Texas Christian University (TCU)",
          "university of Massachusetts Amherst",
          "University of Massachusetts , Amherst (UMass)",
          null,
          "Rochester Institute of Technology (RIT)",
          null,
          "Boston University (BU)",
          null,
          "University of Rochester (UR)",
          null,
          null,
          "Ohio University",
          null,
          "University of Mississippi Medical Center | University of Mississippi Medical Center ",
          "Cold Spring Harbor Laboratory ",
          "Mississippi State University (MSU)",
          null,
          "SUNY Downstate Medical Center",
          "East Carolina University (ECU)",
          "Cambridge University",
          "Ohio University (OU)",
          "University of Texas Medical Branch , Galveston",
          "University of Leeds, UK",
          "Cornell Tech",
          "Boston College (BC)",
          "American University (AU)",
          "King Abdullah University of Science and Technology | KAUST",
          "Sciences Po",
          "University of Barcelona",
          "University of Bar",
          null,
          "St. John's University (SJU)",
          "Bristol",
          "University College Dublin | University college Dublin ",
          null,
          "Western Michigan University (WMU)",
          "Sorbonne , Paris VI",
          "Bowling Green State University (BGSU)",
          "Mount Sinai School of Medicine",
          "University of Massachusetts Dartmouth",
          "Western Sydney University",
          "University of Massachusetts , Lowell (UML)",
          null,
          "University of Ottawa",
          "Imperial College London",
          "universite de montreal | Universite de Montreal",
          "University of Sussex ",
          "KU Leuven",
          "City, University of London",
          "University of Warwick (UK)",
          "University of Oxford | University of oxford",
          "Birkbeck, University of London",
          "University of Birmingham  | University of Birmingham (UK)",
          "Laval university",
          "University of Tokyo",
          "University College London",
          "University of Cambridge",
          "Irell & Manella Graduate School of Biological Sciences at Beckman Research Institute | Irell and Manella Graduate School of Biological Sciences | Irell and Manella Graduate School of Biological  Sciences",
          "University of Cape Town",
          "University of Antwerp",
          "Fordham University (FU) | California state university",
          "Scuola Normale Superiore | Scuola normale superiore , Pisa (IT)",
          "Champalimaud Foundation , Lisbon, Portugal",
          "Leuphana University",
          "University of Hong Kong | The university of Hong Kong",
          "Yeshiva University (YU)",
          "Wichita State University (WSU)",
          "University of New Mexico (UNM)",
          "University of Turku",
          "University of Texas at Austin",
          "University of Mississippi (Ole Miss)",
          "Saint Louis University",
          "University of New Orleans (UNO)",
          "Oakland University (OU)",
          "Stevens Institute of Technology",
          "Simon Fraser university | Simon Fraser University ",
          "Rosalind Franklin University of Medicine and Science",
          "University of South Dakota",
          "CUNY , Queens College",
          "Duke,NUS, Singapore",
          "James Cook University",
          null,
          "University of Manitoba | University of Manitoba ",
          null,
          null,
          "University of Montreal",
          "Osaka University",
          "University of Calgary",
          "University of Auckland",
          "Universite Laval",
          "University of Exeter",
          "Saarland University",
          "Wake Forest School of Medicine",
          "Oregon Health and Science University",
          "The University of Melbourne, Australia",
          "University of Saskatchewan ",
          "Goldsmiths",
          null,
          "Wesleyan University",
          "University of Arizona College of Medicine,Phoenix",
          "University of Nottingham, UK",
          null,
          "University of Texas , El Paso (UTEP)",
          "St. Louis University (SLU)",
          "University of Maine",
          "University of New South Wales | University of New South Wales, Sydney",
          "Boise State University (BSU)",
          "McMaster University | mcmaster university",
          "Memorial University",
          "New Mexico Institute of Mining and Technology",
          null,
          "Texas A&M University at Galveston",
          "Loyola University Chicago (LUC)",
          "Victoria University of Wellington, NZ",
          "University of Toledo | The University of Toledo",
          "Indiana University, Purdue University , Indianapolis (IUPUI)",
          "University of Massachusetts Medical Center , Worcester",
          "Louisiana State University School of Medicine , New Orleans",
          "The University of Queensland ",
          "Cedars,Sinai Medical Sciences, Los Angeles",
          "Queensland University of Technology (QUT)",
          "Central European University",
          "University of Edinburrgh | University of Edinburgh",
          "Utah State University (USU)",
          null,
          "University of Dublin, Trinity college Dublin ",
          "Maynooth University ",
          null,
          "University of Brighton ",
          "Inrs",
          "CUNY , City College",
          "Rockefeller University",
          "East Tennessee State University (ETSU) | Middle Tennessee State University (MTSU)",
          null,
          "Gerstner Sloan Kettering Graduate School of Biomedical Sciences",
          "Texas Woman's University | Texas Woman's University ",
          "Strathclyde",
          "Lehigh University",
          "University of South Florida (USF)",
          "CINVESTAV del IPN, Mexico",
          "The University of Birmingham",
          "Cranfield University",
          null,
          "University of St Andrews, UK",
          "Weill Cornell Medical School",
          "University of Massachusetts , Boston (UMB)",
          "University of Gothenburg (Sweden)",
          "Ottawa Hospital Research Institute",
          "Central Michigan University (CMU)",
          "Arkansas State University",
          "Tel Aviv University ",
          "Weill Cornell Graduate School of Medical Sciences",
          "Thomas Jefferson University",
          "Icahn School of Medicine at Mount Sinai",
          "Saint Jude",
          null,
          "University of Minnesota",
          "The American College of Financial Services",
          null,
          null,
          "University of Montana (UM)",
          null,
          "Worcester Polytechnic Institute (WPI)",
          null,
          "University of Southern Mississippi (USM)",
          "Indian School of Business",
          "University of Memphis",
          null,
          null,
          "University of Arkansas for Medical Sciences",
          null,
          null,
          "Tuskegee University",
          "University of New Hampshire (UNH)",
          null,
          "Medical College of Wisconsin",
          "Northern Illinois University (NIU)",
          "Mayo Medical School",
          "Test University",
          "Ball State University (BSU)",
          "West Texas A&M University",
          "University of South Alabama (USA)",
          "University of Missouri , Kansas City (UMKC)",
          "University of Rhode Island (URI)",
          "University of Oklahoma Health Sciences Center",
          "Drexel University",
          null,
          null,
          "Illinois Institute of Technology (IIT)",
          "University of Cambridge (Gates Cambridge Scholarship)",
          null,
          "The University of Alabama",
          null,
          null,
          null,
          null,
          "Clarkson University",
          null,
          "Mayo Clinic Graduate School",
          null,
          null,
          null,
          "Purdue University",
          null,
          null,
          "FAMU",
          "Clark Atlanta University",
          "Florida Institute of Technology",
          "University of Texas , Arlington (UTA) |  University of Texas at Arlington ",
          null,
          "Eastman School of Music | Eastman School of Music (University of Rochester)",
          null,
          "Pacifica Graduate Institute",
          null,
          null,
          null,
          "UF",
          "University of Kansas Medical Center (KUMC)",
          "Walden University",
          "incheon  national university",
          "University of Toronto Rotman School of Management",
          null,
          "University of North Dakota (ND)",
          null,
          null,
          "University of Guelph",
          "Villanova",
          null,
          null,
          "University of Victoria",
          "University of Texas Health Science Center , Houston",
          "University of New Brunswick",
          "Loma Linda University",
          null,
          "Indiana University of Pennsylvania (IUP)",
          null,
          "Embry,Riddle Aeronautical University",
          "University of California San Diego",
          null,
          null,
          null,
          null,
          "cu boulder",
          "New Mexico State University (NMSU)",
          "INSEAD",
          null,
          null,
          null,
          "North Carolina A&T State University (NC A&T)",
          "CUNY , John Jay College",
          null,
          null,
          " Clark University",
          "Sydney",
          "DePaul University (DPU)",
          "Binghamton University , SUNY",
          "Lamar University",
          "St. Jude Children's Research Hospital",
          "Bentley University",
          null,
          "Princeton Theological Seminary (PTS)",
          null,
          null,
          "The University of Manchester",
          null,
          null,
          "Cornell",
          null,
          null,
          null,
          "Rush University",
          null,
          null,
          "Indiana State University (ISU)",
          null,
          "The University of Western Australia",
          "South Dakota State University (SDSU)",
          null,
          "Noetheastern",
          null,
          null,
          "National university of ireland galway | National University of Ireland, Galway",
          null,
          "Chapman University",
          null,
          "Villanova University",
          "Albany Medical College",
          "NANYANG TECHNOLOGICAL UNIVERSITY | Nanyang Technological University",
          "University of Melbourne | university of melbourne",
          "Louisiana State University School of Medicine , Shreveport",
          null,
          null,
          "University of North Carolina , Charlotte (UNCC)",
          "university of  Maryland  | University of Maryland",
          "University of Notre Dame",
          null,
          "The University of North Texas",
          "University of the Sciences in Philadelphia",
          "Yale University",
          "Penn State College of Medicine",
          null,
          null,
          "Griffith University, Australia ",
          null,
          "University of Georgia | University of Georgia ",
          null,
          null,
          "Missouri University of Science & Technology",
          "College of William and Mary (W&M)",
          null,
          "johns hopkins | johns hopkins ",
          "university missouri ",
          "Dublin City university ",
          null,
          null,
          null,
          "university of south carolina",
          "University of Waterloo",
          null,
          null,
          null,
          null,
          "Massachusetts College of Pharmacy and Health Sciences",
          null,
          null,
          "Polytechnic Montreal",
          null,
          "Polytechnic Institute of New York University",
          "Open University,KEMRI Wellcome Trust Research Programme",
          null,
          "University of Manchester",
          "The Francis Crick Institute (UK)",
          "indiana",
          null,
          null,
          "NYU",
          null,
          null,
          "University of Colorado, Boulder",
          null,
          null,
          "Claremont Graduate University (CGU)",
          "Max Planck Institute for Human Cognitive & Brain Sciences",
          null,
          null,
          null,
          "Carleton University ",
          null,
          "University of Western Australia",
          null,
          "Flinders University",
          null,
          null,
          "National University of Singapore",
          null,
          null,
          "University of Puerto Rico",
          null,
          "University of Regina",
          "University of Tuebingen",
          "University of Gottingen",
          "KTH Royal Institute of Technology",
          "Creighton University (CU)",
          null,
          "Bryn Mawr College (BMC)",
          "University of Maryland College Park",
          null,
          "Cornell University",
          "Cedars,Sinai Medical Center",
          "Boston University",
          null,
          "Morgan State University (MSU)",
          null,
          "Vanderbilt",
          "Auburn University",
          null,
          "wyoming",
          null,
          null,
          "Eastern virginia medical school | Eastern Virginia Medical School",
          null,
          null,
          null,
          null,
          "university college of engineering ramanathapuram",
          "the University of Adelaide",
          "Hampton University (HU)",
          null,
          "University of Bristol",
          null,
          null,
          null,
          "khalifa university ",
          "Florida A&M University",
          null,
          "Capella University",
          null,
          "University of Massachusetts , Dartmouth (UMD)",
          "Augusta University",
          "Gallaudet University",
          "Alfred University , New York State College of Ceramics",
          "Clemson University",
          null,
          "Rutgers University , Camden",
          null,
          "West Virginia university",
          "University of Colorado , Colorado Springs",
          "CUNY , Baruch College",
          null,
          null,
          "Sofia University",
          null,
          "SUNY Polytechnic Institute",
          "Stowers Institute",
          null,
          "University at Albany, State University of New York",
          "University of Sciences ",
          null,
          "UK university not based in London",
          null,
          null,
          "St John's University  | St. John's University",
          "Montana Tech ",
          "University of Missouri , St. Louis",
          null,
          "Western University",
          null,
          null,
          null,
          null,
          null,
          "nc state university ",
          null,
          "Grand Canyon University",
          "University of Oslo",
          "Iceland",
          "UC Berkeley",
          null,
          null,
          "Unniversity of Hawaii Manoa",
          null,
          "HHMI Janelia Research Campus",
          "Salisbury university ",
          "Bath",
          "Stanford",
          "nottingham trent university | Nottingham Trent University",
          null,
          null,
          "Seton Hall University",
          "Jackson State University (JSU)",
          null,
          "Hofstra Northwell School of Medicine",
          "Durham university",
          null,
          "SUNY Upstate Medical Center",
          "California state university Northridge",
          "New School",
          "University of Greifswald ",
          "esf",
          "University of Rochester",
          null,
          null,
          "Mississippi State University",
          null,
          null,
          null,
          "Marshall University",
          "College of Charleston",
          "University of Dayton (UD)",
          "University of Liverpool (Great Britain)",
          "Columbia Teachers College",
          null,
          null,
          "Stony Brook University",
          "Montclair State University",
          "Northwestern University (NU) Kellogg School of Management",
          "University of Western Ontario",
          "Hillsdale College",
          null,
          null,
          "Princeton",
          null,
          "Bucknell University",
          "Free university  of Bozen,Bolzano",
          "Pennsylvania State University (Penn State) Hershey",
          "University of Alabama at Birmingham",
          null,
          "Southern California University of Health Sciences",
          null,
          null,
          "uc san diego",
          "UC Davis",
          null,
          "Georgia Institute of Technology/Emory University",
          "12",
          "University of Alaska , Fairbanks (UAF)",
          null,
          null,
          null,
          "Massey University (New Zealand)",
          null,
          "University of Northern Colorado (UNC)",
          null,
          null,
          null,
          "Weill Cornell Medical College",
          null,
          "Texas A&M Health Science Center",
          null,
          "Pardee RAND Graduate School"
         ],
         "lat": [
          32.224453999999994,
          29.647456,
          38.035165,
          43.0732435,
          38.648015,
          35.953052500000005,
          40.8075595,
          39.7814155,
          53.40549950000001,
          39.67988125,
          40.914502,
          20.721291175999998,
          42.40899,
          40.85072,
          4.59889,
          44.6370765,
          42.358984,
          37.870499,
          40.50005625,
          36.0726,
          36.0060219,
          32.985556,
          43.077073999999996,
          35.9083286875,
          38.309376,
          33.506034,
          36.884704,
          null,
          36.9901525,
          40.769754999999996,
          41.674908,
          -45.8657665,
          47.376401,
          null,
          41.504526,
          36.002823,
          39.9492625,
          -35.283984999999994,
          37.25,
          38.984326,
          42.3842114527972,
          33.76855425,
          40.3931,
          49.264573,
          42.366078,
          39.167190000000005,
          42.050146000000005,
          43.0381805,
          37.548297,
          40.816183,
          29.341211574302697,
          40.426348,
          38.539555,
          34.146771,
          null,
          43.770458000000005,
          53.5246715,
          null,
          33.78023525,
          35.120488,
          26.375453999999998,
          35.839503,
          53.34432087500001,
          null,
          45.407140500000004,
          34.728415999999996,
          38.253366,
          34.173184,
          40.020121,
          null,
          33.970224,
          36.14688,
          42.3568145,
          40.44288975,
          41.873436,
          30.444751,
          39.001329,
          null,
          32.902363,
          38.933378000000005,
          39.6492345,
          33.21,
          40.80152075,
          1.328776,
          30.614044,
          41.8070105,
          41.789889,
          29.766112,
          40.76439050000001,
          42.2771875,
          34.775825,
          null,
          32.811842,
          null,
          40,
          29.4246,
          40.3451335,
          39.3289375,
          null,
          33.933772999999995,
          37.763313000000004,
          28.595836,
          33.421066499999995,
          37.207,
          43.038514,
          33.756428,
          22.3374505,
          38.898701,
          40.071120297600004,
          39.287555,
          33.649718,
          34.071048,
          35.140192,
          30.269594,
          32.8429835,
          39.710091999999996,
          25.42,
          29.7105295,
          null,
          40.575773,
          44.477893,
          35.7861945,
          30.213643,
          42.006865999999995,
          44.048269,
          25.105754,
          36.163864000000004,
          33.590215,
          null,
          46.3252,
          28.605102000000002,
          33.210728499999995,
          39.97922,
          -33.88136,
          38.900132,
          37.705418,
          null,
          46.902255,
          42.864509999999996,
          39.500984499999994,
          39.1319205,
          37.364651,
          39.7503565,
          25.75261375,
          42.93,
          null,
          null,
          39.004425,
          null,
          42.648305,
          30.414604999999998,
          -23.6173355,
          27.5248135,
          39.252183,
          null,
          36.107638,
          25.720069,
          34.413272,
          45.5202,
          43.0349625,
          43.548175,
          43.70354,
          36.1519115,
          30.209207,
          40.11054,
          29.717171,
          41.5020855,
          null,
          41.8261575,
          40.4375005,
          32.784808,
          38.907701875,
          35.210669,
          40.767824,
          32.748751,
          42.474756,
          35.189018,
          null,
          40.497316999999995,
          null,
          34.17792,
          42.339604,
          45.50478925,
          47.654538,
          45.668667,
          42.731303000000004,
          38.900665999999994,
          null,
          46.72998825000001,
          null,
          36.070014,
          36.135829,
          40.2502805,
          null,
          null,
          null,
          44.564894,
          42.7300305,
          41.075425,
          39.760436999999996,
          39.746907,
          null,
          40.4882,
          51.511627000000004,
          40.006944700000005,
          32.603635,
          40.76488575,
          40.443979,
          29.416759999999996,
          41.313072999999996,
          34.8491945,
          40.74854000000001,
          38.025426,
          34.138344000000004,
          40.742124,
          32.702296999999994,
          42.388894,
          42.388994,
          null,
          43.081992,
          null,
          42.350218,
          null,
          46.308815,
          null,
          null,
          39.962196,
          null,
          32.327884000000005,
          40.859398,
          33.455133000000004,
          null,
          40.6552505,
          35.628977,
          52.203256,
          41.07,
          29.2844005,
          53.807217,
          40.755223,
          42.337410999999996,
          38.945425,
          22.3095145,
          48.8550295703125,
          41.38626,
          41.120678000000005,
          null,
          39.393854,
          51.45,
          53.306833,
          null,
          42.959638,
          48.84731675000001,
          41.378682,
          40.790284,
          41.628854,
          -33.84561,
          42.641937,
          null,
          45.42237,
          51.4985565,
          45.50323450000001,
          50.865798,
          51.06812,
          51.527478,
          52.380857,
          51.750847500000006,
          51.52248393945312,
          52.450079,
          45.558582,
          35.713013000000004,
          51.522746416015615,
          52.186507,
          5.355946,
          -33.96,
          51.223177500000006,
          33.880694,
          43.719525,
          38.71667,
          53.229231000000006,
          22.2674955,
          40.7081765,
          37.753009999999996,
          35.083292,
          60.45166999999999,
          30.2853755,
          34.358245000000004,
          16.418310499999997,
          30.027503000000003,
          40.439,
          40.7449025,
          49.279063,
          42.300587,
          42.7860455,
          40.735942,
          1.280848,
          -19.327192999999998,
          null,
          49.8091545,
          null,
          null,
          45.510265999999994,
          34.823534,
          51.07774375,
          -36.851942,
          46.7812205,
          50.735925125,
          49.2552315,
          36.089428000000005,
          45.49915725,
          -37.828897,
          52.1304975,
          51.4748595,
          null,
          15.484891000000001,
          32.239905,
          52.939216,
          null,
          31.767388,
          54.452358,
          44.7097515,
          -33.917295,
          43.604246,
          43.262097499999996,
          32.030139250000005,
          34.067465000000006,
          null,
          29.3153665,
          41.997427,
          -41.28889,
          41.660675,
          39.7740625,
          42.2771775,
          29.956402,
          -27.49818525,
          34.0544,
          -22.572791380199998,
          47.501104,
          55.944954,
          39.607901500000004,
          null,
          53.343527,
          53.380368,
          null,
          50.842465000000004,
          53.064235,
          33.83,
          40.76267350000001,
          36.303511,
          null,
          40.765097999999995,
          33.229271999999995,
          55.863002,
          40.607046000000004,
          28.057515,
          25.687751000000002,
          52.488772,
          52.073466,
          null,
          56.341364,
          39.16,
          42.358315000000005,
          57.6970935,
          45.392828,
          43.438992999999996,
          35.84149650000001,
          32.113591,
          40.764303000000005,
          39.94975150000001,
          40.7895415,
          7.070938000000001,
          null,
          44.974447,
          40.018608,
          null,
          null,
          46.856083,
          null,
          42.274151,
          null,
          31.331031,
          17.435316,
          35.1193385,
          null,
          null,
          34.7494735,
          null,
          null,
          32.430195,
          43.1359435,
          null,
          43.04338,
          42.9547,
          53.75,
          30.2938,
          40.202521000000004,
          34.9837135,
          30.6962785,
          39.033574,
          41.482649,
          49.903451000000004,
          39.955879,
          null,
          null,
          41.834840500000006,
          52.202032,
          null,
          33.211341000000004,
          null,
          null,
          null,
          null,
          44.663449,
          null,
          2.928986,
          null,
          null,
          null,
          40.416012,
          null,
          null,
          30.418857,
          33.749955,
          28.065064000000003,
          32.729879,
          null,
          43.157602125,
          null,
          34.431537500000005,
          null,
          null,
          null,
          54.73333,
          39.056065,
          28.424684999999997,
          37.375476,
          43.6649985,
          null,
          47.921819,
          null,
          null,
          43.532261,
          40.0373,
          null,
          null,
          48.4647795,
          29.703271,
          45.30581,
          34.052225,
          null,
          40.617052,
          null,
          29.18863,
          37.9004575,
          null,
          null,
          null,
          null,
          40.009777,
          32.278546,
          1.2997254999999999,
          null,
          null,
          null,
          36.0750455,
          40.768603000000006,
          null,
          null,
          42.2511345,
          -33.868,
          41.923916,
          42.090647499999996,
          30.042003,
          35.15324200000001,
          42.387526,
          null,
          40.3441735,
          null,
          null,
          53.464432499999994,
          null,
          null,
          41.355,
          null,
          null,
          null,
          41.87422221875,
          null,
          null,
          39.178806,
          null,
          -31.980069,
          44.319045,
          null,
          65.68333,
          null,
          null,
          53.277882375,
          null,
          33.7929255,
          null,
          40.036934,
          42.653321999999996,
          1.347227,
          -37.79826900000001,
          32.5222,
          null,
          null,
          35.3049605,
          38.98640225,
          41.7008115,
          null,
          32.7865,
          39.946221,
          41.3113795,
          40.264376,
          null,
          null,
          -27.549348,
          null,
          33.954395000000005,
          null,
          null,
          37.95518800000001,
          46.59,
          null,
          26.310290999999996,
          38.645653,
          53.385746999999995,
          null,
          null,
          null,
          33.9968505,
          43.4705625,
          null,
          null,
          null,
          null,
          42.996302,
          null,
          null,
          45.5088,
          null,
          43.0404,
          52.024374,
          null,
          53.460354,
          51.531721999999995,
          39.9184076479,
          null,
          null,
          40.729364,
          null,
          null,
          40.00704500000001,
          null,
          null,
          34.103158,
          47.46333,
          null,
          null,
          null,
          45.3836645,
          null,
          -31.977031,
          null,
          -35.023041,
          null,
          null,
          1.319392,
          null,
          null,
          33.412107250000005,
          null,
          50.418388,
          48.530942,
          51.5379755,
          59.346441500000005,
          41.254271,
          null,
          40.02629,
          38.995495,
          null,
          42.4473635,
          34.063319,
          42.350691999999995,
          null,
          39.343188,
          null,
          41.796940000000006,
          32.601116999999995,
          null,
          43.5444588856,
          null,
          null,
          36.861366,
          null,
          null,
          null,
          null,
          18.529718,
          -34.9202175,
          37.66667,
          null,
          51.457143125,
          null,
          null,
          null,
          24.447017000000002,
          30.42585,
          null,
          33.640916499999996,
          null,
          41.628690999999996,
          33.470976,
          38.907143,
          42.253894,
          34.678302,
          null,
          39.948536,
          null,
          39.640968,
          38.892101000000004,
          40.740396999999994,
          null,
          null,
          37.430695,
          null,
          42.691116,
          39.03698,
          null,
          42.680569,
          8.485531,
          null,
          51.507220000000004,
          null,
          null,
          13.810939000000001,
          46.012147,
          38.7107435,
          null,
          43.003772,
          null,
          null,
          null,
          null,
          null,
          35.798038,
          null,
          33.5096025,
          59.915645999999995,
          64.9975884448459,
          37.872253,
          null,
          null,
          21.297422500000003,
          null,
          39.071483,
          38.3454575,
          51.38139,
          37.4248,
          52.956867,
          null,
          null,
          40.7425565,
          32.299,
          null,
          40.7177825,
          54.77063750000001,
          null,
          51,
          34.239649,
          40.736585999999996,
          54.09471,
          -23.603898,
          43.1281065,
          null,
          null,
          33.454785,
          null,
          null,
          null,
          38.42389350000001,
          32.784079,
          39.739434499999994,
          53.405765,
          34.05,
          null,
          null,
          40.90919575,
          40.8609065,
          42.057413000000004,
          43.010782,
          41.932446,
          null,
          null,
          40.3493,
          null,
          40.953621500000004,
          46.498079,
          40.264593,
          33.49976700000001,
          null,
          33.922003000000004,
          null,
          null,
          32.875197,
          38.552521999999996,
          null,
          33.58,
          30.05,
          64.85532099999999,
          null,
          null,
          null,
          -40.3850435,
          null,
          40.4055055,
          null,
          null,
          null,
          25.318307500000003,
          null,
          31.076421000000003,
          null,
          38.886559000000005
         ],
         "legendgroup": "",
         "lon": [
          -110.94485900000001,
          -82.34826699999998,
          -78.5039985,
          -89.40809499999999,
          -90.311359,
          -83.930266,
          -73.96215550000001,
          -84.064915,
          -2.9682538125000004,
          -75.74845024999998,
          -73.124151,
          -88.99720516199751,
          -71.115059,
          -73.8454565,
          -74.08083,
          -63.590612,
          -71.0935805,
          -122.2591495,
          -74.447763,
          -79.792,
          -78.93713079999999,
          -96.750326,
          -87.885015,
          -79.049486,
          -104.575749,
          -86.802087,
          -76.30044699999999,
          null,
          -122.05759450000001,
          -111.83788200000001,
          -91.580951,
          170.51343549999999,
          8.5476405,
          null,
          -81.609739,
          -115.114218,
          -75.191259,
          149.1181075,
          -6.95,
          -76.94796,
          43.881434770301,
          -84.38642250000002,
          -81.3465,
          -123.25061200000002,
          -71.259119,
          -86.52091300000001,
          -87.681944,
          -87.92847900000001,
          -77.452015,
          -96.70419,
          47.5906041080513,
          -86.92597925,
          -121.751827,
          -118.14106000000001,
          null,
          11.255723,
          -113.5228665,
          null,
          -84.3926795,
          -89.99091899999999,
          -80.101683,
          -90.676855,
          -6.257573875,
          null,
          11.8804325,
          -86.640411,
          -85.584006,
          -117.31969199999999,
          -83.029862,
          null,
          -117.327529,
          -86.80421050000002,
          -83.06965749999999,
          -79.94494350000001,
          -87.650264,
          -84.298289,
          -77.0861685,
          null,
          -117.23920700000001,
          -76.996299,
          -79.981236,
          -87.55,
          -77.86414400000002,
          103.77640500000001,
          -96.342133,
          -72.2481995,
          -87.604687,
          -95.360387,
          -73.95684250000001,
          -83.73849799999998,
          -92.343652,
          null,
          -96.858624,
          null,
          -83.01,
          -98.4951,
          -74.65832225,
          -76.6203555,
          null,
          -80.37595300000001,
          -122.458398,
          -81.199302,
          -111.932251,
          -80.40839349999997,
          -76.13476,
          -84.389137,
          114.263211,
          -77.04045699999999,
          -116.598821819119,
          -76.626143,
          -117.84198700000002,
          -118.44456299999999,
          -90.03296999999999,
          -97.734734,
          -96.78474849999999,
          -75.119952,
          51.4,
          -95.39636999999999,
          null,
          -99.43687609999999,
          -73.1972305,
          -78.6727755,
          -92.017388,
          -93.63266899999999,
          -123.07203600000001,
          55.415170999999994,
          -95.988563,
          -101.886033,
          null,
          -119.2688,
          -81.197224,
          -97.14899799999999,
          -75.156314,
          151.218944,
          -77.046676,
          -89.224163,
          null,
          -96.803713,
          -112.43314099999999,
          -84.72928300000002,
          -84.515631,
          -120.42762649999999,
          -105.22266,
          -80.37785450000001,
          -78.85,
          null,
          null,
          -77.099131,
          null,
          -73.749616,
          -91.178322,
          -46.5611705,
          -97.8824125,
          -76.707353,
          null,
          -115.141826,
          -80.277772,
          -119.84886999999999,
          -122.6742,
          -76.135762,
          -79.6626575,
          -72.28884249999999,
          -95.94638,
          -95.470115,
          -88.2269005,
          -95.4018215,
          -81.675191,
          null,
          -71.40396199999999,
          -79.991974,
          -79.94729699999999,
          -77.072684,
          -97.446329,
          -73.96421600000001,
          -97.370063,
          -83.24918000000001,
          -111.658162,
          null,
          -88.995827,
          null,
          -103.3484345,
          -71.087029,
          -73.57661250000002,
          -122.3076595,
          -111.0497855,
          -84.481719,
          -77.039427,
          null,
          -117.017473,
          null,
          -94.17576700000001,
          -80.277438,
          -111.6492175,
          null,
          null,
          null,
          -123.27774699999999,
          -73.67859899999998,
          -81.51047700000002,
          -104.90136899999999,
          -104.836993,
          null,
          -74.4107,
          -0.116376,
          -105.2617842,
          -85.486436,
          -73.95464875,
          -79.9543695,
          -98.478763,
          -105.5821365,
          -82.35062049999998,
          -73.9838295,
          -84.50858000000001,
          -118.125626,
          -74.17889100000001,
          -97.37028199999999,
          -72.527413,
          -72.53179300000001,
          null,
          -77.678388,
          null,
          -71.104588,
          null,
          7.4973529999999995,
          null,
          null,
          -82.0324,
          null,
          -90.174669,
          -73.46703199999999,
          -88.794431,
          null,
          -73.9450875,
          -77.321777,
          0.1204895,
          -81.51,
          -94.8085355,
          -1.552503,
          -73.957107,
          -71.16855,
          -77.080507,
          39.1049985,
          2.3288220546875,
          2.1637255,
          16.86839875,
          null,
          -3.2101919999999997,
          -2.58333,
          -6.2201315,
          null,
          -85.66996400000001,
          2.34410075,
          -83.63736800000002,
          -73.952448,
          -71.006271,
          151.07108,
          -71.314266,
          null,
          -75.683077,
          -0.1769325,
          -73.6161915,
          -0.08701,
          4.502031,
          -0.102364,
          -1.561638,
          -1.2477805,
          -0.12975997265625,
          -1.9305515,
          -73.721343,
          139.761332,
          -0.129293625,
          0.136473,
          100.301457,
          18.46,
          4.411748,
          -117.8846615,
          10.400176,
          -9.16667,
          10.4007845,
          114.12827549999999,
          29.975071500000002,
          -97.459918,
          -106.6208755,
          22.27,
          -97.735642,
          -89.546752,
          120.5977375,
          -90.066948,
          -79.9557,
          -74.0246695,
          -122.917549,
          -87.8581,
          -96.9252205,
          -73.821835,
          103.83419,
          146.75704199999998,
          null,
          -97.1341575,
          null,
          null,
          -73.560142,
          135.520052,
          -114.128802,
          174.769619,
          -71.27570800000002,
          -3.53471625,
          7.0416205000000005,
          -80.266562,
          -122.68649575,
          145.021664,
          -106.633973,
          -0.0371685,
          null,
          120.97546200000001,
          -110.946481,
          -1.198199,
          null,
          -106.50516200000001,
          17.0433125,
          -67.457369,
          151.231356,
          -116.20598899999999,
          -79.9191015,
          -81.08945025,
          -106.905247,
          null,
          -94.8179335,
          -87.66022,
          174.77722,
          -83.61460037500002,
          -86.1744085,
          -71.76302050000002,
          -90.078947,
          153.014115,
          -118.2439,
          144.550390100876,
          19.049355,
          -3.18805,
          -110.80357450000001,
          null,
          -6.24606,
          -6.5976325,
          null,
          -0.11920499999999999,
          -9.513129,
          -118.14,
          -73.9559165,
          -82.36827,
          null,
          -73.956627,
          -97.135562,
          -4.242755000000001,
          -75.37728299999999,
          -82.41196400000003,
          -100.20855999999999,
          -1.9076099999999998,
          -0.6280375,
          null,
          -2.793838,
          -75.53,
          -71.06089,
          11.961307,
          -75.72414599999999,
          -84.035546,
          -90.6774535,
          34.80321,
          -73.9543365,
          -75.157348,
          -73.9533255,
          125.604083,
          null,
          -93.23994275,
          -75.32771199999998,
          null,
          null,
          -113.97714599999999,
          null,
          -71.80844,
          null,
          -89.33788100000001,
          78.339999,
          -89.93734,
          null,
          null,
          -92.320431,
          null,
          null,
          -85.707471,
          -70.93239750000002,
          null,
          -88.02200199999999,
          -78.8187,
          -9.1167,
          -97.743,
          -85.408396,
          -101.914826,
          -88.17788175000003,
          -94.57629,
          -71.52618749999998,
          -97.15661300000001,
          -75.18896099999999,
          null,
          null,
          -87.62739599999999,
          0.117658,
          null,
          -87.546874,
          null,
          null,
          null,
          null,
          -74.9988135,
          null,
          101.785511,
          null,
          null,
          null,
          -86.929836,
          null,
          null,
          -84.2838155,
          -84.41135249999998,
          -80.6238055,
          -97.1149705,
          null,
          -77.601606875,
          null,
          -119.5810135,
          null,
          null,
          null,
          55.96666999999999,
          -94.60920562500002,
          -81.46637700000001,
          126.633361,
          -79.398488,
          null,
          -97.07060899999999,
          null,
          null,
          -80.2254645,
          -75.3491,
          null,
          null,
          -123.31065900000002,
          -95.403086,
          -66.085871,
          -117.2619795,
          null,
          -79.159598,
          null,
          -81.049095,
          -122.305757,
          null,
          null,
          null,
          null,
          -105.24245400000001,
          -106.74474599999999,
          103.7865595,
          null,
          null,
          null,
          -79.7725715,
          -73.989558,
          null,
          null,
          -71.823174,
          151.21,
          -87.657696,
          -75.969123,
          -94.0750065,
          -90.043289,
          -71.220612,
          null,
          -74.6639065,
          null,
          null,
          -2.2355155,
          null,
          null,
          2.07111,
          null,
          null,
          null,
          -87.669244375,
          null,
          null,
          -86.533889,
          null,
          115.817898,
          -96.78707,
          null,
          -18.1,
          null,
          null,
          -9.061357000000001,
          null,
          -117.85198500000001,
          null,
          -75.339864,
          -73.777159,
          103.681792,
          144.9628925,
          -93.7652,
          null,
          null,
          -80.73279699999999,
          -76.94807275,
          -86.23826225,
          null,
          -97.1148,
          -75.2078135,
          -72.92584699999998,
          -76.67621199999999,
          null,
          null,
          153.05937350000002,
          null,
          -83.374647,
          null,
          null,
          -91.773536,
          -112.03,
          null,
          50.136269,
          -90.5041245,
          -6.258126,
          null,
          null,
          null,
          -81.026572,
          -80.54100550000003,
          null,
          null,
          null,
          null,
          -71.463977,
          null,
          null,
          -73.554,
          null,
          -76.1358,
          -0.7112149999999999,
          null,
          -2.2286740000000003,
          -0.1283755,
          -86.28460760648821,
          null,
          null,
          -73.995956,
          null,
          null,
          -105.2676765,
          null,
          null,
          -117.7136665,
          4.506390000000001,
          null,
          null,
          null,
          -75.6974505,
          null,
          115.81350400000001,
          null,
          138.5724725,
          null,
          null,
          103.81797399999999,
          null,
          null,
          -111.996697,
          null,
          -104.588981,
          9.0477205,
          9.937527000000001,
          18.07222775,
          -95.93302,
          null,
          -75.313721,
          -76.94148,
          null,
          -76.48332950000001,
          -118.37006699999999,
          -71.10634350000001,
          null,
          -76.58587800000001,
          null,
          -73.9418435,
          -85.486097,
          null,
          -107.53985754110901,
          null,
          null,
          -76.3014135,
          null,
          null,
          null,
          null,
          73.855986,
          138.60491100000002,
          -7,
          null,
          -2.60395875,
          null,
          null,
          null,
          54.394438,
          -84.28779899999999,
          null,
          -117.80698999999998,
          null,
          -71.00404300000001,
          -81.990012,
          -76.993437,
          -77.787977,
          -82.837137,
          null,
          -75.121765,
          null,
          -79.964403,
          -104.79823950000001,
          -73.98406,
          null,
          null,
          -122.109272,
          null,
          -73.833052,
          -94.574823,
          null,
          -73.837952,
          124.6567485,
          null,
          -0.1275,
          null,
          null,
          100.56124399999999,
          -112.5576905,
          -90.310692,
          null,
          -81.275757,
          null,
          null,
          null,
          null,
          null,
          -78.69655300000001,
          null,
          -112.128956,
          10.735543,
          -18.6054668169534,
          -122.27167,
          null,
          null,
          -157.817621,
          null,
          -77.46459499999999,
          -75.60597050000001,
          -2.3586099999999997,
          -122.1677,
          -1.1524640000000002,
          null,
          null,
          -74.247881,
          -90.1848,
          null,
          -73.5978385,
          -1.5738085000000002,
          null,
          34,
          -118.53164699999999,
          -73.996482,
          13.374707500000001,
          -46.626055,
          -77.62915500000001,
          null,
          null,
          -88.789084,
          null,
          null,
          null,
          -82.42463149999999,
          -79.9377405,
          -84.17909,
          -2.968332,
          -81.02,
          null,
          null,
          -73.11536925,
          -74.198881,
          -87.672736,
          -81.27144799999999,
          -84.63368299999999,
          null,
          null,
          -74.6593,
          null,
          -76.884203,
          11.350077,
          -76.674878,
          -86.8071215,
          null,
          -117.980052,
          null,
          null,
          -117.223178,
          -121.45196399999999,
          null,
          -85.1,
          31.2,
          -147.8292,
          null,
          null,
          null,
          175.6169295,
          null,
          -104.6968945,
          null,
          null,
          null,
          51.439606,
          null,
          -97.363831,
          null,
          -77.020042
         ],
         "marker": {
          "color": [
           19508.978723404256,
           21208,
           24785.371794871793,
           22565.227642276423,
           28825.93442622951,
           21844.714285714286,
           32398.777777777777,
           18866.4,
           18480.75,
           25641.770833333332,
           25081.836734693876,
           33724.03296703297,
           28055.933333333334,
           34400,
           30635.25114155251,
           12750,
           36601.849315068495,
           31048.43795620438,
           27060.30769230769,
           15714.214285714286,
           29547.73076923077,
           23297.60714285714,
           16477.5625,
           22366.97857142857,
           21116.68181818182,
           24933.695652173912,
           20712.5,
           22000,
           27242.944444444445,
           23492.076923076922,
           21826.41176470588,
           24305,
           44555,
           30000,
           24479.81818181818,
           38545.55855855856,
           31698.00900900901,
           29000,
           34417.653846153844,
           23886.345238095237,
           21961.20512820513,
           26996.34693877551,
           21579.166666666668,
           19041,
           26806.25,
           19453.674418604653,
           31799.990476190476,
           21738,
           24971.647058823528,
           19932.478260869564,
           20031.928571428572,
           21273.38888888889,
           24844.046875,
           31485.14876033058,
           25000,
           16571.428571428572,
           19537.285714285714,
           28700,
           24719.53,
           15000,
           21002.285714285714,
           21493.75,
           16343.714285714286,
           18000,
           18000,
           15714.5,
           20555.35714285714,
           21506.72,
           23836.533333333333,
           35500,
           23446.58620689655,
           28731.49315068493,
           23098.11111111111,
           27407.125,
           21710.714285714286,
           19829.80769230769,
           34895,
           33500,
           30454.545454545456,
           17175.909090909092,
           21311.31818181818,
           22775.68181818182,
           26583.01923076923,
           19594.222222222223,
           24006.37254901961,
           24760.53125,
           33640,
           24016.277777777777,
           42230,
           28658.174603174604,
           16810.5,
           18000,
           34570.21428571428,
           30000,
           23381.666666666668,
           27500,
           33878.52631578947,
           29433.18181818182,
           28050,
           20033.89285714286,
           37739.86486486487,
           18598.46153846154,
           20492.1125,
           23091.04651162791,
           22111.53125,
           18189.742857142857,
           24946.666666666668,
           31307.762376237624,
           21758.647058823528,
           27818.75,
           24606.163636363635,
           28432.076923076922,
           25421,
           25236.719626168226,
           24225.571428571428,
           29227.5,
           24018.922330097088,
           29392.20588235294,
           24000,
           20552.2,
           26607.733333333334,
           21549.352941176472,
           17633.714285714286,
           24238.90625,
           21724.51724137931,
           19468.717391304348,
           19282.133333333335,
           17773.363636363636,
           24400,
           17489.695652173912,
           22314.76923076923,
           17798.571428571428,
           22608.37254901961,
           27309.7,
           26714.36842105263,
           16380,
           12500,
           14832.25,
           16830.14285714286,
           19299.5,
           22656.973684210527,
           24324.166666666668,
           23700,
           23142.058823529413,
           19609.38888888889,
           18000,
           32700,
           30771,
           25700,
           18531.777777777777,
           18389.558823529413,
           32000,
           15000,
           20488.85714285714,
           26316,
           15361.111111111111,
           26218.28125,
           27600.29411764706,
           15668,
           17481.6,
           20757.25,
           28652.117647058825,
           19198.428571428572,
           22550,
           23816.29203539823,
           26550,
           21000,
           32000,
           31318.49019607843,
           19670.375,
           28175,
           30044.3,
           17488.4,
           26782.25,
           26185,
           21693.454545454544,
           24397.333333333332,
           18600,
           16046.833333333334,
           20950,
           8500,
           27173.821428571428,
           17154.545454545456,
           27289.460674157304,
           21369.166666666668,
           24765.824561403508,
           24076.546875,
           29000,
           16591.666666666668,
           12000,
           23084.263157894737,
           23912.375,
           22000,
           32000,
           32000,
           24600,
           21058.78947368421,
           25121,
           17515.555555555555,
           27402.85714285714,
           29750,
           19409,
           27848.153846153848,
           32000,
           26216.081967213115,
           18051.352941176472,
           40657.5,
           23800.647058823528,
           21552.166666666668,
           16181.375,
           20064.76923076923,
           25984.3,
           18603.058823529413,
           33721.59459459459,
           22815.222222222223,
           20559.375,
           31000,
           23746.620689655174,
           28092,
           25091.6,
           30000,
           28547.242857142857,
           29567,
           26950.303030303032,
           34800,
           21064,
           13500,
           36600,
           26060,
           34193.75,
           16989,
           23100,
           27600,
           18672.8,
           16750,
           15121.51724137931,
           30237.5,
           26703,
           40000,
           24579.444444444445,
           21878,
           30000,
           21560,
           15850,
           15850,
           28000,
           15850,
           14256,
           16858.4,
           32000,
           14096.8,
           34306,
           14303.714285714286,
           37272.72727272727,
           17900,
           26600,
           18233.333333333332,
           17000,
           15960,
           22459,
           25000,
           18475,
           30479.5,
           16000,
           20342.5,
           19464.5,
           20000,
           17451,
           18000,
           36000,
           20512,
           15005,
           33900,
           15500,
           26440,
           24798.333333333332,
           18170,
           12000,
           17400,
           29457.666666666668,
           33400,
           14600,
           19160.75,
           25000,
           30000,
           18170.75,
           23024.25,
           15931.25,
           18000,
           26775,
           19063.4,
           30500,
           18612.333333333332,
           25500,
           26440,
           22650,
           18700,
           18150,
           17500,
           9000,
           10500,
           18400,
           25175,
           16900,
           27000,
           23893.5,
           37742.5,
           29651,
           28899.42105263158,
           30000,
           20031,
           22000,
           33656,
           30775.875,
           25000,
           21200,
           16547,
           16720,
           19571.428571428572,
           20401,
           31640,
           21833.333333333332,
           15569.666666666666,
           19500,
           22190,
           22500,
           14150,
           24122.2,
           27500,
           19955.11111111111,
           27433.333333333332,
           30900,
           22966.666666666668,
           27300,
           41000,
           19500,
           9950,
           19743.333333333332,
           20068.29411764706,
           19500,
           11000,
           19856,
           9000,
           20280,
           21600,
           29189.333333333332,
           39361.42857142857,
           14170,
           37100,
           41000,
           10350,
           18907,
           23835.454545454544,
           23850,
           15408,
           29000,
           19645,
           24982,
           20204.5,
           34000,
           20861.6,
           40270,
           22000,
           13400,
           19600,
           40000,
           38322,
           29240.5,
           36500,
           38200,
           25700,
           30879,
           30000,
           18000,
           19500,
           19939.2,
           39000,
           28552.5,
           22000,
           17042,
           18000,
           17263.636363636364,
           27250,
           40000,
           24455.583333333332,
           28800,
           30000,
           11000,
           22399.222222222223,
           12500,
           30562.4,
           13015.714285714286,
           32775,
           26000,
           16066.5,
           18000,
           20996.666666666668,
           12933.333333333334,
           16121.25,
           25600,
           26500,
           35000,
           24000,
           16825,
           22000,
           15000,
           14360,
           42700,
           26450,
           27600,
           27600,
           25050,
           38662,
           32569,
           23980,
           23980,
           23000,
           26500,
           47000,
           32750,
           16183,
           17100,
           15780,
           21300,
           39000,
           15695.5,
           25000,
           24819,
           18000,
           25000,
           22400,
           25000,
           23666.666666666668,
           23000,
           12000,
           28500,
           23300,
           17143.666666666668,
           20000,
           25500,
           16055.5,
           24600,
           32000,
           27000,
           19561,
           27687.5,
           12000,
           20766.666666666668,
           29268,
           12500,
           26000,
           16250,
           27107,
           25000,
           27000,
           17000,
           20000,
           29000,
           19204.545454545456,
           30847,
           16000,
           36000,
           33000,
           16170.5,
           26250,
           26025,
           27500,
           17954,
           18070,
           19250,
           19911.11111111111,
           16350,
           37050,
           30000,
           25600,
           23000,
           25000,
           32000,
           26820,
           38000,
           23760,
           33602,
           34000,
           17000,
           30000,
           30000,
           18000,
           22500,
           22800,
           30000,
           30000,
           27106.25,
           31000,
           35000,
           30500,
           18400,
           14007,
           20000,
           23100,
           32125,
           25800,
           26500,
           25581,
           28266.666666666668,
           22840,
           18000,
           24000,
           16791.25,
           23000,
           27750,
           18400,
           18340,
           21207.75,
           32275,
           32000,
           37000,
           37500,
           28000,
           31100,
           14623.333333333334,
           26300,
           31635,
           21500,
           20625.333333333332,
           26300,
           26000,
           20000,
           16000,
           22000,
           22000,
           29500,
           20858,
           16500,
           27000,
           14000,
           22000,
           48000,
           22375,
           19000,
           30000,
           16250,
           30200,
           30900,
           16040,
           18000,
           16899,
           31165,
           15000,
           20250,
           17000,
           26000,
           30000,
           8784,
           16000,
           28000,
           28200,
           20000,
           21944,
           21752,
           16000,
           16000,
           18000,
           19305,
           38000,
           20000,
           26000,
           36000,
           22000,
           30000,
           47844,
           21000,
           11805.5,
           28000,
           9000,
           31000,
           19823.5,
           31300,
           26481,
           29000,
           28292,
           28000,
           13348,
           32000,
           42666.666666666664,
           22080,
           24116,
           16300,
           30000,
           30500,
           20000,
           25486,
           24000,
           35000,
           21000,
           28102.5,
           23000,
           34000,
           15000,
           16000,
           18000,
           20100,
           21233.333333333332,
           30730,
           14553,
           15500,
           30000,
           30000,
           30000,
           15900,
           25000,
           30000,
           19800,
           14600,
           25000,
           21000,
           17250,
           18000,
           16750,
           25969,
           28000,
           20600,
           20000,
           36000,
           18700,
           18700,
           22400,
           24000,
           26700,
           36000,
           26200,
           14370,
           15000,
           19000,
           12700,
           15000,
           27000,
           14700,
           15200,
           13000,
           32000,
           21744,
           22909,
           20000,
           8250,
           29000,
           30000,
           14000,
           40000,
           25000,
           38215,
           32975,
           24000,
           14700,
           27000,
           16500,
           16225,
           47500,
           11600,
           16557,
           37800,
           14802.5,
           24200,
           18800,
           10500,
           30000,
           24658,
           32000,
           13863,
           20000,
           24780,
           13000,
           20000,
           22000,
           20000,
           27800,
           14000,
           30000,
           23000,
           21500,
           20000,
           22000,
           24455,
           11000,
           18000,
           20494,
           25000,
           30000,
           30000,
           20500,
           15000,
           35000,
           25764.5,
           20000,
           14500,
           14500,
           31400,
           19000,
           12600,
           18774,
           28500,
           22000,
           23652,
           41600,
           28000,
           8185,
           15000,
           26000,
           20000,
           24000,
           20500,
           26500,
           15100,
           16250,
           28500,
           25000,
           11800,
           22000,
           29419,
           28000,
           29420,
           35375,
           20500,
           25000,
           24337,
           22225
          ],
          "coloraxis": "coloraxis",
          "size": [
           19508.978723404256,
           21208,
           24785.371794871793,
           22565.227642276423,
           28825.93442622951,
           21844.714285714286,
           32398.777777777777,
           18866.4,
           18480.75,
           25641.770833333332,
           25081.836734693876,
           33724.03296703297,
           28055.933333333334,
           34400,
           30635.25114155251,
           12750,
           36601.849315068495,
           31048.43795620438,
           27060.30769230769,
           15714.214285714286,
           29547.73076923077,
           23297.60714285714,
           16477.5625,
           22366.97857142857,
           21116.68181818182,
           24933.695652173912,
           20712.5,
           22000,
           27242.944444444445,
           23492.076923076922,
           21826.41176470588,
           24305,
           44555,
           30000,
           24479.81818181818,
           38545.55855855856,
           31698.00900900901,
           29000,
           34417.653846153844,
           23886.345238095237,
           21961.20512820513,
           26996.34693877551,
           21579.166666666668,
           19041,
           26806.25,
           19453.674418604653,
           31799.990476190476,
           21738,
           24971.647058823528,
           19932.478260869564,
           20031.928571428572,
           21273.38888888889,
           24844.046875,
           31485.14876033058,
           25000,
           16571.428571428572,
           19537.285714285714,
           28700,
           24719.53,
           15000,
           21002.285714285714,
           21493.75,
           16343.714285714286,
           18000,
           18000,
           15714.5,
           20555.35714285714,
           21506.72,
           23836.533333333333,
           35500,
           23446.58620689655,
           28731.49315068493,
           23098.11111111111,
           27407.125,
           21710.714285714286,
           19829.80769230769,
           34895,
           33500,
           30454.545454545456,
           17175.909090909092,
           21311.31818181818,
           22775.68181818182,
           26583.01923076923,
           19594.222222222223,
           24006.37254901961,
           24760.53125,
           33640,
           24016.277777777777,
           42230,
           28658.174603174604,
           16810.5,
           18000,
           34570.21428571428,
           30000,
           23381.666666666668,
           27500,
           33878.52631578947,
           29433.18181818182,
           28050,
           20033.89285714286,
           37739.86486486487,
           18598.46153846154,
           20492.1125,
           23091.04651162791,
           22111.53125,
           18189.742857142857,
           24946.666666666668,
           31307.762376237624,
           21758.647058823528,
           27818.75,
           24606.163636363635,
           28432.076923076922,
           25421,
           25236.719626168226,
           24225.571428571428,
           29227.5,
           24018.922330097088,
           29392.20588235294,
           24000,
           20552.2,
           26607.733333333334,
           21549.352941176472,
           17633.714285714286,
           24238.90625,
           21724.51724137931,
           19468.717391304348,
           19282.133333333335,
           17773.363636363636,
           24400,
           17489.695652173912,
           22314.76923076923,
           17798.571428571428,
           22608.37254901961,
           27309.7,
           26714.36842105263,
           16380,
           12500,
           14832.25,
           16830.14285714286,
           19299.5,
           22656.973684210527,
           24324.166666666668,
           23700,
           23142.058823529413,
           19609.38888888889,
           18000,
           32700,
           30771,
           25700,
           18531.777777777777,
           18389.558823529413,
           32000,
           15000,
           20488.85714285714,
           26316,
           15361.111111111111,
           26218.28125,
           27600.29411764706,
           15668,
           17481.6,
           20757.25,
           28652.117647058825,
           19198.428571428572,
           22550,
           23816.29203539823,
           26550,
           21000,
           32000,
           31318.49019607843,
           19670.375,
           28175,
           30044.3,
           17488.4,
           26782.25,
           26185,
           21693.454545454544,
           24397.333333333332,
           18600,
           16046.833333333334,
           20950,
           8500,
           27173.821428571428,
           17154.545454545456,
           27289.460674157304,
           21369.166666666668,
           24765.824561403508,
           24076.546875,
           29000,
           16591.666666666668,
           12000,
           23084.263157894737,
           23912.375,
           22000,
           32000,
           32000,
           24600,
           21058.78947368421,
           25121,
           17515.555555555555,
           27402.85714285714,
           29750,
           19409,
           27848.153846153848,
           32000,
           26216.081967213115,
           18051.352941176472,
           40657.5,
           23800.647058823528,
           21552.166666666668,
           16181.375,
           20064.76923076923,
           25984.3,
           18603.058823529413,
           33721.59459459459,
           22815.222222222223,
           20559.375,
           31000,
           23746.620689655174,
           28092,
           25091.6,
           30000,
           28547.242857142857,
           29567,
           26950.303030303032,
           34800,
           21064,
           13500,
           36600,
           26060,
           34193.75,
           16989,
           23100,
           27600,
           18672.8,
           16750,
           15121.51724137931,
           30237.5,
           26703,
           40000,
           24579.444444444445,
           21878,
           30000,
           21560,
           15850,
           15850,
           28000,
           15850,
           14256,
           16858.4,
           32000,
           14096.8,
           34306,
           14303.714285714286,
           37272.72727272727,
           17900,
           26600,
           18233.333333333332,
           17000,
           15960,
           22459,
           25000,
           18475,
           30479.5,
           16000,
           20342.5,
           19464.5,
           20000,
           17451,
           18000,
           36000,
           20512,
           15005,
           33900,
           15500,
           26440,
           24798.333333333332,
           18170,
           12000,
           17400,
           29457.666666666668,
           33400,
           14600,
           19160.75,
           25000,
           30000,
           18170.75,
           23024.25,
           15931.25,
           18000,
           26775,
           19063.4,
           30500,
           18612.333333333332,
           25500,
           26440,
           22650,
           18700,
           18150,
           17500,
           9000,
           10500,
           18400,
           25175,
           16900,
           27000,
           23893.5,
           37742.5,
           29651,
           28899.42105263158,
           30000,
           20031,
           22000,
           33656,
           30775.875,
           25000,
           21200,
           16547,
           16720,
           19571.428571428572,
           20401,
           31640,
           21833.333333333332,
           15569.666666666666,
           19500,
           22190,
           22500,
           14150,
           24122.2,
           27500,
           19955.11111111111,
           27433.333333333332,
           30900,
           22966.666666666668,
           27300,
           41000,
           19500,
           9950,
           19743.333333333332,
           20068.29411764706,
           19500,
           11000,
           19856,
           9000,
           20280,
           21600,
           29189.333333333332,
           39361.42857142857,
           14170,
           37100,
           41000,
           10350,
           18907,
           23835.454545454544,
           23850,
           15408,
           29000,
           19645,
           24982,
           20204.5,
           34000,
           20861.6,
           40270,
           22000,
           13400,
           19600,
           40000,
           38322,
           29240.5,
           36500,
           38200,
           25700,
           30879,
           30000,
           18000,
           19500,
           19939.2,
           39000,
           28552.5,
           22000,
           17042,
           18000,
           17263.636363636364,
           27250,
           40000,
           24455.583333333332,
           28800,
           30000,
           11000,
           22399.222222222223,
           12500,
           30562.4,
           13015.714285714286,
           32775,
           26000,
           16066.5,
           18000,
           20996.666666666668,
           12933.333333333334,
           16121.25,
           25600,
           26500,
           35000,
           24000,
           16825,
           22000,
           15000,
           14360,
           42700,
           26450,
           27600,
           27600,
           25050,
           38662,
           32569,
           23980,
           23980,
           23000,
           26500,
           47000,
           32750,
           16183,
           17100,
           15780,
           21300,
           39000,
           15695.5,
           25000,
           24819,
           18000,
           25000,
           22400,
           25000,
           23666.666666666668,
           23000,
           12000,
           28500,
           23300,
           17143.666666666668,
           20000,
           25500,
           16055.5,
           24600,
           32000,
           27000,
           19561,
           27687.5,
           12000,
           20766.666666666668,
           29268,
           12500,
           26000,
           16250,
           27107,
           25000,
           27000,
           17000,
           20000,
           29000,
           19204.545454545456,
           30847,
           16000,
           36000,
           33000,
           16170.5,
           26250,
           26025,
           27500,
           17954,
           18070,
           19250,
           19911.11111111111,
           16350,
           37050,
           30000,
           25600,
           23000,
           25000,
           32000,
           26820,
           38000,
           23760,
           33602,
           34000,
           17000,
           30000,
           30000,
           18000,
           22500,
           22800,
           30000,
           30000,
           27106.25,
           31000,
           35000,
           30500,
           18400,
           14007,
           20000,
           23100,
           32125,
           25800,
           26500,
           25581,
           28266.666666666668,
           22840,
           18000,
           24000,
           16791.25,
           23000,
           27750,
           18400,
           18340,
           21207.75,
           32275,
           32000,
           37000,
           37500,
           28000,
           31100,
           14623.333333333334,
           26300,
           31635,
           21500,
           20625.333333333332,
           26300,
           26000,
           20000,
           16000,
           22000,
           22000,
           29500,
           20858,
           16500,
           27000,
           14000,
           22000,
           48000,
           22375,
           19000,
           30000,
           16250,
           30200,
           30900,
           16040,
           18000,
           16899,
           31165,
           15000,
           20250,
           17000,
           26000,
           30000,
           8784,
           16000,
           28000,
           28200,
           20000,
           21944,
           21752,
           16000,
           16000,
           18000,
           19305,
           38000,
           20000,
           26000,
           36000,
           22000,
           30000,
           47844,
           21000,
           11805.5,
           28000,
           9000,
           31000,
           19823.5,
           31300,
           26481,
           29000,
           28292,
           28000,
           13348,
           32000,
           42666.666666666664,
           22080,
           24116,
           16300,
           30000,
           30500,
           20000,
           25486,
           24000,
           35000,
           21000,
           28102.5,
           23000,
           34000,
           15000,
           16000,
           18000,
           20100,
           21233.333333333332,
           30730,
           14553,
           15500,
           30000,
           30000,
           30000,
           15900,
           25000,
           30000,
           19800,
           14600,
           25000,
           21000,
           17250,
           18000,
           16750,
           25969,
           28000,
           20600,
           20000,
           36000,
           18700,
           18700,
           22400,
           24000,
           26700,
           36000,
           26200,
           14370,
           15000,
           19000,
           12700,
           15000,
           27000,
           14700,
           15200,
           13000,
           32000,
           21744,
           22909,
           20000,
           8250,
           29000,
           30000,
           14000,
           40000,
           25000,
           38215,
           32975,
           24000,
           14700,
           27000,
           16500,
           16225,
           47500,
           11600,
           16557,
           37800,
           14802.5,
           24200,
           18800,
           10500,
           30000,
           24658,
           32000,
           13863,
           20000,
           24780,
           13000,
           20000,
           22000,
           20000,
           27800,
           14000,
           30000,
           23000,
           21500,
           20000,
           22000,
           24455,
           11000,
           18000,
           20494,
           25000,
           30000,
           30000,
           20500,
           15000,
           35000,
           25764.5,
           20000,
           14500,
           14500,
           31400,
           19000,
           12600,
           18774,
           28500,
           22000,
           23652,
           41600,
           28000,
           8185,
           15000,
           26000,
           20000,
           24000,
           20500,
           26500,
           15100,
           16250,
           28500,
           25000,
           11800,
           22000,
           29419,
           28000,
           29420,
           35375,
           20500,
           25000,
           24337,
           22225
          ],
          "sizemode": "area",
          "sizeref": 213.33333333333334
         },
         "mode": "markers",
         "name": "",
         "showlegend": false,
         "subplot": "mapbox",
         "type": "scattermapbox"
        }
       ],
       "layout": {
        "coloraxis": {
         "colorbar": {
          "title": {
           "text": "pay_average"
          }
         },
         "colorscale": [
          [
           0,
           "#0d0887"
          ],
          [
           0.1111111111111111,
           "#46039f"
          ],
          [
           0.2222222222222222,
           "#7201a8"
          ],
          [
           0.3333333333333333,
           "#9c179e"
          ],
          [
           0.4444444444444444,
           "#bd3786"
          ],
          [
           0.5555555555555556,
           "#d8576b"
          ],
          [
           0.6666666666666666,
           "#ed7953"
          ],
          [
           0.7777777777777778,
           "#fb9f3a"
          ],
          [
           0.8888888888888888,
           "#fdca26"
          ],
          [
           1,
           "#f0f921"
          ]
         ]
        },
        "legend": {
         "itemsizing": "constant",
         "tracegroupgap": 0
        },
        "mapbox": {
         "accesstoken": "pk.eyJ1IjoibG5vdiIsImEiOiJja2N0dGZybDkxbHdzMzJxcTliN256bGllIn0.-6kwvaYY7NKbOWGxurVcJw",
         "center": {
          "lat": 36.20374307217476,
          "lon": -56.72056508566714
         },
         "domain": {
          "x": [
           0,
           1
          ],
          "y": [
           0,
           1
          ]
         },
         "style": "light",
         "zoom": 0
        },
        "margin": {
         "b": 0,
         "l": 0,
         "r": 0,
         "t": 0
        },
        "template": {
         "data": {
          "bar": [
           {
            "error_x": {
             "color": "#2a3f5f"
            },
            "error_y": {
             "color": "#2a3f5f"
            },
            "marker": {
             "line": {
              "color": "#E5ECF6",
              "width": 0.5
             }
            },
            "type": "bar"
           }
          ],
          "barpolar": [
           {
            "marker": {
             "line": {
              "color": "#E5ECF6",
              "width": 0.5
             }
            },
            "type": "barpolar"
           }
          ],
          "carpet": [
           {
            "aaxis": {
             "endlinecolor": "#2a3f5f",
             "gridcolor": "white",
             "linecolor": "white",
             "minorgridcolor": "white",
             "startlinecolor": "#2a3f5f"
            },
            "baxis": {
             "endlinecolor": "#2a3f5f",
             "gridcolor": "white",
             "linecolor": "white",
             "minorgridcolor": "white",
             "startlinecolor": "#2a3f5f"
            },
            "type": "carpet"
           }
          ],
          "choropleth": [
           {
            "colorbar": {
             "outlinewidth": 0,
             "ticks": ""
            },
            "type": "choropleth"
           }
          ],
          "contour": [
           {
            "colorbar": {
             "outlinewidth": 0,
             "ticks": ""
            },
            "colorscale": [
             [
              0,
              "#0d0887"
             ],
             [
              0.1111111111111111,
              "#46039f"
             ],
             [
              0.2222222222222222,
              "#7201a8"
             ],
             [
              0.3333333333333333,
              "#9c179e"
             ],
             [
              0.4444444444444444,
              "#bd3786"
             ],
             [
              0.5555555555555556,
              "#d8576b"
             ],
             [
              0.6666666666666666,
              "#ed7953"
             ],
             [
              0.7777777777777778,
              "#fb9f3a"
             ],
             [
              0.8888888888888888,
              "#fdca26"
             ],
             [
              1,
              "#f0f921"
             ]
            ],
            "type": "contour"
           }
          ],
          "contourcarpet": [
           {
            "colorbar": {
             "outlinewidth": 0,
             "ticks": ""
            },
            "type": "contourcarpet"
           }
          ],
          "heatmap": [
           {
            "colorbar": {
             "outlinewidth": 0,
             "ticks": ""
            },
            "colorscale": [
             [
              0,
              "#0d0887"
             ],
             [
              0.1111111111111111,
              "#46039f"
             ],
             [
              0.2222222222222222,
              "#7201a8"
             ],
             [
              0.3333333333333333,
              "#9c179e"
             ],
             [
              0.4444444444444444,
              "#bd3786"
             ],
             [
              0.5555555555555556,
              "#d8576b"
             ],
             [
              0.6666666666666666,
              "#ed7953"
             ],
             [
              0.7777777777777778,
              "#fb9f3a"
             ],
             [
              0.8888888888888888,
              "#fdca26"
             ],
             [
              1,
              "#f0f921"
             ]
            ],
            "type": "heatmap"
           }
          ],
          "heatmapgl": [
           {
            "colorbar": {
             "outlinewidth": 0,
             "ticks": ""
            },
            "colorscale": [
             [
              0,
              "#0d0887"
             ],
             [
              0.1111111111111111,
              "#46039f"
             ],
             [
              0.2222222222222222,
              "#7201a8"
             ],
             [
              0.3333333333333333,
              "#9c179e"
             ],
             [
              0.4444444444444444,
              "#bd3786"
             ],
             [
              0.5555555555555556,
              "#d8576b"
             ],
             [
              0.6666666666666666,
              "#ed7953"
             ],
             [
              0.7777777777777778,
              "#fb9f3a"
             ],
             [
              0.8888888888888888,
              "#fdca26"
             ],
             [
              1,
              "#f0f921"
             ]
            ],
            "type": "heatmapgl"
           }
          ],
          "histogram": [
           {
            "marker": {
             "colorbar": {
              "outlinewidth": 0,
              "ticks": ""
             }
            },
            "type": "histogram"
           }
          ],
          "histogram2d": [
           {
            "colorbar": {
             "outlinewidth": 0,
             "ticks": ""
            },
            "colorscale": [
             [
              0,
              "#0d0887"
             ],
             [
              0.1111111111111111,
              "#46039f"
             ],
             [
              0.2222222222222222,
              "#7201a8"
             ],
             [
              0.3333333333333333,
              "#9c179e"
             ],
             [
              0.4444444444444444,
              "#bd3786"
             ],
             [
              0.5555555555555556,
              "#d8576b"
             ],
             [
              0.6666666666666666,
              "#ed7953"
             ],
             [
              0.7777777777777778,
              "#fb9f3a"
             ],
             [
              0.8888888888888888,
              "#fdca26"
             ],
             [
              1,
              "#f0f921"
             ]
            ],
            "type": "histogram2d"
           }
          ],
          "histogram2dcontour": [
           {
            "colorbar": {
             "outlinewidth": 0,
             "ticks": ""
            },
            "colorscale": [
             [
              0,
              "#0d0887"
             ],
             [
              0.1111111111111111,
              "#46039f"
             ],
             [
              0.2222222222222222,
              "#7201a8"
             ],
             [
              0.3333333333333333,
              "#9c179e"
             ],
             [
              0.4444444444444444,
              "#bd3786"
             ],
             [
              0.5555555555555556,
              "#d8576b"
             ],
             [
              0.6666666666666666,
              "#ed7953"
             ],
             [
              0.7777777777777778,
              "#fb9f3a"
             ],
             [
              0.8888888888888888,
              "#fdca26"
             ],
             [
              1,
              "#f0f921"
             ]
            ],
            "type": "histogram2dcontour"
           }
          ],
          "mesh3d": [
           {
            "colorbar": {
             "outlinewidth": 0,
             "ticks": ""
            },
            "type": "mesh3d"
           }
          ],
          "parcoords": [
           {
            "line": {
             "colorbar": {
              "outlinewidth": 0,
              "ticks": ""
             }
            },
            "type": "parcoords"
           }
          ],
          "pie": [
           {
            "automargin": true,
            "type": "pie"
           }
          ],
          "scatter": [
           {
            "marker": {
             "colorbar": {
              "outlinewidth": 0,
              "ticks": ""
             }
            },
            "type": "scatter"
           }
          ],
          "scatter3d": [
           {
            "line": {
             "colorbar": {
              "outlinewidth": 0,
              "ticks": ""
             }
            },
            "marker": {
             "colorbar": {
              "outlinewidth": 0,
              "ticks": ""
             }
            },
            "type": "scatter3d"
           }
          ],
          "scattercarpet": [
           {
            "marker": {
             "colorbar": {
              "outlinewidth": 0,
              "ticks": ""
             }
            },
            "type": "scattercarpet"
           }
          ],
          "scattergeo": [
           {
            "marker": {
             "colorbar": {
              "outlinewidth": 0,
              "ticks": ""
             }
            },
            "type": "scattergeo"
           }
          ],
          "scattergl": [
           {
            "marker": {
             "colorbar": {
              "outlinewidth": 0,
              "ticks": ""
             }
            },
            "type": "scattergl"
           }
          ],
          "scattermapbox": [
           {
            "marker": {
             "colorbar": {
              "outlinewidth": 0,
              "ticks": ""
             }
            },
            "type": "scattermapbox"
           }
          ],
          "scatterpolar": [
           {
            "marker": {
             "colorbar": {
              "outlinewidth": 0,
              "ticks": ""
             }
            },
            "type": "scatterpolar"
           }
          ],
          "scatterpolargl": [
           {
            "marker": {
             "colorbar": {
              "outlinewidth": 0,
              "ticks": ""
             }
            },
            "type": "scatterpolargl"
           }
          ],
          "scatterternary": [
           {
            "marker": {
             "colorbar": {
              "outlinewidth": 0,
              "ticks": ""
             }
            },
            "type": "scatterternary"
           }
          ],
          "surface": [
           {
            "colorbar": {
             "outlinewidth": 0,
             "ticks": ""
            },
            "colorscale": [
             [
              0,
              "#0d0887"
             ],
             [
              0.1111111111111111,
              "#46039f"
             ],
             [
              0.2222222222222222,
              "#7201a8"
             ],
             [
              0.3333333333333333,
              "#9c179e"
             ],
             [
              0.4444444444444444,
              "#bd3786"
             ],
             [
              0.5555555555555556,
              "#d8576b"
             ],
             [
              0.6666666666666666,
              "#ed7953"
             ],
             [
              0.7777777777777778,
              "#fb9f3a"
             ],
             [
              0.8888888888888888,
              "#fdca26"
             ],
             [
              1,
              "#f0f921"
             ]
            ],
            "type": "surface"
           }
          ],
          "table": [
           {
            "cells": {
             "fill": {
              "color": "#EBF0F8"
             },
             "line": {
              "color": "white"
             }
            },
            "header": {
             "fill": {
              "color": "#C8D4E3"
             },
             "line": {
              "color": "white"
             }
            },
            "type": "table"
           }
          ]
         },
         "layout": {
          "annotationdefaults": {
           "arrowcolor": "#2a3f5f",
           "arrowhead": 0,
           "arrowwidth": 1
          },
          "coloraxis": {
           "colorbar": {
            "outlinewidth": 0,
            "ticks": ""
           }
          },
          "colorscale": {
           "diverging": [
            [
             0,
             "#8e0152"
            ],
            [
             0.1,
             "#c51b7d"
            ],
            [
             0.2,
             "#de77ae"
            ],
            [
             0.3,
             "#f1b6da"
            ],
            [
             0.4,
             "#fde0ef"
            ],
            [
             0.5,
             "#f7f7f7"
            ],
            [
             0.6,
             "#e6f5d0"
            ],
            [
             0.7,
             "#b8e186"
            ],
            [
             0.8,
             "#7fbc41"
            ],
            [
             0.9,
             "#4d9221"
            ],
            [
             1,
             "#276419"
            ]
           ],
           "sequential": [
            [
             0,
             "#0d0887"
            ],
            [
             0.1111111111111111,
             "#46039f"
            ],
            [
             0.2222222222222222,
             "#7201a8"
            ],
            [
             0.3333333333333333,
             "#9c179e"
            ],
            [
             0.4444444444444444,
             "#bd3786"
            ],
            [
             0.5555555555555556,
             "#d8576b"
            ],
            [
             0.6666666666666666,
             "#ed7953"
            ],
            [
             0.7777777777777778,
             "#fb9f3a"
            ],
            [
             0.8888888888888888,
             "#fdca26"
            ],
            [
             1,
             "#f0f921"
            ]
           ],
           "sequentialminus": [
            [
             0,
             "#0d0887"
            ],
            [
             0.1111111111111111,
             "#46039f"
            ],
            [
             0.2222222222222222,
             "#7201a8"
            ],
            [
             0.3333333333333333,
             "#9c179e"
            ],
            [
             0.4444444444444444,
             "#bd3786"
            ],
            [
             0.5555555555555556,
             "#d8576b"
            ],
            [
             0.6666666666666666,
             "#ed7953"
            ],
            [
             0.7777777777777778,
             "#fb9f3a"
            ],
            [
             0.8888888888888888,
             "#fdca26"
            ],
            [
             1,
             "#f0f921"
            ]
           ]
          },
          "colorway": [
           "#636efa",
           "#EF553B",
           "#00cc96",
           "#ab63fa",
           "#FFA15A",
           "#19d3f3",
           "#FF6692",
           "#B6E880",
           "#FF97FF",
           "#FECB52"
          ],
          "font": {
           "color": "#2a3f5f"
          },
          "geo": {
           "bgcolor": "white",
           "lakecolor": "white",
           "landcolor": "#E5ECF6",
           "showlakes": true,
           "showland": true,
           "subunitcolor": "white"
          },
          "hoverlabel": {
           "align": "left"
          },
          "hovermode": "closest",
          "mapbox": {
           "style": "light"
          },
          "paper_bgcolor": "white",
          "plot_bgcolor": "#E5ECF6",
          "polar": {
           "angularaxis": {
            "gridcolor": "white",
            "linecolor": "white",
            "ticks": ""
           },
           "bgcolor": "#E5ECF6",
           "radialaxis": {
            "gridcolor": "white",
            "linecolor": "white",
            "ticks": ""
           }
          },
          "scene": {
           "xaxis": {
            "backgroundcolor": "#E5ECF6",
            "gridcolor": "white",
            "gridwidth": 2,
            "linecolor": "white",
            "showbackground": true,
            "ticks": "",
            "zerolinecolor": "white"
           },
           "yaxis": {
            "backgroundcolor": "#E5ECF6",
            "gridcolor": "white",
            "gridwidth": 2,
            "linecolor": "white",
            "showbackground": true,
            "ticks": "",
            "zerolinecolor": "white"
           },
           "zaxis": {
            "backgroundcolor": "#E5ECF6",
            "gridcolor": "white",
            "gridwidth": 2,
            "linecolor": "white",
            "showbackground": true,
            "ticks": "",
            "zerolinecolor": "white"
           }
          },
          "shapedefaults": {
           "line": {
            "color": "#2a3f5f"
           }
          },
          "ternary": {
           "aaxis": {
            "gridcolor": "white",
            "linecolor": "white",
            "ticks": ""
           },
           "baxis": {
            "gridcolor": "white",
            "linecolor": "white",
            "ticks": ""
           },
           "bgcolor": "#E5ECF6",
           "caxis": {
            "gridcolor": "white",
            "linecolor": "white",
            "ticks": ""
           }
          },
          "title": {
           "x": 0.05
          },
          "xaxis": {
           "automargin": true,
           "gridcolor": "white",
           "linecolor": "white",
           "ticks": "",
           "title": {
            "standoff": 15
           },
           "zerolinecolor": "white",
           "zerolinewidth": 2
          },
          "yaxis": {
           "automargin": true,
           "gridcolor": "white",
           "linecolor": "white",
           "ticks": "",
           "title": {
            "standoff": 15
           },
           "zerolinecolor": "white",
           "zerolinewidth": 2
          }
         }
        }
       }
      }
     },
     "metadata": {}
    }
   ],
   "source": [
    "import plotly.express as px\n",
    "fig = px.scatter_mapbox(\n",
    "    data, lat=\"lat\" , lon=\"lon\", color=\"pay_average\", size=\"pay_average\",\n",
    "    hover_name='University', hover_data=['pay_average'], zoom=0, size_max=15)\n",
    "fig.update_layout(mapbox_style=\"light\", mapbox_accesstoken=mapbox_key)\n",
    "fig.update_layout(margin={\"r\": 0, \"t\": 0, \"l\": 0, \"b\": 0})\n",
    "fig.show(config={'displayModeBar': False, 'editable': False})"
   ]
  }
 ]
}